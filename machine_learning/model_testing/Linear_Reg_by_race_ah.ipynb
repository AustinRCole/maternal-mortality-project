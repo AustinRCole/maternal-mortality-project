{
 "cells": [
  {
   "cell_type": "markdown",
   "metadata": {},
   "source": [
    "## Importing Dependencies ##"
   ]
  },
  {
   "cell_type": "code",
   "execution_count": 2,
   "metadata": {},
   "outputs": [
    {
     "name": "stdout",
     "output_type": "stream",
     "text": [
      "Requirement already up-to-date: seaborn in c:\\users\\ahunt\\anaconda3\\envs\\pythondata\\lib\\site-packages (0.11.1)\n",
      "Requirement already satisfied, skipping upgrade: pandas>=0.23 in c:\\users\\ahunt\\anaconda3\\envs\\pythondata\\lib\\site-packages (from seaborn) (1.1.1)\n",
      "Requirement already satisfied, skipping upgrade: numpy>=1.15 in c:\\users\\ahunt\\anaconda3\\envs\\pythondata\\lib\\site-packages (from seaborn) (1.17.0)\n",
      "Requirement already satisfied, skipping upgrade: scipy>=1.0 in c:\\users\\ahunt\\anaconda3\\envs\\pythondata\\lib\\site-packages (from seaborn) (1.5.0)\n",
      "Requirement already satisfied, skipping upgrade: matplotlib>=2.2 in c:\\users\\ahunt\\anaconda3\\envs\\pythondata\\lib\\site-packages (from seaborn) (3.2.2)\n",
      "Requirement already satisfied, skipping upgrade: python-dateutil>=2.7.3 in c:\\users\\ahunt\\anaconda3\\envs\\pythondata\\lib\\site-packages (from pandas>=0.23->seaborn) (2.8.1)\n",
      "Requirement already satisfied, skipping upgrade: pytz>=2017.2 in c:\\users\\ahunt\\anaconda3\\envs\\pythondata\\lib\\site-packages (from pandas>=0.23->seaborn) (2020.1)\n",
      "Requirement already satisfied, skipping upgrade: pyparsing!=2.0.4,!=2.1.2,!=2.1.6,>=2.0.1 in c:\\users\\ahunt\\anaconda3\\envs\\pythondata\\lib\\site-packages (from matplotlib>=2.2->seaborn) (2.4.7)\n",
      "Requirement already satisfied, skipping upgrade: kiwisolver>=1.0.1 in c:\\users\\ahunt\\anaconda3\\envs\\pythondata\\lib\\site-packages (from matplotlib>=2.2->seaborn) (1.2.0)\n",
      "Requirement already satisfied, skipping upgrade: cycler>=0.10 in c:\\users\\ahunt\\anaconda3\\envs\\pythondata\\lib\\site-packages (from matplotlib>=2.2->seaborn) (0.10.0)\n",
      "Requirement already satisfied, skipping upgrade: six>=1.5 in c:\\users\\ahunt\\anaconda3\\envs\\pythondata\\lib\\site-packages (from python-dateutil>=2.7.3->pandas>=0.23->seaborn) (1.15.0)\n"
     ]
    }
   ],
   "source": [
    "!pip install seaborn --upgrade"
   ]
  },
  {
   "cell_type": "code",
   "execution_count": 56,
   "metadata": {},
   "outputs": [],
   "source": [
    "import pandas as pd\n",
    "import numpy as np"
   ]
  },
  {
   "cell_type": "markdown",
   "metadata": {},
   "source": [
    "## Read in the CSV File ##"
   ]
  },
  {
   "cell_type": "code",
   "execution_count": 57,
   "metadata": {},
   "outputs": [
    {
     "data": {
      "text/html": [
       "<div>\n",
       "<style scoped>\n",
       "    .dataframe tbody tr th:only-of-type {\n",
       "        vertical-align: middle;\n",
       "    }\n",
       "\n",
       "    .dataframe tbody tr th {\n",
       "        vertical-align: top;\n",
       "    }\n",
       "\n",
       "    .dataframe thead th {\n",
       "        text-align: right;\n",
       "    }\n",
       "</style>\n",
       "<table border=\"1\" class=\"dataframe\">\n",
       "  <thead>\n",
       "    <tr style=\"text-align: right;\">\n",
       "      <th></th>\n",
       "      <th>state</th>\n",
       "      <th>state_code</th>\n",
       "      <th>year</th>\n",
       "      <th>race</th>\n",
       "      <th>hispanic_origin</th>\n",
       "      <th>births_by_race</th>\n",
       "      <th>deaths_by_race</th>\n",
       "      <th>mmr_by_race</th>\n",
       "      <th>population_by_race</th>\n",
       "      <th>id</th>\n",
       "      <th>state_abbv</th>\n",
       "      <th>latitude</th>\n",
       "      <th>longitude</th>\n",
       "    </tr>\n",
       "  </thead>\n",
       "  <tbody>\n",
       "    <tr>\n",
       "      <th>0</th>\n",
       "      <td>Alabama</td>\n",
       "      <td>1</td>\n",
       "      <td>2016</td>\n",
       "      <td>Black or African American</td>\n",
       "      <td>Not Hispanic or Latino</td>\n",
       "      <td>17989</td>\n",
       "      <td>14</td>\n",
       "      <td>77.83</td>\n",
       "      <td>0</td>\n",
       "      <td>US.AL</td>\n",
       "      <td>AL</td>\n",
       "      <td>32.318231</td>\n",
       "      <td>-86.902298</td>\n",
       "    </tr>\n",
       "    <tr>\n",
       "      <th>1</th>\n",
       "      <td>Alabama</td>\n",
       "      <td>1</td>\n",
       "      <td>2016</td>\n",
       "      <td>White</td>\n",
       "      <td>Not Hispanic or Latino</td>\n",
       "      <td>35319</td>\n",
       "      <td>18</td>\n",
       "      <td>50.96</td>\n",
       "      <td>0</td>\n",
       "      <td>US.AL</td>\n",
       "      <td>AL</td>\n",
       "      <td>32.318231</td>\n",
       "      <td>-86.902298</td>\n",
       "    </tr>\n",
       "    <tr>\n",
       "      <th>2</th>\n",
       "      <td>Alabama</td>\n",
       "      <td>1</td>\n",
       "      <td>2017</td>\n",
       "      <td>Black or African American</td>\n",
       "      <td>Not Hispanic or Latino</td>\n",
       "      <td>18354</td>\n",
       "      <td>25</td>\n",
       "      <td>136.21</td>\n",
       "      <td>704201</td>\n",
       "      <td>US.AL</td>\n",
       "      <td>AL</td>\n",
       "      <td>32.318231</td>\n",
       "      <td>-86.902298</td>\n",
       "    </tr>\n",
       "    <tr>\n",
       "      <th>3</th>\n",
       "      <td>Alabama</td>\n",
       "      <td>1</td>\n",
       "      <td>2017</td>\n",
       "      <td>White</td>\n",
       "      <td>Not Hispanic or Latino</td>\n",
       "      <td>34784</td>\n",
       "      <td>15</td>\n",
       "      <td>43.12</td>\n",
       "      <td>1655605</td>\n",
       "      <td>US.AL</td>\n",
       "      <td>AL</td>\n",
       "      <td>32.318231</td>\n",
       "      <td>-86.902298</td>\n",
       "    </tr>\n",
       "    <tr>\n",
       "      <th>4</th>\n",
       "      <td>Alabama</td>\n",
       "      <td>1</td>\n",
       "      <td>2018</td>\n",
       "      <td>Black or African American</td>\n",
       "      <td>Not Hispanic or Latino</td>\n",
       "      <td>17939</td>\n",
       "      <td>14</td>\n",
       "      <td>78.04</td>\n",
       "      <td>706754</td>\n",
       "      <td>US.AL</td>\n",
       "      <td>AL</td>\n",
       "      <td>32.318231</td>\n",
       "      <td>-86.902298</td>\n",
       "    </tr>\n",
       "    <tr>\n",
       "      <th>...</th>\n",
       "      <td>...</td>\n",
       "      <td>...</td>\n",
       "      <td>...</td>\n",
       "      <td>...</td>\n",
       "      <td>...</td>\n",
       "      <td>...</td>\n",
       "      <td>...</td>\n",
       "      <td>...</td>\n",
       "      <td>...</td>\n",
       "      <td>...</td>\n",
       "      <td>...</td>\n",
       "      <td>...</td>\n",
       "      <td>...</td>\n",
       "    </tr>\n",
       "    <tr>\n",
       "      <th>383</th>\n",
       "      <td>West Virginia</td>\n",
       "      <td>54</td>\n",
       "      <td>2018</td>\n",
       "      <td>White</td>\n",
       "      <td>Not Hispanic or Latino</td>\n",
       "      <td>16785</td>\n",
       "      <td>10</td>\n",
       "      <td>59.58</td>\n",
       "      <td>853052</td>\n",
       "      <td>US.WV</td>\n",
       "      <td>WV</td>\n",
       "      <td>38.597626</td>\n",
       "      <td>-80.454903</td>\n",
       "    </tr>\n",
       "    <tr>\n",
       "      <th>384</th>\n",
       "      <td>Wisconsin</td>\n",
       "      <td>55</td>\n",
       "      <td>2009</td>\n",
       "      <td>White</td>\n",
       "      <td>Not Hispanic or Latino</td>\n",
       "      <td>52462</td>\n",
       "      <td>10</td>\n",
       "      <td>19.06</td>\n",
       "      <td>0</td>\n",
       "      <td>US.WI</td>\n",
       "      <td>WI</td>\n",
       "      <td>43.784440</td>\n",
       "      <td>-88.787868</td>\n",
       "    </tr>\n",
       "    <tr>\n",
       "      <th>385</th>\n",
       "      <td>Wisconsin</td>\n",
       "      <td>55</td>\n",
       "      <td>2011</td>\n",
       "      <td>White</td>\n",
       "      <td>Not Hispanic or Latino</td>\n",
       "      <td>50500</td>\n",
       "      <td>10</td>\n",
       "      <td>19.80</td>\n",
       "      <td>0</td>\n",
       "      <td>US.WI</td>\n",
       "      <td>WI</td>\n",
       "      <td>43.784440</td>\n",
       "      <td>-88.787868</td>\n",
       "    </tr>\n",
       "    <tr>\n",
       "      <th>386</th>\n",
       "      <td>Wisconsin</td>\n",
       "      <td>55</td>\n",
       "      <td>2014</td>\n",
       "      <td>White</td>\n",
       "      <td>Not Hispanic or Latino</td>\n",
       "      <td>49440</td>\n",
       "      <td>13</td>\n",
       "      <td>26.29</td>\n",
       "      <td>2409803</td>\n",
       "      <td>US.WI</td>\n",
       "      <td>WI</td>\n",
       "      <td>43.784440</td>\n",
       "      <td>-88.787868</td>\n",
       "    </tr>\n",
       "    <tr>\n",
       "      <th>387</th>\n",
       "      <td>Wisconsin</td>\n",
       "      <td>55</td>\n",
       "      <td>2015</td>\n",
       "      <td>White</td>\n",
       "      <td>Not Hispanic or Latino</td>\n",
       "      <td>49024</td>\n",
       "      <td>10</td>\n",
       "      <td>20.40</td>\n",
       "      <td>0</td>\n",
       "      <td>US.WI</td>\n",
       "      <td>WI</td>\n",
       "      <td>43.784440</td>\n",
       "      <td>-88.787868</td>\n",
       "    </tr>\n",
       "  </tbody>\n",
       "</table>\n",
       "<p>388 rows × 13 columns</p>\n",
       "</div>"
      ],
      "text/plain": [
       "             state  state_code  year                       race  \\\n",
       "0          Alabama           1  2016  Black or African American   \n",
       "1          Alabama           1  2016                      White   \n",
       "2          Alabama           1  2017  Black or African American   \n",
       "3          Alabama           1  2017                      White   \n",
       "4          Alabama           1  2018  Black or African American   \n",
       "..             ...         ...   ...                        ...   \n",
       "383  West Virginia          54  2018                      White   \n",
       "384      Wisconsin          55  2009                      White   \n",
       "385      Wisconsin          55  2011                      White   \n",
       "386      Wisconsin          55  2014                      White   \n",
       "387      Wisconsin          55  2015                      White   \n",
       "\n",
       "            hispanic_origin  births_by_race  deaths_by_race  mmr_by_race  \\\n",
       "0    Not Hispanic or Latino           17989              14        77.83   \n",
       "1    Not Hispanic or Latino           35319              18        50.96   \n",
       "2    Not Hispanic or Latino           18354              25       136.21   \n",
       "3    Not Hispanic or Latino           34784              15        43.12   \n",
       "4    Not Hispanic or Latino           17939              14        78.04   \n",
       "..                      ...             ...             ...          ...   \n",
       "383  Not Hispanic or Latino           16785              10        59.58   \n",
       "384  Not Hispanic or Latino           52462              10        19.06   \n",
       "385  Not Hispanic or Latino           50500              10        19.80   \n",
       "386  Not Hispanic or Latino           49440              13        26.29   \n",
       "387  Not Hispanic or Latino           49024              10        20.40   \n",
       "\n",
       "     population_by_race     id state_abbv   latitude  longitude  \n",
       "0                     0  US.AL         AL  32.318231 -86.902298  \n",
       "1                     0  US.AL         AL  32.318231 -86.902298  \n",
       "2                704201  US.AL         AL  32.318231 -86.902298  \n",
       "3               1655605  US.AL         AL  32.318231 -86.902298  \n",
       "4                706754  US.AL         AL  32.318231 -86.902298  \n",
       "..                  ...    ...        ...        ...        ...  \n",
       "383              853052  US.WV         WV  38.597626 -80.454903  \n",
       "384                   0  US.WI         WI  43.784440 -88.787868  \n",
       "385                   0  US.WI         WI  43.784440 -88.787868  \n",
       "386             2409803  US.WI         WI  43.784440 -88.787868  \n",
       "387                   0  US.WI         WI  43.784440 -88.787868  \n",
       "\n",
       "[388 rows x 13 columns]"
      ]
     },
     "execution_count": 57,
     "metadata": {},
     "output_type": "execute_result"
    }
   ],
   "source": [
    "#Read the CSV file into a pandas DataFrame \n",
    "MMR_race = pd.read_csv(\"../Resources/race_data.csv\")\n",
    "MMR_race"
   ]
  },
  {
   "cell_type": "code",
   "execution_count": 58,
   "metadata": {},
   "outputs": [
    {
     "data": {
      "text/plain": [
       "state                 388\n",
       "state_code            388\n",
       "year                  388\n",
       "race                  388\n",
       "hispanic_origin       388\n",
       "births_by_race        388\n",
       "deaths_by_race        388\n",
       "mmr_by_race           388\n",
       "population_by_race    388\n",
       "id                    388\n",
       "state_abbv            388\n",
       "latitude              388\n",
       "longitude             388\n",
       "dtype: int64"
      ]
     },
     "execution_count": 58,
     "metadata": {},
     "output_type": "execute_result"
    }
   ],
   "source": [
    "# Checking dataframe rows\n",
    "MMR_race.count()"
   ]
  },
  {
   "cell_type": "code",
   "execution_count": 59,
   "metadata": {},
   "outputs": [
    {
     "name": "stdout",
     "output_type": "stream",
     "text": [
      "<class 'pandas.core.frame.DataFrame'>\n",
      "RangeIndex: 388 entries, 0 to 387\n",
      "Data columns (total 13 columns):\n",
      " #   Column              Non-Null Count  Dtype  \n",
      "---  ------              --------------  -----  \n",
      " 0   state               388 non-null    object \n",
      " 1   state_code          388 non-null    int64  \n",
      " 2   year                388 non-null    int64  \n",
      " 3   race                388 non-null    object \n",
      " 4   hispanic_origin     388 non-null    object \n",
      " 5   births_by_race      388 non-null    int64  \n",
      " 6   deaths_by_race      388 non-null    int64  \n",
      " 7   mmr_by_race         388 non-null    float64\n",
      " 8   population_by_race  388 non-null    int64  \n",
      " 9   id                  388 non-null    object \n",
      " 10  state_abbv          388 non-null    object \n",
      " 11  latitude            388 non-null    float64\n",
      " 12  longitude           388 non-null    float64\n",
      "dtypes: float64(3), int64(5), object(5)\n",
      "memory usage: 39.5+ KB\n"
     ]
    }
   ],
   "source": [
    "# Checking data types and columns\n",
    "MMR_race.info()"
   ]
  },
  {
   "cell_type": "code",
   "execution_count": 60,
   "metadata": {},
   "outputs": [
    {
     "data": {
      "text/plain": [
       "Index(['state', 'state_code', 'year', 'race', 'hispanic_origin',\n",
       "       'births_by_race', 'deaths_by_race', 'mmr_by_race', 'population_by_race',\n",
       "       'id', 'state_abbv', 'latitude', 'longitude'],\n",
       "      dtype='object')"
      ]
     },
     "execution_count": 60,
     "metadata": {},
     "output_type": "execute_result"
    }
   ],
   "source": [
    "#List out all coumns\n",
    "MMR_race.columns"
   ]
  },
  {
   "cell_type": "markdown",
   "metadata": {},
   "source": [
    "## Select Features for the Model ##"
   ]
  },
  {
   "cell_type": "code",
   "execution_count": 61,
   "metadata": {},
   "outputs": [
    {
     "data": {
      "text/html": [
       "<div>\n",
       "<style scoped>\n",
       "    .dataframe tbody tr th:only-of-type {\n",
       "        vertical-align: middle;\n",
       "    }\n",
       "\n",
       "    .dataframe tbody tr th {\n",
       "        vertical-align: top;\n",
       "    }\n",
       "\n",
       "    .dataframe thead th {\n",
       "        text-align: right;\n",
       "    }\n",
       "</style>\n",
       "<table border=\"1\" class=\"dataframe\">\n",
       "  <thead>\n",
       "    <tr style=\"text-align: right;\">\n",
       "      <th></th>\n",
       "      <th>race</th>\n",
       "      <th>hispanic_origin</th>\n",
       "      <th>mmr_by_race</th>\n",
       "      <th>population_by_race</th>\n",
       "    </tr>\n",
       "  </thead>\n",
       "  <tbody>\n",
       "    <tr>\n",
       "      <th>0</th>\n",
       "      <td>Black or African American</td>\n",
       "      <td>Not Hispanic or Latino</td>\n",
       "      <td>77.83</td>\n",
       "      <td>0</td>\n",
       "    </tr>\n",
       "    <tr>\n",
       "      <th>1</th>\n",
       "      <td>White</td>\n",
       "      <td>Not Hispanic or Latino</td>\n",
       "      <td>50.96</td>\n",
       "      <td>0</td>\n",
       "    </tr>\n",
       "    <tr>\n",
       "      <th>2</th>\n",
       "      <td>Black or African American</td>\n",
       "      <td>Not Hispanic or Latino</td>\n",
       "      <td>136.21</td>\n",
       "      <td>704201</td>\n",
       "    </tr>\n",
       "    <tr>\n",
       "      <th>3</th>\n",
       "      <td>White</td>\n",
       "      <td>Not Hispanic or Latino</td>\n",
       "      <td>43.12</td>\n",
       "      <td>1655605</td>\n",
       "    </tr>\n",
       "    <tr>\n",
       "      <th>4</th>\n",
       "      <td>Black or African American</td>\n",
       "      <td>Not Hispanic or Latino</td>\n",
       "      <td>78.04</td>\n",
       "      <td>706754</td>\n",
       "    </tr>\n",
       "  </tbody>\n",
       "</table>\n",
       "</div>"
      ],
      "text/plain": [
       "                        race         hispanic_origin  mmr_by_race  \\\n",
       "0  Black or African American  Not Hispanic or Latino        77.83   \n",
       "1                      White  Not Hispanic or Latino        50.96   \n",
       "2  Black or African American  Not Hispanic or Latino       136.21   \n",
       "3                      White  Not Hispanic or Latino        43.12   \n",
       "4  Black or African American  Not Hispanic or Latino        78.04   \n",
       "\n",
       "   population_by_race  \n",
       "0                   0  \n",
       "1                   0  \n",
       "2              704201  \n",
       "3             1655605  \n",
       "4              706754  "
      ]
     },
     "execution_count": 61,
     "metadata": {},
     "output_type": "execute_result"
    }
   ],
   "source": [
    "# Selecting the features from the dataframe that will be the X values\n",
    "selected_features = MMR_race[['race', 'hispanic_origin', 'mmr_by_race', 'population_by_race']]\n",
    "selected_features.head()"
   ]
  },
  {
   "cell_type": "markdown",
   "metadata": {},
   "source": [
    "## Plotting Data for Visualization ##"
   ]
  },
  {
   "cell_type": "code",
   "execution_count": 110,
   "metadata": {},
   "outputs": [
    {
     "data": {
      "text/plain": [
       "(array([0.5, 1.5]), <a list of 2 Text major ticklabel objects>)"
      ]
     },
     "execution_count": 110,
     "metadata": {},
     "output_type": "execute_result"
    },
    {
     "data": {
      "image/png": "[encoded data removed]",
      "text/plain": [
       "<Figure size 2560x2240 with 2 Axes>"
      ]
     },
     "metadata": {},
     "output_type": "display_data"
    }
   ],
   "source": [
    "import seaborn as sns\n",
    "import matplotlib.pyplot as plt\n",
    "%matplotlib inline\n",
    "\n",
    "# Using the figure, axes together using `plt.subplots()` function:\n",
    "fig, ax = plt.subplots(figsize=(32, 28), dpi=80, facecolor='w', edgecolor='k')\n",
    "\n",
    "# Calculating the correlation matrix for each feature in dataset \n",
    "corr = selected_features.dropna().corr()\n",
    "\n",
    "# Setting features\n",
    "top_corr_features = corr.index\n",
    "top_corr_features \n",
    "\n",
    "sns.set_theme(context = \"paper\", style=\"ticks\", font_scale=1.2)\n",
    "\n",
    "# Plotting the heatmap\n",
    "sns.heatmap(corr[top_corr_features], cmap=sns.diverging_palette(220, 10, sep=50, as_cmap=True),\n",
    "            square=True, annot=True, ax=ax, fmt='.2f', linewidths=2, linecolor='green', cbar_kws={\"shrink\": .95, \"extend\":'both'})\n",
    "\n",
    "# Adjusting the x & y ticks and adding title\n",
    "ax.set(title=\"Maternal Maternity Ratio Heatmap Correlation\")\n",
    "plt.title(\"Maternal Maternity Ratio w/ Race Heatmap Correlation\", fontsize = 30, fontweight='bold')\n",
    "plt.xticks(fontsize=25)\n",
    "plt.yticks(fontsize=25)\n"
   ]
  },
  {
   "cell_type": "markdown",
   "metadata": {},
   "source": [
    "## Creating a Train Test Split ##"
   ]
  },
  {
   "cell_type": "code",
   "execution_count": 62,
   "metadata": {},
   "outputs": [
    {
     "data": {
      "text/html": [
       "<div>\n",
       "<style scoped>\n",
       "    .dataframe tbody tr th:only-of-type {\n",
       "        vertical-align: middle;\n",
       "    }\n",
       "\n",
       "    .dataframe tbody tr th {\n",
       "        vertical-align: top;\n",
       "    }\n",
       "\n",
       "    .dataframe thead th {\n",
       "        text-align: right;\n",
       "    }\n",
       "</style>\n",
       "<table border=\"1\" class=\"dataframe\">\n",
       "  <thead>\n",
       "    <tr style=\"text-align: right;\">\n",
       "      <th></th>\n",
       "      <th>mmr_by_race</th>\n",
       "      <th>population_by_race</th>\n",
       "      <th>race_Asian or Pacific Islander</th>\n",
       "      <th>race_Black or African American</th>\n",
       "      <th>race_White</th>\n",
       "      <th>hispanic_origin_Hispanic or Latino</th>\n",
       "      <th>hispanic_origin_Not Hispanic or Latino</th>\n",
       "    </tr>\n",
       "  </thead>\n",
       "  <tbody>\n",
       "    <tr>\n",
       "      <th>0</th>\n",
       "      <td>77.83</td>\n",
       "      <td>0</td>\n",
       "      <td>0</td>\n",
       "      <td>1</td>\n",
       "      <td>0</td>\n",
       "      <td>0</td>\n",
       "      <td>1</td>\n",
       "    </tr>\n",
       "    <tr>\n",
       "      <th>1</th>\n",
       "      <td>50.96</td>\n",
       "      <td>0</td>\n",
       "      <td>0</td>\n",
       "      <td>0</td>\n",
       "      <td>1</td>\n",
       "      <td>0</td>\n",
       "      <td>1</td>\n",
       "    </tr>\n",
       "    <tr>\n",
       "      <th>2</th>\n",
       "      <td>136.21</td>\n",
       "      <td>704201</td>\n",
       "      <td>0</td>\n",
       "      <td>1</td>\n",
       "      <td>0</td>\n",
       "      <td>0</td>\n",
       "      <td>1</td>\n",
       "    </tr>\n",
       "    <tr>\n",
       "      <th>3</th>\n",
       "      <td>43.12</td>\n",
       "      <td>1655605</td>\n",
       "      <td>0</td>\n",
       "      <td>0</td>\n",
       "      <td>1</td>\n",
       "      <td>0</td>\n",
       "      <td>1</td>\n",
       "    </tr>\n",
       "    <tr>\n",
       "      <th>4</th>\n",
       "      <td>78.04</td>\n",
       "      <td>706754</td>\n",
       "      <td>0</td>\n",
       "      <td>1</td>\n",
       "      <td>0</td>\n",
       "      <td>0</td>\n",
       "      <td>1</td>\n",
       "    </tr>\n",
       "  </tbody>\n",
       "</table>\n",
       "</div>"
      ],
      "text/plain": [
       "   mmr_by_race  population_by_race  race_Asian or Pacific Islander  \\\n",
       "0        77.83                   0                               0   \n",
       "1        50.96                   0                               0   \n",
       "2       136.21              704201                               0   \n",
       "3        43.12             1655605                               0   \n",
       "4        78.04              706754                               0   \n",
       "\n",
       "   race_Black or African American  race_White  \\\n",
       "0                               1           0   \n",
       "1                               0           1   \n",
       "2                               1           0   \n",
       "3                               0           1   \n",
       "4                               1           0   \n",
       "\n",
       "   hispanic_origin_Hispanic or Latino  hispanic_origin_Not Hispanic or Latino  \n",
       "0                                   0                                       1  \n",
       "1                                   0                                       1  \n",
       "2                                   0                                       1  \n",
       "3                                   0                                       1  \n",
       "4                                   0                                       1  "
      ]
     },
     "execution_count": 62,
     "metadata": {},
     "output_type": "execute_result"
    }
   ],
   "source": [
    "# Use Pandas get_dummies to convert categorical data\n",
    "\n",
    "selected_features_transformed = pd.get_dummies(selected_features)\n",
    "selected_features_transformed.head()"
   ]
  },
  {
   "cell_type": "code",
   "execution_count": 63,
   "metadata": {},
   "outputs": [],
   "source": [
    "# Selecting and assigning the X & y values\n",
    "y = MMR_race['mmr_by_race'].values.reshape(-1,1)\n",
    "X = selected_features_transformed.drop(columns=['mmr_by_race'], axis=1)"
   ]
  },
  {
   "cell_type": "code",
   "execution_count": 64,
   "metadata": {},
   "outputs": [
    {
     "name": "stdout",
     "output_type": "stream",
     "text": [
      "Shape: (388, 6) (388, 1)\n"
     ]
    }
   ],
   "source": [
    "# Print the selecting X & y shapes\n",
    "print('Shape:', X.shape, y.shape)"
   ]
  },
  {
   "cell_type": "markdown",
   "metadata": {},
   "source": [
    "### Create a Train Test Split ###"
   ]
  },
  {
   "cell_type": "code",
   "execution_count": 65,
   "metadata": {},
   "outputs": [],
   "source": [
    "# Spliting our data into training and testing\n",
    "from sklearn.model_selection import train_test_split\n",
    "\n",
    "X_train, X_test, y_train, y_test = train_test_split(X, y, random_state=41, test_size=0.3)"
   ]
  },
  {
   "cell_type": "code",
   "execution_count": 66,
   "metadata": {},
   "outputs": [
    {
     "data": {
      "text/plain": [
       "271"
      ]
     },
     "execution_count": 66,
     "metadata": {},
     "output_type": "execute_result"
    }
   ],
   "source": [
    "# Checking X_train length\n",
    "len(X_train)"
   ]
  },
  {
   "cell_type": "code",
   "execution_count": 67,
   "metadata": {},
   "outputs": [
    {
     "data": {
      "text/plain": [
       "271"
      ]
     },
     "execution_count": 67,
     "metadata": {},
     "output_type": "execute_result"
    }
   ],
   "source": [
    "# Checking y_train length\n",
    "len(y_train)"
   ]
  },
  {
   "cell_type": "code",
   "execution_count": 68,
   "metadata": {},
   "outputs": [],
   "source": [
    "# Create a StandardScaler model and fit it to the training data\n",
    "from sklearn.preprocessing import StandardScaler\n",
    "\n",
    "\n",
    "X_scaler = StandardScaler().fit(X_train)\n",
    "y_scaler = StandardScaler().fit(y_train)"
   ]
  },
  {
   "cell_type": "code",
   "execution_count": 69,
   "metadata": {},
   "outputs": [],
   "source": [
    "# Transform the training and testing data using the X_scaler and y_scaler models\n",
    "\n",
    "X_train_scaled = X_scaler.transform(X_train)\n",
    "X_test_scaled = X_scaler.transform(X_test)\n",
    "y_train_scaled = y_scaler.transform(y_train)\n",
    "y_test_scaled = y_scaler.transform(y_test)"
   ]
  },
  {
   "cell_type": "markdown",
   "metadata": {},
   "source": [
    "### Linear Regression Baseline Model ##"
   ]
  },
  {
   "cell_type": "code",
   "execution_count": 70,
   "metadata": {},
   "outputs": [],
   "source": [
    "# from sklearn.linear_model import LogisticRegression\n",
    "from sklearn.linear_model import LinearRegression"
   ]
  },
  {
   "cell_type": "code",
   "execution_count": 71,
   "metadata": {},
   "outputs": [
    {
     "data": {
      "text/plain": [
       "LinearRegression()"
      ]
     },
     "execution_count": 71,
     "metadata": {},
     "output_type": "execute_result"
    }
   ],
   "source": [
    "#Step 1: Creating a linear regression model\n",
    "model = LinearRegression()\n",
    "model"
   ]
  },
  {
   "cell_type": "code",
   "execution_count": 72,
   "metadata": {},
   "outputs": [
    {
     "data": {
      "text/plain": [
       "LinearRegression()"
      ]
     },
     "execution_count": 72,
     "metadata": {},
     "output_type": "execute_result"
    }
   ],
   "source": [
    "# Step 2: Fitting (train) our model to the data\n",
    "model.fit(X_train, y_train)"
   ]
  },
  {
   "cell_type": "code",
   "execution_count": 73,
   "metadata": {},
   "outputs": [
    {
     "name": "stdout",
     "output_type": "stream",
     "text": [
      "Coefficient of determination: 0.5637381580385683\n"
     ]
    }
   ],
   "source": [
    "# Obtaining the coefficient of determination (R2)\n",
    "r_sq = model.score(X_train, y_train)\n",
    "print('Coefficient of determination:', r_sq)"
   ]
  },
  {
   "cell_type": "code",
   "execution_count": 74,
   "metadata": {},
   "outputs": [
    {
     "name": "stdout",
     "output_type": "stream",
     "text": [
      "intercept: [39.09427819]\n"
     ]
    }
   ],
   "source": [
    "# Printing the intercept\n",
    "print('intercept:', model.intercept_)"
   ]
  },
  {
   "cell_type": "code",
   "execution_count": 75,
   "metadata": {},
   "outputs": [
    {
     "name": "stdout",
     "output_type": "stream",
     "text": [
      "slope: [[-1.44640993e-06 -2.45989563e+01  3.29446950e+01 -8.34573872e+00\n",
      "  -3.84357548e+00  3.84357548e+00]]\n"
     ]
    }
   ],
   "source": [
    "# Printing the slope\n",
    "print('slope:', model.coef_)"
   ]
  },
  {
   "cell_type": "code",
   "execution_count": 76,
   "metadata": {},
   "outputs": [
    {
     "name": "stdout",
     "output_type": "stream",
     "text": [
      "Predicted response:\n",
      "[[31.78438304]\n",
      " [34.59211495]\n",
      " [75.88254871]\n",
      " [28.47794055]\n",
      " [26.14689183]\n",
      " [26.90496399]\n",
      " [26.90496399]\n",
      " [34.59211495]\n",
      " [25.72480627]\n",
      " [26.90496399]\n",
      " [74.71760437]\n",
      " [23.6608791 ]\n",
      " [34.59211495]\n",
      " [74.98825948]\n",
      " [30.85130977]\n",
      " [34.59211495]\n",
      " [27.72065382]\n",
      " [75.88254871]\n",
      " [30.66798455]\n",
      " [74.82055548]\n",
      " [27.7360957 ]\n",
      " [74.98016827]\n",
      " [30.92262068]\n",
      " [31.68395445]\n",
      " [31.77965617]\n",
      " [30.67404934]\n",
      " [74.80543327]\n",
      " [26.90496399]\n",
      " [34.59211495]\n",
      " [73.18719851]\n",
      " [23.13667702]\n",
      " [74.78045811]\n",
      " [73.61374336]\n",
      " [73.57189727]\n",
      " [23.37219158]\n",
      " [75.88254871]\n",
      " [75.88254871]\n",
      " [75.88254871]\n",
      " [34.59211495]\n",
      " [26.35125799]\n",
      " [75.88254871]\n",
      " [26.53674126]\n",
      " [75.88254871]\n",
      " [75.88254871]\n",
      " [75.88254871]\n",
      " [26.37761591]\n",
      " [34.59211495]\n",
      " [75.88254871]\n",
      " [74.70624137]\n",
      " [29.74983679]\n",
      " [29.0300034 ]\n",
      " [32.21914638]\n",
      " [74.84659665]\n",
      " [75.88254871]\n",
      " [29.05769492]\n",
      " [75.88254871]\n",
      " [25.3924213 ]\n",
      " [26.90496399]\n",
      " [34.59211495]\n",
      " [75.88254871]\n",
      " [16.74923384]\n",
      " [26.90496399]\n",
      " [19.45654874]\n",
      " [75.88254871]\n",
      " [74.15817784]\n",
      " [74.61200053]\n",
      " [13.59704922]\n",
      " [75.88254871]\n",
      " [28.8546638 ]\n",
      " [74.7275629 ]\n",
      " [34.59211495]\n",
      " [75.88254871]\n",
      " [34.59211495]\n",
      " [34.59211495]\n",
      " [75.88254871]\n",
      " [34.59211495]\n",
      " [74.10546343]\n",
      " [74.19881617]\n",
      " [74.97208284]\n",
      " [23.76395461]\n",
      " [32.60487932]\n",
      " [34.59211495]\n",
      " [30.74761231]\n",
      " [75.88254871]\n",
      " [30.78912716]\n",
      " [30.6713272 ]\n",
      " [73.48718249]\n",
      " [75.88254871]\n",
      " [34.59211495]\n",
      " [75.88254871]\n",
      " [30.82988699]\n",
      " [31.77471957]\n",
      " [75.88254871]\n",
      " [25.77131995]\n",
      " [74.96616557]\n",
      " [26.05809962]\n",
      " [28.61357909]\n",
      " [34.59211495]\n",
      " [34.59211495]\n",
      " [32.54251157]\n",
      " [34.59211495]\n",
      " [34.59211495]\n",
      " [74.68881791]\n",
      " [74.71737294]\n",
      " [32.76645488]\n",
      " [23.39177019]\n",
      " [31.29845294]\n",
      " [34.59211495]\n",
      " [75.88254871]\n",
      " [26.90496399]\n",
      " [74.83379881]\n",
      " [20.42236005]\n",
      " [30.97384239]\n",
      " [28.80238042]\n",
      " [73.51194069]\n",
      " [31.78045314]\n",
      " [24.7977935 ]]\n"
     ]
    }
   ],
   "source": [
    "# Step 3: Predicting\n",
    "y_pred = model.predict(X_test)\n",
    "print('Predicted response:', y_pred, sep='\\n')"
   ]
  },
  {
   "cell_type": "code",
   "execution_count": 77,
   "metadata": {},
   "outputs": [
    {
     "name": "stdout",
     "output_type": "stream",
     "text": [
      "Min X Value: [[0 0 0 0 0 0]]\n",
      "Max X Value: [[7757084       1       1       1       1       1]]\n"
     ]
    }
   ],
   "source": [
    "# Predicting the min & max values\n",
    "X_min = np.array([X.min()])\n",
    "X_max = np.array([X.max()])\n",
    "print(f\"Min X Value: {X_min}\")\n",
    "print(f\"Max X Value: {X_max}\")"
   ]
  },
  {
   "cell_type": "code",
   "execution_count": 78,
   "metadata": {},
   "outputs": [
    {
     "name": "stdout",
     "output_type": "stream",
     "text": [
      "Min Y Value: [[39.09427819]]\n",
      "Max Y Value: [[27.87435483]]\n"
     ]
    }
   ],
   "source": [
    "# Calculate the y_min and y_max using model.predict and x_min and x_max\n",
    "y_min = model.predict(X_min)\n",
    "y_max = model.predict(X_max)\n",
    "print(f\"Min Y Value: {y_min}\")\n",
    "print(f\"Max Y Value: {y_max}\")\n"
   ]
  },
  {
   "cell_type": "code",
   "execution_count": 79,
   "metadata": {},
   "outputs": [
    {
     "name": "stdout",
     "output_type": "stream",
     "text": [
      "Mean Squared Error (MSE): 338.0795577253865\n",
      "R-squared (R2 ): 0.576557810372901\n"
     ]
    }
   ],
   "source": [
    "from sklearn.metrics import mean_squared_error, r2_score\n",
    "\n",
    "# Using the model to predict a value\n",
    "predicted = model.predict(X)\n",
    "\n",
    "# Scoring the prediction with mse and r2\n",
    "mse = mean_squared_error(y, predicted)\n",
    "r2 = r2_score(y, predicted)\n",
    "\n",
    "print(f\"Mean Squared Error (MSE): {mse}\")\n",
    "print(f\"R-squared (R2 ): {r2}\")"
   ]
  },
  {
   "cell_type": "code",
   "execution_count": 80,
   "metadata": {},
   "outputs": [
    {
     "name": "stdout",
     "output_type": "stream",
     "text": [
      "Training Score: 0.5637381580385683\n",
      "Testing Score: 0.6055512579941524\n"
     ]
    }
   ],
   "source": [
    "# Fitting the model to the training data and calculating the scores for the training and testing data\n",
    "model.fit(X_train, y_train)\n",
    "training_score = model.score(X_train, y_train)\n",
    "testing_score = model.score(X_test, y_test)\n",
    "\n",
    "print(f\"Training Score: {training_score}\")\n",
    "print(f\"Testing Score: {testing_score}\")"
   ]
  },
  {
   "cell_type": "code",
   "execution_count": 81,
   "metadata": {},
   "outputs": [
    {
     "data": {
      "text/plain": [
       "Text(0.5, 1.0, 'Maternal Mortality with Race')"
      ]
     },
     "execution_count": 81,
     "metadata": {},
     "output_type": "execute_result"
    },
    {
     "data": {
      "image/png": "[encoded data removed]",
      "text/plain": [
       "<Figure size 720x576 with 1 Axes>"
      ]
     },
     "metadata": {},
     "output_type": "display_data"
    }
   ],
   "source": [
    "# Plotting training and testing data\n",
    "plt.figure(figsize=(10,8))\n",
    "plt.scatter(model.predict(X_train), model.predict(X_train) - y_train, c=\"steelblue\", label=\"Training Data\")\n",
    "plt.scatter(model.predict(X_test), model.predict(X_test) - y_test, c=\"orange\", label=\"Testing Data\")\n",
    "plt.legend()\n",
    "plt.hlines(y=0, xmin=y.min(), xmax=y.max())\n",
    "plt.title(\"Maternal Mortality with Race\")"
   ]
  },
  {
   "cell_type": "markdown",
   "metadata": {},
   "source": [
    "### Create a simple lineaer regression model to make predictions for selected features ###"
   ]
  },
  {
   "cell_type": "code",
   "execution_count": 82,
   "metadata": {},
   "outputs": [
    {
     "data": {
      "text/plain": [
       "<matplotlib.collections.PathCollection at 0x22f5c07d358>"
      ]
     },
     "execution_count": 82,
     "metadata": {},
     "output_type": "execute_result"
    },
    {
     "data": {
      "image/png": "[encoded data removed]",
      "text/plain": [
       "<Figure size 720x576 with 1 Axes>"
      ]
     },
     "metadata": {},
     "output_type": "display_data"
    }
   ],
   "source": [
    "# Make predictions for maternal mortality ratio\n",
    "X1 = MMR_race[\"year\"].values.reshape(-1,1)\n",
    "y1 = MMR_race[\"mmr_by_race\"].values.reshape(-1,1)\n",
    "plt.figure(figsize=(10,8))\n",
    "plt.scatter(X1,y1)"
   ]
  },
  {
   "cell_type": "code",
   "execution_count": 83,
   "metadata": {},
   "outputs": [],
   "source": [
    "# Using the `train_test_split` to create a training and testing data\n",
    "from sklearn.model_selection import train_test_split\n",
    "\n",
    "X1_train, X1_test, y1_train, y1_test = train_test_split(X1, y1, random_state=42)"
   ]
  },
  {
   "cell_type": "code",
   "execution_count": 84,
   "metadata": {},
   "outputs": [
    {
     "data": {
      "text/plain": [
       "LinearRegression()"
      ]
     },
     "execution_count": 84,
     "metadata": {},
     "output_type": "execute_result"
    }
   ],
   "source": [
    "# Creating the linear regression model\n",
    "from sklearn.linear_model import LinearRegression\n",
    "model1 = LinearRegression()\n",
    "model1.fit(X1_train, y1_train)"
   ]
  },
  {
   "cell_type": "code",
   "execution_count": 85,
   "metadata": {},
   "outputs": [
    {
     "data": {
      "text/plain": [
       "{'copy_X': True,\n",
       " 'fit_intercept': True,\n",
       " 'n_jobs': None,\n",
       " 'normalize': False,\n",
       " 'positive': False}"
      ]
     },
     "execution_count": 85,
     "metadata": {},
     "output_type": "execute_result"
    }
   ],
   "source": [
    "model1.get_params()"
   ]
  },
  {
   "cell_type": "code",
   "execution_count": 86,
   "metadata": {},
   "outputs": [
    {
     "name": "stdout",
     "output_type": "stream",
     "text": [
      "MSE: 820.2420577481126, R2: -0.0019601341876613887\n"
     ]
    }
   ],
   "source": [
    "# Making the predictiions and displaying r2\n",
    "\n",
    "from sklearn.metrics import mean_squared_error\n",
    "\n",
    "predictions1 = model1.predict(X1_test)\n",
    "MSE1 = mean_squared_error(y1_test, predictions1)\n",
    "r2 = model1.score(X1_test, y1_test)\n",
    "\n",
    "print(f\"MSE: {MSE1}, R2: {r2}\")"
   ]
  },
  {
   "cell_type": "code",
   "execution_count": 87,
   "metadata": {},
   "outputs": [
    {
     "name": "stdout",
     "output_type": "stream",
     "text": [
      "Maternal Mortality Ratio for the next 10 years:\n"
     ]
    },
    {
     "data": {
      "text/plain": [
       "[46.362965512411904,\n",
       " 46.56959433593698,\n",
       " 46.77622315946206,\n",
       " 46.98285198298714,\n",
       " 47.18948080651222,\n",
       " 47.3961096300373,\n",
       " 47.60273845356238,\n",
       " 47.809367277087404,\n",
       " 48.01599610061248,\n",
       " 48.22262492413756,\n",
       " 48.42925374766264]"
      ]
     },
     "execution_count": 87,
     "metadata": {},
     "output_type": "execute_result"
    }
   ],
   "source": [
    "# Make predictions for next 10 years\n",
    "maternal_mortality_ratio =[]\n",
    "for i in range(2019, 2030):\n",
    "    r= model1.predict([[i]])\n",
    "    maternal_mortality_ratio.append(float(r))\n",
    "      \n",
    "    \n",
    "print(f\"Maternal Mortality Ratio for the next 10 years:\")\n",
    "maternal_mortality_ratio"
   ]
  },
  {
   "cell_type": "code",
   "execution_count": 88,
   "metadata": {},
   "outputs": [
    {
     "data": {
      "text/html": [
       "<div>\n",
       "<style scoped>\n",
       "    .dataframe tbody tr th:only-of-type {\n",
       "        vertical-align: middle;\n",
       "    }\n",
       "\n",
       "    .dataframe tbody tr th {\n",
       "        vertical-align: top;\n",
       "    }\n",
       "\n",
       "    .dataframe thead th {\n",
       "        text-align: right;\n",
       "    }\n",
       "</style>\n",
       "<table border=\"1\" class=\"dataframe\">\n",
       "  <thead>\n",
       "    <tr style=\"text-align: right;\">\n",
       "      <th></th>\n",
       "      <th>year</th>\n",
       "      <th>maternal_mortality_ratio</th>\n",
       "    </tr>\n",
       "  </thead>\n",
       "  <tbody>\n",
       "    <tr>\n",
       "      <th>0</th>\n",
       "      <td>2020</td>\n",
       "      <td>46.362966</td>\n",
       "    </tr>\n",
       "    <tr>\n",
       "      <th>1</th>\n",
       "      <td>2021</td>\n",
       "      <td>46.569594</td>\n",
       "    </tr>\n",
       "    <tr>\n",
       "      <th>2</th>\n",
       "      <td>2022</td>\n",
       "      <td>46.776223</td>\n",
       "    </tr>\n",
       "    <tr>\n",
       "      <th>3</th>\n",
       "      <td>2023</td>\n",
       "      <td>46.982852</td>\n",
       "    </tr>\n",
       "    <tr>\n",
       "      <th>4</th>\n",
       "      <td>2024</td>\n",
       "      <td>47.189481</td>\n",
       "    </tr>\n",
       "    <tr>\n",
       "      <th>5</th>\n",
       "      <td>2025</td>\n",
       "      <td>47.396110</td>\n",
       "    </tr>\n",
       "    <tr>\n",
       "      <th>6</th>\n",
       "      <td>2026</td>\n",
       "      <td>47.602738</td>\n",
       "    </tr>\n",
       "    <tr>\n",
       "      <th>7</th>\n",
       "      <td>2027</td>\n",
       "      <td>47.809367</td>\n",
       "    </tr>\n",
       "    <tr>\n",
       "      <th>8</th>\n",
       "      <td>2028</td>\n",
       "      <td>48.015996</td>\n",
       "    </tr>\n",
       "    <tr>\n",
       "      <th>9</th>\n",
       "      <td>2029</td>\n",
       "      <td>48.222625</td>\n",
       "    </tr>\n",
       "    <tr>\n",
       "      <th>10</th>\n",
       "      <td>2030</td>\n",
       "      <td>48.429254</td>\n",
       "    </tr>\n",
       "  </tbody>\n",
       "</table>\n",
       "</div>"
      ],
      "text/plain": [
       "    year  maternal_mortality_ratio\n",
       "0   2020                 46.362966\n",
       "1   2021                 46.569594\n",
       "2   2022                 46.776223\n",
       "3   2023                 46.982852\n",
       "4   2024                 47.189481\n",
       "5   2025                 47.396110\n",
       "6   2026                 47.602738\n",
       "7   2027                 47.809367\n",
       "8   2028                 48.015996\n",
       "9   2029                 48.222625\n",
       "10  2030                 48.429254"
      ]
     },
     "execution_count": 88,
     "metadata": {},
     "output_type": "execute_result"
    }
   ],
   "source": [
    "# Creating a dictionary that holds predicted values\n",
    "mmr_race_prediction = {\n",
    "    \"year\":[2020, 2021, 2022, 2023, 2024, 2025, 2026, 2027, 2028, 2029, 2030],\n",
    "    \"maternal_mortality_ratio\": maternal_mortality_ratio\n",
    "}\n",
    "\n",
    "# Creating a new dataframe to hold predictions\n",
    "mmr_10years_predictions = pd.DataFrame(mmr_race_prediction)\n",
    "mmr_10years_predictions"
   ]
  },
  {
   "cell_type": "code",
   "execution_count": 89,
   "metadata": {},
   "outputs": [
    {
     "data": {
      "text/plain": [
       "Text(0, 0.5, 'Maternal Mortality Ratio')"
      ]
     },
     "execution_count": 89,
     "metadata": {},
     "output_type": "execute_result"
    },
    {
     "data": {
      "image/png": "[encoded data removed]",
      "text/plain": [
       "<Figure size 720x576 with 1 Axes>"
      ]
     },
     "metadata": {},
     "output_type": "display_data"
    }
   ],
   "source": [
    "# Plotting the next 10 years predictions for MMR\n",
    "plt.figure(figsize=(10,8))\n",
    "plt.plot(mmr_10years_predictions[\"year\"], mmr_10years_predictions[\"maternal_mortality_ratio\"], marker=\"s\",markevery = 10, color = \"green\")\n",
    "plt.title(\"Maternal Mortality Ratio 10 Years Predictions\")\n",
    "plt.ylabel(\"Maternal Mortality Ratio\")"
   ]
  },
  {
   "cell_type": "code",
   "execution_count": 47,
   "metadata": {},
   "outputs": [
    {
     "data": {
      "text/plain": [
       "<matplotlib.axes._subplots.AxesSubplot at 0x22f5b66aa90>"
      ]
     },
     "execution_count": 47,
     "metadata": {},
     "output_type": "execute_result"
    },
    {
     "data": {
      "image/png": "[encoded data removed]",
      "text/plain": [
       "<Figure size 432x288 with 1 Axes>"
      ]
     },
     "metadata": {},
     "output_type": "display_data"
    }
   ],
   "source": [
    "# Barplot of maternal mortality grouped by year\n",
    "y = 'mmr_by_race'\n",
    "\n",
    "# Grouping by year\n",
    "AVG_MMR_USA_by_race = MMR_race.groupby('year').mean()[y]\n",
    "\n",
    "# Plotting barplot of mmr by year\n",
    "AVG_MMR_USA_by_race.plot(kind='bar',ylim=(24))"
   ]
  },
  {
   "cell_type": "code",
   "execution_count": null,
   "metadata": {},
   "outputs": [],
   "source": []
  }
 ],
 "metadata": {
  "kernelspec": {
   "display_name": "Python [conda env:PythonData]",
   "language": "python",
   "name": "conda-env-PythonData-py"
  },
  "language_info": {
   "codemirror_mode": {
    "name": "ipython",
    "version": 3
   },
   "file_extension": ".py",
   "mimetype": "text/x-python",
   "name": "python",
   "nbconvert_exporter": "python",
   "pygments_lexer": "ipython3",
   "version": "3.6.10"
  }
 },
 "nbformat": 4,
 "nbformat_minor": 4
}
