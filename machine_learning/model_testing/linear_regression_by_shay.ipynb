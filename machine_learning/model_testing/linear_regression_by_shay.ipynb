{
 "cells": [
  {
   "cell_type": "code",
   "execution_count": 9,
   "metadata": {},
   "outputs": [],
   "source": [
    "import pandas as pd\n",
    "import matplotlib.pyplot as plt"
   ]
  },
  {
   "cell_type": "code",
   "execution_count": 10,
   "metadata": {},
   "outputs": [
    {
     "data": {
      "text/html": [
       "<div>\n",
       "<style scoped>\n",
       "    .dataframe tbody tr th:only-of-type {\n",
       "        vertical-align: middle;\n",
       "    }\n",
       "\n",
       "    .dataframe tbody tr th {\n",
       "        vertical-align: top;\n",
       "    }\n",
       "\n",
       "    .dataframe thead th {\n",
       "        text-align: right;\n",
       "    }\n",
       "</style>\n",
       "<table border=\"1\" class=\"dataframe\">\n",
       "  <thead>\n",
       "    <tr style=\"text-align: right;\">\n",
       "      <th></th>\n",
       "      <th>year</th>\n",
       "      <th>state</th>\n",
       "      <th>id</th>\n",
       "      <th>state_code</th>\n",
       "      <th>latitude</th>\n",
       "      <th>longitude</th>\n",
       "      <th>deaths</th>\n",
       "      <th>births</th>\n",
       "      <th>maternal_mortality_ratio</th>\n",
       "      <th>population</th>\n",
       "      <th>...</th>\n",
       "      <th>phys_inac_val</th>\n",
       "      <th>prem_death_val</th>\n",
       "      <th>smoking_val</th>\n",
       "      <th>uninsured_val</th>\n",
       "      <th>all_determs_val</th>\n",
       "      <th>all_outcomes_val</th>\n",
       "      <th>chlamydia_val</th>\n",
       "      <th>prem_death_ri_val</th>\n",
       "      <th>teen_birth_val</th>\n",
       "      <th>primary_care_val</th>\n",
       "    </tr>\n",
       "  </thead>\n",
       "  <tbody>\n",
       "    <tr>\n",
       "      <th>0</th>\n",
       "      <td>2015</td>\n",
       "      <td>Alabama</td>\n",
       "      <td>US.AL</td>\n",
       "      <td>AL</td>\n",
       "      <td>32.318231</td>\n",
       "      <td>-86.902298</td>\n",
       "      <td>12.0</td>\n",
       "      <td>59657.0</td>\n",
       "      <td>20.11</td>\n",
       "      <td>2505795.0</td>\n",
       "      <td>...</td>\n",
       "      <td>27.6</td>\n",
       "      <td>10095.0</td>\n",
       "      <td>21.1</td>\n",
       "      <td>12.9</td>\n",
       "      <td>-0.371</td>\n",
       "      <td>-0.325</td>\n",
       "      <td>611.0</td>\n",
       "      <td>1.2</td>\n",
       "      <td>34.3</td>\n",
       "      <td>103.5</td>\n",
       "    </tr>\n",
       "    <tr>\n",
       "      <th>1</th>\n",
       "      <td>2016</td>\n",
       "      <td>Alabama</td>\n",
       "      <td>US.AL</td>\n",
       "      <td>AL</td>\n",
       "      <td>32.318231</td>\n",
       "      <td>-86.902298</td>\n",
       "      <td>35.0</td>\n",
       "      <td>59151.0</td>\n",
       "      <td>59.17</td>\n",
       "      <td>2507714.0</td>\n",
       "      <td>...</td>\n",
       "      <td>31.9</td>\n",
       "      <td>10097.0</td>\n",
       "      <td>21.4</td>\n",
       "      <td>11.1</td>\n",
       "      <td>-0.427</td>\n",
       "      <td>-0.366</td>\n",
       "      <td>600.2</td>\n",
       "      <td>1.1</td>\n",
       "      <td>32.0</td>\n",
       "      <td>116.4</td>\n",
       "    </tr>\n",
       "    <tr>\n",
       "      <th>2</th>\n",
       "      <td>2017</td>\n",
       "      <td>Alabama</td>\n",
       "      <td>US.AL</td>\n",
       "      <td>AL</td>\n",
       "      <td>32.318231</td>\n",
       "      <td>-86.902298</td>\n",
       "      <td>41.0</td>\n",
       "      <td>58941.0</td>\n",
       "      <td>69.56</td>\n",
       "      <td>2514911.0</td>\n",
       "      <td>...</td>\n",
       "      <td>29.4</td>\n",
       "      <td>10321.0</td>\n",
       "      <td>21.5</td>\n",
       "      <td>9.6</td>\n",
       "      <td>-0.427</td>\n",
       "      <td>-0.335</td>\n",
       "      <td>543.6</td>\n",
       "      <td>1.2</td>\n",
       "      <td>30.1</td>\n",
       "      <td>119.3</td>\n",
       "    </tr>\n",
       "    <tr>\n",
       "      <th>3</th>\n",
       "      <td>2018</td>\n",
       "      <td>Alabama</td>\n",
       "      <td>US.AL</td>\n",
       "      <td>AL</td>\n",
       "      <td>32.318231</td>\n",
       "      <td>-86.902298</td>\n",
       "      <td>31.0</td>\n",
       "      <td>57761.0</td>\n",
       "      <td>53.67</td>\n",
       "      <td>2523756.0</td>\n",
       "      <td>...</td>\n",
       "      <td>32.0</td>\n",
       "      <td>10720.0</td>\n",
       "      <td>20.9</td>\n",
       "      <td>9.3</td>\n",
       "      <td>-0.483</td>\n",
       "      <td>-0.356</td>\n",
       "      <td>553.6</td>\n",
       "      <td>1.1</td>\n",
       "      <td>28.4</td>\n",
       "      <td>122.8</td>\n",
       "    </tr>\n",
       "    <tr>\n",
       "      <th>4</th>\n",
       "      <td>2019</td>\n",
       "      <td>Alabama</td>\n",
       "      <td>US.AL</td>\n",
       "      <td>AL</td>\n",
       "      <td>32.318231</td>\n",
       "      <td>-86.902298</td>\n",
       "      <td>35.0</td>\n",
       "      <td>58615.0</td>\n",
       "      <td>59.71</td>\n",
       "      <td>2533668.0</td>\n",
       "      <td>...</td>\n",
       "      <td>30.7</td>\n",
       "      <td>10435.0</td>\n",
       "      <td>19.2</td>\n",
       "      <td>9.7</td>\n",
       "      <td>-0.437</td>\n",
       "      <td>-0.383</td>\n",
       "      <td>614.1</td>\n",
       "      <td>1.2</td>\n",
       "      <td>27.0</td>\n",
       "      <td>122.8</td>\n",
       "    </tr>\n",
       "  </tbody>\n",
       "</table>\n",
       "<p>5 rows × 41 columns</p>\n",
       "</div>"
      ],
      "text/plain": [
       "   year    state     id state_code   latitude  longitude  deaths   births  \\\n",
       "0  2015  Alabama  US.AL         AL  32.318231 -86.902298    12.0  59657.0   \n",
       "1  2016  Alabama  US.AL         AL  32.318231 -86.902298    35.0  59151.0   \n",
       "2  2017  Alabama  US.AL         AL  32.318231 -86.902298    41.0  58941.0   \n",
       "3  2018  Alabama  US.AL         AL  32.318231 -86.902298    31.0  57761.0   \n",
       "4  2019  Alabama  US.AL         AL  32.318231 -86.902298    35.0  58615.0   \n",
       "\n",
       "   maternal_mortality_ratio  population  ...  phys_inac_val  prem_death_val  \\\n",
       "0                     20.11   2505795.0  ...           27.6         10095.0   \n",
       "1                     59.17   2507714.0  ...           31.9         10097.0   \n",
       "2                     69.56   2514911.0  ...           29.4         10321.0   \n",
       "3                     53.67   2523756.0  ...           32.0         10720.0   \n",
       "4                     59.71   2533668.0  ...           30.7         10435.0   \n",
       "\n",
       "   smoking_val  uninsured_val  all_determs_val  all_outcomes_val  \\\n",
       "0         21.1           12.9           -0.371            -0.325   \n",
       "1         21.4           11.1           -0.427            -0.366   \n",
       "2         21.5            9.6           -0.427            -0.335   \n",
       "3         20.9            9.3           -0.483            -0.356   \n",
       "4         19.2            9.7           -0.437            -0.383   \n",
       "\n",
       "   chlamydia_val  prem_death_ri_val  teen_birth_val  primary_care_val  \n",
       "0          611.0                1.2            34.3             103.5  \n",
       "1          600.2                1.1            32.0             116.4  \n",
       "2          543.6                1.2            30.1             119.3  \n",
       "3          553.6                1.1            28.4             122.8  \n",
       "4          614.1                1.2            27.0             122.8  \n",
       "\n",
       "[5 rows x 41 columns]"
      ]
     },
     "execution_count": 10,
     "metadata": {},
     "output_type": "execute_result"
    }
   ],
   "source": [
    "df = pd.read_csv(\"../Resources/non_race_data.csv\")\n",
    "df.head()"
   ]
  },
  {
   "cell_type": "code",
   "execution_count": 11,
   "metadata": {},
   "outputs": [
    {
     "name": "stdout",
     "output_type": "stream",
     "text": [
      "(308, 32) (308,)\n"
     ]
    }
   ],
   "source": [
    "X = df.drop([\"year\", \"state\", \"id\", \"state_code\", \"latitude\", \"longitude\", \"deaths\", \"births\", \"maternal_mortality_ratio\"], axis=1)\n",
    "y = df[\"maternal_mortality_ratio\"]\n",
    "print(X.shape, y.shape)"
   ]
  },
  {
   "cell_type": "code",
   "execution_count": 12,
   "metadata": {},
   "outputs": [],
   "source": [
    "# Split data into train and test groups\n",
    "from sklearn.model_selection import train_test_split\n",
    "X_train, X_test, y_train, y_test = train_test_split(X, y, random_state=42)"
   ]
  },
  {
   "cell_type": "code",
   "execution_count": 13,
   "metadata": {},
   "outputs": [],
   "source": [
    "# Scale the data\n",
    "from sklearn.preprocessing import LabelEncoder, MinMaxScaler\n",
    "X_scaler = MinMaxScaler().fit(X_train)\n",
    "X_train_scaled = X_scaler.transform(X_train)\n",
    "X_test_scaled = X_scaler.transform(X_test)"
   ]
  },
  {
   "cell_type": "code",
   "execution_count": 14,
   "metadata": {},
   "outputs": [
    {
     "data": {
      "image/png": "[encoded data removed]",
      "text/plain": [
       "<Figure size 432x288 with 1 Axes>"
      ]
     },
     "metadata": {
      "needs_background": "light"
     },
     "output_type": "display_data"
    }
   ],
   "source": [
    "#make linear regression model\n",
    "from sklearn.linear_model import LinearRegression\n",
    "model = LinearRegression()\n",
    "model.fit(X_train_scaled, y_train)\n",
    "plt.scatter(model.predict(X_train_scaled), model.predict(X_train_scaled) - y_train, c=\"blue\", label=\"Training Data\")\n",
    "plt.scatter(model.predict(X_test_scaled), model.predict(X_test_scaled) - y_test, c=\"orange\", label=\"Testing Data\")\n",
    "plt.legend()\n",
    "plt.hlines(y=0, xmin=y_test.min(), xmax=y_test.max())\n",
    "plt.title(\"Residual Plot\")\n",
    "plt.show()"
   ]
  },
  {
   "cell_type": "code",
   "execution_count": 16,
   "metadata": {},
   "outputs": [
    {
     "name": "stdout",
     "output_type": "stream",
     "text": [
      "Mean Squared Error: 102.73816029180388, Training R2 Score: 0.5235530780090181, Testing R2 Score : 0.4273645551733223\n"
     ]
    }
   ],
   "source": [
    "from sklearn.metrics import mean_squared_error\n",
    "predictions = model.predict(X_test_scaled)\n",
    "MSE = mean_squared_error(y_test, predictions)\n",
    "train_score = model.score(X_train_scaled, y_train)\n",
    "test_score = model.score(X_test_scaled, y_test)\n",
    "print(f\"Mean Squared Error: {MSE}, Training R2 Score: {train_score}, Testing R2 Score : {test_score}\")"
   ]
  },
  {
   "cell_type": "code",
   "execution_count": null,
   "metadata": {},
   "outputs": [],
   "source": []
  }
 ],
 "metadata": {
  "kernelspec": {
   "display_name": "Python 3",
   "language": "python",
   "name": "python3"
  },
  "language_info": {
   "codemirror_mode": {
    "name": "ipython",
    "version": 3
   },
   "file_extension": ".py",
   "mimetype": "text/x-python",
   "name": "python",
   "nbconvert_exporter": "python",
   "pygments_lexer": "ipython3",
   "version": "3.8.5"
  }
 },
 "nbformat": 4,
 "nbformat_minor": 4
}
