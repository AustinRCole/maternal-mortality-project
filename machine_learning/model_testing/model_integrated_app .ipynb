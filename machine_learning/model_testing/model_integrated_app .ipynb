{
 "cells": [
  {
   "cell_type": "code",
   "execution_count": 24,
   "metadata": {},
   "outputs": [
    {
     "name": "stdout",
     "output_type": "stream",
     "text": [
      "Requirement already up-to-date: sklearn in /Users/abpuccini/opt/anaconda3/envs/finalproject/lib/python3.6/site-packages (0.0)\r\n",
      "Requirement already satisfied, skipping upgrade: scikit-learn in /Users/abpuccini/opt/anaconda3/envs/finalproject/lib/python3.6/site-packages (from sklearn) (0.23.1)\r\n",
      "Requirement already satisfied, skipping upgrade: joblib>=0.11 in /Users/abpuccini/opt/anaconda3/envs/finalproject/lib/python3.6/site-packages (from scikit-learn->sklearn) (0.16.0)\r\n",
      "Requirement already satisfied, skipping upgrade: numpy>=1.13.3 in /Users/abpuccini/opt/anaconda3/envs/finalproject/lib/python3.6/site-packages (from scikit-learn->sklearn) (1.17.0)\r\n",
      "Requirement already satisfied, skipping upgrade: scipy>=0.19.1 in /Users/abpuccini/opt/anaconda3/envs/finalproject/lib/python3.6/site-packages (from scikit-learn->sklearn) (1.5.0)\r\n",
      "Requirement already satisfied, skipping upgrade: threadpoolctl>=2.0.0 in /Users/abpuccini/opt/anaconda3/envs/finalproject/lib/python3.6/site-packages (from scikit-learn->sklearn) (2.1.0)\r\n"
     ]
    }
   ],
   "source": [
    "# Update sklearn to prevent version mismatches\n",
    "!pip install sklearn --upgrade"
   ]
  },
  {
   "cell_type": "code",
   "execution_count": 57,
   "metadata": {},
   "outputs": [],
   "source": [
    "from joblib import load\n",
    "import pandas as pd\n",
    "import numpy as np"
   ]
  },
  {
   "cell_type": "code",
   "execution_count": 58,
   "metadata": {},
   "outputs": [
    {
     "name": "stdout",
     "output_type": "stream",
     "text": [
      "39\n",
      "Index(['year', 'latitude', 'longitude', 'deaths', 'births',\n",
      "       'maternal_mortality_ratio', 'population', 'employer', 'non_group',\n",
      "       'medicaid', 'medicare', 'military', 'uninsured', 'air_pollution_val',\n",
      "       'cancer_death_val', 'cardio_death_val', 'child_pov_val',\n",
      "       'choles_check_val', 'dent_vis_val', 'dentists_val', 'diabetes_val',\n",
      "       'drug_deaths_val', 'health_stat_fem_val', 'immun_child_val',\n",
      "       'income_ineq_val', 'infant_mort_val', 'infect_dis_val', 'obesity_val',\n",
      "       'phys_inac_val', 'prem_death_val', 'smoking_val', 'uninsured_val',\n",
      "       'all_determs_val', 'all_outcomes_val', 'chlamydia_val',\n",
      "       'prem_death_ri_val', 'teen_birth_val', 'primary_care_val',\n",
      "       'low_birthweight_val'],\n",
      "      dtype='object')\n"
     ]
    }
   ],
   "source": [
    "data = pd.read_csv(\"../Resources/non_race_data.csv\")\n",
    "\n",
    "print(len(stat_data.columns))\n",
    "print(stat_data.columns)"
   ]
  },
  {
   "cell_type": "code",
   "execution_count": 60,
   "metadata": {},
   "outputs": [
    {
     "data": {
      "text/plain": [
       "population             4.890733e+06\n",
       "employer               5.973214e+01\n",
       "non_group              7.511688e+00\n",
       "medicaid               1.444968e+01\n",
       "medicare               2.226948e+00\n",
       "military               1.621753e+00\n",
       "uninsured              1.445519e+01\n",
       "air_pollution_val      9.537662e+00\n",
       "cancer_death_val       1.952091e+02\n",
       "cardio_death_val       2.681013e+02\n",
       "child_pov_val          2.000325e+01\n",
       "choles_check_val       7.856331e+01\n",
       "dent_vis_val           6.612662e+01\n",
       "dentists_val           5.677143e+01\n",
       "diabetes_val           1.036234e+01\n",
       "drug_deaths_val        1.466623e+01\n",
       "health_stat_fem_val    5.031753e+01\n",
       "immun_child_val        7.598224e+01\n",
       "income_ineq_val        4.757597e+00\n",
       "infant_mort_val        6.526948e+00\n",
       "infect_dis_val         4.528450e+00\n",
       "obesity_val            2.969286e+01\n",
       "phys_inac_val          2.561981e+01\n",
       "prem_death_val         7.746341e+03\n",
       "smoking_val            1.873701e+01\n",
       "uninsured_val          1.246883e+01\n",
       "all_determs_val       -5.562662e-02\n",
       "all_outcomes_val      -3.586039e-02\n",
       "chlamydia_val          4.552328e+02\n",
       "prem_death_ri_val      1.480844e+00\n",
       "teen_birth_val         3.109221e+01\n",
       "primary_care_val       1.301084e+02\n",
       "low_birthweight_val    8.368506e+00\n",
       "Name: mean, dtype: float64"
      ]
     },
     "execution_count": 60,
     "metadata": {},
     "output_type": "execute_result"
    }
   ],
   "source": [
    "stat_data = data.describe()\n",
    "stat_data = stat_data.loc['mean'][['population', 'employer',\n",
    "       'non_group', 'medicaid', 'medicare', 'military', 'uninsured',\n",
    "       'air_pollution_val', 'cancer_death_val', 'cardio_death_val',\n",
    "       'child_pov_val', 'choles_check_val', 'dent_vis_val', 'dentists_val',\n",
    "       'diabetes_val', 'drug_deaths_val', 'health_stat_fem_val',\n",
    "       'immun_child_val', 'income_ineq_val', 'infant_mort_val',\n",
    "       'infect_dis_val', 'obesity_val', 'phys_inac_val', 'prem_death_val',\n",
    "       'smoking_val', 'uninsured_val', 'all_determs_val', 'all_outcomes_val',\n",
    "       'chlamydia_val', 'prem_death_ri_val', 'teen_birth_val',\n",
    "       'primary_care_val', 'low_birthweight_val']]\n",
    "\n",
    "stat_data"
   ]
  },
  {
   "cell_type": "code",
   "execution_count": 51,
   "metadata": {},
   "outputs": [
    {
     "name": "stderr",
     "output_type": "stream",
     "text": [
      "/Users/abpuccini/opt/anaconda3/envs/finalproject/lib/python3.6/site-packages/sklearn/base.py:334: UserWarning: Trying to unpickle estimator LinearRegression from version 0.23.2 when using version 0.23.1. This might lead to breaking code or invalid results. Use at your own risk.\n",
      "  UserWarning)\n"
     ]
    }
   ],
   "source": [
    "pipeline = load(\"../../machine_learning/models/LR_model1_Chahnaz.sav\")"
   ]
  },
  {
   "cell_type": "code",
   "execution_count": 62,
   "metadata": {},
   "outputs": [
    {
     "name": "stdout",
     "output_type": "stream",
     "text": [
      "diabetes1\n",
      "diabetes1\n",
      "diabetes1\n",
      "diabetes1\n",
      "diabetes1\n"
     ]
    }
   ],
   "source": [
    "health_data = stat_data.copy()\n",
    "health_data['diabetes_val'] = input('diabetes')\n",
    "health_data['prem_death_val'] = input('diabetes')\n",
    "health_data['phys_inac_val'] = input('diabetes')\n",
    "health_data['low_birthweight_val'] = input('diabetes')\n",
    "health_data['obesity_val'] = input('diabetes')"
   ]
  },
  {
   "cell_type": "code",
   "execution_count": 63,
   "metadata": {},
   "outputs": [],
   "source": [
    "inputValue = np.array(health_data).reshape(1, -1)\n",
    "\n",
    "predicted_mmr = pipeline.predict(inputValue)"
   ]
  },
  {
   "cell_type": "code",
   "execution_count": 30,
   "metadata": {},
   "outputs": [
    {
     "data": {
      "text/plain": [
       "<bound method BaseEstimator.get_params of LinearRegression()>"
      ]
     },
     "execution_count": 30,
     "metadata": {},
     "output_type": "execute_result"
    }
   ],
   "source": [
    "pipeline.get_params"
   ]
  },
  {
   "cell_type": "code",
   "execution_count": 64,
   "metadata": {},
   "outputs": [
    {
     "data": {
      "text/plain": [
       "array([[-35.37210432]])"
      ]
     },
     "execution_count": 64,
     "metadata": {},
     "output_type": "execute_result"
    }
   ],
   "source": [
    "predicted_mmr\n",
    "# 32.11739427"
   ]
  },
  {
   "cell_type": "code",
   "execution_count": null,
   "metadata": {},
   "outputs": [],
   "source": []
  }
 ],
 "metadata": {
  "kernelspec": {
   "display_name": "Python 3",
   "language": "python",
   "name": "python3"
  },
  "language_info": {
   "codemirror_mode": {
    "name": "ipython",
    "version": 3
   },
   "file_extension": ".py",
   "mimetype": "text/x-python",
   "name": "python",
   "nbconvert_exporter": "python",
   "pygments_lexer": "ipython3",
   "version": "3.6.10"
  }
 },
 "nbformat": 4,
 "nbformat_minor": 4
}
