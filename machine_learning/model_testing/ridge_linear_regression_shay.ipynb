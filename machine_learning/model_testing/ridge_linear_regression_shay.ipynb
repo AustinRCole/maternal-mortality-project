{
 "cells": [
  {
   "cell_type": "code",
   "execution_count": 1,
   "metadata": {},
   "outputs": [],
   "source": [
    "import numpy as np\n",
    "from numpy import arange\n",
    "from numpy import mean\n",
    "from numpy import std\n",
    "from numpy import absolute\n",
    "\n",
    "import pandas as pd\n",
    "import matplotlib.pyplot as plt\n",
    "\n",
    "from sklearn import linear_model\n",
    "from sklearn.model_selection import GridSearchCV\n",
    "from sklearn.linear_model import RidgeCV\n",
    "from sklearn.model_selection import RepeatedKFold\n",
    "from sklearn.model_selection import cross_val_score\n",
    "from sklearn.linear_model import Ridge\n",
    "\n"
   ]
  },
  {
   "cell_type": "code",
   "execution_count": 2,
   "metadata": {},
   "outputs": [
    {
     "data": {
      "text/html": [
       "<div>\n",
       "<style scoped>\n",
       "    .dataframe tbody tr th:only-of-type {\n",
       "        vertical-align: middle;\n",
       "    }\n",
       "\n",
       "    .dataframe tbody tr th {\n",
       "        vertical-align: top;\n",
       "    }\n",
       "\n",
       "    .dataframe thead th {\n",
       "        text-align: right;\n",
       "    }\n",
       "</style>\n",
       "<table border=\"1\" class=\"dataframe\">\n",
       "  <thead>\n",
       "    <tr style=\"text-align: right;\">\n",
       "      <th></th>\n",
       "      <th>year</th>\n",
       "      <th>state</th>\n",
       "      <th>id</th>\n",
       "      <th>state_code</th>\n",
       "      <th>latitude</th>\n",
       "      <th>longitude</th>\n",
       "      <th>deaths</th>\n",
       "      <th>births</th>\n",
       "      <th>maternal_mortality_ratio</th>\n",
       "      <th>population</th>\n",
       "      <th>...</th>\n",
       "      <th>prem_death_val</th>\n",
       "      <th>smoking_val</th>\n",
       "      <th>uninsured_val</th>\n",
       "      <th>all_determs_val</th>\n",
       "      <th>all_outcomes_val</th>\n",
       "      <th>chlamydia_val</th>\n",
       "      <th>prem_death_ri_val</th>\n",
       "      <th>teen_birth_val</th>\n",
       "      <th>primary_care_val</th>\n",
       "      <th>low_birthweight_val</th>\n",
       "    </tr>\n",
       "  </thead>\n",
       "  <tbody>\n",
       "    <tr>\n",
       "      <th>0</th>\n",
       "      <td>2015</td>\n",
       "      <td>Alabama</td>\n",
       "      <td>US.AL</td>\n",
       "      <td>AL</td>\n",
       "      <td>32.318231</td>\n",
       "      <td>-86.902298</td>\n",
       "      <td>12.0</td>\n",
       "      <td>59657.0</td>\n",
       "      <td>20.11</td>\n",
       "      <td>2505795.0</td>\n",
       "      <td>...</td>\n",
       "      <td>10095.0</td>\n",
       "      <td>21.1</td>\n",
       "      <td>12.9</td>\n",
       "      <td>-0.371</td>\n",
       "      <td>-0.325</td>\n",
       "      <td>611.0</td>\n",
       "      <td>1.2</td>\n",
       "      <td>34.3</td>\n",
       "      <td>103.5</td>\n",
       "      <td>10.0</td>\n",
       "    </tr>\n",
       "    <tr>\n",
       "      <th>1</th>\n",
       "      <td>2016</td>\n",
       "      <td>Alabama</td>\n",
       "      <td>US.AL</td>\n",
       "      <td>AL</td>\n",
       "      <td>32.318231</td>\n",
       "      <td>-86.902298</td>\n",
       "      <td>35.0</td>\n",
       "      <td>59151.0</td>\n",
       "      <td>59.17</td>\n",
       "      <td>2507714.0</td>\n",
       "      <td>...</td>\n",
       "      <td>10097.0</td>\n",
       "      <td>21.4</td>\n",
       "      <td>11.1</td>\n",
       "      <td>-0.427</td>\n",
       "      <td>-0.366</td>\n",
       "      <td>600.2</td>\n",
       "      <td>1.1</td>\n",
       "      <td>32.0</td>\n",
       "      <td>116.4</td>\n",
       "      <td>10.1</td>\n",
       "    </tr>\n",
       "    <tr>\n",
       "      <th>2</th>\n",
       "      <td>2017</td>\n",
       "      <td>Alabama</td>\n",
       "      <td>US.AL</td>\n",
       "      <td>AL</td>\n",
       "      <td>32.318231</td>\n",
       "      <td>-86.902298</td>\n",
       "      <td>41.0</td>\n",
       "      <td>58941.0</td>\n",
       "      <td>69.56</td>\n",
       "      <td>2514911.0</td>\n",
       "      <td>...</td>\n",
       "      <td>10321.0</td>\n",
       "      <td>21.5</td>\n",
       "      <td>9.6</td>\n",
       "      <td>-0.427</td>\n",
       "      <td>-0.335</td>\n",
       "      <td>543.6</td>\n",
       "      <td>1.2</td>\n",
       "      <td>30.1</td>\n",
       "      <td>119.3</td>\n",
       "      <td>10.4</td>\n",
       "    </tr>\n",
       "    <tr>\n",
       "      <th>3</th>\n",
       "      <td>2018</td>\n",
       "      <td>Alabama</td>\n",
       "      <td>US.AL</td>\n",
       "      <td>AL</td>\n",
       "      <td>32.318231</td>\n",
       "      <td>-86.902298</td>\n",
       "      <td>31.0</td>\n",
       "      <td>57761.0</td>\n",
       "      <td>53.67</td>\n",
       "      <td>2523756.0</td>\n",
       "      <td>...</td>\n",
       "      <td>10720.0</td>\n",
       "      <td>20.9</td>\n",
       "      <td>9.3</td>\n",
       "      <td>-0.483</td>\n",
       "      <td>-0.356</td>\n",
       "      <td>553.6</td>\n",
       "      <td>1.1</td>\n",
       "      <td>28.4</td>\n",
       "      <td>122.8</td>\n",
       "      <td>10.3</td>\n",
       "    </tr>\n",
       "    <tr>\n",
       "      <th>4</th>\n",
       "      <td>2019</td>\n",
       "      <td>Alabama</td>\n",
       "      <td>US.AL</td>\n",
       "      <td>AL</td>\n",
       "      <td>32.318231</td>\n",
       "      <td>-86.902298</td>\n",
       "      <td>35.0</td>\n",
       "      <td>58615.0</td>\n",
       "      <td>59.71</td>\n",
       "      <td>2533668.0</td>\n",
       "      <td>...</td>\n",
       "      <td>10435.0</td>\n",
       "      <td>19.2</td>\n",
       "      <td>9.7</td>\n",
       "      <td>-0.437</td>\n",
       "      <td>-0.383</td>\n",
       "      <td>614.1</td>\n",
       "      <td>1.2</td>\n",
       "      <td>27.0</td>\n",
       "      <td>122.8</td>\n",
       "      <td>10.3</td>\n",
       "    </tr>\n",
       "  </tbody>\n",
       "</table>\n",
       "<p>5 rows × 42 columns</p>\n",
       "</div>"
      ],
      "text/plain": [
       "   year    state     id state_code   latitude  longitude  deaths   births  \\\n",
       "0  2015  Alabama  US.AL         AL  32.318231 -86.902298    12.0  59657.0   \n",
       "1  2016  Alabama  US.AL         AL  32.318231 -86.902298    35.0  59151.0   \n",
       "2  2017  Alabama  US.AL         AL  32.318231 -86.902298    41.0  58941.0   \n",
       "3  2018  Alabama  US.AL         AL  32.318231 -86.902298    31.0  57761.0   \n",
       "4  2019  Alabama  US.AL         AL  32.318231 -86.902298    35.0  58615.0   \n",
       "\n",
       "   maternal_mortality_ratio  population  ...  prem_death_val  smoking_val  \\\n",
       "0                     20.11   2505795.0  ...         10095.0         21.1   \n",
       "1                     59.17   2507714.0  ...         10097.0         21.4   \n",
       "2                     69.56   2514911.0  ...         10321.0         21.5   \n",
       "3                     53.67   2523756.0  ...         10720.0         20.9   \n",
       "4                     59.71   2533668.0  ...         10435.0         19.2   \n",
       "\n",
       "   uninsured_val  all_determs_val  all_outcomes_val  chlamydia_val  \\\n",
       "0           12.9           -0.371            -0.325          611.0   \n",
       "1           11.1           -0.427            -0.366          600.2   \n",
       "2            9.6           -0.427            -0.335          543.6   \n",
       "3            9.3           -0.483            -0.356          553.6   \n",
       "4            9.7           -0.437            -0.383          614.1   \n",
       "\n",
       "   prem_death_ri_val  teen_birth_val  primary_care_val  low_birthweight_val  \n",
       "0                1.2            34.3             103.5                 10.0  \n",
       "1                1.1            32.0             116.4                 10.1  \n",
       "2                1.2            30.1             119.3                 10.4  \n",
       "3                1.1            28.4             122.8                 10.3  \n",
       "4                1.2            27.0             122.8                 10.3  \n",
       "\n",
       "[5 rows x 42 columns]"
      ]
     },
     "execution_count": 2,
     "metadata": {},
     "output_type": "execute_result"
    }
   ],
   "source": [
    "df = pd.read_csv(\"../Resources/non_race_data.csv\")\n",
    "df.head()"
   ]
  },
  {
   "cell_type": "code",
   "execution_count": 3,
   "metadata": {},
   "outputs": [
    {
     "name": "stdout",
     "output_type": "stream",
     "text": [
      "(308, 33) (308,)\n"
     ]
    }
   ],
   "source": [
    "X = df.drop([\"year\", \"state\", \"id\", \"state_code\", \"latitude\", \"longitude\", \"deaths\", \"births\", \"maternal_mortality_ratio\"], axis=1)\n",
    "y = df[\"maternal_mortality_ratio\"]\n",
    "print(X.shape, y.shape)"
   ]
  },
  {
   "cell_type": "code",
   "execution_count": 4,
   "metadata": {},
   "outputs": [
    {
     "name": "stdout",
     "output_type": "stream",
     "text": [
      "(308, 33) (308, 1)\n"
     ]
    }
   ],
   "source": [
    "X = df.drop([\"year\", \"state\", \"id\", \"state_code\", \"latitude\", \"longitude\", \"deaths\", \"births\", \"maternal_mortality_ratio\"], axis=1)\n",
    "y = df[\"maternal_mortality_ratio\"].values.reshape(-1,1)\n",
    "print(X.shape, y.shape)"
   ]
  },
  {
   "cell_type": "code",
   "execution_count": 5,
   "metadata": {},
   "outputs": [],
   "source": [
    "# Split data into train and test groups\n",
    "from sklearn.model_selection import train_test_split\n",
    "X_train, X_test, y_train, y_test = train_test_split(X, y, random_state=42)"
   ]
  },
  {
   "cell_type": "code",
   "execution_count": 6,
   "metadata": {},
   "outputs": [],
   "source": [
    "# Scale the data\n",
    "from sklearn.preprocessing import LabelEncoder, MinMaxScaler\n",
    "X_scaler = MinMaxScaler().fit(X_train)\n",
    "X_train_scaled = X_scaler.transform(X_train)\n",
    "X_test_scaled = X_scaler.transform(X_test)"
   ]
  },
  {
   "cell_type": "code",
   "execution_count": null,
   "metadata": {},
   "outputs": [],
   "source": []
  },
  {
   "cell_type": "code",
   "execution_count": 7,
   "metadata": {},
   "outputs": [
    {
     "name": "stdout",
     "output_type": "stream",
     "text": [
      "Mean MAE: 7.517 (1.574)\n"
     ]
    }
   ],
   "source": [
    "# define model\n",
    "model_1 = Ridge(alpha=1.0)\n",
    "# define model evaluation method\n",
    "cv = RepeatedKFold(n_splits=10, n_repeats=3, random_state=1)\n",
    "# evaluate model\n",
    "scores = cross_val_score(model_1, X_train_scaled, y_train, scoring='neg_mean_absolute_error', cv=cv, n_jobs=-1)\n",
    "# force scores to be positive\n",
    "scores = absolute(scores)\n",
    "print('Mean MAE: %.3f (%.3f)' % (mean(scores), std(scores)))"
   ]
  },
  {
   "cell_type": "code",
   "execution_count": 8,
   "metadata": {},
   "outputs": [
    {
     "data": {
      "text/plain": [
       "(231, 1)"
      ]
     },
     "execution_count": 8,
     "metadata": {},
     "output_type": "execute_result"
    }
   ],
   "source": [
    "y_train.shape"
   ]
  },
  {
   "cell_type": "code",
   "execution_count": 9,
   "metadata": {},
   "outputs": [
    {
     "data": {
      "text/plain": [
       "(231, 33)"
      ]
     },
     "execution_count": 9,
     "metadata": {},
     "output_type": "execute_result"
    }
   ],
   "source": [
    "X_train_scaled.shape"
   ]
  },
  {
   "cell_type": "code",
   "execution_count": 10,
   "metadata": {},
   "outputs": [
    {
     "name": "stdout",
     "output_type": "stream",
     "text": [
      "MAE: -7.517\n",
      "Config: {'alpha': 0.99}\n"
     ]
    }
   ],
   "source": [
    "\n",
    "# define model\n",
    "model_3 = Ridge()\n",
    "# define model evaluation method\n",
    "cv = RepeatedKFold(n_splits=10, n_repeats=3, random_state=1)\n",
    "# define grid\n",
    "grid = dict()\n",
    "grid['alpha'] = arange(0, 1, 0.01)\n",
    "# define search\n",
    "search = GridSearchCV(model_3, grid, scoring='neg_mean_absolute_error', cv=cv, n_jobs=-1)\n",
    "# perform the search\n",
    "results = search.fit(X_train_scaled, y_train)\n",
    "# summarize\n",
    "print('MAE: %.3f' % results.best_score_)\n",
    "print('Config: %s' % results.best_params_)"
   ]
  },
  {
   "cell_type": "code",
   "execution_count": 11,
   "metadata": {
    "scrolled": true
   },
   "outputs": [
    {
     "name": "stdout",
     "output_type": "stream",
     "text": [
      "alpha: 0.990000\n"
     ]
    }
   ],
   "source": [
    "cv = RepeatedKFold(n_splits=10, n_repeats=3, random_state=1)\n",
    "# define model\n",
    "model_4 = RidgeCV(alphas=arange(0, 1, 0.01), cv=cv, scoring='neg_mean_absolute_error')\n",
    "# fit model\n",
    "model_4.fit(X_train_scaled, y_train)\n",
    "# summarize chosen configuration\n",
    "print('alpha: %f' % model_4.alpha_)"
   ]
  },
  {
   "cell_type": "code",
   "execution_count": null,
   "metadata": {},
   "outputs": [],
   "source": [
    "ridge = Ridge(normalize = True)\n",
    "coefs = []\n",
    "\n",
    "for a in alphas:\n",
    "    ridge.set_params(alpha = a)\n",
    "    ridge.fit(X, y)\n",
    "    coefs.append(ridge.coef_)\n",
    "    \n",
    "np.shape(coefs)"
   ]
  },
  {
   "cell_type": "code",
   "execution_count": null,
   "metadata": {},
   "outputs": [],
   "source": [
    "###initialize list to store coefficient values\n",
    "coef=[]\n",
    "n_alphas = 33\n",
    "alphas = np.logspace(-10, -2, n_alphas)\n",
    "\n",
    "ridgereg=Ridge(normalize=True)\n",
    "\n",
    "for a in alphas:\n",
    "    ridgereg.set_params(alpha=a)\n",
    "    ridgereg.fit(X_train_scaled, y_train)\n",
    "    coef.append(ridgereg.coef_)\n",
    "\n",
    "###Make plot of Beta as a function of Alpha\n",
    "fig=plt.figure()\n",
    "\n",
    "ax = plt.gca()\n",
    "ax.set_xscale('log')\n",
    "ax.set_xlim(ax.get_xlim()[::-1])\n",
    "#ax=fig.add_subplot(111)\n",
    "\n",
    "coef_list = []\n",
    "for array in coef:\n",
    "    for item in array:\n",
    "        for number in item:\n",
    "            coef_list.append(number)\n",
    "        \n",
    "        \n",
    "    \n",
    "ax.plot(alphas,coef_list)\n",
    "ax.set_xlabel('Alpha (Regularization Parameter)')\n",
    "ax.set_ylabel('Beta (Predictor Coefficients)')\n",
    "ax.set_title('Ridge Coefficients vs Regularization Parameters')\n",
    "ax.axis('tight')\n",
    "###ax.legend(loc='best')\n",
    "#fig.savefig('coef_vs_alpha.png')"
   ]
  },
  {
   "cell_type": "code",
   "execution_count": null,
   "metadata": {},
   "outputs": [],
   "source": [
    ">>> from sklearn.linear_model import Ridge\n",
    ">>> import numpy as np\n",
    ">>> n_samples, n_features = 10, 5\n",
    "#>>> rng = np.random.RandomState(0)\n",
    "##>>> y = rng.randn(n_samples)\n",
    "#>>> X = rng.randn(n_samples, n_features)\n",
    ">>> clf = Ridge(alpha=1.0)\n",
    ">>> clf.fit(X, y)\n",
    "Ridge()"
   ]
  },
  {
   "cell_type": "code",
   "execution_count": 5,
   "metadata": {},
   "outputs": [],
   "source": [
    "np.random.seed(0)"
   ]
  },
  {
   "cell_type": "code",
   "execution_count": 10,
   "metadata": {},
   "outputs": [],
   "source": [
    "classifiers = dict(ols=linear_model.LinearRegression(),\n",
    "                   ridge=linear_model.Ridge(alpha=.1))\n"
   ]
  },
  {
   "cell_type": "code",
   "execution_count": null,
   "metadata": {},
   "outputs": [],
   "source": [
    "for name, clf in classifiers.items():\n",
    "    fig, ax = plt.subplots(figsize=(4, 3))\n",
    "\n",
    "    for _ in range(6):\n",
    "        this_X = .1 * np.random.normal(size=(231, 33)) + X_train_scaled\n",
    "        clf.fit(this_X, y_train)\n",
    "\n",
    "        ax.plot(X_test_scaled, clf.predict(X_test), color='gray')\n",
    "        ax.scatter(this_X, y_train, s=3, c='gray', marker='o', zorder=10)\n",
    "\n",
    "    clf.fit(X_train_scaled, y_train)\n",
    "    ax.plot(X_test_scaled, clf.predict(X_test), linewidth=2, color='blue')\n",
    "    ax.scatter(X_train_scaled, y_train, s=30, c='red', marker='+', zorder=10)\n",
    "\n",
    "    ax.set_title(name)\n",
    "    ax.set_xlim(0, 2)\n",
    "    ax.set_ylim((0, 1.6))\n",
    "    ax.set_xlabel('X')\n",
    "    ax.set_ylabel('y')\n",
    "\n",
    "    fig.tight_layout()"
   ]
  },
  {
   "cell_type": "code",
   "execution_count": null,
   "metadata": {},
   "outputs": [],
   "source": []
  }
 ],
 "metadata": {
  "kernelspec": {
   "display_name": "Python 3",
   "language": "python",
   "name": "python3"
  },
  "language_info": {
   "codemirror_mode": {
    "name": "ipython",
    "version": 3
   },
   "file_extension": ".py",
   "mimetype": "text/x-python",
   "name": "python",
   "nbconvert_exporter": "python",
   "pygments_lexer": "ipython3",
   "version": "3.6.10"
  }
 },
 "nbformat": 4,
 "nbformat_minor": 4
}
