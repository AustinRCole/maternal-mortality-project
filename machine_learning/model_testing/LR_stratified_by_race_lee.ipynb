{
 "cells": [
  {
   "cell_type": "code",
   "execution_count": 97,
   "metadata": {},
   "outputs": [],
   "source": [
    "%matplotlib inline\n",
    "import matplotlib.pyplot as plt\n",
    "import numpy as np\n",
    "import pandas as pd\n",
    "import seaborn as sns"
   ]
  },
  {
   "cell_type": "code",
   "execution_count": 98,
   "metadata": {},
   "outputs": [],
   "source": [
    "# read in csv \n",
    "df = pd.read_csv(\"../Resources/race_data.csv\")"
   ]
  },
  {
   "cell_type": "code",
   "execution_count": 99,
   "metadata": {},
   "outputs": [
    {
     "data": {
      "text/html": [
       "<div>\n",
       "<style scoped>\n",
       "    .dataframe tbody tr th:only-of-type {\n",
       "        vertical-align: middle;\n",
       "    }\n",
       "\n",
       "    .dataframe tbody tr th {\n",
       "        vertical-align: top;\n",
       "    }\n",
       "\n",
       "    .dataframe thead th {\n",
       "        text-align: right;\n",
       "    }\n",
       "</style>\n",
       "<table border=\"1\" class=\"dataframe\">\n",
       "  <thead>\n",
       "    <tr style=\"text-align: right;\">\n",
       "      <th></th>\n",
       "      <th>state</th>\n",
       "      <th>state_code</th>\n",
       "      <th>year</th>\n",
       "      <th>race</th>\n",
       "      <th>hispanic_origin</th>\n",
       "      <th>births_by_race</th>\n",
       "      <th>deaths_by_race</th>\n",
       "      <th>mmr_by_race</th>\n",
       "      <th>population_by_race</th>\n",
       "      <th>id</th>\n",
       "      <th>state_abbv</th>\n",
       "      <th>latitude</th>\n",
       "      <th>longitude</th>\n",
       "    </tr>\n",
       "  </thead>\n",
       "  <tbody>\n",
       "    <tr>\n",
       "      <th>0</th>\n",
       "      <td>Alabama</td>\n",
       "      <td>1</td>\n",
       "      <td>2016</td>\n",
       "      <td>Black or African American</td>\n",
       "      <td>Not Hispanic or Latino</td>\n",
       "      <td>17989</td>\n",
       "      <td>14</td>\n",
       "      <td>77.83</td>\n",
       "      <td>0</td>\n",
       "      <td>US.AL</td>\n",
       "      <td>AL</td>\n",
       "      <td>32.318231</td>\n",
       "      <td>-86.902298</td>\n",
       "    </tr>\n",
       "    <tr>\n",
       "      <th>1</th>\n",
       "      <td>Alabama</td>\n",
       "      <td>1</td>\n",
       "      <td>2016</td>\n",
       "      <td>White</td>\n",
       "      <td>Not Hispanic or Latino</td>\n",
       "      <td>35319</td>\n",
       "      <td>18</td>\n",
       "      <td>50.96</td>\n",
       "      <td>0</td>\n",
       "      <td>US.AL</td>\n",
       "      <td>AL</td>\n",
       "      <td>32.318231</td>\n",
       "      <td>-86.902298</td>\n",
       "    </tr>\n",
       "    <tr>\n",
       "      <th>2</th>\n",
       "      <td>Alabama</td>\n",
       "      <td>1</td>\n",
       "      <td>2017</td>\n",
       "      <td>Black or African American</td>\n",
       "      <td>Not Hispanic or Latino</td>\n",
       "      <td>18354</td>\n",
       "      <td>25</td>\n",
       "      <td>136.21</td>\n",
       "      <td>704201</td>\n",
       "      <td>US.AL</td>\n",
       "      <td>AL</td>\n",
       "      <td>32.318231</td>\n",
       "      <td>-86.902298</td>\n",
       "    </tr>\n",
       "    <tr>\n",
       "      <th>3</th>\n",
       "      <td>Alabama</td>\n",
       "      <td>1</td>\n",
       "      <td>2017</td>\n",
       "      <td>White</td>\n",
       "      <td>Not Hispanic or Latino</td>\n",
       "      <td>34784</td>\n",
       "      <td>15</td>\n",
       "      <td>43.12</td>\n",
       "      <td>1655605</td>\n",
       "      <td>US.AL</td>\n",
       "      <td>AL</td>\n",
       "      <td>32.318231</td>\n",
       "      <td>-86.902298</td>\n",
       "    </tr>\n",
       "    <tr>\n",
       "      <th>4</th>\n",
       "      <td>Alabama</td>\n",
       "      <td>1</td>\n",
       "      <td>2018</td>\n",
       "      <td>Black or African American</td>\n",
       "      <td>Not Hispanic or Latino</td>\n",
       "      <td>17939</td>\n",
       "      <td>14</td>\n",
       "      <td>78.04</td>\n",
       "      <td>706754</td>\n",
       "      <td>US.AL</td>\n",
       "      <td>AL</td>\n",
       "      <td>32.318231</td>\n",
       "      <td>-86.902298</td>\n",
       "    </tr>\n",
       "  </tbody>\n",
       "</table>\n",
       "</div>"
      ],
      "text/plain": [
       "     state  state_code  year                       race  \\\n",
       "0  Alabama           1  2016  Black or African American   \n",
       "1  Alabama           1  2016                      White   \n",
       "2  Alabama           1  2017  Black or African American   \n",
       "3  Alabama           1  2017                      White   \n",
       "4  Alabama           1  2018  Black or African American   \n",
       "\n",
       "          hispanic_origin  births_by_race  deaths_by_race  mmr_by_race  \\\n",
       "0  Not Hispanic or Latino           17989              14        77.83   \n",
       "1  Not Hispanic or Latino           35319              18        50.96   \n",
       "2  Not Hispanic or Latino           18354              25       136.21   \n",
       "3  Not Hispanic or Latino           34784              15        43.12   \n",
       "4  Not Hispanic or Latino           17939              14        78.04   \n",
       "\n",
       "   population_by_race     id state_abbv   latitude  longitude  \n",
       "0                   0  US.AL         AL  32.318231 -86.902298  \n",
       "1                   0  US.AL         AL  32.318231 -86.902298  \n",
       "2              704201  US.AL         AL  32.318231 -86.902298  \n",
       "3             1655605  US.AL         AL  32.318231 -86.902298  \n",
       "4              706754  US.AL         AL  32.318231 -86.902298  "
      ]
     },
     "execution_count": 99,
     "metadata": {},
     "output_type": "execute_result"
    }
   ],
   "source": [
    "# view dataset of mmr stratified by race \n",
    "df.head()"
   ]
  },
  {
   "cell_type": "markdown",
   "metadata": {},
   "source": [
    "### Viewing Distribution of Data with Histograms by Race"
   ]
  },
  {
   "cell_type": "code",
   "execution_count": null,
   "metadata": {},
   "outputs": [],
   "source": [
    "# create dataframes for mmr data for each race in our dataset\n",
    "\n",
    "# african american, not hispanic or latino\n",
    "af_amer_mmr = df.loc[(df[\"race\"] == \"Black or African American\") & (df[\"hispanic_origin\"] == \"Not Hispanic or Latino\")]\n",
    "\n",
    "# white, not hispanic or latino\n",
    "wh_mmr = df.loc[(df[\"race\"] == \"White\") & (df[\"hispanic_origin\"] == \"Not Hispanic or Latino\")]\n",
    "\n",
    "# white, hispanic or latino\n",
    "wh_hisp_mmr = df.loc[(df[\"race\"] == \"White\") & (df[\"hispanic_origin\"] == \"Hispanic or Latino\")]\n",
    "\n",
    "# asian, not hispanic or latino\n",
    "asian_mmr = df.loc[(df[\"race\"] == \"Asian or Pacific Islander\") & (df[\"hispanic_origin\"] == \"Not Hispanic or Latino\")]"
   ]
  },
  {
   "cell_type": "code",
   "execution_count": 270,
   "metadata": {},
   "outputs": [
    {
     "data": {
      "image/png": "[encoded data removed]",
      "text/plain": [
       "<Figure size 432x288 with 1 Axes>"
      ]
     },
     "metadata": {},
     "output_type": "display_data"
    }
   ],
   "source": [
    "af_amer_hist = af_amer_mmr[[\"mmr_by_race\"]].hist()\n",
    "af_amer_hist\n",
    "\n",
    "plt.title(\"African American MMR\")\n",
    "plt.tight_layout()\n",
    "plt.show()"
   ]
  },
  {
   "cell_type": "code",
   "execution_count": 271,
   "metadata": {},
   "outputs": [
    {
     "data": {
      "image/png": "[encoded data removed]",
      "text/plain": [
       "<Figure size 432x288 with 1 Axes>"
      ]
     },
     "metadata": {},
     "output_type": "display_data"
    }
   ],
   "source": [
    "wh_mmr_hist = wh_mmr[[\"mmr_by_race\"]].hist()\n",
    "wh_mmr_hist\n",
    "\n",
    "plt.title(\"White (not Hispanic or Latino) MMR\")\n",
    "plt.tight_layout()\n",
    "plt.show()"
   ]
  },
  {
   "cell_type": "code",
   "execution_count": 273,
   "metadata": {},
   "outputs": [
    {
     "data": {
      "image/png": "[encoded data removed]",
      "text/plain": [
       "<Figure size 432x288 with 1 Axes>"
      ]
     },
     "metadata": {},
     "output_type": "display_data"
    }
   ],
   "source": [
    "hisp_mmr_hist = wh_hisp_mmr[[\"mmr_by_race\"]].hist()\n",
    "\n",
    "plt.title(\"Hispanic or Latino MMR\")\n",
    "plt.tight_layout()\n",
    "plt.show()"
   ]
  },
  {
   "cell_type": "code",
   "execution_count": 284,
   "metadata": {},
   "outputs": [
    {
     "data": {
      "image/png": "[encoded data removed]",
      "text/plain": [
       "<Figure size 432x288 with 1 Axes>"
      ]
     },
     "metadata": {},
     "output_type": "display_data"
    }
   ],
   "source": [
    "asian_mmr_hist = asian_mmr[[\"mmr_by_race\"]].hist()\n",
    "\n",
    "plt.title(\"Asian or Pacific Islander MMR\")\n",
    "plt.tight_layout()\n",
    "plt.show()"
   ]
  },
  {
   "cell_type": "markdown",
   "metadata": {},
   "source": [
    "### Create a Heatmap for Viewing Correlations in Dataset"
   ]
  },
  {
   "cell_type": "code",
   "execution_count": 103,
   "metadata": {},
   "outputs": [
    {
     "data": {
      "text/html": [
       "<div>\n",
       "<style scoped>\n",
       "    .dataframe tbody tr th:only-of-type {\n",
       "        vertical-align: middle;\n",
       "    }\n",
       "\n",
       "    .dataframe tbody tr th {\n",
       "        vertical-align: top;\n",
       "    }\n",
       "\n",
       "    .dataframe thead th {\n",
       "        text-align: right;\n",
       "    }\n",
       "</style>\n",
       "<table border=\"1\" class=\"dataframe\">\n",
       "  <thead>\n",
       "    <tr style=\"text-align: right;\">\n",
       "      <th></th>\n",
       "      <th>state</th>\n",
       "      <th>state_code</th>\n",
       "      <th>year</th>\n",
       "      <th>births_by_race</th>\n",
       "      <th>deaths_by_race</th>\n",
       "      <th>mmr_by_race</th>\n",
       "      <th>population_by_race</th>\n",
       "      <th>id</th>\n",
       "      <th>state_abbv</th>\n",
       "      <th>latitude</th>\n",
       "      <th>longitude</th>\n",
       "      <th>race_Asian or Pacific Islander</th>\n",
       "      <th>race_Black or African American</th>\n",
       "      <th>race_White</th>\n",
       "      <th>hispanic_origin_Hispanic or Latino</th>\n",
       "      <th>hispanic_origin_Not Hispanic or Latino</th>\n",
       "    </tr>\n",
       "  </thead>\n",
       "  <tbody>\n",
       "    <tr>\n",
       "      <th>0</th>\n",
       "      <td>Alabama</td>\n",
       "      <td>1</td>\n",
       "      <td>2016</td>\n",
       "      <td>17989</td>\n",
       "      <td>14</td>\n",
       "      <td>77.83</td>\n",
       "      <td>0</td>\n",
       "      <td>US.AL</td>\n",
       "      <td>AL</td>\n",
       "      <td>32.318231</td>\n",
       "      <td>-86.902298</td>\n",
       "      <td>0</td>\n",
       "      <td>1</td>\n",
       "      <td>0</td>\n",
       "      <td>0</td>\n",
       "      <td>1</td>\n",
       "    </tr>\n",
       "    <tr>\n",
       "      <th>1</th>\n",
       "      <td>Alabama</td>\n",
       "      <td>1</td>\n",
       "      <td>2016</td>\n",
       "      <td>35319</td>\n",
       "      <td>18</td>\n",
       "      <td>50.96</td>\n",
       "      <td>0</td>\n",
       "      <td>US.AL</td>\n",
       "      <td>AL</td>\n",
       "      <td>32.318231</td>\n",
       "      <td>-86.902298</td>\n",
       "      <td>0</td>\n",
       "      <td>0</td>\n",
       "      <td>1</td>\n",
       "      <td>0</td>\n",
       "      <td>1</td>\n",
       "    </tr>\n",
       "    <tr>\n",
       "      <th>2</th>\n",
       "      <td>Alabama</td>\n",
       "      <td>1</td>\n",
       "      <td>2017</td>\n",
       "      <td>18354</td>\n",
       "      <td>25</td>\n",
       "      <td>136.21</td>\n",
       "      <td>704201</td>\n",
       "      <td>US.AL</td>\n",
       "      <td>AL</td>\n",
       "      <td>32.318231</td>\n",
       "      <td>-86.902298</td>\n",
       "      <td>0</td>\n",
       "      <td>1</td>\n",
       "      <td>0</td>\n",
       "      <td>0</td>\n",
       "      <td>1</td>\n",
       "    </tr>\n",
       "    <tr>\n",
       "      <th>3</th>\n",
       "      <td>Alabama</td>\n",
       "      <td>1</td>\n",
       "      <td>2017</td>\n",
       "      <td>34784</td>\n",
       "      <td>15</td>\n",
       "      <td>43.12</td>\n",
       "      <td>1655605</td>\n",
       "      <td>US.AL</td>\n",
       "      <td>AL</td>\n",
       "      <td>32.318231</td>\n",
       "      <td>-86.902298</td>\n",
       "      <td>0</td>\n",
       "      <td>0</td>\n",
       "      <td>1</td>\n",
       "      <td>0</td>\n",
       "      <td>1</td>\n",
       "    </tr>\n",
       "    <tr>\n",
       "      <th>4</th>\n",
       "      <td>Alabama</td>\n",
       "      <td>1</td>\n",
       "      <td>2018</td>\n",
       "      <td>17939</td>\n",
       "      <td>14</td>\n",
       "      <td>78.04</td>\n",
       "      <td>706754</td>\n",
       "      <td>US.AL</td>\n",
       "      <td>AL</td>\n",
       "      <td>32.318231</td>\n",
       "      <td>-86.902298</td>\n",
       "      <td>0</td>\n",
       "      <td>1</td>\n",
       "      <td>0</td>\n",
       "      <td>0</td>\n",
       "      <td>1</td>\n",
       "    </tr>\n",
       "    <tr>\n",
       "      <th>...</th>\n",
       "      <td>...</td>\n",
       "      <td>...</td>\n",
       "      <td>...</td>\n",
       "      <td>...</td>\n",
       "      <td>...</td>\n",
       "      <td>...</td>\n",
       "      <td>...</td>\n",
       "      <td>...</td>\n",
       "      <td>...</td>\n",
       "      <td>...</td>\n",
       "      <td>...</td>\n",
       "      <td>...</td>\n",
       "      <td>...</td>\n",
       "      <td>...</td>\n",
       "      <td>...</td>\n",
       "      <td>...</td>\n",
       "    </tr>\n",
       "    <tr>\n",
       "      <th>383</th>\n",
       "      <td>West Virginia</td>\n",
       "      <td>54</td>\n",
       "      <td>2018</td>\n",
       "      <td>16785</td>\n",
       "      <td>10</td>\n",
       "      <td>59.58</td>\n",
       "      <td>853052</td>\n",
       "      <td>US.WV</td>\n",
       "      <td>WV</td>\n",
       "      <td>38.597626</td>\n",
       "      <td>-80.454903</td>\n",
       "      <td>0</td>\n",
       "      <td>0</td>\n",
       "      <td>1</td>\n",
       "      <td>0</td>\n",
       "      <td>1</td>\n",
       "    </tr>\n",
       "    <tr>\n",
       "      <th>384</th>\n",
       "      <td>Wisconsin</td>\n",
       "      <td>55</td>\n",
       "      <td>2009</td>\n",
       "      <td>52462</td>\n",
       "      <td>10</td>\n",
       "      <td>19.06</td>\n",
       "      <td>0</td>\n",
       "      <td>US.WI</td>\n",
       "      <td>WI</td>\n",
       "      <td>43.784440</td>\n",
       "      <td>-88.787868</td>\n",
       "      <td>0</td>\n",
       "      <td>0</td>\n",
       "      <td>1</td>\n",
       "      <td>0</td>\n",
       "      <td>1</td>\n",
       "    </tr>\n",
       "    <tr>\n",
       "      <th>385</th>\n",
       "      <td>Wisconsin</td>\n",
       "      <td>55</td>\n",
       "      <td>2011</td>\n",
       "      <td>50500</td>\n",
       "      <td>10</td>\n",
       "      <td>19.80</td>\n",
       "      <td>0</td>\n",
       "      <td>US.WI</td>\n",
       "      <td>WI</td>\n",
       "      <td>43.784440</td>\n",
       "      <td>-88.787868</td>\n",
       "      <td>0</td>\n",
       "      <td>0</td>\n",
       "      <td>1</td>\n",
       "      <td>0</td>\n",
       "      <td>1</td>\n",
       "    </tr>\n",
       "    <tr>\n",
       "      <th>386</th>\n",
       "      <td>Wisconsin</td>\n",
       "      <td>55</td>\n",
       "      <td>2014</td>\n",
       "      <td>49440</td>\n",
       "      <td>13</td>\n",
       "      <td>26.29</td>\n",
       "      <td>2409803</td>\n",
       "      <td>US.WI</td>\n",
       "      <td>WI</td>\n",
       "      <td>43.784440</td>\n",
       "      <td>-88.787868</td>\n",
       "      <td>0</td>\n",
       "      <td>0</td>\n",
       "      <td>1</td>\n",
       "      <td>0</td>\n",
       "      <td>1</td>\n",
       "    </tr>\n",
       "    <tr>\n",
       "      <th>387</th>\n",
       "      <td>Wisconsin</td>\n",
       "      <td>55</td>\n",
       "      <td>2015</td>\n",
       "      <td>49024</td>\n",
       "      <td>10</td>\n",
       "      <td>20.40</td>\n",
       "      <td>0</td>\n",
       "      <td>US.WI</td>\n",
       "      <td>WI</td>\n",
       "      <td>43.784440</td>\n",
       "      <td>-88.787868</td>\n",
       "      <td>0</td>\n",
       "      <td>0</td>\n",
       "      <td>1</td>\n",
       "      <td>0</td>\n",
       "      <td>1</td>\n",
       "    </tr>\n",
       "  </tbody>\n",
       "</table>\n",
       "<p>388 rows × 16 columns</p>\n",
       "</div>"
      ],
      "text/plain": [
       "             state  state_code  year  births_by_race  deaths_by_race  \\\n",
       "0          Alabama           1  2016           17989              14   \n",
       "1          Alabama           1  2016           35319              18   \n",
       "2          Alabama           1  2017           18354              25   \n",
       "3          Alabama           1  2017           34784              15   \n",
       "4          Alabama           1  2018           17939              14   \n",
       "..             ...         ...   ...             ...             ...   \n",
       "383  West Virginia          54  2018           16785              10   \n",
       "384      Wisconsin          55  2009           52462              10   \n",
       "385      Wisconsin          55  2011           50500              10   \n",
       "386      Wisconsin          55  2014           49440              13   \n",
       "387      Wisconsin          55  2015           49024              10   \n",
       "\n",
       "     mmr_by_race  population_by_race     id state_abbv   latitude  longitude  \\\n",
       "0          77.83                   0  US.AL         AL  32.318231 -86.902298   \n",
       "1          50.96                   0  US.AL         AL  32.318231 -86.902298   \n",
       "2         136.21              704201  US.AL         AL  32.318231 -86.902298   \n",
       "3          43.12             1655605  US.AL         AL  32.318231 -86.902298   \n",
       "4          78.04              706754  US.AL         AL  32.318231 -86.902298   \n",
       "..           ...                 ...    ...        ...        ...        ...   \n",
       "383        59.58              853052  US.WV         WV  38.597626 -80.454903   \n",
       "384        19.06                   0  US.WI         WI  43.784440 -88.787868   \n",
       "385        19.80                   0  US.WI         WI  43.784440 -88.787868   \n",
       "386        26.29             2409803  US.WI         WI  43.784440 -88.787868   \n",
       "387        20.40                   0  US.WI         WI  43.784440 -88.787868   \n",
       "\n",
       "     race_Asian or Pacific Islander  race_Black or African American  \\\n",
       "0                                 0                               1   \n",
       "1                                 0                               0   \n",
       "2                                 0                               1   \n",
       "3                                 0                               0   \n",
       "4                                 0                               1   \n",
       "..                              ...                             ...   \n",
       "383                               0                               0   \n",
       "384                               0                               0   \n",
       "385                               0                               0   \n",
       "386                               0                               0   \n",
       "387                               0                               0   \n",
       "\n",
       "     race_White  hispanic_origin_Hispanic or Latino  \\\n",
       "0             0                                   0   \n",
       "1             1                                   0   \n",
       "2             0                                   0   \n",
       "3             1                                   0   \n",
       "4             0                                   0   \n",
       "..          ...                                 ...   \n",
       "383           1                                   0   \n",
       "384           1                                   0   \n",
       "385           1                                   0   \n",
       "386           1                                   0   \n",
       "387           1                                   0   \n",
       "\n",
       "     hispanic_origin_Not Hispanic or Latino  \n",
       "0                                         1  \n",
       "1                                         1  \n",
       "2                                         1  \n",
       "3                                         1  \n",
       "4                                         1  \n",
       "..                                      ...  \n",
       "383                                       1  \n",
       "384                                       1  \n",
       "385                                       1  \n",
       "386                                       1  \n",
       "387                                       1  \n",
       "\n",
       "[388 rows x 16 columns]"
      ]
     },
     "execution_count": 103,
     "metadata": {},
     "output_type": "execute_result"
    }
   ],
   "source": [
    "# binary encoding with preserving all columns for heatmap\n",
    "df_binary_encoded = pd.get_dummies(df, columns=[\"race\", \"hispanic_origin\"])\n",
    "df_binary_encoded"
   ]
  },
  {
   "cell_type": "code",
   "execution_count": 296,
   "metadata": {},
   "outputs": [
    {
     "data": {
      "image/png": "[encoded data removed]",
      "text/plain": [
       "<Figure size 800x640 with 2 Axes>"
      ]
     },
     "metadata": {},
     "output_type": "display_data"
    }
   ],
   "source": [
    "# entire df with binary_encoded data for heatmap\n",
    "fig, ax = plt.subplots(figsize=(10, 8), dpi=80, facecolor=\"w\", edgecolor=\"k\")\n",
    "\n",
    "# finding correlation for each feature in dataset \n",
    "corr = df_binary_encoded.corr()\n",
    "\n",
    "# styling guided by https://www.kaggle.com/teampark/mortality-rate-exploration-and-visualization\n",
    "mask = np.zeros_like(corr, dtype=np.bool)\n",
    "mask[np.triu_indices_from(mask)] = True\n",
    "\n",
    "# include diagonal elements also\n",
    "mask[np.diag_indices_from(mask)] = False\n",
    "sns.set(context=\"paper\", style=\"ticks\", font_scale=1.2)\n",
    "\n",
    "# adjust title and fontsize \n",
    "ax.set(title=\"Maternal Mortality Ratio Stratified by Race\")\n",
    "plt.title(\"Maternal Mortality Ratio Stratified by Race\", fontsize=15, fontweight=\"bold\")\n",
    "\n",
    "# plotting the heatmap\n",
    "sns.heatmap(corr, mask=mask, cmap=sns.diverging_palette(220, 10, sep=50, as_cmap=True),\n",
    "            square=True, linewidths=.5, annot=True, ax=ax, fmt=\".2f\", \n",
    "            cbar_kws={\"shrink\": .95, \"extend\": \"both\"})\n",
    "\n",
    "plt.tight_layout()\n",
    "\n",
    "# saving the heatmap\n",
    "plt.savefig(\"../../static/img/heatmap_mmr_strat_by_race.png\")"
   ]
  },
  {
   "cell_type": "markdown",
   "metadata": {},
   "source": [
    "### Linear Regression Model "
   ]
  },
  {
   "cell_type": "markdown",
   "metadata": {},
   "source": [
    "#### setting x and y values"
   ]
  },
  {
   "cell_type": "code",
   "execution_count": 163,
   "metadata": {},
   "outputs": [
    {
     "name": "stdout",
     "output_type": "stream",
     "text": [
      "(388, 8) (388, 1)\n"
     ]
    }
   ],
   "source": [
    "# setting our X and y values for mmr for all races \n",
    "X = df_binary_encoded[[\"race_Asian or Pacific Islander\", \"race_Black or African American\",\n",
    "                       \"race_White\", \"hispanic_origin_Hispanic or Latino\",\n",
    "                       \"hispanic_origin_Not Hispanic or Latino\", \n",
    "                       \"births_by_race\",\"deaths_by_race\", \"population_by_race\"]]\n",
    "y = df_binary_encoded[\"mmr_by_race\"].values.reshape(-1, 1)\n",
    "print(X.shape, y.shape)"
   ]
  },
  {
   "cell_type": "markdown",
   "metadata": {},
   "source": [
    "#### Train, Test Split"
   ]
  },
  {
   "cell_type": "code",
   "execution_count": 164,
   "metadata": {},
   "outputs": [
    {
     "data": {
      "text/html": [
       "<div>\n",
       "<style scoped>\n",
       "    .dataframe tbody tr th:only-of-type {\n",
       "        vertical-align: middle;\n",
       "    }\n",
       "\n",
       "    .dataframe tbody tr th {\n",
       "        vertical-align: top;\n",
       "    }\n",
       "\n",
       "    .dataframe thead th {\n",
       "        text-align: right;\n",
       "    }\n",
       "</style>\n",
       "<table border=\"1\" class=\"dataframe\">\n",
       "  <thead>\n",
       "    <tr style=\"text-align: right;\">\n",
       "      <th></th>\n",
       "      <th>race_Asian or Pacific Islander</th>\n",
       "      <th>race_Black or African American</th>\n",
       "      <th>race_White</th>\n",
       "      <th>hispanic_origin_Hispanic or Latino</th>\n",
       "      <th>hispanic_origin_Not Hispanic or Latino</th>\n",
       "      <th>births_by_race</th>\n",
       "      <th>deaths_by_race</th>\n",
       "      <th>population_by_race</th>\n",
       "    </tr>\n",
       "  </thead>\n",
       "  <tbody>\n",
       "    <tr>\n",
       "      <th>145</th>\n",
       "      <td>0</td>\n",
       "      <td>0</td>\n",
       "      <td>1</td>\n",
       "      <td>0</td>\n",
       "      <td>1</td>\n",
       "      <td>33583</td>\n",
       "      <td>16</td>\n",
       "      <td>0</td>\n",
       "    </tr>\n",
       "    <tr>\n",
       "      <th>7</th>\n",
       "      <td>0</td>\n",
       "      <td>0</td>\n",
       "      <td>1</td>\n",
       "      <td>0</td>\n",
       "      <td>1</td>\n",
       "      <td>33892</td>\n",
       "      <td>17</td>\n",
       "      <td>1660160</td>\n",
       "    </tr>\n",
       "    <tr>\n",
       "      <th>19</th>\n",
       "      <td>0</td>\n",
       "      <td>0</td>\n",
       "      <td>1</td>\n",
       "      <td>0</td>\n",
       "      <td>1</td>\n",
       "      <td>23968</td>\n",
       "      <td>10</td>\n",
       "      <td>1125656</td>\n",
       "    </tr>\n",
       "    <tr>\n",
       "      <th>262</th>\n",
       "      <td>0</td>\n",
       "      <td>1</td>\n",
       "      <td>0</td>\n",
       "      <td>0</td>\n",
       "      <td>1</td>\n",
       "      <td>28857</td>\n",
       "      <td>11</td>\n",
       "      <td>1221722</td>\n",
       "    </tr>\n",
       "    <tr>\n",
       "      <th>367</th>\n",
       "      <td>0</td>\n",
       "      <td>0</td>\n",
       "      <td>1</td>\n",
       "      <td>0</td>\n",
       "      <td>1</td>\n",
       "      <td>38473</td>\n",
       "      <td>11</td>\n",
       "      <td>1197984</td>\n",
       "    </tr>\n",
       "  </tbody>\n",
       "</table>\n",
       "</div>"
      ],
      "text/plain": [
       "     race_Asian or Pacific Islander  race_Black or African American  \\\n",
       "145                               0                               0   \n",
       "7                                 0                               0   \n",
       "19                                0                               0   \n",
       "262                               0                               1   \n",
       "367                               0                               0   \n",
       "\n",
       "     race_White  hispanic_origin_Hispanic or Latino  \\\n",
       "145           1                                   0   \n",
       "7             1                                   0   \n",
       "19            1                                   0   \n",
       "262           0                                   0   \n",
       "367           1                                   0   \n",
       "\n",
       "     hispanic_origin_Not Hispanic or Latino  births_by_race  deaths_by_race  \\\n",
       "145                                       1           33583              16   \n",
       "7                                         1           33892              17   \n",
       "19                                        1           23968              10   \n",
       "262                                       1           28857              11   \n",
       "367                                       1           38473              11   \n",
       "\n",
       "     population_by_race  \n",
       "145                   0  \n",
       "7               1660160  \n",
       "19              1125656  \n",
       "262             1221722  \n",
       "367             1197984  "
      ]
     },
     "execution_count": 164,
     "metadata": {},
     "output_type": "execute_result"
    }
   ],
   "source": [
    "# use train_test_split to create training and testing data\n",
    "from sklearn.model_selection import train_test_split\n",
    "\n",
    "X_train, X_test, y_train, y_test = train_test_split(X, y, random_state=42)\n",
    "X_train.head()"
   ]
  },
  {
   "cell_type": "code",
   "execution_count": 173,
   "metadata": {},
   "outputs": [
    {
     "data": {
      "text/plain": [
       "192.68"
      ]
     },
     "execution_count": 173,
     "metadata": {},
     "output_type": "execute_result"
    }
   ],
   "source": [
    "y_train.max()\n",
    "# y_train.min()"
   ]
  },
  {
   "cell_type": "markdown",
   "metadata": {},
   "source": [
    "#### Fitting the model with non-scaled data "
   ]
  },
  {
   "cell_type": "code",
   "execution_count": 167,
   "metadata": {},
   "outputs": [
    {
     "data": {
      "text/plain": [
       "LinearRegression(n_jobs=500)"
      ]
     },
     "execution_count": 167,
     "metadata": {},
     "output_type": "execute_result"
    }
   ],
   "source": [
    "# running model without scaling data\n",
    "from sklearn.linear_model import LinearRegression\n",
    "model_no_scale = LinearRegression(n_jobs=500)\n",
    "model_no_scale.fit(X_train, y_train)"
   ]
  },
  {
   "cell_type": "code",
   "execution_count": 168,
   "metadata": {},
   "outputs": [
    {
     "name": "stdout",
     "output_type": "stream",
     "text": [
      "Coefficient of determination (R2): 0.7590260135162785\n"
     ]
    }
   ],
   "source": [
    "# find the r2\n",
    "r_sq_no_scale = model_no_scale.score(X_train, y_train)\n",
    "r_sq_no_scale\n",
    "print (\"Coefficient of determination (R2):\", r_sq_no_scale)"
   ]
  },
  {
   "cell_type": "markdown",
   "metadata": {},
   "source": [
    "#### Scoring the model on testing and training data"
   ]
  },
  {
   "cell_type": "code",
   "execution_count": 162,
   "metadata": {},
   "outputs": [
    {
     "name": "stdout",
     "output_type": "stream",
     "text": [
      "MSE: 198.43191423230274\n",
      "R2 Testing: 0.7576070800890726\n",
      "R2 Training: 0.7590260135162785\n"
     ]
    }
   ],
   "source": [
    "# make predictions and display r2 for testing and training data without scaling\n",
    "from sklearn.metrics import mean_squared_error\n",
    "\n",
    "predictions1 = model_no_scale.predict(X_test)\n",
    "MSE1 = mean_squared_error(y_test, predictions1)\n",
    "\n",
    "r2_testing1 = model_no_scale.score(X_test, y_test)\n",
    "r2_training1 = model_no_scale.score(X_train, y_train)\n",
    "\n",
    "print(f\"MSE: {MSE1}\") \n",
    "print(f\"R2 Testing: {r2_testing1}\") \n",
    "print(f\"R2 Training: {r2_training1}\")"
   ]
  },
  {
   "cell_type": "markdown",
   "metadata": {},
   "source": [
    "#### Plotting the non-scaled training and testing data"
   ]
  },
  {
   "cell_type": "code",
   "execution_count": 289,
   "metadata": {},
   "outputs": [
    {
     "data": {
      "image/png": "[encoded data removed]",
      "text/plain": [
       "<Figure size 432x288 with 1 Axes>"
      ]
     },
     "metadata": {},
     "output_type": "display_data"
    }
   ],
   "source": [
    "# plot data without scaling \n",
    "plt.figure(figsize=(6,4))\n",
    "plt.scatter(model_no_scale.predict(X_train), model_no_scale.predict(X_train) - y_train, c=\"steelblue\", label=\"Training Data\")\n",
    "plt.scatter(model_no_scale.predict(X_test), model_no_scale.predict(X_test) - y_test, c=\"orange\", label=\"Testing Data\")\n",
    "plt.legend()\n",
    "plt.hlines(y=0, xmin=y_test.min(), xmax=y_test.max())\n",
    "plt.title(\"MMR Stratified by Race Dataset, no scaling\")\n",
    "plt.show()"
   ]
  },
  {
   "cell_type": "markdown",
   "metadata": {},
   "source": [
    "#### Scaling the data with standard scaler "
   ]
  },
  {
   "cell_type": "code",
   "execution_count": 111,
   "metadata": {},
   "outputs": [],
   "source": [
    "# choosing standard scaler because we know our data has outliers\n",
    "from sklearn.preprocessing import StandardScaler\n",
    "X_scaler = StandardScaler().fit(X_train)\n",
    "y_scaler = StandardScaler().fit(y_train)"
   ]
  },
  {
   "cell_type": "code",
   "execution_count": 112,
   "metadata": {},
   "outputs": [],
   "source": [
    "X_train_scaled = X_scaler.transform(X_train)\n",
    "X_test_scaled = X_scaler.transform(X_test)\n",
    "y_train_scaled = y_scaler.transform(y_train)\n",
    "y_test_scaled = y_scaler.transform(y_test)"
   ]
  },
  {
   "cell_type": "markdown",
   "metadata": {},
   "source": [
    "#### Fitting Linear Regression model with scaled data"
   ]
  },
  {
   "cell_type": "code",
   "execution_count": 113,
   "metadata": {},
   "outputs": [
    {
     "data": {
      "text/plain": [
       "LinearRegression()"
      ]
     },
     "execution_count": 113,
     "metadata": {},
     "output_type": "execute_result"
    }
   ],
   "source": [
    "# running our model on scaled data \n",
    "from sklearn.linear_model import LinearRegression\n",
    "model = LinearRegression()\n",
    "model.fit(X_train_scaled, y_train_scaled)"
   ]
  },
  {
   "cell_type": "code",
   "execution_count": 114,
   "metadata": {},
   "outputs": [
    {
     "name": "stdout",
     "output_type": "stream",
     "text": [
      "Coefficient of determination (R2): 0.7580777486925958\n"
     ]
    }
   ],
   "source": [
    "# find the r2 for scaled training data\n",
    "r_sq = model.score(X_train_scaled, y_train_scaled)\n",
    "r_sq\n",
    "print (\"Coefficient of determination (R2):\", r_sq)"
   ]
  },
  {
   "cell_type": "markdown",
   "metadata": {},
   "source": [
    "#### Plotting the scaled training and testing data"
   ]
  },
  {
   "cell_type": "code",
   "execution_count": 290,
   "metadata": {},
   "outputs": [
    {
     "data": {
      "image/png": "[encoded data removed]",
      "text/plain": [
       "<Figure size 432x288 with 1 Axes>"
      ]
     },
     "metadata": {},
     "output_type": "display_data"
    }
   ],
   "source": [
    "# Plot the results \n",
    "plt.figure(figsize=(6,4))\n",
    "plt.scatter(model.predict(X_train_scaled), model.predict(X_train_scaled) - y_train_scaled, c=\"steelblue\", label=\"Training Data\")\n",
    "plt.scatter(model.predict(X_test_scaled), model.predict(X_test_scaled) - y_test_scaled, c=\"orange\", label=\"Testing Data\")\n",
    "plt.legend()\n",
    "plt.hlines(y=0, xmin=y_test_scaled.min(), xmax=y_test_scaled.max())\n",
    "plt.title(\"MMR Stratified by Race Dataset, scaled\")\n",
    "plt.show()"
   ]
  },
  {
   "cell_type": "markdown",
   "metadata": {},
   "source": [
    "#### RFE to Identify Insignificant Variables"
   ]
  },
  {
   "cell_type": "code",
   "execution_count": 116,
   "metadata": {},
   "outputs": [
    {
     "data": {
      "text/html": [
       "<div>\n",
       "<style scoped>\n",
       "    .dataframe tbody tr th:only-of-type {\n",
       "        vertical-align: middle;\n",
       "    }\n",
       "\n",
       "    .dataframe tbody tr th {\n",
       "        vertical-align: top;\n",
       "    }\n",
       "\n",
       "    .dataframe thead th {\n",
       "        text-align: right;\n",
       "    }\n",
       "</style>\n",
       "<table border=\"1\" class=\"dataframe\">\n",
       "  <thead>\n",
       "    <tr style=\"text-align: right;\">\n",
       "      <th></th>\n",
       "      <th>features</th>\n",
       "      <th>support</th>\n",
       "      <th>ranking</th>\n",
       "    </tr>\n",
       "  </thead>\n",
       "  <tbody>\n",
       "    <tr>\n",
       "      <th>0</th>\n",
       "      <td>race_Asian or Pacific Islander</td>\n",
       "      <td>True</td>\n",
       "      <td>1</td>\n",
       "    </tr>\n",
       "    <tr>\n",
       "      <th>1</th>\n",
       "      <td>race_Black or African American</td>\n",
       "      <td>True</td>\n",
       "      <td>1</td>\n",
       "    </tr>\n",
       "    <tr>\n",
       "      <th>2</th>\n",
       "      <td>race_White</td>\n",
       "      <td>True</td>\n",
       "      <td>1</td>\n",
       "    </tr>\n",
       "    <tr>\n",
       "      <th>3</th>\n",
       "      <td>hispanic_origin_Hispanic or Latino</td>\n",
       "      <td>False</td>\n",
       "      <td>2</td>\n",
       "    </tr>\n",
       "    <tr>\n",
       "      <th>4</th>\n",
       "      <td>hispanic_origin_Not Hispanic or Latino</td>\n",
       "      <td>True</td>\n",
       "      <td>1</td>\n",
       "    </tr>\n",
       "    <tr>\n",
       "      <th>5</th>\n",
       "      <td>births_by_race</td>\n",
       "      <td>False</td>\n",
       "      <td>3</td>\n",
       "    </tr>\n",
       "    <tr>\n",
       "      <th>6</th>\n",
       "      <td>deaths_by_race</td>\n",
       "      <td>False</td>\n",
       "      <td>4</td>\n",
       "    </tr>\n",
       "    <tr>\n",
       "      <th>7</th>\n",
       "      <td>population_by_race</td>\n",
       "      <td>False</td>\n",
       "      <td>5</td>\n",
       "    </tr>\n",
       "  </tbody>\n",
       "</table>\n",
       "</div>"
      ],
      "text/plain": [
       "                                 features  support  ranking\n",
       "0          race_Asian or Pacific Islander     True        1\n",
       "1          race_Black or African American     True        1\n",
       "2                              race_White     True        1\n",
       "3      hispanic_origin_Hispanic or Latino    False        2\n",
       "4  hispanic_origin_Not Hispanic or Latino     True        1\n",
       "5                          births_by_race    False        3\n",
       "6                          deaths_by_race    False        4\n",
       "7                      population_by_race    False        5"
      ]
     },
     "execution_count": 116,
     "metadata": {},
     "output_type": "execute_result"
    }
   ],
   "source": [
    "# RFE before predictions to Identify Insignificant Variables \n",
    "from sklearn.feature_selection import RFE\n",
    "# Create the RFE model\n",
    "rfe = RFE(model)\n",
    "# Fit model\n",
    "rfe = rfe.fit(X_train_scaled, y_train_scaled)\n",
    "# summarize the selection of the attributes\n",
    "rfe_df = pd.DataFrame({\n",
    "    'features': X.columns,\n",
    "    'support': rfe.support_,\n",
    "    'ranking': rfe.ranking_\n",
    "})\n",
    "rfe_df\n",
    "# experimented with dropping the features that were false for support for the y\n",
    "# the results did not improve our r2 value "
   ]
  },
  {
   "cell_type": "markdown",
   "metadata": {},
   "source": [
    "#### Scoring the model on testing and training data"
   ]
  },
  {
   "cell_type": "code",
   "execution_count": 117,
   "metadata": {},
   "outputs": [
    {
     "name": "stdout",
     "output_type": "stream",
     "text": [
      "MSE: 0.25467292572555933\n",
      "R2 Testing: 0.7541995172092294\n",
      "R2 Training: 0.7580777486925958\n"
     ]
    }
   ],
   "source": [
    "# make predictions and display r2 for scaled testing and training data\n",
    "from sklearn.metrics import mean_squared_error\n",
    "\n",
    "predictions = model.predict(X_test_scaled)\n",
    "MSE = mean_squared_error(y_test_scaled, predictions)\n",
    "\n",
    "r2_testing = model.score(X_test_scaled, y_test_scaled)\n",
    "r2_training = model.score(X_train_scaled, y_train_scaled)\n",
    "\n",
    "print(f\"MSE: {MSE}\") \n",
    "print(f\"R2 Testing: {r2_testing}\") \n",
    "print(f\"R2 Training: {r2_training}\")"
   ]
  },
  {
   "cell_type": "markdown",
   "metadata": {},
   "source": [
    "#### Visualizing mmr by race across 2009-2019"
   ]
  },
  {
   "cell_type": "code",
   "execution_count": 118,
   "metadata": {},
   "outputs": [
    {
     "data": {
      "text/plain": [
       "<matplotlib.collections.PathCollection at 0x7fc9a79bac88>"
      ]
     },
     "execution_count": 118,
     "metadata": {},
     "output_type": "execute_result"
    },
    {
     "data": {
      "image/png": "[encoded data removed]",
      "text/plain": [
       "<Figure size 432x288 with 1 Axes>"
      ]
     },
     "metadata": {
      "needs_background": "light"
     },
     "output_type": "display_data"
    }
   ],
   "source": [
    "# visualize mmr_by_race across years data was collected\n",
    "X1 = df_binary_encoded[\"year\"].values.reshape(-1,1)\n",
    "y1 = df_binary_encoded[\"mmr_by_race\"].values.reshape(-1,1)\n",
    "plt.scatter(X1, y1)"
   ]
  },
  {
   "cell_type": "code",
   "execution_count": 119,
   "metadata": {},
   "outputs": [],
   "source": [
    "# Use train_test_split to create training and testing data\n",
    "from sklearn.model_selection import train_test_split\n",
    "\n",
    "X1_train, X1_test, y1_train, y1_test = train_test_split(X1, y1, random_state=42)"
   ]
  },
  {
   "cell_type": "code",
   "execution_count": 120,
   "metadata": {},
   "outputs": [
    {
     "data": {
      "text/plain": [
       "LinearRegression()"
      ]
     },
     "execution_count": 120,
     "metadata": {},
     "output_type": "execute_result"
    }
   ],
   "source": [
    "# create the linear regression model\n",
    "from sklearn.linear_model import LinearRegression\n",
    "model1 = LinearRegression()\n",
    "model1.fit(X1_train, y1_train)"
   ]
  },
  {
   "cell_type": "code",
   "execution_count": 121,
   "metadata": {},
   "outputs": [
    {
     "name": "stdout",
     "output_type": "stream",
     "text": [
      "MSE: 820.2420577481126, R2: -0.0019601341876613887\n"
     ]
    }
   ],
   "source": [
    "#make predictions and display r2\n",
    "\n",
    "from sklearn.metrics import mean_squared_error\n",
    "\n",
    "predictions1 = model1.predict(X1_test)\n",
    "MSE1 = mean_squared_error(y1_test, predictions1)\n",
    "r2 = model1.score(X1_test, y1_test)\n",
    "\n",
    "print(f\"MSE: {MSE1}, R2: {r2}\")"
   ]
  },
  {
   "cell_type": "code",
   "execution_count": 122,
   "metadata": {},
   "outputs": [
    {
     "data": {
      "text/plain": [
       "[46.56959433593698,\n",
       " 46.77622315946206,\n",
       " 46.98285198298714,\n",
       " 47.18948080651222,\n",
       " 47.3961096300373,\n",
       " 47.60273845356238,\n",
       " 47.809367277087404,\n",
       " 48.01599610061248,\n",
       " 48.22262492413756,\n",
       " 48.42925374766264,\n",
       " 48.63588257118772]"
      ]
     },
     "execution_count": 122,
     "metadata": {},
     "output_type": "execute_result"
    }
   ],
   "source": [
    "# Make predictions for next 11 years\n",
    "future_mmr =[]\n",
    "for i in range(2020, 2031):\n",
    "    r= model1.predict([[i]])\n",
    "    future_mmr.append(float(r))\n",
    "      \n",
    "    \n",
    "future_mmr"
   ]
  },
  {
   "cell_type": "code",
   "execution_count": 123,
   "metadata": {},
   "outputs": [
    {
     "data": {
      "text/html": [
       "<div>\n",
       "<style scoped>\n",
       "    .dataframe tbody tr th:only-of-type {\n",
       "        vertical-align: middle;\n",
       "    }\n",
       "\n",
       "    .dataframe tbody tr th {\n",
       "        vertical-align: top;\n",
       "    }\n",
       "\n",
       "    .dataframe thead th {\n",
       "        text-align: right;\n",
       "    }\n",
       "</style>\n",
       "<table border=\"1\" class=\"dataframe\">\n",
       "  <thead>\n",
       "    <tr style=\"text-align: right;\">\n",
       "      <th></th>\n",
       "      <th>year</th>\n",
       "      <th>mmr_by_race</th>\n",
       "    </tr>\n",
       "  </thead>\n",
       "  <tbody>\n",
       "    <tr>\n",
       "      <th>0</th>\n",
       "      <td>2020</td>\n",
       "      <td>46.569594</td>\n",
       "    </tr>\n",
       "    <tr>\n",
       "      <th>1</th>\n",
       "      <td>2021</td>\n",
       "      <td>46.776223</td>\n",
       "    </tr>\n",
       "    <tr>\n",
       "      <th>2</th>\n",
       "      <td>2022</td>\n",
       "      <td>46.982852</td>\n",
       "    </tr>\n",
       "    <tr>\n",
       "      <th>3</th>\n",
       "      <td>2023</td>\n",
       "      <td>47.189481</td>\n",
       "    </tr>\n",
       "    <tr>\n",
       "      <th>4</th>\n",
       "      <td>2024</td>\n",
       "      <td>47.396110</td>\n",
       "    </tr>\n",
       "    <tr>\n",
       "      <th>5</th>\n",
       "      <td>2025</td>\n",
       "      <td>47.602738</td>\n",
       "    </tr>\n",
       "    <tr>\n",
       "      <th>6</th>\n",
       "      <td>2026</td>\n",
       "      <td>47.809367</td>\n",
       "    </tr>\n",
       "    <tr>\n",
       "      <th>7</th>\n",
       "      <td>2027</td>\n",
       "      <td>48.015996</td>\n",
       "    </tr>\n",
       "    <tr>\n",
       "      <th>8</th>\n",
       "      <td>2028</td>\n",
       "      <td>48.222625</td>\n",
       "    </tr>\n",
       "    <tr>\n",
       "      <th>9</th>\n",
       "      <td>2029</td>\n",
       "      <td>48.429254</td>\n",
       "    </tr>\n",
       "    <tr>\n",
       "      <th>10</th>\n",
       "      <td>2030</td>\n",
       "      <td>48.635883</td>\n",
       "    </tr>\n",
       "  </tbody>\n",
       "</table>\n",
       "</div>"
      ],
      "text/plain": [
       "    year  mmr_by_race\n",
       "0   2020    46.569594\n",
       "1   2021    46.776223\n",
       "2   2022    46.982852\n",
       "3   2023    47.189481\n",
       "4   2024    47.396110\n",
       "5   2025    47.602738\n",
       "6   2026    47.809367\n",
       "7   2027    48.015996\n",
       "8   2028    48.222625\n",
       "9   2029    48.429254\n",
       "10  2030    48.635883"
      ]
     },
     "execution_count": 123,
     "metadata": {},
     "output_type": "execute_result"
    }
   ],
   "source": [
    "# create a dictionary to hold predicted values\n",
    "predicted_mmr = {\n",
    "    \"year\": [2020, 2021, 2022, 2023, 2024, 2025, 2026, 2027, 2028, 2029, 2030],\n",
    "    \"mmr_by_race\": future_mmr\n",
    "}\n",
    "\n",
    "# create a dataframe\n",
    "predicted_mmr_df = pd.DataFrame(predicted_mmr)\n",
    "predicted_mmr_df"
   ]
  },
  {
   "cell_type": "code",
   "execution_count": 124,
   "metadata": {},
   "outputs": [
    {
     "data": {
      "text/plain": [
       "Text(0, 0.5, 'Maternal Mortality Ratio')"
      ]
     },
     "execution_count": 124,
     "metadata": {},
     "output_type": "execute_result"
    },
    {
     "data": {
      "image/png": "[encoded data removed]",
      "text/plain": [
       "<Figure size 432x288 with 1 Axes>"
      ]
     },
     "metadata": {
      "needs_background": "light"
     },
     "output_type": "display_data"
    }
   ],
   "source": [
    "X3 = predicted_mmr_df[\"year\"].values.reshape(-1,1)\n",
    "y3 = predicted_mmr_df[\"mmr_by_race\"].values.reshape(-1,1)\n",
    "plt.scatter(X3,y3)\n",
    "plt.title(\"All Races MMR (from dataset stratified by race)10-year predictions\")\n",
    "plt.ylabel(\"Maternal Mortality Ratio\")"
   ]
  },
  {
   "cell_type": "code",
   "execution_count": 125,
   "metadata": {},
   "outputs": [
    {
     "data": {
      "text/html": [
       "<div>\n",
       "<style scoped>\n",
       "    .dataframe tbody tr th:only-of-type {\n",
       "        vertical-align: middle;\n",
       "    }\n",
       "\n",
       "    .dataframe tbody tr th {\n",
       "        vertical-align: top;\n",
       "    }\n",
       "\n",
       "    .dataframe thead th {\n",
       "        text-align: right;\n",
       "    }\n",
       "</style>\n",
       "<table border=\"1\" class=\"dataframe\">\n",
       "  <thead>\n",
       "    <tr style=\"text-align: right;\">\n",
       "      <th></th>\n",
       "      <th>state</th>\n",
       "      <th>state_code</th>\n",
       "      <th>year</th>\n",
       "      <th>race</th>\n",
       "      <th>hispanic_origin</th>\n",
       "      <th>births_by_race</th>\n",
       "      <th>deaths_by_race</th>\n",
       "      <th>mmr_by_race</th>\n",
       "      <th>population_by_race</th>\n",
       "      <th>id</th>\n",
       "      <th>state_abbv</th>\n",
       "      <th>latitude</th>\n",
       "      <th>longitude</th>\n",
       "    </tr>\n",
       "  </thead>\n",
       "  <tbody>\n",
       "    <tr>\n",
       "      <th>0</th>\n",
       "      <td>Alabama</td>\n",
       "      <td>1.0</td>\n",
       "      <td>2016</td>\n",
       "      <td>Black or African American</td>\n",
       "      <td>Not Hispanic or Latino</td>\n",
       "      <td>17989.0</td>\n",
       "      <td>14.0</td>\n",
       "      <td>77.83</td>\n",
       "      <td>0.0</td>\n",
       "      <td>US.AL</td>\n",
       "      <td>AL</td>\n",
       "      <td>32.318231</td>\n",
       "      <td>-86.902298</td>\n",
       "    </tr>\n",
       "    <tr>\n",
       "      <th>1</th>\n",
       "      <td>Alabama</td>\n",
       "      <td>1.0</td>\n",
       "      <td>2016</td>\n",
       "      <td>White</td>\n",
       "      <td>Not Hispanic or Latino</td>\n",
       "      <td>35319.0</td>\n",
       "      <td>18.0</td>\n",
       "      <td>50.96</td>\n",
       "      <td>0.0</td>\n",
       "      <td>US.AL</td>\n",
       "      <td>AL</td>\n",
       "      <td>32.318231</td>\n",
       "      <td>-86.902298</td>\n",
       "    </tr>\n",
       "    <tr>\n",
       "      <th>2</th>\n",
       "      <td>Alabama</td>\n",
       "      <td>1.0</td>\n",
       "      <td>2017</td>\n",
       "      <td>Black or African American</td>\n",
       "      <td>Not Hispanic or Latino</td>\n",
       "      <td>18354.0</td>\n",
       "      <td>25.0</td>\n",
       "      <td>136.21</td>\n",
       "      <td>704201.0</td>\n",
       "      <td>US.AL</td>\n",
       "      <td>AL</td>\n",
       "      <td>32.318231</td>\n",
       "      <td>-86.902298</td>\n",
       "    </tr>\n",
       "    <tr>\n",
       "      <th>3</th>\n",
       "      <td>Alabama</td>\n",
       "      <td>1.0</td>\n",
       "      <td>2017</td>\n",
       "      <td>White</td>\n",
       "      <td>Not Hispanic or Latino</td>\n",
       "      <td>34784.0</td>\n",
       "      <td>15.0</td>\n",
       "      <td>43.12</td>\n",
       "      <td>1655605.0</td>\n",
       "      <td>US.AL</td>\n",
       "      <td>AL</td>\n",
       "      <td>32.318231</td>\n",
       "      <td>-86.902298</td>\n",
       "    </tr>\n",
       "    <tr>\n",
       "      <th>4</th>\n",
       "      <td>Alabama</td>\n",
       "      <td>1.0</td>\n",
       "      <td>2018</td>\n",
       "      <td>Black or African American</td>\n",
       "      <td>Not Hispanic or Latino</td>\n",
       "      <td>17939.0</td>\n",
       "      <td>14.0</td>\n",
       "      <td>78.04</td>\n",
       "      <td>706754.0</td>\n",
       "      <td>US.AL</td>\n",
       "      <td>AL</td>\n",
       "      <td>32.318231</td>\n",
       "      <td>-86.902298</td>\n",
       "    </tr>\n",
       "  </tbody>\n",
       "</table>\n",
       "</div>"
      ],
      "text/plain": [
       "     state  state_code  year                       race  \\\n",
       "0  Alabama         1.0  2016  Black or African American   \n",
       "1  Alabama         1.0  2016                      White   \n",
       "2  Alabama         1.0  2017  Black or African American   \n",
       "3  Alabama         1.0  2017                      White   \n",
       "4  Alabama         1.0  2018  Black or African American   \n",
       "\n",
       "          hispanic_origin  births_by_race  deaths_by_race  mmr_by_race  \\\n",
       "0  Not Hispanic or Latino         17989.0            14.0        77.83   \n",
       "1  Not Hispanic or Latino         35319.0            18.0        50.96   \n",
       "2  Not Hispanic or Latino         18354.0            25.0       136.21   \n",
       "3  Not Hispanic or Latino         34784.0            15.0        43.12   \n",
       "4  Not Hispanic or Latino         17939.0            14.0        78.04   \n",
       "\n",
       "   population_by_race     id state_abbv   latitude  longitude  \n",
       "0                 0.0  US.AL         AL  32.318231 -86.902298  \n",
       "1                 0.0  US.AL         AL  32.318231 -86.902298  \n",
       "2            704201.0  US.AL         AL  32.318231 -86.902298  \n",
       "3           1655605.0  US.AL         AL  32.318231 -86.902298  \n",
       "4            706754.0  US.AL         AL  32.318231 -86.902298  "
      ]
     },
     "execution_count": 125,
     "metadata": {},
     "output_type": "execute_result"
    }
   ],
   "source": [
    "# combine the prediction dataframe with the original dataframe\n",
    "dataframes = [df, predicted_mmr_df]\n",
    "combined_df = pd.concat(dataframes, ignore_index=True)\n",
    "combined_df.head()"
   ]
  },
  {
   "cell_type": "markdown",
   "metadata": {},
   "source": [
    "### Logistic Regression Model"
   ]
  },
  {
   "cell_type": "code",
   "execution_count": 182,
   "metadata": {},
   "outputs": [
    {
     "data": {
      "text/html": [
       "<div>\n",
       "<style scoped>\n",
       "    .dataframe tbody tr th:only-of-type {\n",
       "        vertical-align: middle;\n",
       "    }\n",
       "\n",
       "    .dataframe tbody tr th {\n",
       "        vertical-align: top;\n",
       "    }\n",
       "\n",
       "    .dataframe thead th {\n",
       "        text-align: right;\n",
       "    }\n",
       "</style>\n",
       "<table border=\"1\" class=\"dataframe\">\n",
       "  <thead>\n",
       "    <tr style=\"text-align: right;\">\n",
       "      <th></th>\n",
       "      <th>state</th>\n",
       "      <th>state_code</th>\n",
       "      <th>year</th>\n",
       "      <th>births_by_race</th>\n",
       "      <th>deaths_by_race</th>\n",
       "      <th>mmr_by_race</th>\n",
       "      <th>population_by_race</th>\n",
       "      <th>id</th>\n",
       "      <th>state_abbv</th>\n",
       "      <th>latitude</th>\n",
       "      <th>longitude</th>\n",
       "      <th>race_Asian or Pacific Islander</th>\n",
       "      <th>race_Black or African American</th>\n",
       "      <th>race_White</th>\n",
       "      <th>hispanic_origin_Hispanic or Latino</th>\n",
       "      <th>hispanic_origin_Not Hispanic or Latino</th>\n",
       "    </tr>\n",
       "  </thead>\n",
       "  <tbody>\n",
       "    <tr>\n",
       "      <th>0</th>\n",
       "      <td>Alabama</td>\n",
       "      <td>1</td>\n",
       "      <td>2016</td>\n",
       "      <td>17989</td>\n",
       "      <td>14</td>\n",
       "      <td>77.83</td>\n",
       "      <td>0</td>\n",
       "      <td>US.AL</td>\n",
       "      <td>AL</td>\n",
       "      <td>32.318231</td>\n",
       "      <td>-86.902298</td>\n",
       "      <td>0</td>\n",
       "      <td>1</td>\n",
       "      <td>0</td>\n",
       "      <td>0</td>\n",
       "      <td>1</td>\n",
       "    </tr>\n",
       "    <tr>\n",
       "      <th>1</th>\n",
       "      <td>Alabama</td>\n",
       "      <td>1</td>\n",
       "      <td>2016</td>\n",
       "      <td>35319</td>\n",
       "      <td>18</td>\n",
       "      <td>50.96</td>\n",
       "      <td>0</td>\n",
       "      <td>US.AL</td>\n",
       "      <td>AL</td>\n",
       "      <td>32.318231</td>\n",
       "      <td>-86.902298</td>\n",
       "      <td>0</td>\n",
       "      <td>0</td>\n",
       "      <td>1</td>\n",
       "      <td>0</td>\n",
       "      <td>1</td>\n",
       "    </tr>\n",
       "    <tr>\n",
       "      <th>2</th>\n",
       "      <td>Alabama</td>\n",
       "      <td>1</td>\n",
       "      <td>2017</td>\n",
       "      <td>18354</td>\n",
       "      <td>25</td>\n",
       "      <td>136.21</td>\n",
       "      <td>704201</td>\n",
       "      <td>US.AL</td>\n",
       "      <td>AL</td>\n",
       "      <td>32.318231</td>\n",
       "      <td>-86.902298</td>\n",
       "      <td>0</td>\n",
       "      <td>1</td>\n",
       "      <td>0</td>\n",
       "      <td>0</td>\n",
       "      <td>1</td>\n",
       "    </tr>\n",
       "    <tr>\n",
       "      <th>3</th>\n",
       "      <td>Alabama</td>\n",
       "      <td>1</td>\n",
       "      <td>2017</td>\n",
       "      <td>34784</td>\n",
       "      <td>15</td>\n",
       "      <td>43.12</td>\n",
       "      <td>1655605</td>\n",
       "      <td>US.AL</td>\n",
       "      <td>AL</td>\n",
       "      <td>32.318231</td>\n",
       "      <td>-86.902298</td>\n",
       "      <td>0</td>\n",
       "      <td>0</td>\n",
       "      <td>1</td>\n",
       "      <td>0</td>\n",
       "      <td>1</td>\n",
       "    </tr>\n",
       "    <tr>\n",
       "      <th>4</th>\n",
       "      <td>Alabama</td>\n",
       "      <td>1</td>\n",
       "      <td>2018</td>\n",
       "      <td>17939</td>\n",
       "      <td>14</td>\n",
       "      <td>78.04</td>\n",
       "      <td>706754</td>\n",
       "      <td>US.AL</td>\n",
       "      <td>AL</td>\n",
       "      <td>32.318231</td>\n",
       "      <td>-86.902298</td>\n",
       "      <td>0</td>\n",
       "      <td>1</td>\n",
       "      <td>0</td>\n",
       "      <td>0</td>\n",
       "      <td>1</td>\n",
       "    </tr>\n",
       "  </tbody>\n",
       "</table>\n",
       "</div>"
      ],
      "text/plain": [
       "     state  state_code  year  births_by_race  deaths_by_race  mmr_by_race  \\\n",
       "0  Alabama           1  2016           17989              14        77.83   \n",
       "1  Alabama           1  2016           35319              18        50.96   \n",
       "2  Alabama           1  2017           18354              25       136.21   \n",
       "3  Alabama           1  2017           34784              15        43.12   \n",
       "4  Alabama           1  2018           17939              14        78.04   \n",
       "\n",
       "   population_by_race     id state_abbv   latitude  longitude  \\\n",
       "0                   0  US.AL         AL  32.318231 -86.902298   \n",
       "1                   0  US.AL         AL  32.318231 -86.902298   \n",
       "2              704201  US.AL         AL  32.318231 -86.902298   \n",
       "3             1655605  US.AL         AL  32.318231 -86.902298   \n",
       "4              706754  US.AL         AL  32.318231 -86.902298   \n",
       "\n",
       "   race_Asian or Pacific Islander  race_Black or African American  race_White  \\\n",
       "0                               0                               1           0   \n",
       "1                               0                               0           1   \n",
       "2                               0                               1           0   \n",
       "3                               0                               0           1   \n",
       "4                               0                               1           0   \n",
       "\n",
       "   hispanic_origin_Hispanic or Latino  hispanic_origin_Not Hispanic or Latino  \n",
       "0                                   0                                       1  \n",
       "1                                   0                                       1  \n",
       "2                                   0                                       1  \n",
       "3                                   0                                       1  \n",
       "4                                   0                                       1  "
      ]
     },
     "execution_count": 182,
     "metadata": {},
     "output_type": "execute_result"
    }
   ],
   "source": [
    "df_binary_encoded.head()"
   ]
  },
  {
   "cell_type": "code",
   "execution_count": 184,
   "metadata": {},
   "outputs": [
    {
     "data": {
      "text/html": [
       "<div>\n",
       "<style scoped>\n",
       "    .dataframe tbody tr th:only-of-type {\n",
       "        vertical-align: middle;\n",
       "    }\n",
       "\n",
       "    .dataframe tbody tr th {\n",
       "        vertical-align: top;\n",
       "    }\n",
       "\n",
       "    .dataframe thead th {\n",
       "        text-align: right;\n",
       "    }\n",
       "</style>\n",
       "<table border=\"1\" class=\"dataframe\">\n",
       "  <thead>\n",
       "    <tr style=\"text-align: right;\">\n",
       "      <th></th>\n",
       "      <th>mmr_by_race</th>\n",
       "    </tr>\n",
       "  </thead>\n",
       "  <tbody>\n",
       "    <tr>\n",
       "      <th>mean</th>\n",
       "      <td>44.795902</td>\n",
       "    </tr>\n",
       "    <tr>\n",
       "      <th>median</th>\n",
       "      <td>36.530000</td>\n",
       "    </tr>\n",
       "    <tr>\n",
       "      <th>max</th>\n",
       "      <td>192.680000</td>\n",
       "    </tr>\n",
       "    <tr>\n",
       "      <th>min</th>\n",
       "      <td>8.550000</td>\n",
       "    </tr>\n",
       "  </tbody>\n",
       "</table>\n",
       "</div>"
      ],
      "text/plain": [
       "        mmr_by_race\n",
       "mean      44.795902\n",
       "median    36.530000\n",
       "max      192.680000\n",
       "min        8.550000"
      ]
     },
     "execution_count": 184,
     "metadata": {},
     "output_type": "execute_result"
    }
   ],
   "source": [
    "# viewing the range of the mmr data \n",
    "agg = df_binary_encoded.agg({\"mmr_by_race\": [\"mean\", \"median\", \"max\", \"min\"]})\n",
    "agg"
   ]
  },
  {
   "cell_type": "markdown",
   "metadata": {},
   "source": [
    "#### Binning the mmr data into low, medium, and high categories"
   ]
  },
  {
   "cell_type": "code",
   "execution_count": 186,
   "metadata": {},
   "outputs": [
    {
     "data": {
      "text/html": [
       "<div>\n",
       "<style scoped>\n",
       "    .dataframe tbody tr th:only-of-type {\n",
       "        vertical-align: middle;\n",
       "    }\n",
       "\n",
       "    .dataframe tbody tr th {\n",
       "        vertical-align: top;\n",
       "    }\n",
       "\n",
       "    .dataframe thead th {\n",
       "        text-align: right;\n",
       "    }\n",
       "</style>\n",
       "<table border=\"1\" class=\"dataframe\">\n",
       "  <thead>\n",
       "    <tr style=\"text-align: right;\">\n",
       "      <th></th>\n",
       "      <th>state</th>\n",
       "      <th>state_code</th>\n",
       "      <th>year</th>\n",
       "      <th>births_by_race</th>\n",
       "      <th>deaths_by_race</th>\n",
       "      <th>mmr_by_race</th>\n",
       "      <th>population_by_race</th>\n",
       "      <th>id</th>\n",
       "      <th>state_abbv</th>\n",
       "      <th>latitude</th>\n",
       "      <th>longitude</th>\n",
       "      <th>race_Asian or Pacific Islander</th>\n",
       "      <th>race_Black or African American</th>\n",
       "      <th>race_White</th>\n",
       "      <th>hispanic_origin_Hispanic or Latino</th>\n",
       "      <th>hispanic_origin_Not Hispanic or Latino</th>\n",
       "      <th>mmr_risk_category</th>\n",
       "    </tr>\n",
       "  </thead>\n",
       "  <tbody>\n",
       "    <tr>\n",
       "      <th>0</th>\n",
       "      <td>Alabama</td>\n",
       "      <td>1</td>\n",
       "      <td>2016</td>\n",
       "      <td>17989</td>\n",
       "      <td>14</td>\n",
       "      <td>77.83</td>\n",
       "      <td>0</td>\n",
       "      <td>US.AL</td>\n",
       "      <td>AL</td>\n",
       "      <td>32.318231</td>\n",
       "      <td>-86.902298</td>\n",
       "      <td>0</td>\n",
       "      <td>1</td>\n",
       "      <td>0</td>\n",
       "      <td>0</td>\n",
       "      <td>1</td>\n",
       "      <td>high</td>\n",
       "    </tr>\n",
       "    <tr>\n",
       "      <th>1</th>\n",
       "      <td>Alabama</td>\n",
       "      <td>1</td>\n",
       "      <td>2016</td>\n",
       "      <td>35319</td>\n",
       "      <td>18</td>\n",
       "      <td>50.96</td>\n",
       "      <td>0</td>\n",
       "      <td>US.AL</td>\n",
       "      <td>AL</td>\n",
       "      <td>32.318231</td>\n",
       "      <td>-86.902298</td>\n",
       "      <td>0</td>\n",
       "      <td>0</td>\n",
       "      <td>1</td>\n",
       "      <td>0</td>\n",
       "      <td>1</td>\n",
       "      <td>high</td>\n",
       "    </tr>\n",
       "    <tr>\n",
       "      <th>2</th>\n",
       "      <td>Alabama</td>\n",
       "      <td>1</td>\n",
       "      <td>2017</td>\n",
       "      <td>18354</td>\n",
       "      <td>25</td>\n",
       "      <td>136.21</td>\n",
       "      <td>704201</td>\n",
       "      <td>US.AL</td>\n",
       "      <td>AL</td>\n",
       "      <td>32.318231</td>\n",
       "      <td>-86.902298</td>\n",
       "      <td>0</td>\n",
       "      <td>1</td>\n",
       "      <td>0</td>\n",
       "      <td>0</td>\n",
       "      <td>1</td>\n",
       "      <td>high</td>\n",
       "    </tr>\n",
       "    <tr>\n",
       "      <th>3</th>\n",
       "      <td>Alabama</td>\n",
       "      <td>1</td>\n",
       "      <td>2017</td>\n",
       "      <td>34784</td>\n",
       "      <td>15</td>\n",
       "      <td>43.12</td>\n",
       "      <td>1655605</td>\n",
       "      <td>US.AL</td>\n",
       "      <td>AL</td>\n",
       "      <td>32.318231</td>\n",
       "      <td>-86.902298</td>\n",
       "      <td>0</td>\n",
       "      <td>0</td>\n",
       "      <td>1</td>\n",
       "      <td>0</td>\n",
       "      <td>1</td>\n",
       "      <td>medium</td>\n",
       "    </tr>\n",
       "    <tr>\n",
       "      <th>4</th>\n",
       "      <td>Alabama</td>\n",
       "      <td>1</td>\n",
       "      <td>2018</td>\n",
       "      <td>17939</td>\n",
       "      <td>14</td>\n",
       "      <td>78.04</td>\n",
       "      <td>706754</td>\n",
       "      <td>US.AL</td>\n",
       "      <td>AL</td>\n",
       "      <td>32.318231</td>\n",
       "      <td>-86.902298</td>\n",
       "      <td>0</td>\n",
       "      <td>1</td>\n",
       "      <td>0</td>\n",
       "      <td>0</td>\n",
       "      <td>1</td>\n",
       "      <td>high</td>\n",
       "    </tr>\n",
       "    <tr>\n",
       "      <th>...</th>\n",
       "      <td>...</td>\n",
       "      <td>...</td>\n",
       "      <td>...</td>\n",
       "      <td>...</td>\n",
       "      <td>...</td>\n",
       "      <td>...</td>\n",
       "      <td>...</td>\n",
       "      <td>...</td>\n",
       "      <td>...</td>\n",
       "      <td>...</td>\n",
       "      <td>...</td>\n",
       "      <td>...</td>\n",
       "      <td>...</td>\n",
       "      <td>...</td>\n",
       "      <td>...</td>\n",
       "      <td>...</td>\n",
       "      <td>...</td>\n",
       "    </tr>\n",
       "    <tr>\n",
       "      <th>383</th>\n",
       "      <td>West Virginia</td>\n",
       "      <td>54</td>\n",
       "      <td>2018</td>\n",
       "      <td>16785</td>\n",
       "      <td>10</td>\n",
       "      <td>59.58</td>\n",
       "      <td>853052</td>\n",
       "      <td>US.WV</td>\n",
       "      <td>WV</td>\n",
       "      <td>38.597626</td>\n",
       "      <td>-80.454903</td>\n",
       "      <td>0</td>\n",
       "      <td>0</td>\n",
       "      <td>1</td>\n",
       "      <td>0</td>\n",
       "      <td>1</td>\n",
       "      <td>high</td>\n",
       "    </tr>\n",
       "    <tr>\n",
       "      <th>384</th>\n",
       "      <td>Wisconsin</td>\n",
       "      <td>55</td>\n",
       "      <td>2009</td>\n",
       "      <td>52462</td>\n",
       "      <td>10</td>\n",
       "      <td>19.06</td>\n",
       "      <td>0</td>\n",
       "      <td>US.WI</td>\n",
       "      <td>WI</td>\n",
       "      <td>43.784440</td>\n",
       "      <td>-88.787868</td>\n",
       "      <td>0</td>\n",
       "      <td>0</td>\n",
       "      <td>1</td>\n",
       "      <td>0</td>\n",
       "      <td>1</td>\n",
       "      <td>low</td>\n",
       "    </tr>\n",
       "    <tr>\n",
       "      <th>385</th>\n",
       "      <td>Wisconsin</td>\n",
       "      <td>55</td>\n",
       "      <td>2011</td>\n",
       "      <td>50500</td>\n",
       "      <td>10</td>\n",
       "      <td>19.80</td>\n",
       "      <td>0</td>\n",
       "      <td>US.WI</td>\n",
       "      <td>WI</td>\n",
       "      <td>43.784440</td>\n",
       "      <td>-88.787868</td>\n",
       "      <td>0</td>\n",
       "      <td>0</td>\n",
       "      <td>1</td>\n",
       "      <td>0</td>\n",
       "      <td>1</td>\n",
       "      <td>low</td>\n",
       "    </tr>\n",
       "    <tr>\n",
       "      <th>386</th>\n",
       "      <td>Wisconsin</td>\n",
       "      <td>55</td>\n",
       "      <td>2014</td>\n",
       "      <td>49440</td>\n",
       "      <td>13</td>\n",
       "      <td>26.29</td>\n",
       "      <td>2409803</td>\n",
       "      <td>US.WI</td>\n",
       "      <td>WI</td>\n",
       "      <td>43.784440</td>\n",
       "      <td>-88.787868</td>\n",
       "      <td>0</td>\n",
       "      <td>0</td>\n",
       "      <td>1</td>\n",
       "      <td>0</td>\n",
       "      <td>1</td>\n",
       "      <td>medium</td>\n",
       "    </tr>\n",
       "    <tr>\n",
       "      <th>387</th>\n",
       "      <td>Wisconsin</td>\n",
       "      <td>55</td>\n",
       "      <td>2015</td>\n",
       "      <td>49024</td>\n",
       "      <td>10</td>\n",
       "      <td>20.40</td>\n",
       "      <td>0</td>\n",
       "      <td>US.WI</td>\n",
       "      <td>WI</td>\n",
       "      <td>43.784440</td>\n",
       "      <td>-88.787868</td>\n",
       "      <td>0</td>\n",
       "      <td>0</td>\n",
       "      <td>1</td>\n",
       "      <td>0</td>\n",
       "      <td>1</td>\n",
       "      <td>medium</td>\n",
       "    </tr>\n",
       "  </tbody>\n",
       "</table>\n",
       "<p>388 rows × 17 columns</p>\n",
       "</div>"
      ],
      "text/plain": [
       "             state  state_code  year  births_by_race  deaths_by_race  \\\n",
       "0          Alabama           1  2016           17989              14   \n",
       "1          Alabama           1  2016           35319              18   \n",
       "2          Alabama           1  2017           18354              25   \n",
       "3          Alabama           1  2017           34784              15   \n",
       "4          Alabama           1  2018           17939              14   \n",
       "..             ...         ...   ...             ...             ...   \n",
       "383  West Virginia          54  2018           16785              10   \n",
       "384      Wisconsin          55  2009           52462              10   \n",
       "385      Wisconsin          55  2011           50500              10   \n",
       "386      Wisconsin          55  2014           49440              13   \n",
       "387      Wisconsin          55  2015           49024              10   \n",
       "\n",
       "     mmr_by_race  population_by_race     id state_abbv   latitude  longitude  \\\n",
       "0          77.83                   0  US.AL         AL  32.318231 -86.902298   \n",
       "1          50.96                   0  US.AL         AL  32.318231 -86.902298   \n",
       "2         136.21              704201  US.AL         AL  32.318231 -86.902298   \n",
       "3          43.12             1655605  US.AL         AL  32.318231 -86.902298   \n",
       "4          78.04              706754  US.AL         AL  32.318231 -86.902298   \n",
       "..           ...                 ...    ...        ...        ...        ...   \n",
       "383        59.58              853052  US.WV         WV  38.597626 -80.454903   \n",
       "384        19.06                   0  US.WI         WI  43.784440 -88.787868   \n",
       "385        19.80                   0  US.WI         WI  43.784440 -88.787868   \n",
       "386        26.29             2409803  US.WI         WI  43.784440 -88.787868   \n",
       "387        20.40                   0  US.WI         WI  43.784440 -88.787868   \n",
       "\n",
       "     race_Asian or Pacific Islander  race_Black or African American  \\\n",
       "0                                 0                               1   \n",
       "1                                 0                               0   \n",
       "2                                 0                               1   \n",
       "3                                 0                               0   \n",
       "4                                 0                               1   \n",
       "..                              ...                             ...   \n",
       "383                               0                               0   \n",
       "384                               0                               0   \n",
       "385                               0                               0   \n",
       "386                               0                               0   \n",
       "387                               0                               0   \n",
       "\n",
       "     race_White  hispanic_origin_Hispanic or Latino  \\\n",
       "0             0                                   0   \n",
       "1             1                                   0   \n",
       "2             0                                   0   \n",
       "3             1                                   0   \n",
       "4             0                                   0   \n",
       "..          ...                                 ...   \n",
       "383           1                                   0   \n",
       "384           1                                   0   \n",
       "385           1                                   0   \n",
       "386           1                                   0   \n",
       "387           1                                   0   \n",
       "\n",
       "     hispanic_origin_Not Hispanic or Latino mmr_risk_category  \n",
       "0                                         1              high  \n",
       "1                                         1              high  \n",
       "2                                         1              high  \n",
       "3                                         1            medium  \n",
       "4                                         1              high  \n",
       "..                                      ...               ...  \n",
       "383                                       1              high  \n",
       "384                                       1               low  \n",
       "385                                       1               low  \n",
       "386                                       1            medium  \n",
       "387                                       1            medium  \n",
       "\n",
       "[388 rows x 17 columns]"
      ]
     },
     "execution_count": 186,
     "metadata": {},
     "output_type": "execute_result"
    }
   ],
   "source": [
    "# setting conditions to make outcome categorical\n",
    "conditions = [\n",
    "    (df_binary_encoded[\"mmr_by_race\"] <= 20),\n",
    "    (df_binary_encoded[\"mmr_by_race\"] > 20) & (df_binary_encoded[\"mmr_by_race\"] < 50),\n",
    "    (df_binary_encoded[\"mmr_by_race\"] > 50)\n",
    "    ]\n",
    "\n",
    "values = [\"low\", \"medium\", \"high\"]\n",
    "\n",
    "df_binary_encoded[\"mmr_risk_category\"] = np.select(conditions, values)\n",
    "df_binary_encoded"
   ]
  },
  {
   "cell_type": "code",
   "execution_count": 189,
   "metadata": {},
   "outputs": [
    {
     "data": {
      "text/html": [
       "<div>\n",
       "<style scoped>\n",
       "    .dataframe tbody tr th:only-of-type {\n",
       "        vertical-align: middle;\n",
       "    }\n",
       "\n",
       "    .dataframe tbody tr th {\n",
       "        vertical-align: top;\n",
       "    }\n",
       "\n",
       "    .dataframe thead th {\n",
       "        text-align: right;\n",
       "    }\n",
       "</style>\n",
       "<table border=\"1\" class=\"dataframe\">\n",
       "  <thead>\n",
       "    <tr style=\"text-align: right;\">\n",
       "      <th></th>\n",
       "      <th>state</th>\n",
       "      <th>state_code</th>\n",
       "      <th>year</th>\n",
       "      <th>births_by_race</th>\n",
       "      <th>deaths_by_race</th>\n",
       "      <th>population_by_race</th>\n",
       "      <th>race_Asian or Pacific Islander</th>\n",
       "      <th>race_Black or African American</th>\n",
       "      <th>race_White</th>\n",
       "      <th>hispanic_origin_Hispanic or Latino</th>\n",
       "      <th>hispanic_origin_Not Hispanic or Latino</th>\n",
       "      <th>mmr_risk_category</th>\n",
       "    </tr>\n",
       "  </thead>\n",
       "  <tbody>\n",
       "    <tr>\n",
       "      <th>0</th>\n",
       "      <td>Alabama</td>\n",
       "      <td>1</td>\n",
       "      <td>2016</td>\n",
       "      <td>17989</td>\n",
       "      <td>14</td>\n",
       "      <td>0</td>\n",
       "      <td>0</td>\n",
       "      <td>1</td>\n",
       "      <td>0</td>\n",
       "      <td>0</td>\n",
       "      <td>1</td>\n",
       "      <td>high</td>\n",
       "    </tr>\n",
       "    <tr>\n",
       "      <th>1</th>\n",
       "      <td>Alabama</td>\n",
       "      <td>1</td>\n",
       "      <td>2016</td>\n",
       "      <td>35319</td>\n",
       "      <td>18</td>\n",
       "      <td>0</td>\n",
       "      <td>0</td>\n",
       "      <td>0</td>\n",
       "      <td>1</td>\n",
       "      <td>0</td>\n",
       "      <td>1</td>\n",
       "      <td>high</td>\n",
       "    </tr>\n",
       "    <tr>\n",
       "      <th>2</th>\n",
       "      <td>Alabama</td>\n",
       "      <td>1</td>\n",
       "      <td>2017</td>\n",
       "      <td>18354</td>\n",
       "      <td>25</td>\n",
       "      <td>704201</td>\n",
       "      <td>0</td>\n",
       "      <td>1</td>\n",
       "      <td>0</td>\n",
       "      <td>0</td>\n",
       "      <td>1</td>\n",
       "      <td>high</td>\n",
       "    </tr>\n",
       "    <tr>\n",
       "      <th>3</th>\n",
       "      <td>Alabama</td>\n",
       "      <td>1</td>\n",
       "      <td>2017</td>\n",
       "      <td>34784</td>\n",
       "      <td>15</td>\n",
       "      <td>1655605</td>\n",
       "      <td>0</td>\n",
       "      <td>0</td>\n",
       "      <td>1</td>\n",
       "      <td>0</td>\n",
       "      <td>1</td>\n",
       "      <td>medium</td>\n",
       "    </tr>\n",
       "    <tr>\n",
       "      <th>4</th>\n",
       "      <td>Alabama</td>\n",
       "      <td>1</td>\n",
       "      <td>2018</td>\n",
       "      <td>17939</td>\n",
       "      <td>14</td>\n",
       "      <td>706754</td>\n",
       "      <td>0</td>\n",
       "      <td>1</td>\n",
       "      <td>0</td>\n",
       "      <td>0</td>\n",
       "      <td>1</td>\n",
       "      <td>high</td>\n",
       "    </tr>\n",
       "    <tr>\n",
       "      <th>...</th>\n",
       "      <td>...</td>\n",
       "      <td>...</td>\n",
       "      <td>...</td>\n",
       "      <td>...</td>\n",
       "      <td>...</td>\n",
       "      <td>...</td>\n",
       "      <td>...</td>\n",
       "      <td>...</td>\n",
       "      <td>...</td>\n",
       "      <td>...</td>\n",
       "      <td>...</td>\n",
       "      <td>...</td>\n",
       "    </tr>\n",
       "    <tr>\n",
       "      <th>383</th>\n",
       "      <td>West Virginia</td>\n",
       "      <td>54</td>\n",
       "      <td>2018</td>\n",
       "      <td>16785</td>\n",
       "      <td>10</td>\n",
       "      <td>853052</td>\n",
       "      <td>0</td>\n",
       "      <td>0</td>\n",
       "      <td>1</td>\n",
       "      <td>0</td>\n",
       "      <td>1</td>\n",
       "      <td>high</td>\n",
       "    </tr>\n",
       "    <tr>\n",
       "      <th>384</th>\n",
       "      <td>Wisconsin</td>\n",
       "      <td>55</td>\n",
       "      <td>2009</td>\n",
       "      <td>52462</td>\n",
       "      <td>10</td>\n",
       "      <td>0</td>\n",
       "      <td>0</td>\n",
       "      <td>0</td>\n",
       "      <td>1</td>\n",
       "      <td>0</td>\n",
       "      <td>1</td>\n",
       "      <td>low</td>\n",
       "    </tr>\n",
       "    <tr>\n",
       "      <th>385</th>\n",
       "      <td>Wisconsin</td>\n",
       "      <td>55</td>\n",
       "      <td>2011</td>\n",
       "      <td>50500</td>\n",
       "      <td>10</td>\n",
       "      <td>0</td>\n",
       "      <td>0</td>\n",
       "      <td>0</td>\n",
       "      <td>1</td>\n",
       "      <td>0</td>\n",
       "      <td>1</td>\n",
       "      <td>low</td>\n",
       "    </tr>\n",
       "    <tr>\n",
       "      <th>386</th>\n",
       "      <td>Wisconsin</td>\n",
       "      <td>55</td>\n",
       "      <td>2014</td>\n",
       "      <td>49440</td>\n",
       "      <td>13</td>\n",
       "      <td>2409803</td>\n",
       "      <td>0</td>\n",
       "      <td>0</td>\n",
       "      <td>1</td>\n",
       "      <td>0</td>\n",
       "      <td>1</td>\n",
       "      <td>medium</td>\n",
       "    </tr>\n",
       "    <tr>\n",
       "      <th>387</th>\n",
       "      <td>Wisconsin</td>\n",
       "      <td>55</td>\n",
       "      <td>2015</td>\n",
       "      <td>49024</td>\n",
       "      <td>10</td>\n",
       "      <td>0</td>\n",
       "      <td>0</td>\n",
       "      <td>0</td>\n",
       "      <td>1</td>\n",
       "      <td>0</td>\n",
       "      <td>1</td>\n",
       "      <td>medium</td>\n",
       "    </tr>\n",
       "  </tbody>\n",
       "</table>\n",
       "<p>388 rows × 12 columns</p>\n",
       "</div>"
      ],
      "text/plain": [
       "             state  state_code  year  births_by_race  deaths_by_race  \\\n",
       "0          Alabama           1  2016           17989              14   \n",
       "1          Alabama           1  2016           35319              18   \n",
       "2          Alabama           1  2017           18354              25   \n",
       "3          Alabama           1  2017           34784              15   \n",
       "4          Alabama           1  2018           17939              14   \n",
       "..             ...         ...   ...             ...             ...   \n",
       "383  West Virginia          54  2018           16785              10   \n",
       "384      Wisconsin          55  2009           52462              10   \n",
       "385      Wisconsin          55  2011           50500              10   \n",
       "386      Wisconsin          55  2014           49440              13   \n",
       "387      Wisconsin          55  2015           49024              10   \n",
       "\n",
       "     population_by_race  race_Asian or Pacific Islander  \\\n",
       "0                     0                               0   \n",
       "1                     0                               0   \n",
       "2                704201                               0   \n",
       "3               1655605                               0   \n",
       "4                706754                               0   \n",
       "..                  ...                             ...   \n",
       "383              853052                               0   \n",
       "384                   0                               0   \n",
       "385                   0                               0   \n",
       "386             2409803                               0   \n",
       "387                   0                               0   \n",
       "\n",
       "     race_Black or African American  race_White  \\\n",
       "0                                 1           0   \n",
       "1                                 0           1   \n",
       "2                                 1           0   \n",
       "3                                 0           1   \n",
       "4                                 1           0   \n",
       "..                              ...         ...   \n",
       "383                               0           1   \n",
       "384                               0           1   \n",
       "385                               0           1   \n",
       "386                               0           1   \n",
       "387                               0           1   \n",
       "\n",
       "     hispanic_origin_Hispanic or Latino  \\\n",
       "0                                     0   \n",
       "1                                     0   \n",
       "2                                     0   \n",
       "3                                     0   \n",
       "4                                     0   \n",
       "..                                  ...   \n",
       "383                                   0   \n",
       "384                                   0   \n",
       "385                                   0   \n",
       "386                                   0   \n",
       "387                                   0   \n",
       "\n",
       "     hispanic_origin_Not Hispanic or Latino mmr_risk_category  \n",
       "0                                         1              high  \n",
       "1                                         1              high  \n",
       "2                                         1              high  \n",
       "3                                         1            medium  \n",
       "4                                         1              high  \n",
       "..                                      ...               ...  \n",
       "383                                       1              high  \n",
       "384                                       1               low  \n",
       "385                                       1               low  \n",
       "386                                       1            medium  \n",
       "387                                       1            medium  \n",
       "\n",
       "[388 rows x 12 columns]"
      ]
     },
     "execution_count": 189,
     "metadata": {},
     "output_type": "execute_result"
    }
   ],
   "source": [
    "# drop columns\n",
    "df_binary_encoded.drop(columns=[\"mmr_by_race\", \"latitude\", \"longitude\", \"id\", \"state_abbv\"])"
   ]
  },
  {
   "cell_type": "code",
   "execution_count": 211,
   "metadata": {},
   "outputs": [
    {
     "data": {
      "text/plain": [
       "medium    184\n",
       "high      132\n",
       "low        72\n",
       "Name: mmr_risk_category, dtype: int64"
      ]
     },
     "execution_count": 211,
     "metadata": {},
     "output_type": "execute_result"
    }
   ],
   "source": [
    "# viewing how the data is distributed into bins\n",
    "df_binary_encoded[\"mmr_risk_category\"].value_counts()"
   ]
  },
  {
   "cell_type": "markdown",
   "metadata": {},
   "source": [
    "#### set x and y values"
   ]
  },
  {
   "cell_type": "code",
   "execution_count": 198,
   "metadata": {},
   "outputs": [
    {
     "name": "stdout",
     "output_type": "stream",
     "text": [
      "(388, 8) (388, 1)\n"
     ]
    }
   ],
   "source": [
    "# setting our X and y values for mmr for all races \n",
    "XL = df_binary_encoded[[\"race_Asian or Pacific Islander\", \"race_Black or African American\",\n",
    "                       \"race_White\", \"hispanic_origin_Hispanic or Latino\",\n",
    "                       \"hispanic_origin_Not Hispanic or Latino\", \n",
    "                       \"births_by_race\",\"deaths_by_race\", \"population_by_race\"]]\n",
    "yL = df_binary_encoded[\"mmr_risk_category\"].values.reshape(-1, 1)\n",
    "print(XL.shape, yL.shape)"
   ]
  },
  {
   "cell_type": "markdown",
   "metadata": {},
   "source": [
    "#### create train, test split"
   ]
  },
  {
   "cell_type": "code",
   "execution_count": 199,
   "metadata": {},
   "outputs": [],
   "source": [
    "# Use train_test_split to create training and testing data\n",
    "from sklearn.model_selection import train_test_split\n",
    "\n",
    "XL_train, XL_test, yL_train, yL_test = train_test_split(XL, yL, random_state=42)"
   ]
  },
  {
   "cell_type": "markdown",
   "metadata": {},
   "source": [
    "#### scale data with MinMax Scaler"
   ]
  },
  {
   "cell_type": "code",
   "execution_count": 203,
   "metadata": {},
   "outputs": [],
   "source": [
    "from sklearn.preprocessing import MinMaxScaler\n",
    "XL_scaler = MinMaxScaler().fit(XL_train)\n",
    "\n",
    "XL_scaler_train = XL_scaler.transform(XL_train)\n",
    "XL_scaler_test = XL_scaler.transform(XL_test)"
   ]
  },
  {
   "cell_type": "code",
   "execution_count": 208,
   "metadata": {},
   "outputs": [
    {
     "data": {
      "text/plain": [
       "LogisticRegression(max_iter=1000)"
      ]
     },
     "execution_count": 208,
     "metadata": {},
     "output_type": "execute_result"
    }
   ],
   "source": [
    "# create the logistic regression model\n",
    "from sklearn.linear_model import LogisticRegression\n",
    "modelL = LogisticRegression(max_iter=1000)\n",
    "modelL.fit(XL_train, np.ravel(yL_train))"
   ]
  },
  {
   "cell_type": "markdown",
   "metadata": {},
   "source": [
    "#### Scoring the model on testing and training data"
   ]
  },
  {
   "cell_type": "code",
   "execution_count": 209,
   "metadata": {},
   "outputs": [
    {
     "name": "stdout",
     "output_type": "stream",
     "text": [
      "R2 Testing: 0.4536082474226804\n",
      "R2 Training: 0.4845360824742268\n"
     ]
    }
   ],
   "source": [
    "# make predictions and display r2 for scaled testing and training data\n",
    "from sklearn.metrics import mean_squared_error\n",
    "\n",
    "#predictionsL = modelL.predict(XL_scaler_test)\n",
    "#MSEL = mean_squared_error(yL_scaler_test, predictionsL)\n",
    "\n",
    "rL_testing = modelL.score(XL_scaler_test, yL_test)\n",
    "rL_training = modelL.score(XL_scaler_train, yL_train)\n",
    "\n",
    "#print(f\"MSE: {MSEL}\") \n",
    "print(f\"R2 Testing: {rL_testing}\") \n",
    "print(f\"R2 Training: {rL_training}\")"
   ]
  },
  {
   "cell_type": "markdown",
   "metadata": {},
   "source": [
    "#### African American MMR "
   ]
  },
  {
   "cell_type": "code",
   "execution_count": 153,
   "metadata": {},
   "outputs": [
    {
     "name": "stdout",
     "output_type": "stream",
     "text": [
      "(388, 4) (388, 1)\n"
     ]
    }
   ],
   "source": [
    "# setting our X and y values for mmr for african american exclusively\n",
    "# adjusting our X values (removing births and population) after running RFE\n",
    "# adjusting our X values (removing deaths) after running RFE\n",
    "# removing X values makes our R2 go down, adding X values back to our model\n",
    "X_af_am = df_binary_encoded[[\"race_Black or African American\", \"births_by_race\", \"deaths_by_race\", \"population_by_race\"]]\n",
    "y_af_am = df_binary_encoded[\"mmr_by_race\"].values.reshape(-1, 1)\n",
    "print(X_af_am.shape, y_af_am.shape)"
   ]
  },
  {
   "cell_type": "code",
   "execution_count": 154,
   "metadata": {},
   "outputs": [],
   "source": [
    "# Use train_test_split to create training and testing data\n",
    "from sklearn.model_selection import train_test_split\n",
    "\n",
    "X_af_am_train, X_af_am_test, y_af_am_train, y_af_am_test = train_test_split(X_af_am, y_af_am, random_state=42)"
   ]
  },
  {
   "cell_type": "code",
   "execution_count": 155,
   "metadata": {},
   "outputs": [
    {
     "data": {
      "text/plain": [
       "LinearRegression()"
      ]
     },
     "execution_count": 155,
     "metadata": {},
     "output_type": "execute_result"
    }
   ],
   "source": [
    "# running African American model without scaling data\n",
    "from sklearn.linear_model import LinearRegression\n",
    "model_af_amer = LinearRegression()\n",
    "model_af_amer.fit(X_af_am_train, y_af_am_train)"
   ]
  },
  {
   "cell_type": "code",
   "execution_count": 156,
   "metadata": {},
   "outputs": [
    {
     "data": {
      "text/html": [
       "<div>\n",
       "<style scoped>\n",
       "    .dataframe tbody tr th:only-of-type {\n",
       "        vertical-align: middle;\n",
       "    }\n",
       "\n",
       "    .dataframe tbody tr th {\n",
       "        vertical-align: top;\n",
       "    }\n",
       "\n",
       "    .dataframe thead th {\n",
       "        text-align: right;\n",
       "    }\n",
       "</style>\n",
       "<table border=\"1\" class=\"dataframe\">\n",
       "  <thead>\n",
       "    <tr style=\"text-align: right;\">\n",
       "      <th></th>\n",
       "      <th>features</th>\n",
       "      <th>support</th>\n",
       "      <th>ranking</th>\n",
       "    </tr>\n",
       "  </thead>\n",
       "  <tbody>\n",
       "    <tr>\n",
       "      <th>0</th>\n",
       "      <td>race_Black or African American</td>\n",
       "      <td>True</td>\n",
       "      <td>1</td>\n",
       "    </tr>\n",
       "    <tr>\n",
       "      <th>1</th>\n",
       "      <td>births_by_race</td>\n",
       "      <td>False</td>\n",
       "      <td>2</td>\n",
       "    </tr>\n",
       "    <tr>\n",
       "      <th>2</th>\n",
       "      <td>deaths_by_race</td>\n",
       "      <td>True</td>\n",
       "      <td>1</td>\n",
       "    </tr>\n",
       "    <tr>\n",
       "      <th>3</th>\n",
       "      <td>population_by_race</td>\n",
       "      <td>False</td>\n",
       "      <td>3</td>\n",
       "    </tr>\n",
       "  </tbody>\n",
       "</table>\n",
       "</div>"
      ],
      "text/plain": [
       "                         features  support  ranking\n",
       "0  race_Black or African American     True        1\n",
       "1                  births_by_race    False        2\n",
       "2                  deaths_by_race     True        1\n",
       "3              population_by_race    False        3"
      ]
     },
     "execution_count": 156,
     "metadata": {},
     "output_type": "execute_result"
    }
   ],
   "source": [
    "# RFE before predictions to Identify Insignificant Variables \n",
    "from sklearn.feature_selection import RFE\n",
    "# Create the RFE model\n",
    "rfe2 = RFE(model)\n",
    "# Fit model\n",
    "rfe2 = rfe2.fit(X_af_am_train, y_af_am_train)\n",
    "# summarize the selection of the attributes\n",
    "rfe2_df = pd.DataFrame({\n",
    "    'features': X_af_am.columns,\n",
    "    'support': rfe2.support_,\n",
    "    'ranking': rfe2.ranking_\n",
    "})\n",
    "rfe2_df"
   ]
  },
  {
   "cell_type": "code",
   "execution_count": 157,
   "metadata": {},
   "outputs": [
    {
     "name": "stdout",
     "output_type": "stream",
     "text": [
      "MSE: 205.8864534895182\n",
      "R2 Testing: 0.7485010472004732\n",
      "R2 Training: 0.7560500695636392\n"
     ]
    }
   ],
   "source": [
    "# make predictions and display r2 for African American exclusive testing and training data\n",
    "from sklearn.metrics import mean_squared_error\n",
    "\n",
    "predictions3 = model_af_amer.predict(X_af_am_test)\n",
    "MSE3 = mean_squared_error(y_af_am_test, predictions3)\n",
    "\n",
    "r2_testing_af_am = model_af_amer.score(X_af_am_test, y_af_am_test)\n",
    "r2_training_af_am = model_af_amer.score(X_af_am_train, y_af_am_train)\n",
    "\n",
    "print(f\"MSE: {MSE3}\") \n",
    "print(f\"R2 Testing: {r2_testing_af_am}\") \n",
    "print(f\"R2 Training: {r2_training_af_am}\")"
   ]
  },
  {
   "cell_type": "code",
   "execution_count": 126,
   "metadata": {},
   "outputs": [
    {
     "data": {
      "text/html": [
       "<div>\n",
       "<style scoped>\n",
       "    .dataframe tbody tr th:only-of-type {\n",
       "        vertical-align: middle;\n",
       "    }\n",
       "\n",
       "    .dataframe tbody tr th {\n",
       "        vertical-align: top;\n",
       "    }\n",
       "\n",
       "    .dataframe thead th {\n",
       "        text-align: right;\n",
       "    }\n",
       "</style>\n",
       "<table border=\"1\" class=\"dataframe\">\n",
       "  <thead>\n",
       "    <tr style=\"text-align: right;\">\n",
       "      <th></th>\n",
       "      <th>state</th>\n",
       "      <th>state_code</th>\n",
       "      <th>year</th>\n",
       "      <th>race</th>\n",
       "      <th>hispanic_origin</th>\n",
       "      <th>births_by_race</th>\n",
       "      <th>deaths_by_race</th>\n",
       "      <th>mmr_by_race</th>\n",
       "      <th>population_by_race</th>\n",
       "      <th>id</th>\n",
       "      <th>state_abbv</th>\n",
       "      <th>latitude</th>\n",
       "      <th>longitude</th>\n",
       "    </tr>\n",
       "  </thead>\n",
       "  <tbody>\n",
       "    <tr>\n",
       "      <th>0</th>\n",
       "      <td>Alabama</td>\n",
       "      <td>1</td>\n",
       "      <td>2016</td>\n",
       "      <td>Black or African American</td>\n",
       "      <td>Not Hispanic or Latino</td>\n",
       "      <td>17989</td>\n",
       "      <td>14</td>\n",
       "      <td>77.83</td>\n",
       "      <td>0</td>\n",
       "      <td>US.AL</td>\n",
       "      <td>AL</td>\n",
       "      <td>32.318231</td>\n",
       "      <td>-86.902298</td>\n",
       "    </tr>\n",
       "    <tr>\n",
       "      <th>2</th>\n",
       "      <td>Alabama</td>\n",
       "      <td>1</td>\n",
       "      <td>2017</td>\n",
       "      <td>Black or African American</td>\n",
       "      <td>Not Hispanic or Latino</td>\n",
       "      <td>18354</td>\n",
       "      <td>25</td>\n",
       "      <td>136.21</td>\n",
       "      <td>704201</td>\n",
       "      <td>US.AL</td>\n",
       "      <td>AL</td>\n",
       "      <td>32.318231</td>\n",
       "      <td>-86.902298</td>\n",
       "    </tr>\n",
       "    <tr>\n",
       "      <th>4</th>\n",
       "      <td>Alabama</td>\n",
       "      <td>1</td>\n",
       "      <td>2018</td>\n",
       "      <td>Black or African American</td>\n",
       "      <td>Not Hispanic or Latino</td>\n",
       "      <td>17939</td>\n",
       "      <td>14</td>\n",
       "      <td>78.04</td>\n",
       "      <td>706754</td>\n",
       "      <td>US.AL</td>\n",
       "      <td>AL</td>\n",
       "      <td>32.318231</td>\n",
       "      <td>-86.902298</td>\n",
       "    </tr>\n",
       "    <tr>\n",
       "      <th>6</th>\n",
       "      <td>Alabama</td>\n",
       "      <td>1</td>\n",
       "      <td>2019</td>\n",
       "      <td>Black or African American</td>\n",
       "      <td>Not Hispanic or Latino</td>\n",
       "      <td>18620</td>\n",
       "      <td>15</td>\n",
       "      <td>80.56</td>\n",
       "      <td>709544</td>\n",
       "      <td>US.AL</td>\n",
       "      <td>AL</td>\n",
       "      <td>32.318231</td>\n",
       "      <td>-86.902298</td>\n",
       "    </tr>\n",
       "    <tr>\n",
       "      <th>20</th>\n",
       "      <td>California</td>\n",
       "      <td>6</td>\n",
       "      <td>2009</td>\n",
       "      <td>Black or African American</td>\n",
       "      <td>Not Hispanic or Latino</td>\n",
       "      <td>31090</td>\n",
       "      <td>17</td>\n",
       "      <td>54.68</td>\n",
       "      <td>1192173</td>\n",
       "      <td>US.CA</td>\n",
       "      <td>CA</td>\n",
       "      <td>36.778261</td>\n",
       "      <td>-119.417932</td>\n",
       "    </tr>\n",
       "  </tbody>\n",
       "</table>\n",
       "</div>"
      ],
      "text/plain": [
       "         state  state_code  year                       race  \\\n",
       "0      Alabama           1  2016  Black or African American   \n",
       "2      Alabama           1  2017  Black or African American   \n",
       "4      Alabama           1  2018  Black or African American   \n",
       "6      Alabama           1  2019  Black or African American   \n",
       "20  California           6  2009  Black or African American   \n",
       "\n",
       "           hispanic_origin  births_by_race  deaths_by_race  mmr_by_race  \\\n",
       "0   Not Hispanic or Latino           17989              14        77.83   \n",
       "2   Not Hispanic or Latino           18354              25       136.21   \n",
       "4   Not Hispanic or Latino           17939              14        78.04   \n",
       "6   Not Hispanic or Latino           18620              15        80.56   \n",
       "20  Not Hispanic or Latino           31090              17        54.68   \n",
       "\n",
       "    population_by_race     id state_abbv   latitude   longitude  \n",
       "0                    0  US.AL         AL  32.318231  -86.902298  \n",
       "2               704201  US.AL         AL  32.318231  -86.902298  \n",
       "4               706754  US.AL         AL  32.318231  -86.902298  \n",
       "6               709544  US.AL         AL  32.318231  -86.902298  \n",
       "20             1192173  US.CA         CA  36.778261 -119.417932  "
      ]
     },
     "execution_count": 126,
     "metadata": {},
     "output_type": "execute_result"
    }
   ],
   "source": [
    "af_amer_mmr.head()"
   ]
  },
  {
   "cell_type": "code",
   "execution_count": 127,
   "metadata": {},
   "outputs": [
    {
     "name": "stdout",
     "output_type": "stream",
     "text": [
      "(388, 8) (388, 1)\n"
     ]
    }
   ],
   "source": [
    "# set our x and y\n",
    "X4 = af_amer_mmr[[\"year\"]]\n",
    "y4 = af_amer_mmr[[\"mmr_by_race\"]]\n",
    "print(X.shape, y.shape)"
   ]
  },
  {
   "cell_type": "code",
   "execution_count": 128,
   "metadata": {},
   "outputs": [
    {
     "name": "stdout",
     "output_type": "stream",
     "text": [
      "(105, 1)\n",
      "(105, 1)\n",
      "(36, 1)\n"
     ]
    }
   ],
   "source": [
    "# use test, train, split to create training and testing data\n",
    "X4_train, X4_test, y4_train, y4_test = train_test_split(X4, y4, random_state=42)\n",
    "print(X4_train.shape)\n",
    "print(y4_train.shape)\n",
    "print(X4_test.shape)"
   ]
  },
  {
   "cell_type": "code",
   "execution_count": 129,
   "metadata": {},
   "outputs": [
    {
     "data": {
      "text/plain": [
       "LinearRegression()"
      ]
     },
     "execution_count": 129,
     "metadata": {},
     "output_type": "execute_result"
    }
   ],
   "source": [
    "# create the linear regression model\n",
    "from sklearn.linear_model import LinearRegression\n",
    "\n",
    "model2 = LinearRegression()\n",
    "model2.fit(X4_train, y4_train)"
   ]
  },
  {
   "cell_type": "code",
   "execution_count": 130,
   "metadata": {},
   "outputs": [
    {
     "name": "stdout",
     "output_type": "stream",
     "text": [
      "MSE: 487.18502790582744, R2: -0.17542467279890794\n"
     ]
    }
   ],
   "source": [
    "from sklearn.metrics import mean_squared_error\n",
    "\n",
    "predictions = model2.predict(X4_test)\n",
    "MSE = mean_squared_error(y4_test, predictions)\n",
    "r2 = model2.score(X4_test, y4_test)\n",
    "\n",
    "print(f\"MSE: {MSE}, R2: {r2}\")"
   ]
  },
  {
   "cell_type": "code",
   "execution_count": 131,
   "metadata": {},
   "outputs": [
    {
     "data": {
      "text/plain": [
       "<matplotlib.collections.PathCollection at 0x7fc9a805edd8>"
      ]
     },
     "execution_count": 131,
     "metadata": {},
     "output_type": "execute_result"
    },
    {
     "data": {
      "image/png": "[encoded data removed]",
      "text/plain": [
       "<Figure size 432x288 with 1 Axes>"
      ]
     },
     "metadata": {
      "needs_background": "light"
     },
     "output_type": "display_data"
    }
   ],
   "source": [
    "\n",
    "# visualize african american mmr\n",
    "X4 = af_amer_mmr[\"year\"].values.reshape(-1,1)\n",
    "y4 = af_amer_mmr[\"mmr_by_race\"].values.reshape(-1,1)\n",
    "plt.scatter(X4,y4)"
   ]
  },
  {
   "cell_type": "code",
   "execution_count": 132,
   "metadata": {},
   "outputs": [
    {
     "data": {
      "text/plain": [
       "[76.34695944373334,\n",
       " 76.54468870010476,\n",
       " 76.74241795647623,\n",
       " 76.9401472128477,\n",
       " 77.13787646921918,\n",
       " 77.33560572559065,\n",
       " 77.53333498196213,\n",
       " 77.73106423833354,\n",
       " 77.92879349470502,\n",
       " 78.1265227510765,\n",
       " 78.32425200744797]"
      ]
     },
     "execution_count": 132,
     "metadata": {},
     "output_type": "execute_result"
    }
   ],
   "source": [
    "# Make predictions for next 11 years\n",
    "future_af_amer_mmr =[]\n",
    "for i in range(2020, 2031):\n",
    "    r= model2.predict([[i]])\n",
    "    future_af_amer_mmr.append(float(r))\n",
    "      \n",
    "    \n",
    "future_af_amer_mmr"
   ]
  },
  {
   "cell_type": "code",
   "execution_count": 133,
   "metadata": {},
   "outputs": [
    {
     "data": {
      "text/html": [
       "<div>\n",
       "<style scoped>\n",
       "    .dataframe tbody tr th:only-of-type {\n",
       "        vertical-align: middle;\n",
       "    }\n",
       "\n",
       "    .dataframe tbody tr th {\n",
       "        vertical-align: top;\n",
       "    }\n",
       "\n",
       "    .dataframe thead th {\n",
       "        text-align: right;\n",
       "    }\n",
       "</style>\n",
       "<table border=\"1\" class=\"dataframe\">\n",
       "  <thead>\n",
       "    <tr style=\"text-align: right;\">\n",
       "      <th></th>\n",
       "      <th>year</th>\n",
       "      <th>mmr_by_race</th>\n",
       "    </tr>\n",
       "  </thead>\n",
       "  <tbody>\n",
       "    <tr>\n",
       "      <th>0</th>\n",
       "      <td>2020</td>\n",
       "      <td>76.346959</td>\n",
       "    </tr>\n",
       "    <tr>\n",
       "      <th>1</th>\n",
       "      <td>2021</td>\n",
       "      <td>76.544689</td>\n",
       "    </tr>\n",
       "    <tr>\n",
       "      <th>2</th>\n",
       "      <td>2022</td>\n",
       "      <td>76.742418</td>\n",
       "    </tr>\n",
       "    <tr>\n",
       "      <th>3</th>\n",
       "      <td>2023</td>\n",
       "      <td>76.940147</td>\n",
       "    </tr>\n",
       "    <tr>\n",
       "      <th>4</th>\n",
       "      <td>2024</td>\n",
       "      <td>77.137876</td>\n",
       "    </tr>\n",
       "    <tr>\n",
       "      <th>5</th>\n",
       "      <td>2025</td>\n",
       "      <td>77.335606</td>\n",
       "    </tr>\n",
       "    <tr>\n",
       "      <th>6</th>\n",
       "      <td>2026</td>\n",
       "      <td>77.533335</td>\n",
       "    </tr>\n",
       "    <tr>\n",
       "      <th>7</th>\n",
       "      <td>2027</td>\n",
       "      <td>77.731064</td>\n",
       "    </tr>\n",
       "    <tr>\n",
       "      <th>8</th>\n",
       "      <td>2028</td>\n",
       "      <td>77.928793</td>\n",
       "    </tr>\n",
       "    <tr>\n",
       "      <th>9</th>\n",
       "      <td>2029</td>\n",
       "      <td>78.126523</td>\n",
       "    </tr>\n",
       "    <tr>\n",
       "      <th>10</th>\n",
       "      <td>2030</td>\n",
       "      <td>78.324252</td>\n",
       "    </tr>\n",
       "  </tbody>\n",
       "</table>\n",
       "</div>"
      ],
      "text/plain": [
       "    year  mmr_by_race\n",
       "0   2020    76.346959\n",
       "1   2021    76.544689\n",
       "2   2022    76.742418\n",
       "3   2023    76.940147\n",
       "4   2024    77.137876\n",
       "5   2025    77.335606\n",
       "6   2026    77.533335\n",
       "7   2027    77.731064\n",
       "8   2028    77.928793\n",
       "9   2029    78.126523\n",
       "10  2030    78.324252"
      ]
     },
     "execution_count": 133,
     "metadata": {},
     "output_type": "execute_result"
    }
   ],
   "source": [
    "# create a dictionary to hold predicted values\n",
    "predicted_af_amer_mmr = {\n",
    "    \"year\": [2020, 2021, 2022, 2023, 2024, 2025, 2026, 2027, 2028, 2029, 2030],\n",
    "    \"mmr_by_race\": future_af_amer_mmr\n",
    "}\n",
    "\n",
    "# create a dataframe\n",
    "predicted_af_amer_mmr_df = pd.DataFrame(predicted_af_amer_mmr)\n",
    "predicted_af_amer_mmr_df"
   ]
  },
  {
   "cell_type": "code",
   "execution_count": 134,
   "metadata": {},
   "outputs": [
    {
     "data": {
      "text/plain": [
       "Text(0, 0.5, 'Maternal Mortality Ratio')"
      ]
     },
     "execution_count": 134,
     "metadata": {},
     "output_type": "execute_result"
    },
    {
     "data": {
      "image/png": "[encoded data removed]",
      "text/plain": [
       "<Figure size 432x288 with 1 Axes>"
      ]
     },
     "metadata": {
      "needs_background": "light"
     },
     "output_type": "display_data"
    }
   ],
   "source": [
    "X6 = predicted_af_amer_mmr_df[\"year\"].values.reshape(-1,1)\n",
    "y6 = predicted_af_amer_mmr_df[\"mmr_by_race\"].values.reshape(-1,1)\n",
    "plt.scatter(X6,y6)\n",
    "plt.title(\"African American MMR 10-year prediction\")\n",
    "plt.ylabel(\"Maternal Mortality Ratio\")"
   ]
  },
  {
   "cell_type": "markdown",
   "metadata": {},
   "source": [
    "### Analysis\n",
    "\n",
    " - For our MMR data stratified by race, the MMR wasn't clearly increasing over our selected timeframe of 2009-2019. \n",
    " - We used a linear regression model and experimented with feature selection after running RFE to identify insignificant variables. However, removing the insignificant variables did not improve the R2 value for any of the linear regression models. \n",
    " \n",
    " - We tried binning our mmr data into three categories:\n",
    "     - low\n",
    "     - medium\n",
    "     - high\n",
    " - After binning, we used a logistic regression model, but the scoring of this model was worse than the linear regressions we'd already run. \n",
    " \n",
    " - Our highest scoring model was Linear Regression with non-scaled data, using each of our race an hispanic origin categories, and birth, death, and population data, straitified by race. These are the resulting scores: \n",
    " \n",
    "    - MSE: 198.43191423230274\n",
    "    - R2 Testing: 0.7576070800890726\n",
    "    - R2 Training: 0.7590260135162785"
   ]
  },
  {
   "cell_type": "code",
   "execution_count": null,
   "metadata": {},
   "outputs": [],
   "source": []
  }
 ],
 "metadata": {
  "kernelspec": {
   "display_name": "Python [conda env:PythonData] *",
   "language": "python",
   "name": "conda-env-PythonData-py"
  },
  "language_info": {
   "codemirror_mode": {
    "name": "ipython",
    "version": 3
   },
   "file_extension": ".py",
   "mimetype": "text/x-python",
   "name": "python",
   "nbconvert_exporter": "python",
   "pygments_lexer": "ipython3",
   "version": "3.6.10"
  }
 },
 "nbformat": 4,
 "nbformat_minor": 4
}
