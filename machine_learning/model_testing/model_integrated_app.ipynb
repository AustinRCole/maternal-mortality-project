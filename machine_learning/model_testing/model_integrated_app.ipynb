{
 "cells": [
  {
   "cell_type": "code",
   "execution_count": 24,
   "metadata": {},
   "outputs": [
    {
     "name": "stdout",
     "output_type": "stream",
     "text": [
      "Requirement already up-to-date: sklearn in /Users/abpuccini/opt/anaconda3/envs/finalproject/lib/python3.6/site-packages (0.0)\r\n",
      "Requirement already satisfied, skipping upgrade: scikit-learn in /Users/abpuccini/opt/anaconda3/envs/finalproject/lib/python3.6/site-packages (from sklearn) (0.23.1)\r\n",
      "Requirement already satisfied, skipping upgrade: joblib>=0.11 in /Users/abpuccini/opt/anaconda3/envs/finalproject/lib/python3.6/site-packages (from scikit-learn->sklearn) (0.16.0)\r\n",
      "Requirement already satisfied, skipping upgrade: numpy>=1.13.3 in /Users/abpuccini/opt/anaconda3/envs/finalproject/lib/python3.6/site-packages (from scikit-learn->sklearn) (1.17.0)\r\n",
      "Requirement already satisfied, skipping upgrade: scipy>=0.19.1 in /Users/abpuccini/opt/anaconda3/envs/finalproject/lib/python3.6/site-packages (from scikit-learn->sklearn) (1.5.0)\r\n",
      "Requirement already satisfied, skipping upgrade: threadpoolctl>=2.0.0 in /Users/abpuccini/opt/anaconda3/envs/finalproject/lib/python3.6/site-packages (from scikit-learn->sklearn) (2.1.0)\r\n"
     ]
    }
   ],
   "source": [
    "# Update sklearn to prevent version mismatches\n",
    "!pip install sklearn --upgrade"
   ]
  },
  {
   "cell_type": "code",
   "execution_count": 1,
   "metadata": {},
   "outputs": [],
   "source": [
    "from joblib import load\n",
    "import pandas as pd\n",
    "import numpy as np"
   ]
  },
  {
   "cell_type": "code",
   "execution_count": 7,
   "metadata": {},
   "outputs": [
    {
     "name": "stdout",
     "output_type": "stream",
     "text": [
      "Index(['year', 'maternal_mortality_ratio', 'diabetes_val', 'prem_death_val',\n",
      "       'phys_inac_val', 'low_birthweight_val', 'obesity_val',\n",
      "       'cardio_death_val', 'medicare', 'cancer_death_val', 'chlamydia_val',\n",
      "       'child_pov_val', 'smoking_val', 'infant_mort_val', 'income_ineq_val',\n",
      "       'dentists_val', 'prem_death_ri_val', 'dent_vis_val', 'all_outcomes_val',\n",
      "       'all_determs_val', 'health_stat_fem_val'],\n",
      "      dtype='object') 21\n"
     ]
    }
   ],
   "source": [
    "data = pd.read_csv(\"../Resources/combined_avg_2009_2019.csv\")\n",
    "\n",
    "print(data.columns, len(data.columns))"
   ]
  },
  {
   "cell_type": "code",
   "execution_count": 8,
   "metadata": {},
   "outputs": [],
   "source": [
    "def forecast_graph(diabetes, prem_death, phys_inac, low_birthweight, obesity):\n",
    "\n",
    "    # Samples\n",
    "    data = pd.read_csv(\"../Resources/combined_avg_2009_2019.csv\")\n",
    "    stat_data = data.describe()\n",
    "    stat_data = stat_data.loc['mean'][['population', 'employer',\n",
    "       'non_group', 'medicaid', 'medicare', 'military', 'uninsured',\n",
    "       'air_pollution_val', 'cancer_death_val', 'cardio_death_val',\n",
    "       'child_pov_val', 'choles_check_val', 'dent_vis_val', 'dentists_val',\n",
    "       'diabetes_val', 'drug_deaths_val', 'health_stat_fem_val',\n",
    "       'immun_child_val', 'income_ineq_val', 'infant_mort_val',\n",
    "       'infect_dis_val', 'obesity_val', 'phys_inac_val', 'prem_death_val',\n",
    "       'smoking_val', 'uninsured_val', 'all_determs_val', 'all_outcomes_val',\n",
    "       'chlamydia_val', 'prem_death_ri_val', 'teen_birth_val',\n",
    "       'primary_care_val', 'low_birthweight_val']]\n",
    "\n",
    "    health_data = stat_data.copy()\n",
    "    health_data['diabetes_val'] = diabetes\n",
    "    health_data['prem_death_val'] = prem_death\n",
    "    health_data['phys_inac_val'] = phys_inac\n",
    "    health_data['low_birthweight_val'] = low_birthweight\n",
    "    health_data['obesity_val'] = obesity\n",
    "\n",
    "    # input data to predict MMR\n",
    "    inputValue = np.array(health_data).reshape(1, -1)\n",
    "\n",
    "    # load the saved pipleine model\n",
    "    pipeline = load(\"../models/LR_model1_Chahnaz.sav\")\n",
    "\n",
    "    # predict on the sample data\n",
    "    predicted_mmr_list = pipeline.predict(inputValue)\n",
    "    predicted_mmr = predicted_mmr_list[0][0]\n",
    "\n",
    "    return predicted_mmr"
   ]
  },
  {
   "cell_type": "code",
   "execution_count": 9,
   "metadata": {},
   "outputs": [
    {
     "name": "stderr",
     "output_type": "stream",
     "text": [
      "/Users/abpuccini/opt/anaconda3/envs/project3/lib/python3.6/site-packages/sklearn/base.py:315: UserWarning: Trying to unpickle estimator LinearRegression from version 0.23.2 when using version 0.24.1. This might lead to breaking code or invalid results. Use at your own risk.\n",
      "  UserWarning)\n"
     ]
    },
    {
     "ename": "ValueError",
     "evalue": "matmul: Input operand 1 has a mismatch in its core dimension 0, with gufunc signature (n?,k),(k,m?)->(n?,m?) (size 33 is different from 19)",
     "output_type": "error",
     "traceback": [
      "\u001b[0;31m---------------------------------------------------------------------------\u001b[0m",
      "\u001b[0;31mValueError\u001b[0m                                Traceback (most recent call last)",
      "\u001b[0;32m<ipython-input-9-5b75ce14c030>\u001b[0m in \u001b[0;36m<module>\u001b[0;34m\u001b[0m\n\u001b[0;32m----> 1\u001b[0;31m \u001b[0mforecast_graph\u001b[0m\u001b[0;34m(\u001b[0m\u001b[0;36m88\u001b[0m\u001b[0;34m,\u001b[0m \u001b[0;36m86\u001b[0m\u001b[0;34m,\u001b[0m \u001b[0;36m95\u001b[0m\u001b[0;34m,\u001b[0m \u001b[0;36m28\u001b[0m\u001b[0;34m,\u001b[0m \u001b[0;36m83\u001b[0m\u001b[0;34m)\u001b[0m\u001b[0;34m\u001b[0m\u001b[0;34m\u001b[0m\u001b[0m\n\u001b[0m",
      "\u001b[0;32m<ipython-input-8-02ed16420254>\u001b[0m in \u001b[0;36mforecast_graph\u001b[0;34m(diabetes, prem_death, phys_inac, low_birthweight, obesity)\u001b[0m\n\u001b[1;32m     25\u001b[0m \u001b[0;34m\u001b[0m\u001b[0m\n\u001b[1;32m     26\u001b[0m     \u001b[0;31m# predict on the sample data\u001b[0m\u001b[0;34m\u001b[0m\u001b[0;34m\u001b[0m\u001b[0;34m\u001b[0m\u001b[0m\n\u001b[0;32m---> 27\u001b[0;31m     \u001b[0mpredicted_mmr_list\u001b[0m \u001b[0;34m=\u001b[0m \u001b[0mpipeline\u001b[0m\u001b[0;34m.\u001b[0m\u001b[0mpredict\u001b[0m\u001b[0;34m(\u001b[0m\u001b[0minputValue\u001b[0m\u001b[0;34m)\u001b[0m\u001b[0;34m\u001b[0m\u001b[0;34m\u001b[0m\u001b[0m\n\u001b[0m\u001b[1;32m     28\u001b[0m     \u001b[0mpredicted_mmr\u001b[0m \u001b[0;34m=\u001b[0m \u001b[0mpredicted_mmr_list\u001b[0m\u001b[0;34m[\u001b[0m\u001b[0;36m0\u001b[0m\u001b[0;34m]\u001b[0m\u001b[0;34m[\u001b[0m\u001b[0;36m0\u001b[0m\u001b[0;34m]\u001b[0m\u001b[0;34m\u001b[0m\u001b[0;34m\u001b[0m\u001b[0m\n\u001b[1;32m     29\u001b[0m \u001b[0;34m\u001b[0m\u001b[0m\n",
      "\u001b[0;32m~/opt/anaconda3/envs/project3/lib/python3.6/site-packages/sklearn/linear_model/_base.py\u001b[0m in \u001b[0;36mpredict\u001b[0;34m(self, X)\u001b[0m\n\u001b[1;32m    236\u001b[0m             \u001b[0mReturns\u001b[0m \u001b[0mpredicted\u001b[0m \u001b[0mvalues\u001b[0m\u001b[0;34m.\u001b[0m\u001b[0;34m\u001b[0m\u001b[0;34m\u001b[0m\u001b[0m\n\u001b[1;32m    237\u001b[0m         \"\"\"\n\u001b[0;32m--> 238\u001b[0;31m         \u001b[0;32mreturn\u001b[0m \u001b[0mself\u001b[0m\u001b[0;34m.\u001b[0m\u001b[0m_decision_function\u001b[0m\u001b[0;34m(\u001b[0m\u001b[0mX\u001b[0m\u001b[0;34m)\u001b[0m\u001b[0;34m\u001b[0m\u001b[0;34m\u001b[0m\u001b[0m\n\u001b[0m\u001b[1;32m    239\u001b[0m \u001b[0;34m\u001b[0m\u001b[0m\n\u001b[1;32m    240\u001b[0m     \u001b[0m_preprocess_data\u001b[0m \u001b[0;34m=\u001b[0m \u001b[0mstaticmethod\u001b[0m\u001b[0;34m(\u001b[0m\u001b[0m_preprocess_data\u001b[0m\u001b[0;34m)\u001b[0m\u001b[0;34m\u001b[0m\u001b[0;34m\u001b[0m\u001b[0m\n",
      "\u001b[0;32m~/opt/anaconda3/envs/project3/lib/python3.6/site-packages/sklearn/linear_model/_base.py\u001b[0m in \u001b[0;36m_decision_function\u001b[0;34m(self, X)\u001b[0m\n\u001b[1;32m    220\u001b[0m         \u001b[0mX\u001b[0m \u001b[0;34m=\u001b[0m \u001b[0mcheck_array\u001b[0m\u001b[0;34m(\u001b[0m\u001b[0mX\u001b[0m\u001b[0;34m,\u001b[0m \u001b[0maccept_sparse\u001b[0m\u001b[0;34m=\u001b[0m\u001b[0;34m[\u001b[0m\u001b[0;34m'csr'\u001b[0m\u001b[0;34m,\u001b[0m \u001b[0;34m'csc'\u001b[0m\u001b[0;34m,\u001b[0m \u001b[0;34m'coo'\u001b[0m\u001b[0;34m]\u001b[0m\u001b[0;34m)\u001b[0m\u001b[0;34m\u001b[0m\u001b[0;34m\u001b[0m\u001b[0m\n\u001b[1;32m    221\u001b[0m         return safe_sparse_dot(X, self.coef_.T,\n\u001b[0;32m--> 222\u001b[0;31m                                dense_output=True) + self.intercept_\n\u001b[0m\u001b[1;32m    223\u001b[0m \u001b[0;34m\u001b[0m\u001b[0m\n\u001b[1;32m    224\u001b[0m     \u001b[0;32mdef\u001b[0m \u001b[0mpredict\u001b[0m\u001b[0;34m(\u001b[0m\u001b[0mself\u001b[0m\u001b[0;34m,\u001b[0m \u001b[0mX\u001b[0m\u001b[0;34m)\u001b[0m\u001b[0;34m:\u001b[0m\u001b[0;34m\u001b[0m\u001b[0;34m\u001b[0m\u001b[0m\n",
      "\u001b[0;32m~/opt/anaconda3/envs/project3/lib/python3.6/site-packages/sklearn/utils/validation.py\u001b[0m in \u001b[0;36minner_f\u001b[0;34m(*args, **kwargs)\u001b[0m\n\u001b[1;32m     61\u001b[0m             \u001b[0mextra_args\u001b[0m \u001b[0;34m=\u001b[0m \u001b[0mlen\u001b[0m\u001b[0;34m(\u001b[0m\u001b[0margs\u001b[0m\u001b[0;34m)\u001b[0m \u001b[0;34m-\u001b[0m \u001b[0mlen\u001b[0m\u001b[0;34m(\u001b[0m\u001b[0mall_args\u001b[0m\u001b[0;34m)\u001b[0m\u001b[0;34m\u001b[0m\u001b[0;34m\u001b[0m\u001b[0m\n\u001b[1;32m     62\u001b[0m             \u001b[0;32mif\u001b[0m \u001b[0mextra_args\u001b[0m \u001b[0;34m<=\u001b[0m \u001b[0;36m0\u001b[0m\u001b[0;34m:\u001b[0m\u001b[0;34m\u001b[0m\u001b[0;34m\u001b[0m\u001b[0m\n\u001b[0;32m---> 63\u001b[0;31m                 \u001b[0;32mreturn\u001b[0m \u001b[0mf\u001b[0m\u001b[0;34m(\u001b[0m\u001b[0;34m*\u001b[0m\u001b[0margs\u001b[0m\u001b[0;34m,\u001b[0m \u001b[0;34m**\u001b[0m\u001b[0mkwargs\u001b[0m\u001b[0;34m)\u001b[0m\u001b[0;34m\u001b[0m\u001b[0;34m\u001b[0m\u001b[0m\n\u001b[0m\u001b[1;32m     64\u001b[0m \u001b[0;34m\u001b[0m\u001b[0m\n\u001b[1;32m     65\u001b[0m             \u001b[0;31m# extra_args > 0\u001b[0m\u001b[0;34m\u001b[0m\u001b[0;34m\u001b[0m\u001b[0;34m\u001b[0m\u001b[0m\n",
      "\u001b[0;32m~/opt/anaconda3/envs/project3/lib/python3.6/site-packages/sklearn/utils/extmath.py\u001b[0m in \u001b[0;36msafe_sparse_dot\u001b[0;34m(a, b, dense_output)\u001b[0m\n\u001b[1;32m    150\u001b[0m             \u001b[0mret\u001b[0m \u001b[0;34m=\u001b[0m \u001b[0mnp\u001b[0m\u001b[0;34m.\u001b[0m\u001b[0mdot\u001b[0m\u001b[0;34m(\u001b[0m\u001b[0ma\u001b[0m\u001b[0;34m,\u001b[0m \u001b[0mb\u001b[0m\u001b[0;34m)\u001b[0m\u001b[0;34m\u001b[0m\u001b[0;34m\u001b[0m\u001b[0m\n\u001b[1;32m    151\u001b[0m     \u001b[0;32melse\u001b[0m\u001b[0;34m:\u001b[0m\u001b[0;34m\u001b[0m\u001b[0;34m\u001b[0m\u001b[0m\n\u001b[0;32m--> 152\u001b[0;31m         \u001b[0mret\u001b[0m \u001b[0;34m=\u001b[0m \u001b[0ma\u001b[0m \u001b[0;34m@\u001b[0m \u001b[0mb\u001b[0m\u001b[0;34m\u001b[0m\u001b[0;34m\u001b[0m\u001b[0m\n\u001b[0m\u001b[1;32m    153\u001b[0m \u001b[0;34m\u001b[0m\u001b[0m\n\u001b[1;32m    154\u001b[0m     if (sparse.issparse(a) and sparse.issparse(b)\n",
      "\u001b[0;31mValueError\u001b[0m: matmul: Input operand 1 has a mismatch in its core dimension 0, with gufunc signature (n?,k),(k,m?)->(n?,m?) (size 33 is different from 19)"
     ]
    }
   ],
   "source": [
    "forecast_graph(88, 86, 95, 28, 83)"
   ]
  },
  {
   "cell_type": "code",
   "execution_count": 6,
   "metadata": {},
   "outputs": [],
   "source": [
    "data = pd.read_csv(\"../Resources/combined_avg_2009_2019.csv\")"
   ]
  },
  {
   "cell_type": "code",
   "execution_count": 28,
   "metadata": {},
   "outputs": [
    {
     "data": {
      "text/plain": [
       "population             4.890733e+06\n",
       "employer               5.973214e+01\n",
       "non_group              7.511688e+00\n",
       "medicaid               1.444968e+01\n",
       "medicare               2.226948e+00\n",
       "military               1.621753e+00\n",
       "uninsured              1.445519e+01\n",
       "air_pollution_val      9.537662e+00\n",
       "cancer_death_val       1.952091e+02\n",
       "cardio_death_val       2.681013e+02\n",
       "child_pov_val          2.000325e+01\n",
       "choles_check_val       7.856331e+01\n",
       "dent_vis_val           6.612662e+01\n",
       "dentists_val           5.677143e+01\n",
       "diabetes_val           1.036234e+01\n",
       "drug_deaths_val        1.466623e+01\n",
       "health_stat_fem_val    5.031753e+01\n",
       "immun_child_val        7.598224e+01\n",
       "income_ineq_val        4.757597e+00\n",
       "infant_mort_val        6.526948e+00\n",
       "infect_dis_val         4.528450e+00\n",
       "obesity_val            2.969286e+01\n",
       "phys_inac_val          2.561981e+01\n",
       "prem_death_val         7.746341e+03\n",
       "smoking_val            1.873701e+01\n",
       "uninsured_val          1.246883e+01\n",
       "all_determs_val       -5.562662e-02\n",
       "all_outcomes_val      -3.586039e-02\n",
       "chlamydia_val          4.552328e+02\n",
       "prem_death_ri_val      1.480844e+00\n",
       "teen_birth_val         3.109221e+01\n",
       "primary_care_val       1.301084e+02\n",
       "low_birthweight_val    8.368506e+00\n",
       "Name: mean, dtype: float64"
      ]
     },
     "execution_count": 28,
     "metadata": {},
     "output_type": "execute_result"
    }
   ],
   "source": [
    "stat_data = data.describe()\n",
    "stat_data = stat_data.loc['mean'][['population', 'employer',\n",
    "       'non_group', 'medicaid', 'medicare', 'military', 'uninsured',\n",
    "       'air_pollution_val', 'cancer_death_val', 'cardio_death_val',\n",
    "       'child_pov_val', 'choles_check_val', 'dent_vis_val', 'dentists_val',\n",
    "       'diabetes_val', 'drug_deaths_val', 'health_stat_fem_val',\n",
    "       'immun_child_val', 'income_ineq_val', 'infant_mort_val',\n",
    "       'infect_dis_val', 'obesity_val', 'phys_inac_val', 'prem_death_val',\n",
    "       'smoking_val', 'uninsured_val', 'all_determs_val', 'all_outcomes_val',\n",
    "       'chlamydia_val', 'prem_death_ri_val', 'teen_birth_val',\n",
    "       'primary_care_val', 'low_birthweight_val']]\n",
    "\n",
    "stat_data"
   ]
  },
  {
   "cell_type": "code",
   "execution_count": 29,
   "metadata": {},
   "outputs": [
    {
     "name": "stderr",
     "output_type": "stream",
     "text": [
      "/Users/abpuccini/opt/anaconda3/envs/finalproject/lib/python3.6/site-packages/sklearn/base.py:315: UserWarning: Trying to unpickle estimator LinearRegression from version 0.23.2 when using version 0.24.1. This might lead to breaking code or invalid results. Use at your own risk.\n",
      "  UserWarning)\n"
     ]
    }
   ],
   "source": [
    "pipeline = load(\"../../machine_learning/models/LR_model2_Chahnaz.sav\")"
   ]
  },
  {
   "cell_type": "code",
   "execution_count": 30,
   "metadata": {},
   "outputs": [
    {
     "name": "stdout",
     "output_type": "stream",
     "text": [
      "diabetes1\n",
      "diabetes1\n",
      "diabetes1\n",
      "diabetes1\n",
      "diabetes1\n"
     ]
    }
   ],
   "source": [
    "health_data = stat_data.copy()\n",
    "health_data['diabetes_val'] = input('diabetes')\n",
    "health_data['prem_death_val'] = input('diabetes')\n",
    "health_data['phys_inac_val'] = input('diabetes')\n",
    "health_data['low_birthweight_val'] = input('diabetes')\n",
    "health_data['obesity_val'] = input('diabetes')"
   ]
  },
  {
   "cell_type": "code",
   "execution_count": 31,
   "metadata": {},
   "outputs": [],
   "source": [
    "inputValue = np.array(health_data).reshape(1, -1)\n",
    "\n",
    "predicted_mmr = pipeline.predict(inputValue)"
   ]
  },
  {
   "cell_type": "code",
   "execution_count": 33,
   "metadata": {},
   "outputs": [
    {
     "data": {
      "text/plain": [
       "array([[-35.37210432]])"
      ]
     },
     "execution_count": 33,
     "metadata": {},
     "output_type": "execute_result"
    }
   ],
   "source": [
    "predicted_mmr\n",
    "# 32.11739427"
   ]
  },
  {
   "cell_type": "code",
   "execution_count": 15,
   "metadata": {},
   "outputs": [],
   "source": [
    "data = pd.read_csv(\n",
    "        \"../Resources/combined_avg_2009_2019.csv\")\n",
    "stat_data = data.describe()\n",
    "stat_data = stat_data.loc['mean']"
   ]
  },
  {
   "cell_type": "code",
   "execution_count": 17,
   "metadata": {},
   "outputs": [
    {
     "data": {
      "text/plain": [
       "Index(['year', 'maternal_mortality_ratio', 'diabetes_val', 'prem_death_val',\n",
       "       'phys_inac_val', 'low_birthweight_val', 'obesity_val',\n",
       "       'cardio_death_val', 'medicare', 'cancer_death_val', 'chlamydia_val',\n",
       "       'child_pov_val', 'smoking_val', 'infant_mort_val', 'income_ineq_val',\n",
       "       'dentists_val', 'prem_death_ri_val', 'dent_vis_val', 'all_outcomes_val',\n",
       "       'all_determs_val', 'health_stat_fem_val', 'population', 'employer',\n",
       "       'non_group', 'medicaid', 'military', 'uninsured', 'air_pollution_val',\n",
       "       'choles_check_val', 'drug_deaths_val', 'immun_child_val',\n",
       "       'infect_dis_val', 'uninsured_val', 'teen_birth_val',\n",
       "       'primary_care_val'],\n",
       "      dtype='object')"
      ]
     },
     "execution_count": 17,
     "metadata": {},
     "output_type": "execute_result"
    }
   ],
   "source": [
    "stat_data.index"
   ]
  },
  {
   "cell_type": "code",
   "execution_count": null,
   "metadata": {},
   "outputs": [],
   "source": []
  }
 ],
 "metadata": {
  "kernelspec": {
   "display_name": "Python 3",
   "language": "python",
   "name": "python3"
  },
  "language_info": {
   "codemirror_mode": {
    "name": "ipython",
    "version": 3
   },
   "file_extension": ".py",
   "mimetype": "text/x-python",
   "name": "python",
   "nbconvert_exporter": "python",
   "pygments_lexer": "ipython3",
   "version": "3.6.10"
  }
 },
 "nbformat": 4,
 "nbformat_minor": 4
}
