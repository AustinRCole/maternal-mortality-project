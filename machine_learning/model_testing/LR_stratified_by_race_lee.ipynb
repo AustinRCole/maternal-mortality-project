{
 "cells": [
  {
   "cell_type": "code",
   "execution_count": 1,
   "metadata": {},
   "outputs": [],
   "source": [
    "%matplotlib inline\n",
    "import matplotlib.pyplot as plt\n",
    "import numpy as np\n",
    "import pandas as pd\n",
    "import seaborn as sns"
   ]
  },
  {
   "cell_type": "code",
   "execution_count": 2,
   "metadata": {},
   "outputs": [],
   "source": [
    "# read in csv \n",
    "df = pd.read_csv(\"../Resources/race_data.csv\")"
   ]
  },
  {
   "cell_type": "code",
   "execution_count": 3,
   "metadata": {},
   "outputs": [
    {
     "data": {
      "text/html": [
       "<div>\n",
       "<style scoped>\n",
       "    .dataframe tbody tr th:only-of-type {\n",
       "        vertical-align: middle;\n",
       "    }\n",
       "\n",
       "    .dataframe tbody tr th {\n",
       "        vertical-align: top;\n",
       "    }\n",
       "\n",
       "    .dataframe thead th {\n",
       "        text-align: right;\n",
       "    }\n",
       "</style>\n",
       "<table border=\"1\" class=\"dataframe\">\n",
       "  <thead>\n",
       "    <tr style=\"text-align: right;\">\n",
       "      <th></th>\n",
       "      <th>state</th>\n",
       "      <th>state_code</th>\n",
       "      <th>year</th>\n",
       "      <th>race</th>\n",
       "      <th>hispanic_origin</th>\n",
       "      <th>births_by_race</th>\n",
       "      <th>deaths_by_race</th>\n",
       "      <th>mmr_by_race</th>\n",
       "      <th>population_by_race</th>\n",
       "      <th>id</th>\n",
       "      <th>state_abbv</th>\n",
       "      <th>latitude</th>\n",
       "      <th>longitude</th>\n",
       "    </tr>\n",
       "  </thead>\n",
       "  <tbody>\n",
       "    <tr>\n",
       "      <th>0</th>\n",
       "      <td>Alabama</td>\n",
       "      <td>1</td>\n",
       "      <td>2016</td>\n",
       "      <td>Black or African American</td>\n",
       "      <td>Not Hispanic or Latino</td>\n",
       "      <td>17989</td>\n",
       "      <td>14</td>\n",
       "      <td>77.83</td>\n",
       "      <td>0</td>\n",
       "      <td>US.AL</td>\n",
       "      <td>AL</td>\n",
       "      <td>32.318231</td>\n",
       "      <td>-86.902298</td>\n",
       "    </tr>\n",
       "    <tr>\n",
       "      <th>1</th>\n",
       "      <td>Alabama</td>\n",
       "      <td>1</td>\n",
       "      <td>2016</td>\n",
       "      <td>White</td>\n",
       "      <td>Not Hispanic or Latino</td>\n",
       "      <td>35319</td>\n",
       "      <td>18</td>\n",
       "      <td>50.96</td>\n",
       "      <td>0</td>\n",
       "      <td>US.AL</td>\n",
       "      <td>AL</td>\n",
       "      <td>32.318231</td>\n",
       "      <td>-86.902298</td>\n",
       "    </tr>\n",
       "    <tr>\n",
       "      <th>2</th>\n",
       "      <td>Alabama</td>\n",
       "      <td>1</td>\n",
       "      <td>2017</td>\n",
       "      <td>Black or African American</td>\n",
       "      <td>Not Hispanic or Latino</td>\n",
       "      <td>18354</td>\n",
       "      <td>25</td>\n",
       "      <td>136.21</td>\n",
       "      <td>704201</td>\n",
       "      <td>US.AL</td>\n",
       "      <td>AL</td>\n",
       "      <td>32.318231</td>\n",
       "      <td>-86.902298</td>\n",
       "    </tr>\n",
       "    <tr>\n",
       "      <th>3</th>\n",
       "      <td>Alabama</td>\n",
       "      <td>1</td>\n",
       "      <td>2017</td>\n",
       "      <td>White</td>\n",
       "      <td>Not Hispanic or Latino</td>\n",
       "      <td>34784</td>\n",
       "      <td>15</td>\n",
       "      <td>43.12</td>\n",
       "      <td>1655605</td>\n",
       "      <td>US.AL</td>\n",
       "      <td>AL</td>\n",
       "      <td>32.318231</td>\n",
       "      <td>-86.902298</td>\n",
       "    </tr>\n",
       "    <tr>\n",
       "      <th>4</th>\n",
       "      <td>Alabama</td>\n",
       "      <td>1</td>\n",
       "      <td>2018</td>\n",
       "      <td>Black or African American</td>\n",
       "      <td>Not Hispanic or Latino</td>\n",
       "      <td>17939</td>\n",
       "      <td>14</td>\n",
       "      <td>78.04</td>\n",
       "      <td>706754</td>\n",
       "      <td>US.AL</td>\n",
       "      <td>AL</td>\n",
       "      <td>32.318231</td>\n",
       "      <td>-86.902298</td>\n",
       "    </tr>\n",
       "  </tbody>\n",
       "</table>\n",
       "</div>"
      ],
      "text/plain": [
       "     state  state_code  year                       race  \\\n",
       "0  Alabama           1  2016  Black or African American   \n",
       "1  Alabama           1  2016                      White   \n",
       "2  Alabama           1  2017  Black or African American   \n",
       "3  Alabama           1  2017                      White   \n",
       "4  Alabama           1  2018  Black or African American   \n",
       "\n",
       "          hispanic_origin  births_by_race  deaths_by_race  mmr_by_race  \\\n",
       "0  Not Hispanic or Latino           17989              14        77.83   \n",
       "1  Not Hispanic or Latino           35319              18        50.96   \n",
       "2  Not Hispanic or Latino           18354              25       136.21   \n",
       "3  Not Hispanic or Latino           34784              15        43.12   \n",
       "4  Not Hispanic or Latino           17939              14        78.04   \n",
       "\n",
       "   population_by_race     id state_abbv   latitude  longitude  \n",
       "0                   0  US.AL         AL  32.318231 -86.902298  \n",
       "1                   0  US.AL         AL  32.318231 -86.902298  \n",
       "2              704201  US.AL         AL  32.318231 -86.902298  \n",
       "3             1655605  US.AL         AL  32.318231 -86.902298  \n",
       "4              706754  US.AL         AL  32.318231 -86.902298  "
      ]
     },
     "execution_count": 3,
     "metadata": {},
     "output_type": "execute_result"
    }
   ],
   "source": [
    "# view dataset of mmr stratified by race \n",
    "df.head()"
   ]
  },
  {
   "cell_type": "markdown",
   "metadata": {},
   "source": [
    "### Viewing Distribution of Data with Histograms by Race"
   ]
  },
  {
   "cell_type": "code",
   "execution_count": 4,
   "metadata": {},
   "outputs": [],
   "source": [
    "# create dataframes for mmr data for each race in our dataset\n",
    "\n",
    "# african american, not hispanic or latino\n",
    "af_amer_mmr = df.loc[(df[\"race\"] == \"Black or African American\") & (df[\"hispanic_origin\"] == \"Not Hispanic or Latino\")]\n",
    "\n",
    "# white, not hispanic or latino\n",
    "wh_mmr = df.loc[(df[\"race\"] == \"White\") & (df[\"hispanic_origin\"] == \"Not Hispanic or Latino\")]\n",
    "\n",
    "# white, hispanic or latino\n",
    "wh_hisp_mmr = df.loc[(df[\"race\"] == \"White\") & (df[\"hispanic_origin\"] == \"Hispanic or Latino\")]\n",
    "\n",
    "# asian, not hispanic or latino\n",
    "asian_mmr = df.loc[(df[\"race\"] == \"Asian or Pacific Islander\") & (df[\"hispanic_origin\"] == \"Not Hispanic or Latino\")]"
   ]
  },
  {
   "cell_type": "code",
   "execution_count": 5,
   "metadata": {},
   "outputs": [
    {
     "data": {
      "image/png": "[encoded data removed]",
      "text/plain": [
       "<Figure size 432x288 with 1 Axes>"
      ]
     },
     "metadata": {
      "needs_background": "light"
     },
     "output_type": "display_data"
    }
   ],
   "source": [
    "af_amer_hist = af_amer_mmr[[\"mmr_by_race\"]].hist(histtype=\"stepfilled\", color=\"#4682B4\", alpha=.75)\n",
    "af_amer_hist\n",
    "\n",
    "plt.title(\"African American MMR\")\n",
    "plt.yticks([0, 10, 20, 30, 40])\n",
    "plt.tight_layout()\n",
    "\n",
    "# save plot\n",
    "plt.savefig(\"../../static/img/af_amer_mmr_histogram.png\")"
   ]
  },
  {
   "cell_type": "code",
   "execution_count": 6,
   "metadata": {},
   "outputs": [
    {
     "data": {
      "image/png": "[encoded data removed]",
      "text/plain": [
       "<Figure size 432x288 with 1 Axes>"
      ]
     },
     "metadata": {
      "needs_background": "light"
     },
     "output_type": "display_data"
    }
   ],
   "source": [
    "wh_mmr_hist = wh_mmr[[\"mmr_by_race\"]].hist(histtype=\"stepfilled\", color=\"#4682B4\", alpha=0.75)\n",
    "wh_mmr_hist\n",
    "\n",
    "plt.title(\"White (not Hispanic or Latino) MMR\")\n",
    "plt.yticks([0, 10, 20, 30, 40])\n",
    "plt.tight_layout()\n",
    "\n",
    "# save plot\n",
    "plt.savefig(\"../../static/img/wh_mmr_histogram.png\")"
   ]
  },
  {
   "cell_type": "code",
   "execution_count": 7,
   "metadata": {},
   "outputs": [
    {
     "data": {
      "image/png": "[encoded data removed]",
      "text/plain": [
       "<Figure size 432x288 with 1 Axes>"
      ]
     },
     "metadata": {
      "needs_background": "light"
     },
     "output_type": "display_data"
    }
   ],
   "source": [
    "hisp_mmr_hist = wh_hisp_mmr[[\"mmr_by_race\"]].hist(histtype=\"stepfilled\", color=\"#4682B4\", alpha=0.75)\n",
    "\n",
    "plt.title(\"Hispanic or Latino MMR\")\n",
    "plt.yticks([0, 10, 20, 30, 40])\n",
    "plt.tight_layout()\n",
    "\n",
    "# save plot\n",
    "plt.savefig(\"../../static/img/his_lat_mmr_histogram.png\")"
   ]
  },
  {
   "cell_type": "code",
   "execution_count": 8,
   "metadata": {},
   "outputs": [
    {
     "data": {
      "image/png": "[encoded data removed]",
      "text/plain": [
       "<Figure size 432x288 with 1 Axes>"
      ]
     },
     "metadata": {
      "needs_background": "light"
     },
     "output_type": "display_data"
    }
   ],
   "source": [
    "asian_mmr_hist = asian_mmr[[\"mmr_by_race\"]].hist(histtype=\"stepfilled\", color=\"#4682B4\", alpha=0.75)\n",
    "\n",
    "plt.title(\"Asian or Pacific Islander MMR\")\n",
    "plt.yticks([0, 10, 20, 30, 40])\n",
    "plt.tight_layout()\n",
    "\n",
    "# save plot\n",
    "plt.savefig(\"../../static/img/asian_mmr_histogram.png\")"
   ]
  },
  {
   "cell_type": "markdown",
   "metadata": {},
   "source": [
    "### Create a Heatmap for Viewing Correlations in Dataset"
   ]
  },
  {
   "cell_type": "code",
   "execution_count": 9,
   "metadata": {},
   "outputs": [
    {
     "data": {
      "text/html": [
       "<div>\n",
       "<style scoped>\n",
       "    .dataframe tbody tr th:only-of-type {\n",
       "        vertical-align: middle;\n",
       "    }\n",
       "\n",
       "    .dataframe tbody tr th {\n",
       "        vertical-align: top;\n",
       "    }\n",
       "\n",
       "    .dataframe thead th {\n",
       "        text-align: right;\n",
       "    }\n",
       "</style>\n",
       "<table border=\"1\" class=\"dataframe\">\n",
       "  <thead>\n",
       "    <tr style=\"text-align: right;\">\n",
       "      <th></th>\n",
       "      <th>state</th>\n",
       "      <th>state_code</th>\n",
       "      <th>year</th>\n",
       "      <th>births_by_race</th>\n",
       "      <th>deaths_by_race</th>\n",
       "      <th>mmr_by_race</th>\n",
       "      <th>population_by_race</th>\n",
       "      <th>id</th>\n",
       "      <th>state_abbv</th>\n",
       "      <th>latitude</th>\n",
       "      <th>longitude</th>\n",
       "      <th>race_Asian or Pacific Islander</th>\n",
       "      <th>race_Black or African American</th>\n",
       "      <th>race_White</th>\n",
       "      <th>hispanic_origin_Hispanic or Latino</th>\n",
       "      <th>hispanic_origin_Not Hispanic or Latino</th>\n",
       "    </tr>\n",
       "  </thead>\n",
       "  <tbody>\n",
       "    <tr>\n",
       "      <th>0</th>\n",
       "      <td>Alabama</td>\n",
       "      <td>1</td>\n",
       "      <td>2016</td>\n",
       "      <td>17989</td>\n",
       "      <td>14</td>\n",
       "      <td>77.83</td>\n",
       "      <td>0</td>\n",
       "      <td>US.AL</td>\n",
       "      <td>AL</td>\n",
       "      <td>32.318231</td>\n",
       "      <td>-86.902298</td>\n",
       "      <td>0</td>\n",
       "      <td>1</td>\n",
       "      <td>0</td>\n",
       "      <td>0</td>\n",
       "      <td>1</td>\n",
       "    </tr>\n",
       "    <tr>\n",
       "      <th>1</th>\n",
       "      <td>Alabama</td>\n",
       "      <td>1</td>\n",
       "      <td>2016</td>\n",
       "      <td>35319</td>\n",
       "      <td>18</td>\n",
       "      <td>50.96</td>\n",
       "      <td>0</td>\n",
       "      <td>US.AL</td>\n",
       "      <td>AL</td>\n",
       "      <td>32.318231</td>\n",
       "      <td>-86.902298</td>\n",
       "      <td>0</td>\n",
       "      <td>0</td>\n",
       "      <td>1</td>\n",
       "      <td>0</td>\n",
       "      <td>1</td>\n",
       "    </tr>\n",
       "    <tr>\n",
       "      <th>2</th>\n",
       "      <td>Alabama</td>\n",
       "      <td>1</td>\n",
       "      <td>2017</td>\n",
       "      <td>18354</td>\n",
       "      <td>25</td>\n",
       "      <td>136.21</td>\n",
       "      <td>704201</td>\n",
       "      <td>US.AL</td>\n",
       "      <td>AL</td>\n",
       "      <td>32.318231</td>\n",
       "      <td>-86.902298</td>\n",
       "      <td>0</td>\n",
       "      <td>1</td>\n",
       "      <td>0</td>\n",
       "      <td>0</td>\n",
       "      <td>1</td>\n",
       "    </tr>\n",
       "    <tr>\n",
       "      <th>3</th>\n",
       "      <td>Alabama</td>\n",
       "      <td>1</td>\n",
       "      <td>2017</td>\n",
       "      <td>34784</td>\n",
       "      <td>15</td>\n",
       "      <td>43.12</td>\n",
       "      <td>1655605</td>\n",
       "      <td>US.AL</td>\n",
       "      <td>AL</td>\n",
       "      <td>32.318231</td>\n",
       "      <td>-86.902298</td>\n",
       "      <td>0</td>\n",
       "      <td>0</td>\n",
       "      <td>1</td>\n",
       "      <td>0</td>\n",
       "      <td>1</td>\n",
       "    </tr>\n",
       "    <tr>\n",
       "      <th>4</th>\n",
       "      <td>Alabama</td>\n",
       "      <td>1</td>\n",
       "      <td>2018</td>\n",
       "      <td>17939</td>\n",
       "      <td>14</td>\n",
       "      <td>78.04</td>\n",
       "      <td>706754</td>\n",
       "      <td>US.AL</td>\n",
       "      <td>AL</td>\n",
       "      <td>32.318231</td>\n",
       "      <td>-86.902298</td>\n",
       "      <td>0</td>\n",
       "      <td>1</td>\n",
       "      <td>0</td>\n",
       "      <td>0</td>\n",
       "      <td>1</td>\n",
       "    </tr>\n",
       "    <tr>\n",
       "      <th>...</th>\n",
       "      <td>...</td>\n",
       "      <td>...</td>\n",
       "      <td>...</td>\n",
       "      <td>...</td>\n",
       "      <td>...</td>\n",
       "      <td>...</td>\n",
       "      <td>...</td>\n",
       "      <td>...</td>\n",
       "      <td>...</td>\n",
       "      <td>...</td>\n",
       "      <td>...</td>\n",
       "      <td>...</td>\n",
       "      <td>...</td>\n",
       "      <td>...</td>\n",
       "      <td>...</td>\n",
       "      <td>...</td>\n",
       "    </tr>\n",
       "    <tr>\n",
       "      <th>383</th>\n",
       "      <td>West Virginia</td>\n",
       "      <td>54</td>\n",
       "      <td>2018</td>\n",
       "      <td>16785</td>\n",
       "      <td>10</td>\n",
       "      <td>59.58</td>\n",
       "      <td>853052</td>\n",
       "      <td>US.WV</td>\n",
       "      <td>WV</td>\n",
       "      <td>38.597626</td>\n",
       "      <td>-80.454903</td>\n",
       "      <td>0</td>\n",
       "      <td>0</td>\n",
       "      <td>1</td>\n",
       "      <td>0</td>\n",
       "      <td>1</td>\n",
       "    </tr>\n",
       "    <tr>\n",
       "      <th>384</th>\n",
       "      <td>Wisconsin</td>\n",
       "      <td>55</td>\n",
       "      <td>2009</td>\n",
       "      <td>52462</td>\n",
       "      <td>10</td>\n",
       "      <td>19.06</td>\n",
       "      <td>0</td>\n",
       "      <td>US.WI</td>\n",
       "      <td>WI</td>\n",
       "      <td>43.784440</td>\n",
       "      <td>-88.787868</td>\n",
       "      <td>0</td>\n",
       "      <td>0</td>\n",
       "      <td>1</td>\n",
       "      <td>0</td>\n",
       "      <td>1</td>\n",
       "    </tr>\n",
       "    <tr>\n",
       "      <th>385</th>\n",
       "      <td>Wisconsin</td>\n",
       "      <td>55</td>\n",
       "      <td>2011</td>\n",
       "      <td>50500</td>\n",
       "      <td>10</td>\n",
       "      <td>19.80</td>\n",
       "      <td>0</td>\n",
       "      <td>US.WI</td>\n",
       "      <td>WI</td>\n",
       "      <td>43.784440</td>\n",
       "      <td>-88.787868</td>\n",
       "      <td>0</td>\n",
       "      <td>0</td>\n",
       "      <td>1</td>\n",
       "      <td>0</td>\n",
       "      <td>1</td>\n",
       "    </tr>\n",
       "    <tr>\n",
       "      <th>386</th>\n",
       "      <td>Wisconsin</td>\n",
       "      <td>55</td>\n",
       "      <td>2014</td>\n",
       "      <td>49440</td>\n",
       "      <td>13</td>\n",
       "      <td>26.29</td>\n",
       "      <td>2409803</td>\n",
       "      <td>US.WI</td>\n",
       "      <td>WI</td>\n",
       "      <td>43.784440</td>\n",
       "      <td>-88.787868</td>\n",
       "      <td>0</td>\n",
       "      <td>0</td>\n",
       "      <td>1</td>\n",
       "      <td>0</td>\n",
       "      <td>1</td>\n",
       "    </tr>\n",
       "    <tr>\n",
       "      <th>387</th>\n",
       "      <td>Wisconsin</td>\n",
       "      <td>55</td>\n",
       "      <td>2015</td>\n",
       "      <td>49024</td>\n",
       "      <td>10</td>\n",
       "      <td>20.40</td>\n",
       "      <td>0</td>\n",
       "      <td>US.WI</td>\n",
       "      <td>WI</td>\n",
       "      <td>43.784440</td>\n",
       "      <td>-88.787868</td>\n",
       "      <td>0</td>\n",
       "      <td>0</td>\n",
       "      <td>1</td>\n",
       "      <td>0</td>\n",
       "      <td>1</td>\n",
       "    </tr>\n",
       "  </tbody>\n",
       "</table>\n",
       "<p>388 rows × 16 columns</p>\n",
       "</div>"
      ],
      "text/plain": [
       "             state  state_code  year  births_by_race  deaths_by_race  \\\n",
       "0          Alabama           1  2016           17989              14   \n",
       "1          Alabama           1  2016           35319              18   \n",
       "2          Alabama           1  2017           18354              25   \n",
       "3          Alabama           1  2017           34784              15   \n",
       "4          Alabama           1  2018           17939              14   \n",
       "..             ...         ...   ...             ...             ...   \n",
       "383  West Virginia          54  2018           16785              10   \n",
       "384      Wisconsin          55  2009           52462              10   \n",
       "385      Wisconsin          55  2011           50500              10   \n",
       "386      Wisconsin          55  2014           49440              13   \n",
       "387      Wisconsin          55  2015           49024              10   \n",
       "\n",
       "     mmr_by_race  population_by_race     id state_abbv   latitude  longitude  \\\n",
       "0          77.83                   0  US.AL         AL  32.318231 -86.902298   \n",
       "1          50.96                   0  US.AL         AL  32.318231 -86.902298   \n",
       "2         136.21              704201  US.AL         AL  32.318231 -86.902298   \n",
       "3          43.12             1655605  US.AL         AL  32.318231 -86.902298   \n",
       "4          78.04              706754  US.AL         AL  32.318231 -86.902298   \n",
       "..           ...                 ...    ...        ...        ...        ...   \n",
       "383        59.58              853052  US.WV         WV  38.597626 -80.454903   \n",
       "384        19.06                   0  US.WI         WI  43.784440 -88.787868   \n",
       "385        19.80                   0  US.WI         WI  43.784440 -88.787868   \n",
       "386        26.29             2409803  US.WI         WI  43.784440 -88.787868   \n",
       "387        20.40                   0  US.WI         WI  43.784440 -88.787868   \n",
       "\n",
       "     race_Asian or Pacific Islander  race_Black or African American  \\\n",
       "0                                 0                               1   \n",
       "1                                 0                               0   \n",
       "2                                 0                               1   \n",
       "3                                 0                               0   \n",
       "4                                 0                               1   \n",
       "..                              ...                             ...   \n",
       "383                               0                               0   \n",
       "384                               0                               0   \n",
       "385                               0                               0   \n",
       "386                               0                               0   \n",
       "387                               0                               0   \n",
       "\n",
       "     race_White  hispanic_origin_Hispanic or Latino  \\\n",
       "0             0                                   0   \n",
       "1             1                                   0   \n",
       "2             0                                   0   \n",
       "3             1                                   0   \n",
       "4             0                                   0   \n",
       "..          ...                                 ...   \n",
       "383           1                                   0   \n",
       "384           1                                   0   \n",
       "385           1                                   0   \n",
       "386           1                                   0   \n",
       "387           1                                   0   \n",
       "\n",
       "     hispanic_origin_Not Hispanic or Latino  \n",
       "0                                         1  \n",
       "1                                         1  \n",
       "2                                         1  \n",
       "3                                         1  \n",
       "4                                         1  \n",
       "..                                      ...  \n",
       "383                                       1  \n",
       "384                                       1  \n",
       "385                                       1  \n",
       "386                                       1  \n",
       "387                                       1  \n",
       "\n",
       "[388 rows x 16 columns]"
      ]
     },
     "execution_count": 9,
     "metadata": {},
     "output_type": "execute_result"
    }
   ],
   "source": [
    "# binary encoding with preserving all columns for heatmap\n",
    "df_binary_encoded = pd.get_dummies(df, columns=[\"race\", \"hispanic_origin\"])\n",
    "df_binary_encoded"
   ]
  },
  {
   "cell_type": "code",
   "execution_count": 10,
   "metadata": {},
   "outputs": [
    {
     "data": {
      "image/png": "[encoded data removed]",
      "text/plain": [
       "<Figure size 800x640 with 2 Axes>"
      ]
     },
     "metadata": {},
     "output_type": "display_data"
    }
   ],
   "source": [
    "# entire df with binary_encoded data for heatmap\n",
    "fig, ax = plt.subplots(figsize=(10, 8), dpi=80, facecolor=\"w\", edgecolor=\"k\")\n",
    "\n",
    "# finding correlation for each feature in dataset \n",
    "corr = df_binary_encoded.corr()\n",
    "\n",
    "# styling guided by https://www.kaggle.com/teampark/mortality-rate-exploration-and-visualization\n",
    "mask = np.zeros_like(corr, dtype=np.bool)\n",
    "mask[np.triu_indices_from(mask)] = True\n",
    "\n",
    "# include diagonal elements also\n",
    "mask[np.diag_indices_from(mask)] = False\n",
    "sns.set(context=\"paper\", style=\"ticks\", font_scale=1.2)\n",
    "\n",
    "# adjust title and fontsize \n",
    "ax.set(title=\"Maternal Mortality Ratio Stratified by Race\")\n",
    "plt.title(\"Maternal Mortality Ratio Stratified by Race\", fontsize=15, fontweight=\"bold\")\n",
    "\n",
    "# plotting the heatmap\n",
    "sns.heatmap(corr, mask=mask, cmap=sns.diverging_palette(220, 10, sep=50, as_cmap=True),\n",
    "            square=True, linewidths=.5, annot=True, ax=ax, fmt=\".2f\", \n",
    "            cbar_kws={\"shrink\": .95, \"extend\": \"both\"})\n",
    "\n",
    "plt.tight_layout()\n",
    "\n",
    "# saving the heatmap\n",
    "plt.savefig(\"../../static/img/heatmap_mmr_strat_by_race.png\")"
   ]
  },
  {
   "cell_type": "markdown",
   "metadata": {},
   "source": [
    "### Linear Regression Model "
   ]
  },
  {
   "cell_type": "markdown",
   "metadata": {},
   "source": [
    "#### setting x and y values"
   ]
  },
  {
   "cell_type": "code",
   "execution_count": 11,
   "metadata": {},
   "outputs": [
    {
     "name": "stdout",
     "output_type": "stream",
     "text": [
      "(388, 6) (388, 1)\n"
     ]
    }
   ],
   "source": [
    "# setting our X and y values for mmr for all races \n",
    "X = df_binary_encoded[[\"race_Asian or Pacific Islander\", \"race_Black or African American\",\n",
    "                       \"race_White\", \"hispanic_origin_Hispanic or Latino\",\n",
    "                       \"hispanic_origin_Not Hispanic or Latino\", \n",
    "                       \"population_by_race\"]]\n",
    "\n",
    "# adjusting features after RFE, these did not improve score \n",
    "# X = df_binary_encoded[[\"race_Asian or Pacific Islander\", \"race_Black or African American\",\n",
    "#                        \"race_White\"]]\n",
    "y = df_binary_encoded[\"mmr_by_race\"].values.reshape(-1, 1)\n",
    "print(X.shape, y.shape)"
   ]
  },
  {
   "cell_type": "markdown",
   "metadata": {},
   "source": [
    "#### Train, Test Split"
   ]
  },
  {
   "cell_type": "code",
   "execution_count": 12,
   "metadata": {},
   "outputs": [
    {
     "data": {
      "text/html": [
       "<div>\n",
       "<style scoped>\n",
       "    .dataframe tbody tr th:only-of-type {\n",
       "        vertical-align: middle;\n",
       "    }\n",
       "\n",
       "    .dataframe tbody tr th {\n",
       "        vertical-align: top;\n",
       "    }\n",
       "\n",
       "    .dataframe thead th {\n",
       "        text-align: right;\n",
       "    }\n",
       "</style>\n",
       "<table border=\"1\" class=\"dataframe\">\n",
       "  <thead>\n",
       "    <tr style=\"text-align: right;\">\n",
       "      <th></th>\n",
       "      <th>race_Asian or Pacific Islander</th>\n",
       "      <th>race_Black or African American</th>\n",
       "      <th>race_White</th>\n",
       "      <th>hispanic_origin_Hispanic or Latino</th>\n",
       "      <th>hispanic_origin_Not Hispanic or Latino</th>\n",
       "      <th>population_by_race</th>\n",
       "    </tr>\n",
       "  </thead>\n",
       "  <tbody>\n",
       "    <tr>\n",
       "      <th>145</th>\n",
       "      <td>0</td>\n",
       "      <td>0</td>\n",
       "      <td>1</td>\n",
       "      <td>0</td>\n",
       "      <td>1</td>\n",
       "      <td>0</td>\n",
       "    </tr>\n",
       "    <tr>\n",
       "      <th>7</th>\n",
       "      <td>0</td>\n",
       "      <td>0</td>\n",
       "      <td>1</td>\n",
       "      <td>0</td>\n",
       "      <td>1</td>\n",
       "      <td>1660160</td>\n",
       "    </tr>\n",
       "    <tr>\n",
       "      <th>19</th>\n",
       "      <td>0</td>\n",
       "      <td>0</td>\n",
       "      <td>1</td>\n",
       "      <td>0</td>\n",
       "      <td>1</td>\n",
       "      <td>1125656</td>\n",
       "    </tr>\n",
       "    <tr>\n",
       "      <th>262</th>\n",
       "      <td>0</td>\n",
       "      <td>1</td>\n",
       "      <td>0</td>\n",
       "      <td>0</td>\n",
       "      <td>1</td>\n",
       "      <td>1221722</td>\n",
       "    </tr>\n",
       "    <tr>\n",
       "      <th>367</th>\n",
       "      <td>0</td>\n",
       "      <td>0</td>\n",
       "      <td>1</td>\n",
       "      <td>0</td>\n",
       "      <td>1</td>\n",
       "      <td>1197984</td>\n",
       "    </tr>\n",
       "  </tbody>\n",
       "</table>\n",
       "</div>"
      ],
      "text/plain": [
       "     race_Asian or Pacific Islander  race_Black or African American  \\\n",
       "145                               0                               0   \n",
       "7                                 0                               0   \n",
       "19                                0                               0   \n",
       "262                               0                               1   \n",
       "367                               0                               0   \n",
       "\n",
       "     race_White  hispanic_origin_Hispanic or Latino  \\\n",
       "145           1                                   0   \n",
       "7             1                                   0   \n",
       "19            1                                   0   \n",
       "262           0                                   0   \n",
       "367           1                                   0   \n",
       "\n",
       "     hispanic_origin_Not Hispanic or Latino  population_by_race  \n",
       "145                                       1                   0  \n",
       "7                                         1             1660160  \n",
       "19                                        1             1125656  \n",
       "262                                       1             1221722  \n",
       "367                                       1             1197984  "
      ]
     },
     "execution_count": 12,
     "metadata": {},
     "output_type": "execute_result"
    }
   ],
   "source": [
    "# use train_test_split to create training and testing data\n",
    "from sklearn.model_selection import train_test_split\n",
    "\n",
    "X_train, X_test, y_train, y_test = train_test_split(X, y, random_state=42)\n",
    "X_train.head()"
   ]
  },
  {
   "cell_type": "code",
   "execution_count": 13,
   "metadata": {},
   "outputs": [
    {
     "data": {
      "text/plain": [
       "192.68"
      ]
     },
     "execution_count": 13,
     "metadata": {},
     "output_type": "execute_result"
    }
   ],
   "source": [
    "y_train.max()\n",
    "# y_train.min()"
   ]
  },
  {
   "cell_type": "markdown",
   "metadata": {},
   "source": [
    "#### Fitting the model with non-scaled data "
   ]
  },
  {
   "cell_type": "code",
   "execution_count": 14,
   "metadata": {},
   "outputs": [
    {
     "data": {
      "text/plain": [
       "LinearRegression(n_jobs=500)"
      ]
     },
     "execution_count": 14,
     "metadata": {},
     "output_type": "execute_result"
    }
   ],
   "source": [
    "# running model without scaling data\n",
    "from sklearn.linear_model import LinearRegression\n",
    "model_no_scale = LinearRegression(n_jobs=500)\n",
    "model_no_scale.fit(X_train, y_train)"
   ]
  },
  {
   "cell_type": "code",
   "execution_count": 15,
   "metadata": {},
   "outputs": [
    {
     "name": "stdout",
     "output_type": "stream",
     "text": [
      "Coefficient of determination (R2): 0.587634628814633\n"
     ]
    }
   ],
   "source": [
    "# find the r2\n",
    "r_sq_no_scale = model_no_scale.score(X_train, y_train)\n",
    "r_sq_no_scale\n",
    "print (\"Coefficient of determination (R2):\", r_sq_no_scale)\n",
    "# 0.587634628814633"
   ]
  },
  {
   "cell_type": "markdown",
   "metadata": {},
   "source": [
    "#### Scoring the model on testing and training data"
   ]
  },
  {
   "cell_type": "code",
   "execution_count": 16,
   "metadata": {},
   "outputs": [
    {
     "name": "stdout",
     "output_type": "stream",
     "text": [
      "MSE: 364.27539582893286\n",
      "R2 Testing: 0.5550222997732394\n",
      "R2 Training: 0.587634628814633\n"
     ]
    }
   ],
   "source": [
    "# make predictions and display r2 for testing and training data without scaling\n",
    "from sklearn.metrics import mean_squared_error\n",
    "\n",
    "predictions1 = model_no_scale.predict(X_test)\n",
    "MSE1 = mean_squared_error(y_test, predictions1)\n",
    "\n",
    "r2_testing1 = model_no_scale.score(X_test, y_test)\n",
    "r2_training1 = model_no_scale.score(X_train, y_train)\n",
    "\n",
    "print(f\"MSE: {MSE1}\") \n",
    "print(f\"R2 Testing: {r2_testing1}\") \n",
    "print(f\"R2 Training: {r2_training1}\")"
   ]
  },
  {
   "cell_type": "markdown",
   "metadata": {},
   "source": [
    "#### Saving the highest-scoring model "
   ]
  },
  {
   "cell_type": "code",
   "execution_count": 17,
   "metadata": {},
   "outputs": [
    {
     "data": {
      "text/plain": [
       "['../models/Linear_Regression_strat_by_race_model_no_scale_Lee.sav']"
      ]
     },
     "execution_count": 17,
     "metadata": {},
     "output_type": "execute_result"
    }
   ],
   "source": [
    "# Saving the model with `joblib`\n",
    "import joblib \n",
    "\n",
    "filename = '../models/Linear_Regression_strat_by_race_model_no_scale_Lee.sav'\n",
    "# commenting out the line below after saving the model to avoid accidental changes\n",
    "# joblib.dump(model_no_scale, filename)"
   ]
  },
  {
   "cell_type": "markdown",
   "metadata": {},
   "source": [
    "#### Plotting the non-scaled training and testing data"
   ]
  },
  {
   "cell_type": "code",
   "execution_count": 17,
   "metadata": {},
   "outputs": [
    {
     "data": {
      "image/png": "[encoded data removed]",
      "text/plain": [
       "<Figure size 432x288 with 1 Axes>"
      ]
     },
     "metadata": {},
     "output_type": "display_data"
    }
   ],
   "source": [
    "# plot data without scaling \n",
    "plt.figure(figsize=(6,4))\n",
    "plt.scatter(model_no_scale.predict(X_train), model_no_scale.predict(X_train) - y_train, c=\"steelblue\", label=\"Training Data\")\n",
    "plt.scatter(model_no_scale.predict(X_test), model_no_scale.predict(X_test) - y_test, c=\"orange\", label=\"Testing Data\")\n",
    "plt.legend()\n",
    "plt.hlines(y=0, xmin=y_test.min(), xmax=y_test.max())\n",
    "plt.title(\"MMR Stratified by Race Dataset, no scaling\")\n",
    "plt.show()"
   ]
  },
  {
   "cell_type": "markdown",
   "metadata": {},
   "source": [
    "#### Scaling the data with standard scaler "
   ]
  },
  {
   "cell_type": "code",
   "execution_count": 18,
   "metadata": {},
   "outputs": [],
   "source": [
    "# choosing standard scaler because we know our data has outliers\n",
    "from sklearn.preprocessing import StandardScaler\n",
    "X_scaler = StandardScaler().fit(X_train)\n",
    "y_scaler = StandardScaler().fit(y_train)"
   ]
  },
  {
   "cell_type": "code",
   "execution_count": 19,
   "metadata": {},
   "outputs": [],
   "source": [
    "X_train_scaled = X_scaler.transform(X_train)\n",
    "X_test_scaled = X_scaler.transform(X_test)\n",
    "y_train_scaled = y_scaler.transform(y_train)\n",
    "y_test_scaled = y_scaler.transform(y_test)"
   ]
  },
  {
   "cell_type": "markdown",
   "metadata": {},
   "source": [
    "#### Fitting Linear Regression model with scaled data"
   ]
  },
  {
   "cell_type": "code",
   "execution_count": 20,
   "metadata": {},
   "outputs": [
    {
     "data": {
      "text/plain": [
       "LinearRegression()"
      ]
     },
     "execution_count": 20,
     "metadata": {},
     "output_type": "execute_result"
    }
   ],
   "source": [
    "# running our model on scaled data \n",
    "from sklearn.linear_model import LinearRegression\n",
    "model = LinearRegression()\n",
    "model.fit(X_train_scaled, y_train_scaled)"
   ]
  },
  {
   "cell_type": "code",
   "execution_count": 21,
   "metadata": {},
   "outputs": [
    {
     "name": "stdout",
     "output_type": "stream",
     "text": [
      "Coefficient of determination (R2): 0.5861630736566594\n"
     ]
    }
   ],
   "source": [
    "# find the r2 for scaled training data\n",
    "r_sq = model.score(X_train_scaled, y_train_scaled)\n",
    "r_sq\n",
    "print (\"Coefficient of determination (R2):\", r_sq)\n",
    "# 0.5861630736566594"
   ]
  },
  {
   "cell_type": "markdown",
   "metadata": {},
   "source": [
    "#### Plotting the scaled training and testing data"
   ]
  },
  {
   "cell_type": "code",
   "execution_count": 22,
   "metadata": {},
   "outputs": [
    {
     "data": {
      "image/png": "[encoded data removed]",
      "text/plain": [
       "<Figure size 432x288 with 1 Axes>"
      ]
     },
     "metadata": {},
     "output_type": "display_data"
    }
   ],
   "source": [
    "# Plot the results \n",
    "plt.figure(figsize=(6,4))\n",
    "plt.scatter(model.predict(X_train_scaled), model.predict(X_train_scaled) - y_train_scaled, c=\"steelblue\", label=\"Training Data\")\n",
    "plt.scatter(model.predict(X_test_scaled), model.predict(X_test_scaled) - y_test_scaled, c=\"orange\", label=\"Testing Data\")\n",
    "plt.legend()\n",
    "plt.hlines(y=0, xmin=y_test_scaled.min(), xmax=y_test_scaled.max())\n",
    "plt.title(\"MMR Stratified by Race Dataset, scaled\")\n",
    "plt.show()"
   ]
  },
  {
   "cell_type": "markdown",
   "metadata": {},
   "source": [
    "#### RFE to Identify Insignificant Variables"
   ]
  },
  {
   "cell_type": "code",
   "execution_count": 23,
   "metadata": {},
   "outputs": [
    {
     "data": {
      "text/html": [
       "<div>\n",
       "<style scoped>\n",
       "    .dataframe tbody tr th:only-of-type {\n",
       "        vertical-align: middle;\n",
       "    }\n",
       "\n",
       "    .dataframe tbody tr th {\n",
       "        vertical-align: top;\n",
       "    }\n",
       "\n",
       "    .dataframe thead th {\n",
       "        text-align: right;\n",
       "    }\n",
       "</style>\n",
       "<table border=\"1\" class=\"dataframe\">\n",
       "  <thead>\n",
       "    <tr style=\"text-align: right;\">\n",
       "      <th></th>\n",
       "      <th>features</th>\n",
       "      <th>support</th>\n",
       "      <th>ranking</th>\n",
       "    </tr>\n",
       "  </thead>\n",
       "  <tbody>\n",
       "    <tr>\n",
       "      <th>0</th>\n",
       "      <td>race_Asian or Pacific Islander</td>\n",
       "      <td>True</td>\n",
       "      <td>1</td>\n",
       "    </tr>\n",
       "    <tr>\n",
       "      <th>1</th>\n",
       "      <td>race_Black or African American</td>\n",
       "      <td>True</td>\n",
       "      <td>1</td>\n",
       "    </tr>\n",
       "    <tr>\n",
       "      <th>2</th>\n",
       "      <td>race_White</td>\n",
       "      <td>True</td>\n",
       "      <td>1</td>\n",
       "    </tr>\n",
       "    <tr>\n",
       "      <th>3</th>\n",
       "      <td>hispanic_origin_Hispanic or Latino</td>\n",
       "      <td>False</td>\n",
       "      <td>3</td>\n",
       "    </tr>\n",
       "    <tr>\n",
       "      <th>4</th>\n",
       "      <td>hispanic_origin_Not Hispanic or Latino</td>\n",
       "      <td>False</td>\n",
       "      <td>2</td>\n",
       "    </tr>\n",
       "    <tr>\n",
       "      <th>5</th>\n",
       "      <td>population_by_race</td>\n",
       "      <td>False</td>\n",
       "      <td>4</td>\n",
       "    </tr>\n",
       "  </tbody>\n",
       "</table>\n",
       "</div>"
      ],
      "text/plain": [
       "                                 features  support  ranking\n",
       "0          race_Asian or Pacific Islander     True        1\n",
       "1          race_Black or African American     True        1\n",
       "2                              race_White     True        1\n",
       "3      hispanic_origin_Hispanic or Latino    False        3\n",
       "4  hispanic_origin_Not Hispanic or Latino    False        2\n",
       "5                      population_by_race    False        4"
      ]
     },
     "execution_count": 23,
     "metadata": {},
     "output_type": "execute_result"
    }
   ],
   "source": [
    "# RFE before predictions to Identify Insignificant Variables \n",
    "from sklearn.feature_selection import RFE\n",
    "# Create the RFE model\n",
    "rfe = RFE(model)\n",
    "# Fit model\n",
    "rfe = rfe.fit(X_train_scaled, y_train_scaled)\n",
    "# summarize the selection of the attributes\n",
    "rfe_df = pd.DataFrame({\n",
    "    'features': X.columns,\n",
    "    'support': rfe.support_,\n",
    "    'ranking': rfe.ranking_\n",
    "})\n",
    "rfe_df\n",
    "# experimented with dropping the features that were false for support for the y\n",
    "# the results did not improve our r2 value "
   ]
  },
  {
   "cell_type": "markdown",
   "metadata": {},
   "source": [
    "#### Scoring the model on testing and training data"
   ]
  },
  {
   "cell_type": "code",
   "execution_count": 24,
   "metadata": {},
   "outputs": [
    {
     "name": "stdout",
     "output_type": "stream",
     "text": [
      "MSE: 0.4618133463506332\n",
      "R2 Testing: 0.5542755745676244\n",
      "R2 Training: 0.5861630736566594\n"
     ]
    }
   ],
   "source": [
    "# make predictions and display r2 for scaled testing and training data\n",
    "from sklearn.metrics import mean_squared_error\n",
    "\n",
    "predictions = model.predict(X_test_scaled)\n",
    "MSE = mean_squared_error(y_test_scaled, predictions)\n",
    "\n",
    "r2_testing = model.score(X_test_scaled, y_test_scaled)\n",
    "r2_training = model.score(X_train_scaled, y_train_scaled)\n",
    "\n",
    "print(f\"MSE: {MSE}\") \n",
    "print(f\"R2 Testing: {r2_testing}\") \n",
    "print(f\"R2 Training: {r2_training}\")"
   ]
  },
  {
   "cell_type": "markdown",
   "metadata": {},
   "source": [
    "### Time-Series Forecast of Average Annual Maternal Mortality in the U.S. using highest scoring model"
   ]
  },
  {
   "cell_type": "markdown",
   "metadata": {},
   "source": [
    "#### Plotting MMR for White, not Hispanic or Latino"
   ]
  },
  {
   "cell_type": "code",
   "execution_count": 52,
   "metadata": {},
   "outputs": [
    {
     "data": {
      "image/png": "[encoded data removed]",
      "text/plain": [
       "<Figure size 432x288 with 1 Axes>"
      ]
     },
     "metadata": {},
     "output_type": "display_data"
    }
   ],
   "source": [
    "# plotting mmr_by_race by year\n",
    "y = \"mmr_by_race\"\n",
    "\n",
    "# .loc for finding specific race\n",
    "wh_enc_df = df_binary_encoded.loc[(df_binary_encoded[\"race_White\"] == 1) & (df_binary_encoded[\"hispanic_origin_Not Hispanic or Latino\"] == 1)]\n",
    "wh_enc_df\n",
    "\n",
    "# group by year\n",
    "avg_wh_df = wh_enc_df.groupby(\"year\").mean()[y]\n",
    "avg_wh_df\n",
    "\n",
    "# plotting barplot of mmr by year, by white race\n",
    "avg_wh_df.plot(kind=\"bar\", yticks=[0, 10, 20, 30, 40, 50, 60, 70, 80, 90], color=\"#5F9EA0\", figsize=(6,4))\n",
    "plt.title(\"Average MMR by Race: White, not Hispanic or Latino\", fontsize=12, fontweight=\"bold\")\n",
    "plt.xlabel(\"Year\", fontweight=\"bold\")\n",
    "plt.ylabel(\"Maternal Mortality Ratio\", fontweight=\"bold\")\n",
    "\n",
    "plt.tight_layout()\n",
    "\n",
    "# save the plot\n",
    "plt.savefig(\"../../static/img/avg_mmr_white.png\")"
   ]
  },
  {
   "cell_type": "code",
   "execution_count": 43,
   "metadata": {},
   "outputs": [
    {
     "data": {
      "text/html": [
       "<div>\n",
       "<style scoped>\n",
       "    .dataframe tbody tr th:only-of-type {\n",
       "        vertical-align: middle;\n",
       "    }\n",
       "\n",
       "    .dataframe tbody tr th {\n",
       "        vertical-align: top;\n",
       "    }\n",
       "\n",
       "    .dataframe thead th {\n",
       "        text-align: right;\n",
       "    }\n",
       "</style>\n",
       "<table border=\"1\" class=\"dataframe\">\n",
       "  <thead>\n",
       "    <tr style=\"text-align: right;\">\n",
       "      <th></th>\n",
       "      <th>year</th>\n",
       "      <th>MMR_White</th>\n",
       "    </tr>\n",
       "  </thead>\n",
       "  <tbody>\n",
       "    <tr>\n",
       "      <th>0</th>\n",
       "      <td>2009</td>\n",
       "      <td>27.388571</td>\n",
       "    </tr>\n",
       "    <tr>\n",
       "      <th>1</th>\n",
       "      <td>2010</td>\n",
       "      <td>24.042727</td>\n",
       "    </tr>\n",
       "    <tr>\n",
       "      <th>2</th>\n",
       "      <td>2011</td>\n",
       "      <td>26.372353</td>\n",
       "    </tr>\n",
       "    <tr>\n",
       "      <th>3</th>\n",
       "      <td>2012</td>\n",
       "      <td>28.588000</td>\n",
       "    </tr>\n",
       "    <tr>\n",
       "      <th>4</th>\n",
       "      <td>2013</td>\n",
       "      <td>32.740500</td>\n",
       "    </tr>\n",
       "    <tr>\n",
       "      <th>5</th>\n",
       "      <td>2014</td>\n",
       "      <td>30.829000</td>\n",
       "    </tr>\n",
       "    <tr>\n",
       "      <th>6</th>\n",
       "      <td>2015</td>\n",
       "      <td>31.277500</td>\n",
       "    </tr>\n",
       "    <tr>\n",
       "      <th>7</th>\n",
       "      <td>2016</td>\n",
       "      <td>32.752083</td>\n",
       "    </tr>\n",
       "    <tr>\n",
       "      <th>8</th>\n",
       "      <td>2017</td>\n",
       "      <td>32.214348</td>\n",
       "    </tr>\n",
       "    <tr>\n",
       "      <th>9</th>\n",
       "      <td>2018</td>\n",
       "      <td>29.984762</td>\n",
       "    </tr>\n",
       "    <tr>\n",
       "      <th>10</th>\n",
       "      <td>2019</td>\n",
       "      <td>28.586111</td>\n",
       "    </tr>\n",
       "  </tbody>\n",
       "</table>\n",
       "</div>"
      ],
      "text/plain": [
       "    year  MMR_White\n",
       "0   2009  27.388571\n",
       "1   2010  24.042727\n",
       "2   2011  26.372353\n",
       "3   2012  28.588000\n",
       "4   2013  32.740500\n",
       "5   2014  30.829000\n",
       "6   2015  31.277500\n",
       "7   2016  32.752083\n",
       "8   2017  32.214348\n",
       "9   2018  29.984762\n",
       "10  2019  28.586111"
      ]
     },
     "execution_count": 43,
     "metadata": {},
     "output_type": "execute_result"
    }
   ],
   "source": [
    "# make a dataframe for White, not Hispanic or Latino, mmr\n",
    "white_mmr = avg_wh_df.reset_index().rename(columns={\"mmr_by_race\":\"MMR_White\"})\n",
    "white_mmr"
   ]
  },
  {
   "cell_type": "code",
   "execution_count": 44,
   "metadata": {},
   "outputs": [
    {
     "data": {
      "text/plain": [
       "year\n",
       "2009    1.735035e+06\n",
       "2010    1.142532e+06\n",
       "2011    6.956229e+05\n",
       "2012    6.621451e+05\n",
       "2013    1.314986e+06\n",
       "2014    1.947600e+06\n",
       "2015    1.492152e+06\n",
       "2016    2.534287e+06\n",
       "2017    3.396045e+06\n",
       "2018    3.380456e+06\n",
       "2019    3.675700e+06\n",
       "Name: population_by_race, dtype: float64"
      ]
     },
     "execution_count": 44,
     "metadata": {},
     "output_type": "execute_result"
    }
   ],
   "source": [
    "# testing adding population by race, but missing values make the calculation off\n",
    "\n",
    "# add population by race and calculate average\n",
    "y = \"population_by_race\"\n",
    "\n",
    "# group by year\n",
    "avg_wh_pop = wh_enc_df.groupby(\"year\").mean()[y]\n",
    "avg_wh_pop"
   ]
  },
  {
   "cell_type": "markdown",
   "metadata": {},
   "source": [
    "#### Plotting MMR for Black or African American, not Hispanic or Latino"
   ]
  },
  {
   "cell_type": "code",
   "execution_count": 28,
   "metadata": {},
   "outputs": [
    {
     "data": {
      "image/png": "[encoded data removed]",
      "text/plain": [
       "<Figure size 468x306 with 1 Axes>"
      ]
     },
     "metadata": {},
     "output_type": "display_data"
    }
   ],
   "source": [
    "# plotting mmr_by_race by year\n",
    "y = \"mmr_by_race\"\n",
    "\n",
    "# .loc for finding specific race\n",
    "af_amer_enc_df = df_binary_encoded.loc[(df_binary_encoded[\"race_Black or African American\"] == 1) & (df_binary_encoded[\"hispanic_origin_Not Hispanic or Latino\"] == 1)]\n",
    "af_amer_enc_df\n",
    "\n",
    "# group by year\n",
    "avg_af_amer_df = af_amer_enc_df.groupby(\"year\").mean()[y]\n",
    "avg_af_amer_df\n",
    "\n",
    "# plotting barplot of mmr by year, by black or african american race\n",
    "avg_af_amer_df.plot(kind=\"bar\", yticks=[0, 10, 20, 30, 40, 50, 60, 70, 80, 90], color=\"#5F9EA0\", figsize=(6.5,4.25))\n",
    "plt.title(\"Average MMR by Race: Black or African American, not Hispanic or Latino\", fontsize=12, fontweight=\"bold\")\n",
    "plt.xlabel(\"Year\", fontweight=\"bold\")\n",
    "plt.ylabel(\"Maternal Mortality Ratio\", fontweight=\"bold\")\n",
    "\n",
    "plt.tight_layout()\n",
    "\n",
    "# save plot\n",
    "plt.savefig(\"../../static/img/avg_mmr_af_amer.png\")"
   ]
  },
  {
   "cell_type": "code",
   "execution_count": 46,
   "metadata": {},
   "outputs": [
    {
     "data": {
      "text/html": [
       "<div>\n",
       "<style scoped>\n",
       "    .dataframe tbody tr th:only-of-type {\n",
       "        vertical-align: middle;\n",
       "    }\n",
       "\n",
       "    .dataframe tbody tr th {\n",
       "        vertical-align: top;\n",
       "    }\n",
       "\n",
       "    .dataframe thead th {\n",
       "        text-align: right;\n",
       "    }\n",
       "</style>\n",
       "<table border=\"1\" class=\"dataframe\">\n",
       "  <thead>\n",
       "    <tr style=\"text-align: right;\">\n",
       "      <th></th>\n",
       "      <th>year</th>\n",
       "      <th>MMR_Black_or_African_American</th>\n",
       "    </tr>\n",
       "  </thead>\n",
       "  <tbody>\n",
       "    <tr>\n",
       "      <th>0</th>\n",
       "      <td>2009</td>\n",
       "      <td>58.173846</td>\n",
       "    </tr>\n",
       "    <tr>\n",
       "      <th>1</th>\n",
       "      <td>2010</td>\n",
       "      <td>61.764444</td>\n",
       "    </tr>\n",
       "    <tr>\n",
       "      <th>2</th>\n",
       "      <td>2011</td>\n",
       "      <td>72.118000</td>\n",
       "    </tr>\n",
       "    <tr>\n",
       "      <th>3</th>\n",
       "      <td>2012</td>\n",
       "      <td>72.866154</td>\n",
       "    </tr>\n",
       "    <tr>\n",
       "      <th>4</th>\n",
       "      <td>2013</td>\n",
       "      <td>83.244545</td>\n",
       "    </tr>\n",
       "    <tr>\n",
       "      <th>5</th>\n",
       "      <td>2014</td>\n",
       "      <td>82.588462</td>\n",
       "    </tr>\n",
       "    <tr>\n",
       "      <th>6</th>\n",
       "      <td>2015</td>\n",
       "      <td>78.995833</td>\n",
       "    </tr>\n",
       "    <tr>\n",
       "      <th>7</th>\n",
       "      <td>2016</td>\n",
       "      <td>81.009333</td>\n",
       "    </tr>\n",
       "    <tr>\n",
       "      <th>8</th>\n",
       "      <td>2017</td>\n",
       "      <td>72.500000</td>\n",
       "    </tr>\n",
       "    <tr>\n",
       "      <th>9</th>\n",
       "      <td>2018</td>\n",
       "      <td>64.248333</td>\n",
       "    </tr>\n",
       "    <tr>\n",
       "      <th>10</th>\n",
       "      <td>2019</td>\n",
       "      <td>71.577059</td>\n",
       "    </tr>\n",
       "  </tbody>\n",
       "</table>\n",
       "</div>"
      ],
      "text/plain": [
       "    year  MMR_Black_or_African_American\n",
       "0   2009                      58.173846\n",
       "1   2010                      61.764444\n",
       "2   2011                      72.118000\n",
       "3   2012                      72.866154\n",
       "4   2013                      83.244545\n",
       "5   2014                      82.588462\n",
       "6   2015                      78.995833\n",
       "7   2016                      81.009333\n",
       "8   2017                      72.500000\n",
       "9   2018                      64.248333\n",
       "10  2019                      71.577059"
      ]
     },
     "execution_count": 46,
     "metadata": {},
     "output_type": "execute_result"
    }
   ],
   "source": [
    "# make a dataframe for Black or African American, not Hispanic or Latino, mmr\n",
    "black_mmr = avg_af_amer_df.reset_index().rename(columns={\"mmr_by_race\":\"MMR_Black_or_African_American\"})\n",
    "black_mmr"
   ]
  },
  {
   "cell_type": "markdown",
   "metadata": {},
   "source": [
    "#### merging white and black mmr dataframes"
   ]
  },
  {
   "cell_type": "code",
   "execution_count": 47,
   "metadata": {},
   "outputs": [
    {
     "data": {
      "text/html": [
       "<div>\n",
       "<style scoped>\n",
       "    .dataframe tbody tr th:only-of-type {\n",
       "        vertical-align: middle;\n",
       "    }\n",
       "\n",
       "    .dataframe tbody tr th {\n",
       "        vertical-align: top;\n",
       "    }\n",
       "\n",
       "    .dataframe thead th {\n",
       "        text-align: right;\n",
       "    }\n",
       "</style>\n",
       "<table border=\"1\" class=\"dataframe\">\n",
       "  <thead>\n",
       "    <tr style=\"text-align: right;\">\n",
       "      <th></th>\n",
       "      <th>year</th>\n",
       "      <th>MMR_White</th>\n",
       "      <th>MMR_Black_or_African_American</th>\n",
       "    </tr>\n",
       "  </thead>\n",
       "  <tbody>\n",
       "    <tr>\n",
       "      <th>0</th>\n",
       "      <td>2009</td>\n",
       "      <td>27.388571</td>\n",
       "      <td>58.173846</td>\n",
       "    </tr>\n",
       "    <tr>\n",
       "      <th>1</th>\n",
       "      <td>2010</td>\n",
       "      <td>24.042727</td>\n",
       "      <td>61.764444</td>\n",
       "    </tr>\n",
       "    <tr>\n",
       "      <th>2</th>\n",
       "      <td>2011</td>\n",
       "      <td>26.372353</td>\n",
       "      <td>72.118000</td>\n",
       "    </tr>\n",
       "    <tr>\n",
       "      <th>3</th>\n",
       "      <td>2012</td>\n",
       "      <td>28.588000</td>\n",
       "      <td>72.866154</td>\n",
       "    </tr>\n",
       "    <tr>\n",
       "      <th>4</th>\n",
       "      <td>2013</td>\n",
       "      <td>32.740500</td>\n",
       "      <td>83.244545</td>\n",
       "    </tr>\n",
       "    <tr>\n",
       "      <th>5</th>\n",
       "      <td>2014</td>\n",
       "      <td>30.829000</td>\n",
       "      <td>82.588462</td>\n",
       "    </tr>\n",
       "    <tr>\n",
       "      <th>6</th>\n",
       "      <td>2015</td>\n",
       "      <td>31.277500</td>\n",
       "      <td>78.995833</td>\n",
       "    </tr>\n",
       "    <tr>\n",
       "      <th>7</th>\n",
       "      <td>2016</td>\n",
       "      <td>32.752083</td>\n",
       "      <td>81.009333</td>\n",
       "    </tr>\n",
       "    <tr>\n",
       "      <th>8</th>\n",
       "      <td>2017</td>\n",
       "      <td>32.214348</td>\n",
       "      <td>72.500000</td>\n",
       "    </tr>\n",
       "    <tr>\n",
       "      <th>9</th>\n",
       "      <td>2018</td>\n",
       "      <td>29.984762</td>\n",
       "      <td>64.248333</td>\n",
       "    </tr>\n",
       "    <tr>\n",
       "      <th>10</th>\n",
       "      <td>2019</td>\n",
       "      <td>28.586111</td>\n",
       "      <td>71.577059</td>\n",
       "    </tr>\n",
       "  </tbody>\n",
       "</table>\n",
       "</div>"
      ],
      "text/plain": [
       "    year  MMR_White  MMR_Black_or_African_American\n",
       "0   2009  27.388571                      58.173846\n",
       "1   2010  24.042727                      61.764444\n",
       "2   2011  26.372353                      72.118000\n",
       "3   2012  28.588000                      72.866154\n",
       "4   2013  32.740500                      83.244545\n",
       "5   2014  30.829000                      82.588462\n",
       "6   2015  31.277500                      78.995833\n",
       "7   2016  32.752083                      81.009333\n",
       "8   2017  32.214348                      72.500000\n",
       "9   2018  29.984762                      64.248333\n",
       "10  2019  28.586111                      71.577059"
      ]
     },
     "execution_count": 47,
     "metadata": {},
     "output_type": "execute_result"
    }
   ],
   "source": [
    "# merge our first two by_race dataframes\n",
    "merged_1 = pd.merge(white_mmr, black_mmr, how=\"inner\", left_on=[\"year\"], right_on=[\"year\"])\n",
    "merged_1"
   ]
  },
  {
   "cell_type": "markdown",
   "metadata": {},
   "source": [
    "#### Plotting MMR for Asian or Pacific Islander"
   ]
  },
  {
   "cell_type": "code",
   "execution_count": 26,
   "metadata": {},
   "outputs": [
    {
     "data": {
      "image/png": "[encoded data removed]",
      "text/plain": [
       "<Figure size 468x306 with 1 Axes>"
      ]
     },
     "metadata": {},
     "output_type": "display_data"
    }
   ],
   "source": [
    "# plotting mmr_by_race by year\n",
    "y = \"mmr_by_race\"\n",
    "\n",
    "# .loc for finding specific race\n",
    "asian_enc_df = df_binary_encoded.loc[(df_binary_encoded[\"race_Asian or Pacific Islander\"] == 1) & (df_binary_encoded[\"hispanic_origin_Not Hispanic or Latino\"] == 1)]\n",
    "asian_enc_df\n",
    "\n",
    "# group by year\n",
    "avg_asian_df = asian_enc_df.groupby(\"year\").mean()[y]\n",
    "avg_asian_df\n",
    "\n",
    "# plotting barplot of mmr by year, by asian race\n",
    "avg_asian_df.plot(kind=\"bar\", yticks=[0, 10, 20, 30, 40, 50, 60, 70, 80, 90], color=\"#5F9EA0\", figsize=(6.5,4.25))\n",
    "plt.title(\"Average MMR by Race: Asian or Pacific Islander, not Hispanic or Latino\", fontsize=12, fontweight=\"bold\")\n",
    "\n",
    "plt.xlabel(\"Year\", fontweight=\"bold\")\n",
    "plt.ylabel(\"Maternal Mortality Ratio\", fontweight=\"bold\")\n",
    "\n",
    "plt.tight_layout()\n",
    "\n",
    "# save plot\n",
    "plt.savefig(\"../../static/img/avg_mmr_asian.png\")"
   ]
  },
  {
   "cell_type": "code",
   "execution_count": 55,
   "metadata": {},
   "outputs": [
    {
     "data": {
      "text/html": [
       "<div>\n",
       "<style scoped>\n",
       "    .dataframe tbody tr th:only-of-type {\n",
       "        vertical-align: middle;\n",
       "    }\n",
       "\n",
       "    .dataframe tbody tr th {\n",
       "        vertical-align: top;\n",
       "    }\n",
       "\n",
       "    .dataframe thead th {\n",
       "        text-align: right;\n",
       "    }\n",
       "</style>\n",
       "<table border=\"1\" class=\"dataframe\">\n",
       "  <thead>\n",
       "    <tr style=\"text-align: right;\">\n",
       "      <th></th>\n",
       "      <th>year</th>\n",
       "      <th>MMR_Asian_or_Pacific_Islander</th>\n",
       "    </tr>\n",
       "  </thead>\n",
       "  <tbody>\n",
       "    <tr>\n",
       "      <th>0</th>\n",
       "      <td>2010</td>\n",
       "      <td>16.82</td>\n",
       "    </tr>\n",
       "    <tr>\n",
       "      <th>1</th>\n",
       "      <td>2013</td>\n",
       "      <td>13.75</td>\n",
       "    </tr>\n",
       "    <tr>\n",
       "      <th>2</th>\n",
       "      <td>2014</td>\n",
       "      <td>13.83</td>\n",
       "    </tr>\n",
       "    <tr>\n",
       "      <th>3</th>\n",
       "      <td>2016</td>\n",
       "      <td>20.46</td>\n",
       "    </tr>\n",
       "    <tr>\n",
       "      <th>4</th>\n",
       "      <td>2018</td>\n",
       "      <td>19.24</td>\n",
       "    </tr>\n",
       "    <tr>\n",
       "      <th>5</th>\n",
       "      <td>2019</td>\n",
       "      <td>18.12</td>\n",
       "    </tr>\n",
       "  </tbody>\n",
       "</table>\n",
       "</div>"
      ],
      "text/plain": [
       "   year  MMR_Asian_or_Pacific_Islander\n",
       "0  2010                          16.82\n",
       "1  2013                          13.75\n",
       "2  2014                          13.83\n",
       "3  2016                          20.46\n",
       "4  2018                          19.24\n",
       "5  2019                          18.12"
      ]
     },
     "execution_count": 55,
     "metadata": {},
     "output_type": "execute_result"
    }
   ],
   "source": [
    "# make a dataframe for Asian, not Hispanic or Latino, mmr\n",
    "asian_mmr = avg_asian_df.reset_index().rename(columns={\"mmr_by_race\":\"MMR_Asian_or_Pacific_Islander\"})\n",
    "asian_mmr"
   ]
  },
  {
   "cell_type": "markdown",
   "metadata": {},
   "source": [
    "#### merging combined white and black df with asian df"
   ]
  },
  {
   "cell_type": "code",
   "execution_count": 56,
   "metadata": {},
   "outputs": [
    {
     "data": {
      "text/html": [
       "<div>\n",
       "<style scoped>\n",
       "    .dataframe tbody tr th:only-of-type {\n",
       "        vertical-align: middle;\n",
       "    }\n",
       "\n",
       "    .dataframe tbody tr th {\n",
       "        vertical-align: top;\n",
       "    }\n",
       "\n",
       "    .dataframe thead th {\n",
       "        text-align: right;\n",
       "    }\n",
       "</style>\n",
       "<table border=\"1\" class=\"dataframe\">\n",
       "  <thead>\n",
       "    <tr style=\"text-align: right;\">\n",
       "      <th></th>\n",
       "      <th>year</th>\n",
       "      <th>MMR_White</th>\n",
       "      <th>MMR_Black_or_African_American</th>\n",
       "      <th>MMR_Asian_or_Pacific_Islander</th>\n",
       "    </tr>\n",
       "  </thead>\n",
       "  <tbody>\n",
       "    <tr>\n",
       "      <th>0</th>\n",
       "      <td>2009</td>\n",
       "      <td>27.388571</td>\n",
       "      <td>58.173846</td>\n",
       "      <td>0.00</td>\n",
       "    </tr>\n",
       "    <tr>\n",
       "      <th>1</th>\n",
       "      <td>2010</td>\n",
       "      <td>24.042727</td>\n",
       "      <td>61.764444</td>\n",
       "      <td>16.82</td>\n",
       "    </tr>\n",
       "    <tr>\n",
       "      <th>2</th>\n",
       "      <td>2011</td>\n",
       "      <td>26.372353</td>\n",
       "      <td>72.118000</td>\n",
       "      <td>0.00</td>\n",
       "    </tr>\n",
       "    <tr>\n",
       "      <th>3</th>\n",
       "      <td>2012</td>\n",
       "      <td>28.588000</td>\n",
       "      <td>72.866154</td>\n",
       "      <td>0.00</td>\n",
       "    </tr>\n",
       "    <tr>\n",
       "      <th>4</th>\n",
       "      <td>2013</td>\n",
       "      <td>32.740500</td>\n",
       "      <td>83.244545</td>\n",
       "      <td>13.75</td>\n",
       "    </tr>\n",
       "    <tr>\n",
       "      <th>5</th>\n",
       "      <td>2014</td>\n",
       "      <td>30.829000</td>\n",
       "      <td>82.588462</td>\n",
       "      <td>13.83</td>\n",
       "    </tr>\n",
       "    <tr>\n",
       "      <th>6</th>\n",
       "      <td>2015</td>\n",
       "      <td>31.277500</td>\n",
       "      <td>78.995833</td>\n",
       "      <td>0.00</td>\n",
       "    </tr>\n",
       "    <tr>\n",
       "      <th>7</th>\n",
       "      <td>2016</td>\n",
       "      <td>32.752083</td>\n",
       "      <td>81.009333</td>\n",
       "      <td>20.46</td>\n",
       "    </tr>\n",
       "    <tr>\n",
       "      <th>8</th>\n",
       "      <td>2017</td>\n",
       "      <td>32.214348</td>\n",
       "      <td>72.500000</td>\n",
       "      <td>0.00</td>\n",
       "    </tr>\n",
       "    <tr>\n",
       "      <th>9</th>\n",
       "      <td>2018</td>\n",
       "      <td>29.984762</td>\n",
       "      <td>64.248333</td>\n",
       "      <td>19.24</td>\n",
       "    </tr>\n",
       "    <tr>\n",
       "      <th>10</th>\n",
       "      <td>2019</td>\n",
       "      <td>28.586111</td>\n",
       "      <td>71.577059</td>\n",
       "      <td>18.12</td>\n",
       "    </tr>\n",
       "  </tbody>\n",
       "</table>\n",
       "</div>"
      ],
      "text/plain": [
       "    year  MMR_White  MMR_Black_or_African_American  \\\n",
       "0   2009  27.388571                      58.173846   \n",
       "1   2010  24.042727                      61.764444   \n",
       "2   2011  26.372353                      72.118000   \n",
       "3   2012  28.588000                      72.866154   \n",
       "4   2013  32.740500                      83.244545   \n",
       "5   2014  30.829000                      82.588462   \n",
       "6   2015  31.277500                      78.995833   \n",
       "7   2016  32.752083                      81.009333   \n",
       "8   2017  32.214348                      72.500000   \n",
       "9   2018  29.984762                      64.248333   \n",
       "10  2019  28.586111                      71.577059   \n",
       "\n",
       "    MMR_Asian_or_Pacific_Islander  \n",
       "0                            0.00  \n",
       "1                           16.82  \n",
       "2                            0.00  \n",
       "3                            0.00  \n",
       "4                           13.75  \n",
       "5                           13.83  \n",
       "6                            0.00  \n",
       "7                           20.46  \n",
       "8                            0.00  \n",
       "9                           19.24  \n",
       "10                          18.12  "
      ]
     },
     "execution_count": 56,
     "metadata": {},
     "output_type": "execute_result"
    }
   ],
   "source": [
    "# merge with our by_race dataframes\n",
    "merged_2 = pd.merge(merged_1, asian_mmr, how=\"outer\", left_on=[\"year\"], right_on=[\"year\"])\n",
    "merged_2\n",
    "\n",
    "# replace NaN with O for our missing values for mmr_by_race for Asian\n",
    "merged_2.fillna(0)"
   ]
  },
  {
   "cell_type": "markdown",
   "metadata": {},
   "source": [
    "#### Plotting MMR for Hispanic or Latino"
   ]
  },
  {
   "cell_type": "code",
   "execution_count": 57,
   "metadata": {},
   "outputs": [
    {
     "data": {
      "image/png": "[encoded data removed]",
      "text/plain": [
       "<Figure size 432x288 with 1 Axes>"
      ]
     },
     "metadata": {},
     "output_type": "display_data"
    }
   ],
   "source": [
    "# plotting mmr_by_race by year\n",
    "y = \"mmr_by_race\"\n",
    "\n",
    "# .loc for finding specific race\n",
    "his_enc_df = df_binary_encoded.loc[(df_binary_encoded[\"hispanic_origin_Hispanic or Latino\"] == 1)]\n",
    "his_enc_df\n",
    "\n",
    "# group by year\n",
    "avg_his_df = his_enc_df.groupby(\"year\").mean()[y]\n",
    "avg_his_df\n",
    "\n",
    "# plotting barplot of mmr by year, by white race\n",
    "avg_his_df.plot(kind=\"bar\", yticks=[0, 10, 20, 30, 40, 50, 60, 70, 80, 90], color=\"#5F9EA0\", figsize=(6,4))\n",
    "plt.title(\"Average MMR by Race: White, Hispanic or Latino\", fontsize=12, fontweight=\"bold\")\n",
    "\n",
    "plt.xlabel(\"Year\", fontweight=\"bold\")\n",
    "plt.ylabel(\"Maternal Mortality Ratio\", fontweight=\"bold\")\n",
    "\n",
    "plt.tight_layout()\n",
    "\n",
    "# save plot\n",
    "plt.savefig(\"../../static/img/avg_mmr_hispanic.png\")"
   ]
  },
  {
   "cell_type": "code",
   "execution_count": 58,
   "metadata": {},
   "outputs": [
    {
     "data": {
      "text/html": [
       "<div>\n",
       "<style scoped>\n",
       "    .dataframe tbody tr th:only-of-type {\n",
       "        vertical-align: middle;\n",
       "    }\n",
       "\n",
       "    .dataframe tbody tr th {\n",
       "        vertical-align: top;\n",
       "    }\n",
       "\n",
       "    .dataframe thead th {\n",
       "        text-align: right;\n",
       "    }\n",
       "</style>\n",
       "<table border=\"1\" class=\"dataframe\">\n",
       "  <thead>\n",
       "    <tr style=\"text-align: right;\">\n",
       "      <th></th>\n",
       "      <th>year</th>\n",
       "      <th>MMR_Hispanic_or_Latino</th>\n",
       "    </tr>\n",
       "  </thead>\n",
       "  <tbody>\n",
       "    <tr>\n",
       "      <th>0</th>\n",
       "      <td>2009</td>\n",
       "      <td>24.107500</td>\n",
       "    </tr>\n",
       "    <tr>\n",
       "      <th>1</th>\n",
       "      <td>2010</td>\n",
       "      <td>20.000000</td>\n",
       "    </tr>\n",
       "    <tr>\n",
       "      <th>2</th>\n",
       "      <td>2011</td>\n",
       "      <td>18.496667</td>\n",
       "    </tr>\n",
       "    <tr>\n",
       "      <th>3</th>\n",
       "      <td>2012</td>\n",
       "      <td>22.103333</td>\n",
       "    </tr>\n",
       "    <tr>\n",
       "      <th>4</th>\n",
       "      <td>2013</td>\n",
       "      <td>26.713333</td>\n",
       "    </tr>\n",
       "    <tr>\n",
       "      <th>5</th>\n",
       "      <td>2014</td>\n",
       "      <td>20.375000</td>\n",
       "    </tr>\n",
       "    <tr>\n",
       "      <th>6</th>\n",
       "      <td>2015</td>\n",
       "      <td>19.556667</td>\n",
       "    </tr>\n",
       "    <tr>\n",
       "      <th>7</th>\n",
       "      <td>2016</td>\n",
       "      <td>29.912500</td>\n",
       "    </tr>\n",
       "    <tr>\n",
       "      <th>8</th>\n",
       "      <td>2017</td>\n",
       "      <td>23.612500</td>\n",
       "    </tr>\n",
       "    <tr>\n",
       "      <th>9</th>\n",
       "      <td>2018</td>\n",
       "      <td>20.577500</td>\n",
       "    </tr>\n",
       "    <tr>\n",
       "      <th>10</th>\n",
       "      <td>2019</td>\n",
       "      <td>30.076000</td>\n",
       "    </tr>\n",
       "  </tbody>\n",
       "</table>\n",
       "</div>"
      ],
      "text/plain": [
       "    year  MMR_Hispanic_or_Latino\n",
       "0   2009               24.107500\n",
       "1   2010               20.000000\n",
       "2   2011               18.496667\n",
       "3   2012               22.103333\n",
       "4   2013               26.713333\n",
       "5   2014               20.375000\n",
       "6   2015               19.556667\n",
       "7   2016               29.912500\n",
       "8   2017               23.612500\n",
       "9   2018               20.577500\n",
       "10  2019               30.076000"
      ]
     },
     "execution_count": 58,
     "metadata": {},
     "output_type": "execute_result"
    }
   ],
   "source": [
    "# make a dataframe for Hispanic or Latino\n",
    "his_mmr = avg_his_df.reset_index().rename(columns={\"mmr_by_race\":\"MMR_Hispanic_or_Latino\"})\n",
    "his_mmr"
   ]
  },
  {
   "cell_type": "markdown",
   "metadata": {},
   "source": [
    "#### merging combined white, black, asian df with hispanic df"
   ]
  },
  {
   "cell_type": "code",
   "execution_count": 37,
   "metadata": {},
   "outputs": [
    {
     "data": {
      "text/html": [
       "<div>\n",
       "<style scoped>\n",
       "    .dataframe tbody tr th:only-of-type {\n",
       "        vertical-align: middle;\n",
       "    }\n",
       "\n",
       "    .dataframe tbody tr th {\n",
       "        vertical-align: top;\n",
       "    }\n",
       "\n",
       "    .dataframe thead th {\n",
       "        text-align: right;\n",
       "    }\n",
       "</style>\n",
       "<table border=\"1\" class=\"dataframe\">\n",
       "  <thead>\n",
       "    <tr style=\"text-align: right;\">\n",
       "      <th></th>\n",
       "      <th>year</th>\n",
       "      <th>MMR_White</th>\n",
       "      <th>MMR_Black_or_African_American</th>\n",
       "      <th>MMR_Asian_or_Pacific_Islander</th>\n",
       "      <th>MMR_Hispanic_or_Latino</th>\n",
       "    </tr>\n",
       "  </thead>\n",
       "  <tbody>\n",
       "    <tr>\n",
       "      <th>0</th>\n",
       "      <td>2009</td>\n",
       "      <td>27.388571</td>\n",
       "      <td>58.173846</td>\n",
       "      <td>NaN</td>\n",
       "      <td>24.107500</td>\n",
       "    </tr>\n",
       "    <tr>\n",
       "      <th>1</th>\n",
       "      <td>2010</td>\n",
       "      <td>24.042727</td>\n",
       "      <td>61.764444</td>\n",
       "      <td>16.82</td>\n",
       "      <td>20.000000</td>\n",
       "    </tr>\n",
       "    <tr>\n",
       "      <th>2</th>\n",
       "      <td>2011</td>\n",
       "      <td>26.372353</td>\n",
       "      <td>72.118000</td>\n",
       "      <td>NaN</td>\n",
       "      <td>18.496667</td>\n",
       "    </tr>\n",
       "    <tr>\n",
       "      <th>3</th>\n",
       "      <td>2012</td>\n",
       "      <td>28.588000</td>\n",
       "      <td>72.866154</td>\n",
       "      <td>NaN</td>\n",
       "      <td>22.103333</td>\n",
       "    </tr>\n",
       "    <tr>\n",
       "      <th>4</th>\n",
       "      <td>2013</td>\n",
       "      <td>32.740500</td>\n",
       "      <td>83.244545</td>\n",
       "      <td>13.75</td>\n",
       "      <td>26.713333</td>\n",
       "    </tr>\n",
       "    <tr>\n",
       "      <th>5</th>\n",
       "      <td>2014</td>\n",
       "      <td>30.829000</td>\n",
       "      <td>82.588462</td>\n",
       "      <td>13.83</td>\n",
       "      <td>20.375000</td>\n",
       "    </tr>\n",
       "    <tr>\n",
       "      <th>6</th>\n",
       "      <td>2015</td>\n",
       "      <td>31.277500</td>\n",
       "      <td>78.995833</td>\n",
       "      <td>NaN</td>\n",
       "      <td>19.556667</td>\n",
       "    </tr>\n",
       "    <tr>\n",
       "      <th>7</th>\n",
       "      <td>2016</td>\n",
       "      <td>32.752083</td>\n",
       "      <td>81.009333</td>\n",
       "      <td>20.46</td>\n",
       "      <td>29.912500</td>\n",
       "    </tr>\n",
       "    <tr>\n",
       "      <th>8</th>\n",
       "      <td>2017</td>\n",
       "      <td>32.214348</td>\n",
       "      <td>72.500000</td>\n",
       "      <td>NaN</td>\n",
       "      <td>23.612500</td>\n",
       "    </tr>\n",
       "    <tr>\n",
       "      <th>9</th>\n",
       "      <td>2018</td>\n",
       "      <td>29.984762</td>\n",
       "      <td>64.248333</td>\n",
       "      <td>19.24</td>\n",
       "      <td>20.577500</td>\n",
       "    </tr>\n",
       "    <tr>\n",
       "      <th>10</th>\n",
       "      <td>2019</td>\n",
       "      <td>28.586111</td>\n",
       "      <td>71.577059</td>\n",
       "      <td>18.12</td>\n",
       "      <td>30.076000</td>\n",
       "    </tr>\n",
       "  </tbody>\n",
       "</table>\n",
       "</div>"
      ],
      "text/plain": [
       "    year  MMR_White  MMR_Black_or_African_American  \\\n",
       "0   2009  27.388571                      58.173846   \n",
       "1   2010  24.042727                      61.764444   \n",
       "2   2011  26.372353                      72.118000   \n",
       "3   2012  28.588000                      72.866154   \n",
       "4   2013  32.740500                      83.244545   \n",
       "5   2014  30.829000                      82.588462   \n",
       "6   2015  31.277500                      78.995833   \n",
       "7   2016  32.752083                      81.009333   \n",
       "8   2017  32.214348                      72.500000   \n",
       "9   2018  29.984762                      64.248333   \n",
       "10  2019  28.586111                      71.577059   \n",
       "\n",
       "    MMR_Asian_or_Pacific_Islander  MMR_Hispanic_or_Latino  \n",
       "0                             NaN               24.107500  \n",
       "1                           16.82               20.000000  \n",
       "2                             NaN               18.496667  \n",
       "3                             NaN               22.103333  \n",
       "4                           13.75               26.713333  \n",
       "5                           13.83               20.375000  \n",
       "6                             NaN               19.556667  \n",
       "7                           20.46               29.912500  \n",
       "8                             NaN               23.612500  \n",
       "9                           19.24               20.577500  \n",
       "10                          18.12               30.076000  "
      ]
     },
     "execution_count": 37,
     "metadata": {},
     "output_type": "execute_result"
    }
   ],
   "source": [
    "# merge with our by_race dataframes\n",
    "merged_3 = pd.merge(merged_2, his_mmr, how=\"inner\", left_on=[\"year\"], right_on=[\"year\"])\n",
    "\n",
    "merged_3"
   ]
  },
  {
   "cell_type": "markdown",
   "metadata": {},
   "source": [
    "### Saving DataFrame with Average MMR for Each Race to CSV"
   ]
  },
  {
   "cell_type": "code",
   "execution_count": 38,
   "metadata": {},
   "outputs": [],
   "source": [
    "# saving merged df to csv, without the index, but with the header\n",
    "merged_3.to_csv(\"../Resources/stratified_by_race_avg_mmr_2009_2019.csv\", index=False, header=True, float_format='%.2f')"
   ]
  },
  {
   "cell_type": "code",
   "execution_count": 39,
   "metadata": {},
   "outputs": [
    {
     "data": {
      "text/html": [
       "<div>\n",
       "<style scoped>\n",
       "    .dataframe tbody tr th:only-of-type {\n",
       "        vertical-align: middle;\n",
       "    }\n",
       "\n",
       "    .dataframe tbody tr th {\n",
       "        vertical-align: top;\n",
       "    }\n",
       "\n",
       "    .dataframe thead th {\n",
       "        text-align: right;\n",
       "    }\n",
       "</style>\n",
       "<table border=\"1\" class=\"dataframe\">\n",
       "  <thead>\n",
       "    <tr style=\"text-align: right;\">\n",
       "      <th></th>\n",
       "      <th>year</th>\n",
       "      <th>Black or African American</th>\n",
       "      <th>White</th>\n",
       "      <th>Hispanic or Latino</th>\n",
       "      <th>Asian or Pacific Islander</th>\n",
       "    </tr>\n",
       "  </thead>\n",
       "  <tbody>\n",
       "    <tr>\n",
       "      <th>0</th>\n",
       "      <td>2009</td>\n",
       "      <td>58.173846</td>\n",
       "      <td>27.388571</td>\n",
       "      <td>24.107500</td>\n",
       "      <td>NaN</td>\n",
       "    </tr>\n",
       "    <tr>\n",
       "      <th>1</th>\n",
       "      <td>2010</td>\n",
       "      <td>61.764444</td>\n",
       "      <td>24.042727</td>\n",
       "      <td>20.000000</td>\n",
       "      <td>16.82</td>\n",
       "    </tr>\n",
       "    <tr>\n",
       "      <th>2</th>\n",
       "      <td>2011</td>\n",
       "      <td>72.118000</td>\n",
       "      <td>26.372353</td>\n",
       "      <td>18.496667</td>\n",
       "      <td>NaN</td>\n",
       "    </tr>\n",
       "    <tr>\n",
       "      <th>3</th>\n",
       "      <td>2012</td>\n",
       "      <td>72.866154</td>\n",
       "      <td>28.588000</td>\n",
       "      <td>22.103333</td>\n",
       "      <td>NaN</td>\n",
       "    </tr>\n",
       "    <tr>\n",
       "      <th>4</th>\n",
       "      <td>2013</td>\n",
       "      <td>83.244545</td>\n",
       "      <td>32.740500</td>\n",
       "      <td>26.713333</td>\n",
       "      <td>13.75</td>\n",
       "    </tr>\n",
       "    <tr>\n",
       "      <th>5</th>\n",
       "      <td>2014</td>\n",
       "      <td>82.588462</td>\n",
       "      <td>30.829000</td>\n",
       "      <td>20.375000</td>\n",
       "      <td>13.83</td>\n",
       "    </tr>\n",
       "    <tr>\n",
       "      <th>6</th>\n",
       "      <td>2015</td>\n",
       "      <td>78.995833</td>\n",
       "      <td>31.277500</td>\n",
       "      <td>19.556667</td>\n",
       "      <td>NaN</td>\n",
       "    </tr>\n",
       "    <tr>\n",
       "      <th>7</th>\n",
       "      <td>2016</td>\n",
       "      <td>81.009333</td>\n",
       "      <td>32.752083</td>\n",
       "      <td>29.912500</td>\n",
       "      <td>20.46</td>\n",
       "    </tr>\n",
       "    <tr>\n",
       "      <th>8</th>\n",
       "      <td>2017</td>\n",
       "      <td>72.500000</td>\n",
       "      <td>32.214348</td>\n",
       "      <td>23.612500</td>\n",
       "      <td>NaN</td>\n",
       "    </tr>\n",
       "    <tr>\n",
       "      <th>9</th>\n",
       "      <td>2018</td>\n",
       "      <td>64.248333</td>\n",
       "      <td>29.984762</td>\n",
       "      <td>20.577500</td>\n",
       "      <td>19.24</td>\n",
       "    </tr>\n",
       "    <tr>\n",
       "      <th>10</th>\n",
       "      <td>2019</td>\n",
       "      <td>71.577059</td>\n",
       "      <td>28.586111</td>\n",
       "      <td>30.076000</td>\n",
       "      <td>18.12</td>\n",
       "    </tr>\n",
       "  </tbody>\n",
       "</table>\n",
       "</div>"
      ],
      "text/plain": [
       "    year  Black or African American      White  Hispanic or Latino  \\\n",
       "0   2009                  58.173846  27.388571           24.107500   \n",
       "1   2010                  61.764444  24.042727           20.000000   \n",
       "2   2011                  72.118000  26.372353           18.496667   \n",
       "3   2012                  72.866154  28.588000           22.103333   \n",
       "4   2013                  83.244545  32.740500           26.713333   \n",
       "5   2014                  82.588462  30.829000           20.375000   \n",
       "6   2015                  78.995833  31.277500           19.556667   \n",
       "7   2016                  81.009333  32.752083           29.912500   \n",
       "8   2017                  72.500000  32.214348           23.612500   \n",
       "9   2018                  64.248333  29.984762           20.577500   \n",
       "10  2019                  71.577059  28.586111           30.076000   \n",
       "\n",
       "    Asian or Pacific Islander  \n",
       "0                         NaN  \n",
       "1                       16.82  \n",
       "2                         NaN  \n",
       "3                         NaN  \n",
       "4                       13.75  \n",
       "5                       13.83  \n",
       "6                         NaN  \n",
       "7                       20.46  \n",
       "8                         NaN  \n",
       "9                       19.24  \n",
       "10                      18.12  "
      ]
     },
     "execution_count": 39,
     "metadata": {},
     "output_type": "execute_result"
    }
   ],
   "source": [
    "# rename and reorder columns for highest to lowest mmr for displaying legend in line plot\n",
    "rename_mmr = merged_3.rename(columns={\"MMR_White\": \"White\",\n",
    "                        \"MMR_Black_or_African_American\": \"Black or African American\",\n",
    "                        \"MMR_Asian_or_Pacific_Islander\": \"Asian or Pacific Islander\", \n",
    "                        \"MMR_Hispanic_or_Latino\": \"Hispanic or Latino\"})\n",
    "\n",
    "all_race_mmr = rename_mmr[[\"year\", \"Black or African American\", \"White\", \"Hispanic or Latino\", \"Asian or Pacific Islander\"]]\n",
    "all_race_mmr"
   ]
  },
  {
   "cell_type": "markdown",
   "metadata": {},
   "source": [
    "### Plotting MMR for each race (2009-2019)"
   ]
  },
  {
   "cell_type": "code",
   "execution_count": 40,
   "metadata": {},
   "outputs": [
    {
     "data": {
      "image/png": "[encoded data removed]",
      "text/plain": [
       "<Figure size 1152x360 with 1 Axes>"
      ]
     },
     "metadata": {},
     "output_type": "display_data"
    }
   ],
   "source": [
    "# reset index to \"year\"\n",
    "all_avg = all_race_mmr.set_index(\"year\")\n",
    "\n",
    "# plot graph and choose figure size \n",
    "all_avg.plot(kind=\"line\", figsize=(16,5))\n",
    "plt.xlabel(\"Year\", fontsize=14, fontweight=\"bold\")\n",
    "plt.ylabel(\"Maternal Mortality Ratio\", fontsize=14, fontweight=\"bold\")\n",
    "plt.title(\"U.S. Maternal Mortality Ratio by Race 2009-2019\", fontsize=16, fontweight=\"bold\")\n",
    "plt.tight_layout()\n",
    "\n",
    "# saving plot\n",
    "plt.savefig(\"../../static/img/MMR_line_graph_by_race.png\")"
   ]
  },
  {
   "cell_type": "code",
   "execution_count": 49,
   "metadata": {},
   "outputs": [
    {
     "name": "stdout",
     "output_type": "stream",
     "text": [
      "R2:0.33616417659015674\n"
     ]
    },
    {
     "data": {
      "text/html": [
       "<div>\n",
       "<style scoped>\n",
       "    .dataframe tbody tr th:only-of-type {\n",
       "        vertical-align: middle;\n",
       "    }\n",
       "\n",
       "    .dataframe tbody tr th {\n",
       "        vertical-align: top;\n",
       "    }\n",
       "\n",
       "    .dataframe thead th {\n",
       "        text-align: right;\n",
       "    }\n",
       "</style>\n",
       "<table border=\"1\" class=\"dataframe\">\n",
       "  <thead>\n",
       "    <tr style=\"text-align: right;\">\n",
       "      <th></th>\n",
       "      <th>year</th>\n",
       "      <th>MMR_White</th>\n",
       "    </tr>\n",
       "  </thead>\n",
       "  <tbody>\n",
       "    <tr>\n",
       "      <th>0</th>\n",
       "      <td>2020</td>\n",
       "      <td>32.478559</td>\n",
       "    </tr>\n",
       "    <tr>\n",
       "      <th>1</th>\n",
       "      <td>2021</td>\n",
       "      <td>32.970804</td>\n",
       "    </tr>\n",
       "    <tr>\n",
       "      <th>2</th>\n",
       "      <td>2022</td>\n",
       "      <td>33.463050</td>\n",
       "    </tr>\n",
       "    <tr>\n",
       "      <th>3</th>\n",
       "      <td>2023</td>\n",
       "      <td>33.955295</td>\n",
       "    </tr>\n",
       "    <tr>\n",
       "      <th>4</th>\n",
       "      <td>2024</td>\n",
       "      <td>34.447540</td>\n",
       "    </tr>\n",
       "    <tr>\n",
       "      <th>5</th>\n",
       "      <td>2025</td>\n",
       "      <td>34.939786</td>\n",
       "    </tr>\n",
       "    <tr>\n",
       "      <th>6</th>\n",
       "      <td>2026</td>\n",
       "      <td>35.432031</td>\n",
       "    </tr>\n",
       "    <tr>\n",
       "      <th>7</th>\n",
       "      <td>2027</td>\n",
       "      <td>35.924276</td>\n",
       "    </tr>\n",
       "    <tr>\n",
       "      <th>8</th>\n",
       "      <td>2028</td>\n",
       "      <td>36.416522</td>\n",
       "    </tr>\n",
       "    <tr>\n",
       "      <th>9</th>\n",
       "      <td>2029</td>\n",
       "      <td>36.908767</td>\n",
       "    </tr>\n",
       "    <tr>\n",
       "      <th>10</th>\n",
       "      <td>2030</td>\n",
       "      <td>37.401012</td>\n",
       "    </tr>\n",
       "  </tbody>\n",
       "</table>\n",
       "</div>"
      ],
      "text/plain": [
       "    year  MMR_White\n",
       "0   2020  32.478559\n",
       "1   2021  32.970804\n",
       "2   2022  33.463050\n",
       "3   2023  33.955295\n",
       "4   2024  34.447540\n",
       "5   2025  34.939786\n",
       "6   2026  35.432031\n",
       "7   2027  35.924276\n",
       "8   2028  36.416522\n",
       "9   2029  36.908767\n",
       "10  2030  37.401012"
      ]
     },
     "execution_count": 49,
     "metadata": {},
     "output_type": "execute_result"
    }
   ],
   "source": [
    "from sklearn.linear_model import LinearRegression\n",
    "\n",
    "# selecting and assigning the X and y values\n",
    "X_w = white_mmr.reset_index().year.values.reshape(-1,1)\n",
    "y_w = white_mmr.reset_index()[\"MMR_White\"].values\n",
    "\n",
    "# create model, fit to data\n",
    "reg_model = LinearRegression().fit(X_w, y_w)\n",
    "\n",
    "# find r2\n",
    "r2 = reg_model.score(X_w, y_w)\n",
    "print(f\"R2:{r2}\")\n",
    "\n",
    "# predictions list to hold variables\n",
    "predictions=[]\n",
    "\n",
    "# for-loop to add predictions to list\n",
    "for i in range(2020,2031): \n",
    "    y_values=reg_model.predict(np.array([i]).reshape(1, -1))\n",
    "    predictions.append(y_values[0])\n",
    "    \n",
    "# list of years range\n",
    "years = [i for i in range(2020, 2031)]\n",
    "\n",
    "# new dataframe for mmr values with 10 year predictions\n",
    "wh_mmr_predict_df = pd.DataFrame(list(zip(years, predictions)),\n",
    "                                columns=[\"year\", \"MMR_White\"])\n",
    "wh_mmr_predict_df\n",
    "    "
   ]
  },
  {
   "cell_type": "code",
   "execution_count": 1,
   "metadata": {},
   "outputs": [
    {
     "ename": "NameError",
     "evalue": "name 'black_mmr' is not defined",
     "output_type": "error",
     "traceback": [
      "\u001b[0;31m---------------------------------------------------------------------------\u001b[0m",
      "\u001b[0;31mNameError\u001b[0m                                 Traceback (most recent call last)",
      "\u001b[0;32m<ipython-input-1-13064bc972cb>\u001b[0m in \u001b[0;36m<module>\u001b[0;34m\u001b[0m\n\u001b[1;32m      3\u001b[0m \u001b[0;34m\u001b[0m\u001b[0m\n\u001b[1;32m      4\u001b[0m \u001b[0;31m# selecting and assigning the X and y values\u001b[0m\u001b[0;34m\u001b[0m\u001b[0;34m\u001b[0m\u001b[0;34m\u001b[0m\u001b[0m\n\u001b[0;32m----> 5\u001b[0;31m \u001b[0mX_af\u001b[0m \u001b[0;34m=\u001b[0m \u001b[0mblack_mmr\u001b[0m\u001b[0;34m.\u001b[0m\u001b[0mreset_index\u001b[0m\u001b[0;34m(\u001b[0m\u001b[0;34m)\u001b[0m\u001b[0;34m.\u001b[0m\u001b[0myear\u001b[0m\u001b[0;34m.\u001b[0m\u001b[0mvalues\u001b[0m\u001b[0;34m.\u001b[0m\u001b[0mreshape\u001b[0m\u001b[0;34m(\u001b[0m\u001b[0;34m-\u001b[0m\u001b[0;36m1\u001b[0m\u001b[0;34m,\u001b[0m\u001b[0;36m1\u001b[0m\u001b[0;34m)\u001b[0m\u001b[0;34m\u001b[0m\u001b[0;34m\u001b[0m\u001b[0m\n\u001b[0m\u001b[1;32m      6\u001b[0m \u001b[0my_af\u001b[0m \u001b[0;34m=\u001b[0m \u001b[0mblack_mmr\u001b[0m\u001b[0;34m.\u001b[0m\u001b[0mreset_index\u001b[0m\u001b[0;34m(\u001b[0m\u001b[0;34m)\u001b[0m\u001b[0;34m[\u001b[0m\u001b[0;34m\"MMR_Black_or_African_American\"\u001b[0m\u001b[0;34m]\u001b[0m\u001b[0;34m.\u001b[0m\u001b[0mvalues\u001b[0m\u001b[0;34m\u001b[0m\u001b[0;34m\u001b[0m\u001b[0m\n\u001b[1;32m      7\u001b[0m \u001b[0;34m\u001b[0m\u001b[0m\n",
      "\u001b[0;31mNameError\u001b[0m: name 'black_mmr' is not defined"
     ]
    }
   ],
   "source": [
    "# adding black or african american data\n",
    "from sklearn.linear_model import LinearRegression\n",
    "\n",
    "# selecting and assigning the X and y values\n",
    "X_af = black_mmr.reset_index().year.values.reshape(-1,1)\n",
    "y_af = black_mmr.reset_index()[\"MMR_Black_or_African_American\"].values\n",
    "\n",
    "# create model, fit to data\n",
    "reg_model_2 = LinearRegression().fit(X_af, y_af)\n",
    "\n",
    "# find r2\n",
    "r2_2 = reg_model_2.score(X_af, y_af)\n",
    "# print(f\"R2:{r2_2}\")\n",
    "\n",
    "# predictions list to hold variables\n",
    "b_mmr_pred=[]\n",
    "\n",
    "# for-loop to add predictions to list\n",
    "for i in range(2020,2031): \n",
    "    y_values=reg_model_2.predict(np.array([i]).reshape(1, -1))\n",
    "    b_mmr_pred.append(y_values[0])\n",
    "    \n",
    "# list of years range\n",
    "years = [i for i in range(2020, 2031)]\n",
    "\n",
    "# new dataframe for mmr values with 10 year predictions\n",
    "bl_mmr_predict_df = pd.DataFrame(list(zip(years, b_mmr_pred)),\n",
    "                                columns=[\"year\", \"MMR_Black_or_African_American\"])\n",
    "bl_mmr_predict_df\n",
    "\n",
    "# merge first two predictions\n",
    "combined_1 = pd.merge(wh_mmr_predict_df, bl_mmr_predict_df, how=\"inner\", left_on=[\"year\"], right_on=[\"year\"])\n",
    "combined_1"
   ]
  },
  {
   "cell_type": "code",
   "execution_count": 84,
   "metadata": {},
   "outputs": [
    {
     "name": "stdout",
     "output_type": "stream",
     "text": [
      "R2:0.2923665376145367\n"
     ]
    },
    {
     "data": {
      "text/html": [
       "<div>\n",
       "<style scoped>\n",
       "    .dataframe tbody tr th:only-of-type {\n",
       "        vertical-align: middle;\n",
       "    }\n",
       "\n",
       "    .dataframe tbody tr th {\n",
       "        vertical-align: top;\n",
       "    }\n",
       "\n",
       "    .dataframe thead th {\n",
       "        text-align: right;\n",
       "    }\n",
       "</style>\n",
       "<table border=\"1\" class=\"dataframe\">\n",
       "  <thead>\n",
       "    <tr style=\"text-align: right;\">\n",
       "      <th></th>\n",
       "      <th>year</th>\n",
       "      <th>MMR_White</th>\n",
       "      <th>MMR_Black_or_African_American</th>\n",
       "      <th>MMR_Asian_or_Pacific_Islander</th>\n",
       "    </tr>\n",
       "  </thead>\n",
       "  <tbody>\n",
       "    <tr>\n",
       "      <th>0</th>\n",
       "      <td>2020</td>\n",
       "      <td>32.478559</td>\n",
       "      <td>77.560652</td>\n",
       "      <td>19.289345</td>\n",
       "    </tr>\n",
       "    <tr>\n",
       "      <th>1</th>\n",
       "      <td>2021</td>\n",
       "      <td>32.970804</td>\n",
       "      <td>78.380063</td>\n",
       "      <td>19.739881</td>\n",
       "    </tr>\n",
       "    <tr>\n",
       "      <th>2</th>\n",
       "      <td>2022</td>\n",
       "      <td>33.463050</td>\n",
       "      <td>79.199475</td>\n",
       "      <td>20.190417</td>\n",
       "    </tr>\n",
       "    <tr>\n",
       "      <th>3</th>\n",
       "      <td>2023</td>\n",
       "      <td>33.955295</td>\n",
       "      <td>80.018886</td>\n",
       "      <td>20.640952</td>\n",
       "    </tr>\n",
       "    <tr>\n",
       "      <th>4</th>\n",
       "      <td>2024</td>\n",
       "      <td>34.447540</td>\n",
       "      <td>80.838298</td>\n",
       "      <td>21.091488</td>\n",
       "    </tr>\n",
       "    <tr>\n",
       "      <th>5</th>\n",
       "      <td>2025</td>\n",
       "      <td>34.939786</td>\n",
       "      <td>81.657709</td>\n",
       "      <td>21.542024</td>\n",
       "    </tr>\n",
       "    <tr>\n",
       "      <th>6</th>\n",
       "      <td>2026</td>\n",
       "      <td>35.432031</td>\n",
       "      <td>82.477121</td>\n",
       "      <td>21.992560</td>\n",
       "    </tr>\n",
       "    <tr>\n",
       "      <th>7</th>\n",
       "      <td>2027</td>\n",
       "      <td>35.924276</td>\n",
       "      <td>83.296532</td>\n",
       "      <td>22.443095</td>\n",
       "    </tr>\n",
       "    <tr>\n",
       "      <th>8</th>\n",
       "      <td>2028</td>\n",
       "      <td>36.416522</td>\n",
       "      <td>84.115944</td>\n",
       "      <td>22.893631</td>\n",
       "    </tr>\n",
       "    <tr>\n",
       "      <th>9</th>\n",
       "      <td>2029</td>\n",
       "      <td>36.908767</td>\n",
       "      <td>84.935355</td>\n",
       "      <td>23.344167</td>\n",
       "    </tr>\n",
       "    <tr>\n",
       "      <th>10</th>\n",
       "      <td>2030</td>\n",
       "      <td>37.401012</td>\n",
       "      <td>85.754767</td>\n",
       "      <td>23.794702</td>\n",
       "    </tr>\n",
       "  </tbody>\n",
       "</table>\n",
       "</div>"
      ],
      "text/plain": [
       "    year  MMR_White  MMR_Black_or_African_American  \\\n",
       "0   2020  32.478559                      77.560652   \n",
       "1   2021  32.970804                      78.380063   \n",
       "2   2022  33.463050                      79.199475   \n",
       "3   2023  33.955295                      80.018886   \n",
       "4   2024  34.447540                      80.838298   \n",
       "5   2025  34.939786                      81.657709   \n",
       "6   2026  35.432031                      82.477121   \n",
       "7   2027  35.924276                      83.296532   \n",
       "8   2028  36.416522                      84.115944   \n",
       "9   2029  36.908767                      84.935355   \n",
       "10  2030  37.401012                      85.754767   \n",
       "\n",
       "    MMR_Asian_or_Pacific_Islander  \n",
       "0                       19.289345  \n",
       "1                       19.739881  \n",
       "2                       20.190417  \n",
       "3                       20.640952  \n",
       "4                       21.091488  \n",
       "5                       21.542024  \n",
       "6                       21.992560  \n",
       "7                       22.443095  \n",
       "8                       22.893631  \n",
       "9                       23.344167  \n",
       "10                      23.794702  "
      ]
     },
     "execution_count": 84,
     "metadata": {},
     "output_type": "execute_result"
    }
   ],
   "source": [
    "# adding asian mmr data\n",
    "from sklearn.linear_model import LinearRegression\n",
    "\n",
    "# selecting and assigning the X and y values\n",
    "X_as = asian_mmr.reset_index().year.values.reshape(-1,1)\n",
    "y_as = asian_mmr.reset_index()[\"MMR_Asian_or_Pacific_Islander\"].values\n",
    "\n",
    "# create model, fit to data\n",
    "reg_model_3 = LinearRegression().fit(X_as, y_as)\n",
    "\n",
    "# find r2\n",
    "r2_3 = reg_model_3.score(X_as, y_as)\n",
    "print(f\"R2:{r2_3}\")\n",
    "\n",
    "# predictions list to hold variables\n",
    "a_mmr_pred=[]\n",
    "\n",
    "# for-loop to add predictions to list\n",
    "for i in range(2020,2031): \n",
    "    y_values=reg_model_3.predict(np.array([i]).reshape(1, -1))\n",
    "    a_mmr_pred.append(y_values[0])\n",
    "    \n",
    "# list of years range\n",
    "years = [i for i in range(2020, 2031)]\n",
    "\n",
    "# new dataframe for mmr values with 10 year predictions\n",
    "as_mmr_predict_df = pd.DataFrame(list(zip(years, a_mmr_pred)),\n",
    "                                columns=[\"year\", \"MMR_Asian_or_Pacific_Islander\"])\n",
    "as_mmr_predict_df\n",
    "\n",
    "# merge first two predictions\n",
    "combined_2 = pd.merge(combined_1, as_mmr_predict_df, how=\"inner\", left_on=[\"year\"], right_on=[\"year\"])\n",
    "combined_2"
   ]
  },
  {
   "cell_type": "code",
   "execution_count": 85,
   "metadata": {},
   "outputs": [
    {
     "name": "stdout",
     "output_type": "stream",
     "text": [
      "R2:0.1701124422469098\n"
     ]
    },
    {
     "data": {
      "text/html": [
       "<div>\n",
       "<style scoped>\n",
       "    .dataframe tbody tr th:only-of-type {\n",
       "        vertical-align: middle;\n",
       "    }\n",
       "\n",
       "    .dataframe tbody tr th {\n",
       "        vertical-align: top;\n",
       "    }\n",
       "\n",
       "    .dataframe thead th {\n",
       "        text-align: right;\n",
       "    }\n",
       "</style>\n",
       "<table border=\"1\" class=\"dataframe\">\n",
       "  <thead>\n",
       "    <tr style=\"text-align: right;\">\n",
       "      <th></th>\n",
       "      <th>year</th>\n",
       "      <th>MMR_White</th>\n",
       "      <th>MMR_Black_or_African_American</th>\n",
       "      <th>MMR_Asian_or_Pacific_Islander</th>\n",
       "      <th>MMR_Hispanic_or_Latino</th>\n",
       "    </tr>\n",
       "  </thead>\n",
       "  <tbody>\n",
       "    <tr>\n",
       "      <th>0</th>\n",
       "      <td>2020</td>\n",
       "      <td>32.478559</td>\n",
       "      <td>77.560652</td>\n",
       "      <td>19.289345</td>\n",
       "      <td>26.282545</td>\n",
       "    </tr>\n",
       "    <tr>\n",
       "      <th>1</th>\n",
       "      <td>2021</td>\n",
       "      <td>32.970804</td>\n",
       "      <td>78.380063</td>\n",
       "      <td>19.739881</td>\n",
       "      <td>26.791288</td>\n",
       "    </tr>\n",
       "    <tr>\n",
       "      <th>2</th>\n",
       "      <td>2022</td>\n",
       "      <td>33.463050</td>\n",
       "      <td>79.199475</td>\n",
       "      <td>20.190417</td>\n",
       "      <td>27.300030</td>\n",
       "    </tr>\n",
       "    <tr>\n",
       "      <th>3</th>\n",
       "      <td>2023</td>\n",
       "      <td>33.955295</td>\n",
       "      <td>80.018886</td>\n",
       "      <td>20.640952</td>\n",
       "      <td>27.808773</td>\n",
       "    </tr>\n",
       "    <tr>\n",
       "      <th>4</th>\n",
       "      <td>2024</td>\n",
       "      <td>34.447540</td>\n",
       "      <td>80.838298</td>\n",
       "      <td>21.091488</td>\n",
       "      <td>28.317515</td>\n",
       "    </tr>\n",
       "    <tr>\n",
       "      <th>5</th>\n",
       "      <td>2025</td>\n",
       "      <td>34.939786</td>\n",
       "      <td>81.657709</td>\n",
       "      <td>21.542024</td>\n",
       "      <td>28.826258</td>\n",
       "    </tr>\n",
       "    <tr>\n",
       "      <th>6</th>\n",
       "      <td>2026</td>\n",
       "      <td>35.432031</td>\n",
       "      <td>82.477121</td>\n",
       "      <td>21.992560</td>\n",
       "      <td>29.335000</td>\n",
       "    </tr>\n",
       "    <tr>\n",
       "      <th>7</th>\n",
       "      <td>2027</td>\n",
       "      <td>35.924276</td>\n",
       "      <td>83.296532</td>\n",
       "      <td>22.443095</td>\n",
       "      <td>29.843742</td>\n",
       "    </tr>\n",
       "    <tr>\n",
       "      <th>8</th>\n",
       "      <td>2028</td>\n",
       "      <td>36.416522</td>\n",
       "      <td>84.115944</td>\n",
       "      <td>22.893631</td>\n",
       "      <td>30.352485</td>\n",
       "    </tr>\n",
       "    <tr>\n",
       "      <th>9</th>\n",
       "      <td>2029</td>\n",
       "      <td>36.908767</td>\n",
       "      <td>84.935355</td>\n",
       "      <td>23.344167</td>\n",
       "      <td>30.861227</td>\n",
       "    </tr>\n",
       "    <tr>\n",
       "      <th>10</th>\n",
       "      <td>2030</td>\n",
       "      <td>37.401012</td>\n",
       "      <td>85.754767</td>\n",
       "      <td>23.794702</td>\n",
       "      <td>31.369970</td>\n",
       "    </tr>\n",
       "  </tbody>\n",
       "</table>\n",
       "</div>"
      ],
      "text/plain": [
       "    year  MMR_White  MMR_Black_or_African_American  \\\n",
       "0   2020  32.478559                      77.560652   \n",
       "1   2021  32.970804                      78.380063   \n",
       "2   2022  33.463050                      79.199475   \n",
       "3   2023  33.955295                      80.018886   \n",
       "4   2024  34.447540                      80.838298   \n",
       "5   2025  34.939786                      81.657709   \n",
       "6   2026  35.432031                      82.477121   \n",
       "7   2027  35.924276                      83.296532   \n",
       "8   2028  36.416522                      84.115944   \n",
       "9   2029  36.908767                      84.935355   \n",
       "10  2030  37.401012                      85.754767   \n",
       "\n",
       "    MMR_Asian_or_Pacific_Islander  MMR_Hispanic_or_Latino  \n",
       "0                       19.289345               26.282545  \n",
       "1                       19.739881               26.791288  \n",
       "2                       20.190417               27.300030  \n",
       "3                       20.640952               27.808773  \n",
       "4                       21.091488               28.317515  \n",
       "5                       21.542024               28.826258  \n",
       "6                       21.992560               29.335000  \n",
       "7                       22.443095               29.843742  \n",
       "8                       22.893631               30.352485  \n",
       "9                       23.344167               30.861227  \n",
       "10                      23.794702               31.369970  "
      ]
     },
     "execution_count": 85,
     "metadata": {},
     "output_type": "execute_result"
    }
   ],
   "source": [
    "# adding hispanic or latino mmr data\n",
    "from sklearn.linear_model import LinearRegression\n",
    "\n",
    "# selecting and assigning the X and y values\n",
    "X_his = his_mmr.reset_index().year.values.reshape(-1,1)\n",
    "y_his = his_mmr.reset_index()[\"MMR_Hispanic_or_Latino\"].values\n",
    "\n",
    "# create model, fit to data\n",
    "reg_model_4 = LinearRegression().fit(X_his, y_his)\n",
    "\n",
    "# find r2\n",
    "r2_4 = reg_model_4.score(X_his, y_his)\n",
    "print(f\"R2:{r2_4}\")\n",
    "\n",
    "# predictions list to hold variables\n",
    "h_mmr_pred=[]\n",
    "\n",
    "# for-loop to add predictions to list\n",
    "for i in range(2020,2031): \n",
    "    y_values=reg_model_4.predict(np.array([i]).reshape(1, -1))\n",
    "    h_mmr_pred.append(y_values[0])\n",
    "    \n",
    "# list of years range\n",
    "years = [i for i in range(2020, 2031)]\n",
    "\n",
    "# new dataframe for mmr values with 10 year predictions\n",
    "his_mmr_predict_df = pd.DataFrame(list(zip(years, h_mmr_pred)),\n",
    "                                columns=[\"year\", \"MMR_Hispanic_or_Latino\"])\n",
    "his_mmr_predict_df\n",
    "\n",
    "# merge first two predictions\n",
    "combined_3 = pd.merge(combined_2, his_mmr_predict_df, how=\"inner\", left_on=[\"year\"], right_on=[\"year\"])\n",
    "combined_3"
   ]
  },
  {
   "cell_type": "markdown",
   "metadata": {},
   "source": [
    "#### Save predictions dataframe to CSV"
   ]
  },
  {
   "cell_type": "code",
   "execution_count": 86,
   "metadata": {},
   "outputs": [],
   "source": [
    "# saving the merged predictions df into a csv\n",
    "combined_3.to_csv(\"../Resources/stratified_by_race_avg_mmr_2020_2030.csv\", index=False, header=True, float_format='%.2f')"
   ]
  },
  {
   "cell_type": "markdown",
   "metadata": {},
   "source": [
    "### Combine actual and predicted mmr average annual by race "
   ]
  },
  {
   "cell_type": "code",
   "execution_count": 88,
   "metadata": {},
   "outputs": [
    {
     "data": {
      "text/html": [
       "<div>\n",
       "<style scoped>\n",
       "    .dataframe tbody tr th:only-of-type {\n",
       "        vertical-align: middle;\n",
       "    }\n",
       "\n",
       "    .dataframe tbody tr th {\n",
       "        vertical-align: top;\n",
       "    }\n",
       "\n",
       "    .dataframe thead th {\n",
       "        text-align: right;\n",
       "    }\n",
       "</style>\n",
       "<table border=\"1\" class=\"dataframe\">\n",
       "  <thead>\n",
       "    <tr style=\"text-align: right;\">\n",
       "      <th></th>\n",
       "      <th>year</th>\n",
       "      <th>MMR_White</th>\n",
       "      <th>MMR_Black_or_African_American</th>\n",
       "      <th>MMR_Asian_or_Pacific_Islander</th>\n",
       "      <th>MMR_Hispanic_or_Latino</th>\n",
       "    </tr>\n",
       "  </thead>\n",
       "  <tbody>\n",
       "    <tr>\n",
       "      <th>0</th>\n",
       "      <td>2009</td>\n",
       "      <td>27.388571</td>\n",
       "      <td>58.173846</td>\n",
       "      <td>NaN</td>\n",
       "      <td>24.107500</td>\n",
       "    </tr>\n",
       "    <tr>\n",
       "      <th>1</th>\n",
       "      <td>2010</td>\n",
       "      <td>24.042727</td>\n",
       "      <td>61.764444</td>\n",
       "      <td>16.820000</td>\n",
       "      <td>20.000000</td>\n",
       "    </tr>\n",
       "    <tr>\n",
       "      <th>2</th>\n",
       "      <td>2011</td>\n",
       "      <td>26.372353</td>\n",
       "      <td>72.118000</td>\n",
       "      <td>NaN</td>\n",
       "      <td>18.496667</td>\n",
       "    </tr>\n",
       "    <tr>\n",
       "      <th>3</th>\n",
       "      <td>2012</td>\n",
       "      <td>28.588000</td>\n",
       "      <td>72.866154</td>\n",
       "      <td>NaN</td>\n",
       "      <td>22.103333</td>\n",
       "    </tr>\n",
       "    <tr>\n",
       "      <th>4</th>\n",
       "      <td>2013</td>\n",
       "      <td>32.740500</td>\n",
       "      <td>83.244545</td>\n",
       "      <td>13.750000</td>\n",
       "      <td>26.713333</td>\n",
       "    </tr>\n",
       "    <tr>\n",
       "      <th>5</th>\n",
       "      <td>2014</td>\n",
       "      <td>30.829000</td>\n",
       "      <td>82.588462</td>\n",
       "      <td>13.830000</td>\n",
       "      <td>20.375000</td>\n",
       "    </tr>\n",
       "    <tr>\n",
       "      <th>6</th>\n",
       "      <td>2015</td>\n",
       "      <td>31.277500</td>\n",
       "      <td>78.995833</td>\n",
       "      <td>NaN</td>\n",
       "      <td>19.556667</td>\n",
       "    </tr>\n",
       "    <tr>\n",
       "      <th>7</th>\n",
       "      <td>2016</td>\n",
       "      <td>32.752083</td>\n",
       "      <td>81.009333</td>\n",
       "      <td>20.460000</td>\n",
       "      <td>29.912500</td>\n",
       "    </tr>\n",
       "    <tr>\n",
       "      <th>8</th>\n",
       "      <td>2017</td>\n",
       "      <td>32.214348</td>\n",
       "      <td>72.500000</td>\n",
       "      <td>NaN</td>\n",
       "      <td>23.612500</td>\n",
       "    </tr>\n",
       "    <tr>\n",
       "      <th>9</th>\n",
       "      <td>2018</td>\n",
       "      <td>29.984762</td>\n",
       "      <td>64.248333</td>\n",
       "      <td>19.240000</td>\n",
       "      <td>20.577500</td>\n",
       "    </tr>\n",
       "    <tr>\n",
       "      <th>10</th>\n",
       "      <td>2019</td>\n",
       "      <td>28.586111</td>\n",
       "      <td>71.577059</td>\n",
       "      <td>18.120000</td>\n",
       "      <td>30.076000</td>\n",
       "    </tr>\n",
       "    <tr>\n",
       "      <th>11</th>\n",
       "      <td>2020</td>\n",
       "      <td>32.478559</td>\n",
       "      <td>77.560652</td>\n",
       "      <td>19.289345</td>\n",
       "      <td>26.282545</td>\n",
       "    </tr>\n",
       "    <tr>\n",
       "      <th>12</th>\n",
       "      <td>2021</td>\n",
       "      <td>32.970804</td>\n",
       "      <td>78.380063</td>\n",
       "      <td>19.739881</td>\n",
       "      <td>26.791288</td>\n",
       "    </tr>\n",
       "    <tr>\n",
       "      <th>13</th>\n",
       "      <td>2022</td>\n",
       "      <td>33.463050</td>\n",
       "      <td>79.199475</td>\n",
       "      <td>20.190417</td>\n",
       "      <td>27.300030</td>\n",
       "    </tr>\n",
       "    <tr>\n",
       "      <th>14</th>\n",
       "      <td>2023</td>\n",
       "      <td>33.955295</td>\n",
       "      <td>80.018886</td>\n",
       "      <td>20.640952</td>\n",
       "      <td>27.808773</td>\n",
       "    </tr>\n",
       "    <tr>\n",
       "      <th>15</th>\n",
       "      <td>2024</td>\n",
       "      <td>34.447540</td>\n",
       "      <td>80.838298</td>\n",
       "      <td>21.091488</td>\n",
       "      <td>28.317515</td>\n",
       "    </tr>\n",
       "    <tr>\n",
       "      <th>16</th>\n",
       "      <td>2025</td>\n",
       "      <td>34.939786</td>\n",
       "      <td>81.657709</td>\n",
       "      <td>21.542024</td>\n",
       "      <td>28.826258</td>\n",
       "    </tr>\n",
       "    <tr>\n",
       "      <th>17</th>\n",
       "      <td>2026</td>\n",
       "      <td>35.432031</td>\n",
       "      <td>82.477121</td>\n",
       "      <td>21.992560</td>\n",
       "      <td>29.335000</td>\n",
       "    </tr>\n",
       "    <tr>\n",
       "      <th>18</th>\n",
       "      <td>2027</td>\n",
       "      <td>35.924276</td>\n",
       "      <td>83.296532</td>\n",
       "      <td>22.443095</td>\n",
       "      <td>29.843742</td>\n",
       "    </tr>\n",
       "    <tr>\n",
       "      <th>19</th>\n",
       "      <td>2028</td>\n",
       "      <td>36.416522</td>\n",
       "      <td>84.115944</td>\n",
       "      <td>22.893631</td>\n",
       "      <td>30.352485</td>\n",
       "    </tr>\n",
       "    <tr>\n",
       "      <th>20</th>\n",
       "      <td>2029</td>\n",
       "      <td>36.908767</td>\n",
       "      <td>84.935355</td>\n",
       "      <td>23.344167</td>\n",
       "      <td>30.861227</td>\n",
       "    </tr>\n",
       "    <tr>\n",
       "      <th>21</th>\n",
       "      <td>2030</td>\n",
       "      <td>37.401012</td>\n",
       "      <td>85.754767</td>\n",
       "      <td>23.794702</td>\n",
       "      <td>31.369970</td>\n",
       "    </tr>\n",
       "  </tbody>\n",
       "</table>\n",
       "</div>"
      ],
      "text/plain": [
       "    year  MMR_White  MMR_Black_or_African_American  \\\n",
       "0   2009  27.388571                      58.173846   \n",
       "1   2010  24.042727                      61.764444   \n",
       "2   2011  26.372353                      72.118000   \n",
       "3   2012  28.588000                      72.866154   \n",
       "4   2013  32.740500                      83.244545   \n",
       "5   2014  30.829000                      82.588462   \n",
       "6   2015  31.277500                      78.995833   \n",
       "7   2016  32.752083                      81.009333   \n",
       "8   2017  32.214348                      72.500000   \n",
       "9   2018  29.984762                      64.248333   \n",
       "10  2019  28.586111                      71.577059   \n",
       "11  2020  32.478559                      77.560652   \n",
       "12  2021  32.970804                      78.380063   \n",
       "13  2022  33.463050                      79.199475   \n",
       "14  2023  33.955295                      80.018886   \n",
       "15  2024  34.447540                      80.838298   \n",
       "16  2025  34.939786                      81.657709   \n",
       "17  2026  35.432031                      82.477121   \n",
       "18  2027  35.924276                      83.296532   \n",
       "19  2028  36.416522                      84.115944   \n",
       "20  2029  36.908767                      84.935355   \n",
       "21  2030  37.401012                      85.754767   \n",
       "\n",
       "    MMR_Asian_or_Pacific_Islander  MMR_Hispanic_or_Latino  \n",
       "0                             NaN               24.107500  \n",
       "1                       16.820000               20.000000  \n",
       "2                             NaN               18.496667  \n",
       "3                             NaN               22.103333  \n",
       "4                       13.750000               26.713333  \n",
       "5                       13.830000               20.375000  \n",
       "6                             NaN               19.556667  \n",
       "7                       20.460000               29.912500  \n",
       "8                             NaN               23.612500  \n",
       "9                       19.240000               20.577500  \n",
       "10                      18.120000               30.076000  \n",
       "11                      19.289345               26.282545  \n",
       "12                      19.739881               26.791288  \n",
       "13                      20.190417               27.300030  \n",
       "14                      20.640952               27.808773  \n",
       "15                      21.091488               28.317515  \n",
       "16                      21.542024               28.826258  \n",
       "17                      21.992560               29.335000  \n",
       "18                      22.443095               29.843742  \n",
       "19                      22.893631               30.352485  \n",
       "20                      23.344167               30.861227  \n",
       "21                      23.794702               31.369970  "
      ]
     },
     "execution_count": 88,
     "metadata": {},
     "output_type": "execute_result"
    }
   ],
   "source": [
    "strat_by_race_2009_2030 = pd.concat([merged_3, combined_3], ignore_index=True)\n",
    "strat_by_race_2009_2030"
   ]
  },
  {
   "cell_type": "code",
   "execution_count": 90,
   "metadata": {},
   "outputs": [
    {
     "name": "stdout",
     "output_type": "stream",
     "text": [
      "<class 'pandas.core.frame.DataFrame'>\n",
      "RangeIndex: 22 entries, 0 to 21\n",
      "Data columns (total 5 columns):\n",
      " #   Column                         Non-Null Count  Dtype  \n",
      "---  ------                         --------------  -----  \n",
      " 0   year                           22 non-null     int64  \n",
      " 1   MMR_White                      22 non-null     float64\n",
      " 2   MMR_Black_or_African_American  22 non-null     float64\n",
      " 3   MMR_Asian_or_Pacific_Islander  17 non-null     float64\n",
      " 4   MMR_Hispanic_or_Latino         22 non-null     float64\n",
      "dtypes: float64(4), int64(1)\n",
      "memory usage: 1008.0 bytes\n"
     ]
    }
   ],
   "source": [
    "# check datatypes and columns\n",
    "strat_by_race_2009_2030.info()"
   ]
  },
  {
   "cell_type": "markdown",
   "metadata": {},
   "source": [
    "### Plotting MMR with predictions for each race (2009-2030)"
   ]
  },
  {
   "cell_type": "code",
   "execution_count": 96,
   "metadata": {},
   "outputs": [
    {
     "data": {
      "text/html": [
       "<div>\n",
       "<style scoped>\n",
       "    .dataframe tbody tr th:only-of-type {\n",
       "        vertical-align: middle;\n",
       "    }\n",
       "\n",
       "    .dataframe tbody tr th {\n",
       "        vertical-align: top;\n",
       "    }\n",
       "\n",
       "    .dataframe thead th {\n",
       "        text-align: right;\n",
       "    }\n",
       "</style>\n",
       "<table border=\"1\" class=\"dataframe\">\n",
       "  <thead>\n",
       "    <tr style=\"text-align: right;\">\n",
       "      <th></th>\n",
       "      <th>year</th>\n",
       "      <th>Black or African American</th>\n",
       "      <th>White</th>\n",
       "      <th>Hispanic or Latino</th>\n",
       "      <th>Asian or Pacific Islander</th>\n",
       "    </tr>\n",
       "  </thead>\n",
       "  <tbody>\n",
       "    <tr>\n",
       "      <th>0</th>\n",
       "      <td>2009</td>\n",
       "      <td>58.173846</td>\n",
       "      <td>27.388571</td>\n",
       "      <td>24.107500</td>\n",
       "      <td>NaN</td>\n",
       "    </tr>\n",
       "    <tr>\n",
       "      <th>1</th>\n",
       "      <td>2010</td>\n",
       "      <td>61.764444</td>\n",
       "      <td>24.042727</td>\n",
       "      <td>20.000000</td>\n",
       "      <td>16.82</td>\n",
       "    </tr>\n",
       "    <tr>\n",
       "      <th>2</th>\n",
       "      <td>2011</td>\n",
       "      <td>72.118000</td>\n",
       "      <td>26.372353</td>\n",
       "      <td>18.496667</td>\n",
       "      <td>NaN</td>\n",
       "    </tr>\n",
       "    <tr>\n",
       "      <th>3</th>\n",
       "      <td>2012</td>\n",
       "      <td>72.866154</td>\n",
       "      <td>28.588000</td>\n",
       "      <td>22.103333</td>\n",
       "      <td>NaN</td>\n",
       "    </tr>\n",
       "    <tr>\n",
       "      <th>4</th>\n",
       "      <td>2013</td>\n",
       "      <td>83.244545</td>\n",
       "      <td>32.740500</td>\n",
       "      <td>26.713333</td>\n",
       "      <td>13.75</td>\n",
       "    </tr>\n",
       "  </tbody>\n",
       "</table>\n",
       "</div>"
      ],
      "text/plain": [
       "   year  Black or African American      White  Hispanic or Latino  \\\n",
       "0  2009                  58.173846  27.388571           24.107500   \n",
       "1  2010                  61.764444  24.042727           20.000000   \n",
       "2  2011                  72.118000  26.372353           18.496667   \n",
       "3  2012                  72.866154  28.588000           22.103333   \n",
       "4  2013                  83.244545  32.740500           26.713333   \n",
       "\n",
       "   Asian or Pacific Islander  \n",
       "0                        NaN  \n",
       "1                      16.82  \n",
       "2                        NaN  \n",
       "3                        NaN  \n",
       "4                      13.75  "
      ]
     },
     "execution_count": 96,
     "metadata": {},
     "output_type": "execute_result"
    }
   ],
   "source": [
    "# rename and reorder columns for highest to lowest mmr for displaying legend in line plot\n",
    "rename_predict_mmr = strat_by_race_2009_2030.rename(columns={\"MMR_White\": \"White\",\n",
    "                        \"MMR_Black_or_African_American\": \"Black or African American\",\n",
    "                        \"MMR_Asian_or_Pacific_Islander\": \"Asian or Pacific Islander\", \n",
    "                        \"MMR_Hispanic_or_Latino\": \"Hispanic or Latino\"})\n",
    "\n",
    "all_race_predict_mmr = rename_predict_mmr[[\"year\", \"Black or African American\", \"White\", \"Hispanic or Latino\", \"Asian or Pacific Islander\"]]\n",
    "all_race_predict_mmr.head()"
   ]
  },
  {
   "cell_type": "code",
   "execution_count": 98,
   "metadata": {},
   "outputs": [
    {
     "data": {
      "image/png": "[encoded data removed]",
      "text/plain": [
       "<Figure size 1152x360 with 1 Axes>"
      ]
     },
     "metadata": {},
     "output_type": "display_data"
    }
   ],
   "source": [
    "# reset index to \"year\"\n",
    "all_avg_predictions = all_race_predict_mmr.set_index(\"year\")\n",
    "\n",
    "# plot graph and choose figure size \n",
    "all_avg_predictions.plot(kind=\"line\", figsize=(16,5))\n",
    "plt.xlabel(\"year\", fontsize=14, fontweight=\"bold\")\n",
    "plt.ylabel(\"Maternal Mortality Ratio\", fontsize=14, fontweight=\"bold\")\n",
    "plt.title(\"U.S. Maternal Mortality Ratio by Race with Predictions 2009-2030\", fontsize=16, fontweight=\"bold\")\n",
    "plt.tight_layout()\n",
    "\n",
    "# saving plot\n",
    "plt.savefig(\"../../static/img/MMR_line_graph_predictions_by_race.png\")"
   ]
  },
  {
   "cell_type": "markdown",
   "metadata": {},
   "source": [
    "#### Save Combined MMR Annual Average DataFrame to CSV"
   ]
  },
  {
   "cell_type": "code",
   "execution_count": 91,
   "metadata": {},
   "outputs": [],
   "source": [
    "strat_by_race_2009_2030.to_csv(\"../Resources/stratified_by_race_mmr_avg_2009_2030.csv\", index=False, header=True, float_format='%.2f')"
   ]
  },
  {
   "cell_type": "markdown",
   "metadata": {},
   "source": [
    "#### Visualizing mmr by race across 2009-2019"
   ]
  },
  {
   "cell_type": "code",
   "execution_count": 118,
   "metadata": {},
   "outputs": [
    {
     "data": {
      "text/plain": [
       "<matplotlib.collections.PathCollection at 0x7fc9a79bac88>"
      ]
     },
     "execution_count": 118,
     "metadata": {},
     "output_type": "execute_result"
    },
    {
     "data": {
      "image/png": "[encoded data removed]",
      "text/plain": [
       "<Figure size 432x288 with 1 Axes>"
      ]
     },
     "metadata": {
      "needs_background": "light"
     },
     "output_type": "display_data"
    }
   ],
   "source": [
    "# visualize mmr_by_race across years data was collected\n",
    "X1 = df_binary_encoded[\"year\"].values.reshape(-1,1)\n",
    "y1 = df_binary_encoded[\"mmr_by_race\"].values.reshape(-1,1)\n",
    "plt.scatter(X1, y1)"
   ]
  },
  {
   "cell_type": "code",
   "execution_count": 119,
   "metadata": {},
   "outputs": [],
   "source": [
    "# Use train_test_split to create training and testing data\n",
    "from sklearn.model_selection import train_test_split\n",
    "\n",
    "X1_train, X1_test, y1_train, y1_test = train_test_split(X1, y1, random_state=42)"
   ]
  },
  {
   "cell_type": "code",
   "execution_count": 120,
   "metadata": {},
   "outputs": [
    {
     "data": {
      "text/plain": [
       "LinearRegression()"
      ]
     },
     "execution_count": 120,
     "metadata": {},
     "output_type": "execute_result"
    }
   ],
   "source": [
    "# create the linear regression model\n",
    "from sklearn.linear_model import LinearRegression\n",
    "model1 = LinearRegression()\n",
    "model1.fit(X1_train, y1_train)"
   ]
  },
  {
   "cell_type": "code",
   "execution_count": 121,
   "metadata": {},
   "outputs": [
    {
     "name": "stdout",
     "output_type": "stream",
     "text": [
      "MSE: 820.2420577481126, R2: -0.0019601341876613887\n"
     ]
    }
   ],
   "source": [
    "#make predictions and display r2\n",
    "\n",
    "from sklearn.metrics import mean_squared_error\n",
    "\n",
    "predictions1 = model1.predict(X1_test)\n",
    "MSE1 = mean_squared_error(y1_test, predictions1)\n",
    "r2 = model1.score(X1_test, y1_test)\n",
    "\n",
    "print(f\"MSE: {MSE1}, R2: {r2}\")"
   ]
  },
  {
   "cell_type": "code",
   "execution_count": 122,
   "metadata": {},
   "outputs": [
    {
     "data": {
      "text/plain": [
       "[46.56959433593698,\n",
       " 46.77622315946206,\n",
       " 46.98285198298714,\n",
       " 47.18948080651222,\n",
       " 47.3961096300373,\n",
       " 47.60273845356238,\n",
       " 47.809367277087404,\n",
       " 48.01599610061248,\n",
       " 48.22262492413756,\n",
       " 48.42925374766264,\n",
       " 48.63588257118772]"
      ]
     },
     "execution_count": 122,
     "metadata": {},
     "output_type": "execute_result"
    }
   ],
   "source": [
    "# Make predictions for next 11 years\n",
    "future_mmr =[]\n",
    "for i in range(2020, 2031):\n",
    "    r= model1.predict([[i]])\n",
    "    future_mmr.append(float(r))\n",
    "      \n",
    "    \n",
    "future_mmr"
   ]
  },
  {
   "cell_type": "code",
   "execution_count": 123,
   "metadata": {},
   "outputs": [
    {
     "data": {
      "text/html": [
       "<div>\n",
       "<style scoped>\n",
       "    .dataframe tbody tr th:only-of-type {\n",
       "        vertical-align: middle;\n",
       "    }\n",
       "\n",
       "    .dataframe tbody tr th {\n",
       "        vertical-align: top;\n",
       "    }\n",
       "\n",
       "    .dataframe thead th {\n",
       "        text-align: right;\n",
       "    }\n",
       "</style>\n",
       "<table border=\"1\" class=\"dataframe\">\n",
       "  <thead>\n",
       "    <tr style=\"text-align: right;\">\n",
       "      <th></th>\n",
       "      <th>year</th>\n",
       "      <th>mmr_by_race</th>\n",
       "    </tr>\n",
       "  </thead>\n",
       "  <tbody>\n",
       "    <tr>\n",
       "      <th>0</th>\n",
       "      <td>2020</td>\n",
       "      <td>46.569594</td>\n",
       "    </tr>\n",
       "    <tr>\n",
       "      <th>1</th>\n",
       "      <td>2021</td>\n",
       "      <td>46.776223</td>\n",
       "    </tr>\n",
       "    <tr>\n",
       "      <th>2</th>\n",
       "      <td>2022</td>\n",
       "      <td>46.982852</td>\n",
       "    </tr>\n",
       "    <tr>\n",
       "      <th>3</th>\n",
       "      <td>2023</td>\n",
       "      <td>47.189481</td>\n",
       "    </tr>\n",
       "    <tr>\n",
       "      <th>4</th>\n",
       "      <td>2024</td>\n",
       "      <td>47.396110</td>\n",
       "    </tr>\n",
       "    <tr>\n",
       "      <th>5</th>\n",
       "      <td>2025</td>\n",
       "      <td>47.602738</td>\n",
       "    </tr>\n",
       "    <tr>\n",
       "      <th>6</th>\n",
       "      <td>2026</td>\n",
       "      <td>47.809367</td>\n",
       "    </tr>\n",
       "    <tr>\n",
       "      <th>7</th>\n",
       "      <td>2027</td>\n",
       "      <td>48.015996</td>\n",
       "    </tr>\n",
       "    <tr>\n",
       "      <th>8</th>\n",
       "      <td>2028</td>\n",
       "      <td>48.222625</td>\n",
       "    </tr>\n",
       "    <tr>\n",
       "      <th>9</th>\n",
       "      <td>2029</td>\n",
       "      <td>48.429254</td>\n",
       "    </tr>\n",
       "    <tr>\n",
       "      <th>10</th>\n",
       "      <td>2030</td>\n",
       "      <td>48.635883</td>\n",
       "    </tr>\n",
       "  </tbody>\n",
       "</table>\n",
       "</div>"
      ],
      "text/plain": [
       "    year  mmr_by_race\n",
       "0   2020    46.569594\n",
       "1   2021    46.776223\n",
       "2   2022    46.982852\n",
       "3   2023    47.189481\n",
       "4   2024    47.396110\n",
       "5   2025    47.602738\n",
       "6   2026    47.809367\n",
       "7   2027    48.015996\n",
       "8   2028    48.222625\n",
       "9   2029    48.429254\n",
       "10  2030    48.635883"
      ]
     },
     "execution_count": 123,
     "metadata": {},
     "output_type": "execute_result"
    }
   ],
   "source": [
    "# create a dictionary to hold predicted values\n",
    "predicted_mmr = {\n",
    "    \"year\": [2020, 2021, 2022, 2023, 2024, 2025, 2026, 2027, 2028, 2029, 2030],\n",
    "    \"mmr_by_race\": future_mmr\n",
    "}\n",
    "\n",
    "# create a dataframe\n",
    "predicted_mmr_df = pd.DataFrame(predicted_mmr)\n",
    "predicted_mmr_df"
   ]
  },
  {
   "cell_type": "code",
   "execution_count": 124,
   "metadata": {},
   "outputs": [
    {
     "data": {
      "text/plain": [
       "Text(0, 0.5, 'Maternal Mortality Ratio')"
      ]
     },
     "execution_count": 124,
     "metadata": {},
     "output_type": "execute_result"
    },
    {
     "data": {
      "image/png": "[encoded data removed]",
      "text/plain": [
       "<Figure size 432x288 with 1 Axes>"
      ]
     },
     "metadata": {
      "needs_background": "light"
     },
     "output_type": "display_data"
    }
   ],
   "source": [
    "X3 = predicted_mmr_df[\"year\"].values.reshape(-1,1)\n",
    "y3 = predicted_mmr_df[\"mmr_by_race\"].values.reshape(-1,1)\n",
    "plt.scatter(X3,y3)\n",
    "plt.title(\"All Races MMR (from dataset stratified by race)10-year predictions\")\n",
    "plt.ylabel(\"Maternal Mortality Ratio\")"
   ]
  },
  {
   "cell_type": "code",
   "execution_count": 125,
   "metadata": {},
   "outputs": [
    {
     "data": {
      "text/html": [
       "<div>\n",
       "<style scoped>\n",
       "    .dataframe tbody tr th:only-of-type {\n",
       "        vertical-align: middle;\n",
       "    }\n",
       "\n",
       "    .dataframe tbody tr th {\n",
       "        vertical-align: top;\n",
       "    }\n",
       "\n",
       "    .dataframe thead th {\n",
       "        text-align: right;\n",
       "    }\n",
       "</style>\n",
       "<table border=\"1\" class=\"dataframe\">\n",
       "  <thead>\n",
       "    <tr style=\"text-align: right;\">\n",
       "      <th></th>\n",
       "      <th>state</th>\n",
       "      <th>state_code</th>\n",
       "      <th>year</th>\n",
       "      <th>race</th>\n",
       "      <th>hispanic_origin</th>\n",
       "      <th>births_by_race</th>\n",
       "      <th>deaths_by_race</th>\n",
       "      <th>mmr_by_race</th>\n",
       "      <th>population_by_race</th>\n",
       "      <th>id</th>\n",
       "      <th>state_abbv</th>\n",
       "      <th>latitude</th>\n",
       "      <th>longitude</th>\n",
       "    </tr>\n",
       "  </thead>\n",
       "  <tbody>\n",
       "    <tr>\n",
       "      <th>0</th>\n",
       "      <td>Alabama</td>\n",
       "      <td>1.0</td>\n",
       "      <td>2016</td>\n",
       "      <td>Black or African American</td>\n",
       "      <td>Not Hispanic or Latino</td>\n",
       "      <td>17989.0</td>\n",
       "      <td>14.0</td>\n",
       "      <td>77.83</td>\n",
       "      <td>0.0</td>\n",
       "      <td>US.AL</td>\n",
       "      <td>AL</td>\n",
       "      <td>32.318231</td>\n",
       "      <td>-86.902298</td>\n",
       "    </tr>\n",
       "    <tr>\n",
       "      <th>1</th>\n",
       "      <td>Alabama</td>\n",
       "      <td>1.0</td>\n",
       "      <td>2016</td>\n",
       "      <td>White</td>\n",
       "      <td>Not Hispanic or Latino</td>\n",
       "      <td>35319.0</td>\n",
       "      <td>18.0</td>\n",
       "      <td>50.96</td>\n",
       "      <td>0.0</td>\n",
       "      <td>US.AL</td>\n",
       "      <td>AL</td>\n",
       "      <td>32.318231</td>\n",
       "      <td>-86.902298</td>\n",
       "    </tr>\n",
       "    <tr>\n",
       "      <th>2</th>\n",
       "      <td>Alabama</td>\n",
       "      <td>1.0</td>\n",
       "      <td>2017</td>\n",
       "      <td>Black or African American</td>\n",
       "      <td>Not Hispanic or Latino</td>\n",
       "      <td>18354.0</td>\n",
       "      <td>25.0</td>\n",
       "      <td>136.21</td>\n",
       "      <td>704201.0</td>\n",
       "      <td>US.AL</td>\n",
       "      <td>AL</td>\n",
       "      <td>32.318231</td>\n",
       "      <td>-86.902298</td>\n",
       "    </tr>\n",
       "    <tr>\n",
       "      <th>3</th>\n",
       "      <td>Alabama</td>\n",
       "      <td>1.0</td>\n",
       "      <td>2017</td>\n",
       "      <td>White</td>\n",
       "      <td>Not Hispanic or Latino</td>\n",
       "      <td>34784.0</td>\n",
       "      <td>15.0</td>\n",
       "      <td>43.12</td>\n",
       "      <td>1655605.0</td>\n",
       "      <td>US.AL</td>\n",
       "      <td>AL</td>\n",
       "      <td>32.318231</td>\n",
       "      <td>-86.902298</td>\n",
       "    </tr>\n",
       "    <tr>\n",
       "      <th>4</th>\n",
       "      <td>Alabama</td>\n",
       "      <td>1.0</td>\n",
       "      <td>2018</td>\n",
       "      <td>Black or African American</td>\n",
       "      <td>Not Hispanic or Latino</td>\n",
       "      <td>17939.0</td>\n",
       "      <td>14.0</td>\n",
       "      <td>78.04</td>\n",
       "      <td>706754.0</td>\n",
       "      <td>US.AL</td>\n",
       "      <td>AL</td>\n",
       "      <td>32.318231</td>\n",
       "      <td>-86.902298</td>\n",
       "    </tr>\n",
       "  </tbody>\n",
       "</table>\n",
       "</div>"
      ],
      "text/plain": [
       "     state  state_code  year                       race  \\\n",
       "0  Alabama         1.0  2016  Black or African American   \n",
       "1  Alabama         1.0  2016                      White   \n",
       "2  Alabama         1.0  2017  Black or African American   \n",
       "3  Alabama         1.0  2017                      White   \n",
       "4  Alabama         1.0  2018  Black or African American   \n",
       "\n",
       "          hispanic_origin  births_by_race  deaths_by_race  mmr_by_race  \\\n",
       "0  Not Hispanic or Latino         17989.0            14.0        77.83   \n",
       "1  Not Hispanic or Latino         35319.0            18.0        50.96   \n",
       "2  Not Hispanic or Latino         18354.0            25.0       136.21   \n",
       "3  Not Hispanic or Latino         34784.0            15.0        43.12   \n",
       "4  Not Hispanic or Latino         17939.0            14.0        78.04   \n",
       "\n",
       "   population_by_race     id state_abbv   latitude  longitude  \n",
       "0                 0.0  US.AL         AL  32.318231 -86.902298  \n",
       "1                 0.0  US.AL         AL  32.318231 -86.902298  \n",
       "2            704201.0  US.AL         AL  32.318231 -86.902298  \n",
       "3           1655605.0  US.AL         AL  32.318231 -86.902298  \n",
       "4            706754.0  US.AL         AL  32.318231 -86.902298  "
      ]
     },
     "execution_count": 125,
     "metadata": {},
     "output_type": "execute_result"
    }
   ],
   "source": [
    "# combine the prediction dataframe with the original dataframe\n",
    "dataframes = [df, predicted_mmr_df]\n",
    "combined_df = pd.concat(dataframes, ignore_index=True)\n",
    "combined_df.head()"
   ]
  },
  {
   "cell_type": "markdown",
   "metadata": {},
   "source": [
    "#### African American MMR "
   ]
  },
  {
   "cell_type": "code",
   "execution_count": 103,
   "metadata": {},
   "outputs": [
    {
     "name": "stdout",
     "output_type": "stream",
     "text": [
      "(388, 2) (388, 1)\n"
     ]
    }
   ],
   "source": [
    "# setting our X and y values for mmr for african american exclusively\n",
    "# adjusting our X values (removing births and population) after running RFE\n",
    "# adjusting our X values (removing deaths) after running RFE\n",
    "# removing X values makes our R2 go down, adding X values back to our model\n",
    "X_af_am = df_binary_encoded[[\"race_Black or African American\", \"population_by_race\"]]\n",
    "y_af_am = df_binary_encoded[\"mmr_by_race\"].values.reshape(-1, 1)\n",
    "print(X_af_am.shape, y_af_am.shape)"
   ]
  },
  {
   "cell_type": "code",
   "execution_count": 104,
   "metadata": {},
   "outputs": [],
   "source": [
    "# Use train_test_split to create training and testing data\n",
    "from sklearn.model_selection import train_test_split\n",
    "\n",
    "X_af_am_train, X_af_am_test, y_af_am_train, y_af_am_test = train_test_split(X_af_am, y_af_am, random_state=42)"
   ]
  },
  {
   "cell_type": "code",
   "execution_count": 105,
   "metadata": {},
   "outputs": [
    {
     "data": {
      "text/plain": [
       "LinearRegression()"
      ]
     },
     "execution_count": 105,
     "metadata": {},
     "output_type": "execute_result"
    }
   ],
   "source": [
    "# running African American model without scaling data\n",
    "from sklearn.linear_model import LinearRegression\n",
    "model_af_amer = LinearRegression()\n",
    "model_af_amer.fit(X_af_am_train, y_af_am_train)"
   ]
  },
  {
   "cell_type": "code",
   "execution_count": 106,
   "metadata": {},
   "outputs": [
    {
     "data": {
      "text/html": [
       "<div>\n",
       "<style scoped>\n",
       "    .dataframe tbody tr th:only-of-type {\n",
       "        vertical-align: middle;\n",
       "    }\n",
       "\n",
       "    .dataframe tbody tr th {\n",
       "        vertical-align: top;\n",
       "    }\n",
       "\n",
       "    .dataframe thead th {\n",
       "        text-align: right;\n",
       "    }\n",
       "</style>\n",
       "<table border=\"1\" class=\"dataframe\">\n",
       "  <thead>\n",
       "    <tr style=\"text-align: right;\">\n",
       "      <th></th>\n",
       "      <th>features</th>\n",
       "      <th>support</th>\n",
       "      <th>ranking</th>\n",
       "    </tr>\n",
       "  </thead>\n",
       "  <tbody>\n",
       "    <tr>\n",
       "      <th>0</th>\n",
       "      <td>race_Black or African American</td>\n",
       "      <td>True</td>\n",
       "      <td>1</td>\n",
       "    </tr>\n",
       "    <tr>\n",
       "      <th>1</th>\n",
       "      <td>population_by_race</td>\n",
       "      <td>False</td>\n",
       "      <td>2</td>\n",
       "    </tr>\n",
       "  </tbody>\n",
       "</table>\n",
       "</div>"
      ],
      "text/plain": [
       "                         features  support  ranking\n",
       "0  race_Black or African American     True        1\n",
       "1              population_by_race    False        2"
      ]
     },
     "execution_count": 106,
     "metadata": {},
     "output_type": "execute_result"
    }
   ],
   "source": [
    "# RFE before predictions to Identify Insignificant Variables \n",
    "from sklearn.feature_selection import RFE\n",
    "# Create the RFE model\n",
    "rfe2 = RFE(model)\n",
    "# Fit model\n",
    "rfe2 = rfe2.fit(X_af_am_train, y_af_am_train)\n",
    "# summarize the selection of the attributes\n",
    "rfe2_df = pd.DataFrame({\n",
    "    'features': X_af_am.columns,\n",
    "    'support': rfe2.support_,\n",
    "    'ranking': rfe2.ranking_\n",
    "})\n",
    "rfe2_df"
   ]
  },
  {
   "cell_type": "code",
   "execution_count": 107,
   "metadata": {},
   "outputs": [
    {
     "name": "stdout",
     "output_type": "stream",
     "text": [
      "MSE: 374.6438860190242\n",
      "R2 Testing: 0.5423567533969553\n",
      "R2 Training: 0.5826625280067197\n"
     ]
    }
   ],
   "source": [
    "# make predictions and display r2 for African American exclusive testing and training data\n",
    "from sklearn.metrics import mean_squared_error\n",
    "\n",
    "predictions3 = model_af_amer.predict(X_af_am_test)\n",
    "MSE3 = mean_squared_error(y_af_am_test, predictions3)\n",
    "\n",
    "r2_testing_af_am = model_af_amer.score(X_af_am_test, y_af_am_test)\n",
    "r2_training_af_am = model_af_amer.score(X_af_am_train, y_af_am_train)\n",
    "\n",
    "print(f\"MSE: {MSE3}\") \n",
    "print(f\"R2 Testing: {r2_testing_af_am}\") \n",
    "print(f\"R2 Training: {r2_training_af_am}\")"
   ]
  },
  {
   "cell_type": "code",
   "execution_count": 108,
   "metadata": {},
   "outputs": [
    {
     "data": {
      "text/html": [
       "<div>\n",
       "<style scoped>\n",
       "    .dataframe tbody tr th:only-of-type {\n",
       "        vertical-align: middle;\n",
       "    }\n",
       "\n",
       "    .dataframe tbody tr th {\n",
       "        vertical-align: top;\n",
       "    }\n",
       "\n",
       "    .dataframe thead th {\n",
       "        text-align: right;\n",
       "    }\n",
       "</style>\n",
       "<table border=\"1\" class=\"dataframe\">\n",
       "  <thead>\n",
       "    <tr style=\"text-align: right;\">\n",
       "      <th></th>\n",
       "      <th>state</th>\n",
       "      <th>state_code</th>\n",
       "      <th>year</th>\n",
       "      <th>race</th>\n",
       "      <th>hispanic_origin</th>\n",
       "      <th>births_by_race</th>\n",
       "      <th>deaths_by_race</th>\n",
       "      <th>mmr_by_race</th>\n",
       "      <th>population_by_race</th>\n",
       "      <th>id</th>\n",
       "      <th>state_abbv</th>\n",
       "      <th>latitude</th>\n",
       "      <th>longitude</th>\n",
       "    </tr>\n",
       "  </thead>\n",
       "  <tbody>\n",
       "    <tr>\n",
       "      <th>0</th>\n",
       "      <td>Alabama</td>\n",
       "      <td>1</td>\n",
       "      <td>2016</td>\n",
       "      <td>Black or African American</td>\n",
       "      <td>Not Hispanic or Latino</td>\n",
       "      <td>17989</td>\n",
       "      <td>14</td>\n",
       "      <td>77.83</td>\n",
       "      <td>0</td>\n",
       "      <td>US.AL</td>\n",
       "      <td>AL</td>\n",
       "      <td>32.318231</td>\n",
       "      <td>-86.902298</td>\n",
       "    </tr>\n",
       "    <tr>\n",
       "      <th>2</th>\n",
       "      <td>Alabama</td>\n",
       "      <td>1</td>\n",
       "      <td>2017</td>\n",
       "      <td>Black or African American</td>\n",
       "      <td>Not Hispanic or Latino</td>\n",
       "      <td>18354</td>\n",
       "      <td>25</td>\n",
       "      <td>136.21</td>\n",
       "      <td>704201</td>\n",
       "      <td>US.AL</td>\n",
       "      <td>AL</td>\n",
       "      <td>32.318231</td>\n",
       "      <td>-86.902298</td>\n",
       "    </tr>\n",
       "    <tr>\n",
       "      <th>4</th>\n",
       "      <td>Alabama</td>\n",
       "      <td>1</td>\n",
       "      <td>2018</td>\n",
       "      <td>Black or African American</td>\n",
       "      <td>Not Hispanic or Latino</td>\n",
       "      <td>17939</td>\n",
       "      <td>14</td>\n",
       "      <td>78.04</td>\n",
       "      <td>706754</td>\n",
       "      <td>US.AL</td>\n",
       "      <td>AL</td>\n",
       "      <td>32.318231</td>\n",
       "      <td>-86.902298</td>\n",
       "    </tr>\n",
       "    <tr>\n",
       "      <th>6</th>\n",
       "      <td>Alabama</td>\n",
       "      <td>1</td>\n",
       "      <td>2019</td>\n",
       "      <td>Black or African American</td>\n",
       "      <td>Not Hispanic or Latino</td>\n",
       "      <td>18620</td>\n",
       "      <td>15</td>\n",
       "      <td>80.56</td>\n",
       "      <td>709544</td>\n",
       "      <td>US.AL</td>\n",
       "      <td>AL</td>\n",
       "      <td>32.318231</td>\n",
       "      <td>-86.902298</td>\n",
       "    </tr>\n",
       "    <tr>\n",
       "      <th>20</th>\n",
       "      <td>California</td>\n",
       "      <td>6</td>\n",
       "      <td>2009</td>\n",
       "      <td>Black or African American</td>\n",
       "      <td>Not Hispanic or Latino</td>\n",
       "      <td>31090</td>\n",
       "      <td>17</td>\n",
       "      <td>54.68</td>\n",
       "      <td>1192173</td>\n",
       "      <td>US.CA</td>\n",
       "      <td>CA</td>\n",
       "      <td>36.778261</td>\n",
       "      <td>-119.417932</td>\n",
       "    </tr>\n",
       "  </tbody>\n",
       "</table>\n",
       "</div>"
      ],
      "text/plain": [
       "         state  state_code  year                       race  \\\n",
       "0      Alabama           1  2016  Black or African American   \n",
       "2      Alabama           1  2017  Black or African American   \n",
       "4      Alabama           1  2018  Black or African American   \n",
       "6      Alabama           1  2019  Black or African American   \n",
       "20  California           6  2009  Black or African American   \n",
       "\n",
       "           hispanic_origin  births_by_race  deaths_by_race  mmr_by_race  \\\n",
       "0   Not Hispanic or Latino           17989              14        77.83   \n",
       "2   Not Hispanic or Latino           18354              25       136.21   \n",
       "4   Not Hispanic or Latino           17939              14        78.04   \n",
       "6   Not Hispanic or Latino           18620              15        80.56   \n",
       "20  Not Hispanic or Latino           31090              17        54.68   \n",
       "\n",
       "    population_by_race     id state_abbv   latitude   longitude  \n",
       "0                    0  US.AL         AL  32.318231  -86.902298  \n",
       "2               704201  US.AL         AL  32.318231  -86.902298  \n",
       "4               706754  US.AL         AL  32.318231  -86.902298  \n",
       "6               709544  US.AL         AL  32.318231  -86.902298  \n",
       "20             1192173  US.CA         CA  36.778261 -119.417932  "
      ]
     },
     "execution_count": 108,
     "metadata": {},
     "output_type": "execute_result"
    }
   ],
   "source": [
    "af_amer_mmr.head()"
   ]
  },
  {
   "cell_type": "code",
   "execution_count": 110,
   "metadata": {},
   "outputs": [
    {
     "name": "stdout",
     "output_type": "stream",
     "text": [
      "(141, 1) (141, 1)\n"
     ]
    }
   ],
   "source": [
    "# set our x and y\n",
    "X4 = af_amer_mmr[[\"year\"]]\n",
    "y4 = af_amer_mmr[[\"mmr_by_race\"]]\n",
    "print(X4.shape, y4.shape)"
   ]
  },
  {
   "cell_type": "code",
   "execution_count": 111,
   "metadata": {},
   "outputs": [
    {
     "name": "stdout",
     "output_type": "stream",
     "text": [
      "(105, 1)\n",
      "(105, 1)\n",
      "(36, 1)\n"
     ]
    }
   ],
   "source": [
    "# use test, train, split to create training and testing data\n",
    "X4_train, X4_test, y4_train, y4_test = train_test_split(X4, y4, random_state=42)\n",
    "print(X4_train.shape)\n",
    "print(y4_train.shape)\n",
    "print(X4_test.shape)"
   ]
  },
  {
   "cell_type": "code",
   "execution_count": 112,
   "metadata": {},
   "outputs": [
    {
     "data": {
      "text/plain": [
       "LinearRegression()"
      ]
     },
     "execution_count": 112,
     "metadata": {},
     "output_type": "execute_result"
    }
   ],
   "source": [
    "# create the linear regression model\n",
    "from sklearn.linear_model import LinearRegression\n",
    "\n",
    "model2 = LinearRegression()\n",
    "model2.fit(X4_train, y4_train)"
   ]
  },
  {
   "cell_type": "code",
   "execution_count": 113,
   "metadata": {},
   "outputs": [
    {
     "name": "stdout",
     "output_type": "stream",
     "text": [
      "MSE: 487.18502790582744, R2: -0.17542467279890794\n"
     ]
    }
   ],
   "source": [
    "from sklearn.metrics import mean_squared_error\n",
    "\n",
    "predictions = model2.predict(X4_test)\n",
    "MSE = mean_squared_error(y4_test, predictions)\n",
    "r2 = model2.score(X4_test, y4_test)\n",
    "\n",
    "print(f\"MSE: {MSE}, R2: {r2}\")"
   ]
  },
  {
   "cell_type": "code",
   "execution_count": 114,
   "metadata": {},
   "outputs": [
    {
     "data": {
      "text/plain": [
       "<matplotlib.collections.PathCollection at 0x7faa4f904e80>"
      ]
     },
     "execution_count": 114,
     "metadata": {},
     "output_type": "execute_result"
    },
    {
     "data": {
      "image/png": "[encoded data removed]",
      "text/plain": [
       "<Figure size 432x288 with 1 Axes>"
      ]
     },
     "metadata": {},
     "output_type": "display_data"
    }
   ],
   "source": [
    "\n",
    "# visualize african american mmr\n",
    "X4 = af_amer_mmr[\"year\"].values.reshape(-1,1)\n",
    "y4 = af_amer_mmr[\"mmr_by_race\"].values.reshape(-1,1)\n",
    "plt.scatter(X4,y4)"
   ]
  },
  {
   "cell_type": "code",
   "execution_count": 115,
   "metadata": {},
   "outputs": [
    {
     "data": {
      "text/plain": [
       "[76.34695944373334,\n",
       " 76.54468870010476,\n",
       " 76.74241795647623,\n",
       " 76.9401472128477,\n",
       " 77.13787646921918,\n",
       " 77.33560572559065,\n",
       " 77.53333498196213,\n",
       " 77.73106423833354,\n",
       " 77.92879349470502,\n",
       " 78.1265227510765,\n",
       " 78.32425200744797]"
      ]
     },
     "execution_count": 115,
     "metadata": {},
     "output_type": "execute_result"
    }
   ],
   "source": [
    "# Make predictions for next 11 years\n",
    "future_af_amer_mmr =[]\n",
    "for i in range(2020, 2031):\n",
    "    r= model2.predict([[i]])\n",
    "    future_af_amer_mmr.append(float(r))\n",
    "      \n",
    "    \n",
    "future_af_amer_mmr"
   ]
  },
  {
   "cell_type": "code",
   "execution_count": 116,
   "metadata": {},
   "outputs": [
    {
     "data": {
      "text/html": [
       "<div>\n",
       "<style scoped>\n",
       "    .dataframe tbody tr th:only-of-type {\n",
       "        vertical-align: middle;\n",
       "    }\n",
       "\n",
       "    .dataframe tbody tr th {\n",
       "        vertical-align: top;\n",
       "    }\n",
       "\n",
       "    .dataframe thead th {\n",
       "        text-align: right;\n",
       "    }\n",
       "</style>\n",
       "<table border=\"1\" class=\"dataframe\">\n",
       "  <thead>\n",
       "    <tr style=\"text-align: right;\">\n",
       "      <th></th>\n",
       "      <th>year</th>\n",
       "      <th>mmr_by_race</th>\n",
       "    </tr>\n",
       "  </thead>\n",
       "  <tbody>\n",
       "    <tr>\n",
       "      <th>0</th>\n",
       "      <td>2020</td>\n",
       "      <td>76.346959</td>\n",
       "    </tr>\n",
       "    <tr>\n",
       "      <th>1</th>\n",
       "      <td>2021</td>\n",
       "      <td>76.544689</td>\n",
       "    </tr>\n",
       "    <tr>\n",
       "      <th>2</th>\n",
       "      <td>2022</td>\n",
       "      <td>76.742418</td>\n",
       "    </tr>\n",
       "    <tr>\n",
       "      <th>3</th>\n",
       "      <td>2023</td>\n",
       "      <td>76.940147</td>\n",
       "    </tr>\n",
       "    <tr>\n",
       "      <th>4</th>\n",
       "      <td>2024</td>\n",
       "      <td>77.137876</td>\n",
       "    </tr>\n",
       "    <tr>\n",
       "      <th>5</th>\n",
       "      <td>2025</td>\n",
       "      <td>77.335606</td>\n",
       "    </tr>\n",
       "    <tr>\n",
       "      <th>6</th>\n",
       "      <td>2026</td>\n",
       "      <td>77.533335</td>\n",
       "    </tr>\n",
       "    <tr>\n",
       "      <th>7</th>\n",
       "      <td>2027</td>\n",
       "      <td>77.731064</td>\n",
       "    </tr>\n",
       "    <tr>\n",
       "      <th>8</th>\n",
       "      <td>2028</td>\n",
       "      <td>77.928793</td>\n",
       "    </tr>\n",
       "    <tr>\n",
       "      <th>9</th>\n",
       "      <td>2029</td>\n",
       "      <td>78.126523</td>\n",
       "    </tr>\n",
       "    <tr>\n",
       "      <th>10</th>\n",
       "      <td>2030</td>\n",
       "      <td>78.324252</td>\n",
       "    </tr>\n",
       "  </tbody>\n",
       "</table>\n",
       "</div>"
      ],
      "text/plain": [
       "    year  mmr_by_race\n",
       "0   2020    76.346959\n",
       "1   2021    76.544689\n",
       "2   2022    76.742418\n",
       "3   2023    76.940147\n",
       "4   2024    77.137876\n",
       "5   2025    77.335606\n",
       "6   2026    77.533335\n",
       "7   2027    77.731064\n",
       "8   2028    77.928793\n",
       "9   2029    78.126523\n",
       "10  2030    78.324252"
      ]
     },
     "execution_count": 116,
     "metadata": {},
     "output_type": "execute_result"
    }
   ],
   "source": [
    "# create a dictionary to hold predicted values\n",
    "predicted_af_amer_mmr = {\n",
    "    \"year\": [2020, 2021, 2022, 2023, 2024, 2025, 2026, 2027, 2028, 2029, 2030],\n",
    "    \"mmr_by_race\": future_af_amer_mmr\n",
    "}\n",
    "\n",
    "# create a dataframe\n",
    "predicted_af_amer_mmr_df = pd.DataFrame(predicted_af_amer_mmr)\n",
    "predicted_af_amer_mmr_df"
   ]
  },
  {
   "cell_type": "code",
   "execution_count": 117,
   "metadata": {},
   "outputs": [
    {
     "data": {
      "text/plain": [
       "Text(0, 0.5, 'Maternal Mortality Ratio')"
      ]
     },
     "execution_count": 117,
     "metadata": {},
     "output_type": "execute_result"
    },
    {
     "data": {
      "image/png": "[encoded data removed]",
      "text/plain": [
       "<Figure size 432x288 with 1 Axes>"
      ]
     },
     "metadata": {},
     "output_type": "display_data"
    }
   ],
   "source": [
    "X6 = predicted_af_amer_mmr_df[\"year\"].values.reshape(-1,1)\n",
    "y6 = predicted_af_amer_mmr_df[\"mmr_by_race\"].values.reshape(-1,1)\n",
    "plt.scatter(X6,y6)\n",
    "plt.title(\"African American MMR 10-year prediction\")\n",
    "plt.ylabel(\"Maternal Mortality Ratio\")"
   ]
  },
  {
   "cell_type": "markdown",
   "metadata": {},
   "source": [
    "### Analysis\n",
    "\n",
    " - For our MMR data stratified by race, the MMR wasn't clearly increasing over our selected timeframe of 2009-2019. \n",
    " \n",
    " - We used a linear regression model and experimented with feature selection after running RFE to identify insignificant variables. However, removing the insignificant variables did not improve the R2 value for any of the linear regression models. \n",
    " \n",
    " \n",
    " - Our highest scoring model was Linear Regression with non-scaled data, using each of our race and hispanic origin categories, and birth, death, and population data, stratified by race. These are the resulting scores: \n",
    " \n",
    "    - MSE: 364.27539582893286\n",
    "    - R2 Testing: 0.5550222997732394\n",
    "    - R2 Training: 0.587634628814633\n"
   ]
  },
  {
   "cell_type": "code",
   "execution_count": null,
   "metadata": {},
   "outputs": [],
   "source": []
  }
 ],
 "metadata": {
  "kernelspec": {
   "display_name": "Python [conda env:PythonData] *",
   "language": "python",
   "name": "conda-env-PythonData-py"
  },
  "language_info": {
   "codemirror_mode": {
    "name": "ipython",
    "version": 3
   },
   "file_extension": ".py",
   "mimetype": "text/x-python",
   "name": "python",
   "nbconvert_exporter": "python",
   "pygments_lexer": "ipython3",
   "version": "3.6.10"
  }
 },
 "nbformat": 4,
 "nbformat_minor": 4
}
