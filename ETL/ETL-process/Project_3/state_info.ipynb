{
 "cells": [
  {
   "cell_type": "code",
   "execution_count": 1,
   "metadata": {},
   "outputs": [],
   "source": [
    "# Dependencies\n",
    "import pandas as pd"
   ]
  },
  {
   "cell_type": "markdown",
   "metadata": {},
   "source": [
    "## State Information - Data Extraction"
   ]
  },
  {
   "cell_type": "markdown",
   "metadata": {},
   "source": [
    "### State names and State IDs"
   ]
  },
  {
   "cell_type": "code",
   "execution_count": 2,
   "metadata": {},
   "outputs": [
    {
     "data": {
      "text/html": [
       "<div>\n",
       "<style scoped>\n",
       "    .dataframe tbody tr th:only-of-type {\n",
       "        vertical-align: middle;\n",
       "    }\n",
       "\n",
       "    .dataframe tbody tr th {\n",
       "        vertical-align: top;\n",
       "    }\n",
       "\n",
       "    .dataframe thead th {\n",
       "        text-align: right;\n",
       "    }\n",
       "</style>\n",
       "<table border=\"1\" class=\"dataframe\">\n",
       "  <thead>\n",
       "    <tr style=\"text-align: right;\">\n",
       "      <th></th>\n",
       "      <th>name</th>\n",
       "      <th>id</th>\n",
       "      <th>flag</th>\n",
       "      <th>capital</th>\n",
       "      <th>largest_city</th>\n",
       "      <th>statehood</th>\n",
       "      <th>population</th>\n",
       "      <th>area</th>\n",
       "      <th>land_area</th>\n",
       "      <th>water_area</th>\n",
       "      <th>house_seats</th>\n",
       "      <th>labels</th>\n",
       "    </tr>\n",
       "  </thead>\n",
       "  <tbody>\n",
       "    <tr>\n",
       "      <th>0</th>\n",
       "      <td>Alabama</td>\n",
       "      <td>US.AL</td>\n",
       "      <td>http://static.anychart.com/images/maps_samples...</td>\n",
       "      <td>Montgomery</td>\n",
       "      <td>Birmingham</td>\n",
       "      <td>December 14, 1819</td>\n",
       "      <td>4833722</td>\n",
       "      <td>135767</td>\n",
       "      <td>131170</td>\n",
       "      <td>4597</td>\n",
       "      <td>7</td>\n",
       "      <td>NaN</td>\n",
       "    </tr>\n",
       "    <tr>\n",
       "      <th>1</th>\n",
       "      <td>Alaska</td>\n",
       "      <td>US.AK</td>\n",
       "      <td>http://static.anychart.com/images/maps_samples...</td>\n",
       "      <td>Juneau</td>\n",
       "      <td>Anchorage</td>\n",
       "      <td>January 3, 1959</td>\n",
       "      <td>735132</td>\n",
       "      <td>1723337</td>\n",
       "      <td>1477950</td>\n",
       "      <td>245383</td>\n",
       "      <td>1</td>\n",
       "      <td>NaN</td>\n",
       "    </tr>\n",
       "    <tr>\n",
       "      <th>2</th>\n",
       "      <td>Arizona</td>\n",
       "      <td>US.AZ</td>\n",
       "      <td>http://static.anychart.com/images/maps_samples...</td>\n",
       "      <td>Phoenix</td>\n",
       "      <td>Phoenix</td>\n",
       "      <td>February 14, 1912</td>\n",
       "      <td>6626624</td>\n",
       "      <td>295233</td>\n",
       "      <td>294207</td>\n",
       "      <td>1026</td>\n",
       "      <td>9</td>\n",
       "      <td>NaN</td>\n",
       "    </tr>\n",
       "    <tr>\n",
       "      <th>3</th>\n",
       "      <td>Arkansas</td>\n",
       "      <td>US.AR</td>\n",
       "      <td>http://static.anychart.com/images/maps_samples...</td>\n",
       "      <td>Little Rock</td>\n",
       "      <td>Little Rock</td>\n",
       "      <td>June 15, 1836</td>\n",
       "      <td>2959,373</td>\n",
       "      <td>137733</td>\n",
       "      <td>134770</td>\n",
       "      <td>2960</td>\n",
       "      <td>4</td>\n",
       "      <td>NaN</td>\n",
       "    </tr>\n",
       "    <tr>\n",
       "      <th>4</th>\n",
       "      <td>California</td>\n",
       "      <td>US.CA</td>\n",
       "      <td>http://static.anychart.com/images/maps_samples...</td>\n",
       "      <td>Sacramento</td>\n",
       "      <td>Los Angeles</td>\n",
       "      <td>September 9, 1850</td>\n",
       "      <td>38332521</td>\n",
       "      <td>423968</td>\n",
       "      <td>403466</td>\n",
       "      <td>20502</td>\n",
       "      <td>53</td>\n",
       "      <td>NaN</td>\n",
       "    </tr>\n",
       "  </tbody>\n",
       "</table>\n",
       "</div>"
      ],
      "text/plain": [
       "         name     id                                               flag  \\\n",
       "0     Alabama  US.AL  http://static.anychart.com/images/maps_samples...   \n",
       "1      Alaska  US.AK  http://static.anychart.com/images/maps_samples...   \n",
       "2     Arizona  US.AZ  http://static.anychart.com/images/maps_samples...   \n",
       "3    Arkansas  US.AR  http://static.anychart.com/images/maps_samples...   \n",
       "4  California  US.CA  http://static.anychart.com/images/maps_samples...   \n",
       "\n",
       "       capital largest_city          statehood population     area  land_area  \\\n",
       "0   Montgomery   Birmingham  December 14, 1819    4833722   135767     131170   \n",
       "1       Juneau    Anchorage    January 3, 1959     735132  1723337    1477950   \n",
       "2      Phoenix      Phoenix  February 14, 1912    6626624   295233     294207   \n",
       "3  Little Rock  Little Rock      June 15, 1836   2959,373   137733     134770   \n",
       "4   Sacramento  Los Angeles  September 9, 1850   38332521   423968     403466   \n",
       "\n",
       "   water_area  house_seats  labels  \n",
       "0        4597            7     NaN  \n",
       "1      245383            1     NaN  \n",
       "2        1026            9     NaN  \n",
       "3        2960            4     NaN  \n",
       "4       20502           53     NaN  "
      ]
     },
     "execution_count": 2,
     "metadata": {},
     "output_type": "execute_result"
    }
   ],
   "source": [
    "# Get State names and id\n",
    "url = 'https://cdn.anychart.com/samples/maps-in-dashboard/states-of-united-states-dashboard-with-multi-select/data.json'\n",
    "us_state_data = pd.read_json(path_or_buf=url)\n",
    "us_state_data.head()"
   ]
  },
  {
   "cell_type": "code",
   "execution_count": 3,
   "metadata": {},
   "outputs": [
    {
     "name": "stdout",
     "output_type": "stream",
     "text": [
      "50\n"
     ]
    },
    {
     "data": {
      "text/html": [
       "<div>\n",
       "<style scoped>\n",
       "    .dataframe tbody tr th:only-of-type {\n",
       "        vertical-align: middle;\n",
       "    }\n",
       "\n",
       "    .dataframe tbody tr th {\n",
       "        vertical-align: top;\n",
       "    }\n",
       "\n",
       "    .dataframe thead th {\n",
       "        text-align: right;\n",
       "    }\n",
       "</style>\n",
       "<table border=\"1\" class=\"dataframe\">\n",
       "  <thead>\n",
       "    <tr style=\"text-align: right;\">\n",
       "      <th></th>\n",
       "      <th>state</th>\n",
       "      <th>id</th>\n",
       "    </tr>\n",
       "  </thead>\n",
       "  <tbody>\n",
       "    <tr>\n",
       "      <th>0</th>\n",
       "      <td>Alabama</td>\n",
       "      <td>US.AL</td>\n",
       "    </tr>\n",
       "    <tr>\n",
       "      <th>1</th>\n",
       "      <td>Alaska</td>\n",
       "      <td>US.AK</td>\n",
       "    </tr>\n",
       "    <tr>\n",
       "      <th>2</th>\n",
       "      <td>Arizona</td>\n",
       "      <td>US.AZ</td>\n",
       "    </tr>\n",
       "    <tr>\n",
       "      <th>3</th>\n",
       "      <td>Arkansas</td>\n",
       "      <td>US.AR</td>\n",
       "    </tr>\n",
       "    <tr>\n",
       "      <th>4</th>\n",
       "      <td>California</td>\n",
       "      <td>US.CA</td>\n",
       "    </tr>\n",
       "  </tbody>\n",
       "</table>\n",
       "</div>"
      ],
      "text/plain": [
       "        state     id\n",
       "0     Alabama  US.AL\n",
       "1      Alaska  US.AK\n",
       "2     Arizona  US.AZ\n",
       "3    Arkansas  US.AR\n",
       "4  California  US.CA"
      ]
     },
     "execution_count": 3,
     "metadata": {},
     "output_type": "execute_result"
    }
   ],
   "source": [
    "us_state_ids = us_state_data[[\"name\", \"id\"]].copy()\n",
    "\n",
    "us_state_ids = us_state_ids.rename(columns={'name': 'state'})\n",
    "\n",
    "print(len(us_state_ids))\n",
    "us_state_ids.head()"
   ]
  },
  {
   "cell_type": "markdown",
   "metadata": {},
   "source": [
    "### All Years and States"
   ]
  },
  {
   "cell_type": "code",
   "execution_count": 4,
   "metadata": {},
   "outputs": [],
   "source": [
    "# Create a list that contains all years and states of interest  \n",
    "states = list(us_state_ids['state'])\n",
    "years = ['2009', '2010', '2011', '2012', '2013', '2014', '2015', '2016', '2017', '2018', '2019']\n",
    "\n",
    "state_year = [(year, state) for state in states for year in years]"
   ]
  },
  {
   "cell_type": "code",
   "execution_count": 5,
   "metadata": {},
   "outputs": [
    {
     "name": "stdout",
     "output_type": "stream",
     "text": [
      "550\n",
      "[('2009', 'Alabama'), ('2010', 'Alabama'), ('2011', 'Alabama'), ('2012', 'Alabama'), ('2013', 'Alabama'), ('2014', 'Alabama'), ('2015', 'Alabama'), ('2016', 'Alabama'), ('2017', 'Alabama'), ('2018', 'Alabama'), ('2019', 'Alabama'), ('2009', 'Alaska'), ('2010', 'Alaska'), ('2011', 'Alaska'), ('2012', 'Alaska'), ('2013', 'Alaska'), ('2014', 'Alaska'), ('2015', 'Alaska'), ('2016', 'Alaska'), ('2017', 'Alaska'), ('2018', 'Alaska'), ('2019', 'Alaska'), ('2009', 'Arizona'), ('2010', 'Arizona'), ('2011', 'Arizona'), ('2012', 'Arizona'), ('2013', 'Arizona'), ('2014', 'Arizona'), ('2015', 'Arizona'), ('2016', 'Arizona'), ('2017', 'Arizona'), ('2018', 'Arizona'), ('2019', 'Arizona'), ('2009', 'Arkansas'), ('2010', 'Arkansas'), ('2011', 'Arkansas'), ('2012', 'Arkansas'), ('2013', 'Arkansas'), ('2014', 'Arkansas'), ('2015', 'Arkansas'), ('2016', 'Arkansas'), ('2017', 'Arkansas'), ('2018', 'Arkansas'), ('2019', 'Arkansas'), ('2009', 'California'), ('2010', 'California'), ('2011', 'California'), ('2012', 'California'), ('2013', 'California'), ('2014', 'California'), ('2015', 'California'), ('2016', 'California'), ('2017', 'California'), ('2018', 'California'), ('2019', 'California'), ('2009', 'Colorado'), ('2010', 'Colorado'), ('2011', 'Colorado'), ('2012', 'Colorado'), ('2013', 'Colorado'), ('2014', 'Colorado'), ('2015', 'Colorado'), ('2016', 'Colorado'), ('2017', 'Colorado'), ('2018', 'Colorado'), ('2019', 'Colorado'), ('2009', 'Connecticut'), ('2010', 'Connecticut'), ('2011', 'Connecticut'), ('2012', 'Connecticut'), ('2013', 'Connecticut'), ('2014', 'Connecticut'), ('2015', 'Connecticut'), ('2016', 'Connecticut'), ('2017', 'Connecticut'), ('2018', 'Connecticut'), ('2019', 'Connecticut'), ('2009', 'Delaware'), ('2010', 'Delaware'), ('2011', 'Delaware'), ('2012', 'Delaware'), ('2013', 'Delaware'), ('2014', 'Delaware'), ('2015', 'Delaware'), ('2016', 'Delaware'), ('2017', 'Delaware'), ('2018', 'Delaware'), ('2019', 'Delaware'), ('2009', 'Florida'), ('2010', 'Florida'), ('2011', 'Florida'), ('2012', 'Florida'), ('2013', 'Florida'), ('2014', 'Florida'), ('2015', 'Florida'), ('2016', 'Florida'), ('2017', 'Florida'), ('2018', 'Florida'), ('2019', 'Florida'), ('2009', 'Georgia'), ('2010', 'Georgia'), ('2011', 'Georgia'), ('2012', 'Georgia'), ('2013', 'Georgia'), ('2014', 'Georgia'), ('2015', 'Georgia'), ('2016', 'Georgia'), ('2017', 'Georgia'), ('2018', 'Georgia'), ('2019', 'Georgia'), ('2009', 'Hawaii'), ('2010', 'Hawaii'), ('2011', 'Hawaii'), ('2012', 'Hawaii'), ('2013', 'Hawaii'), ('2014', 'Hawaii'), ('2015', 'Hawaii'), ('2016', 'Hawaii'), ('2017', 'Hawaii'), ('2018', 'Hawaii'), ('2019', 'Hawaii'), ('2009', 'Idaho'), ('2010', 'Idaho'), ('2011', 'Idaho'), ('2012', 'Idaho'), ('2013', 'Idaho'), ('2014', 'Idaho'), ('2015', 'Idaho'), ('2016', 'Idaho'), ('2017', 'Idaho'), ('2018', 'Idaho'), ('2019', 'Idaho'), ('2009', 'Illinois'), ('2010', 'Illinois'), ('2011', 'Illinois'), ('2012', 'Illinois'), ('2013', 'Illinois'), ('2014', 'Illinois'), ('2015', 'Illinois'), ('2016', 'Illinois'), ('2017', 'Illinois'), ('2018', 'Illinois'), ('2019', 'Illinois'), ('2009', 'Indiana'), ('2010', 'Indiana'), ('2011', 'Indiana'), ('2012', 'Indiana'), ('2013', 'Indiana'), ('2014', 'Indiana'), ('2015', 'Indiana'), ('2016', 'Indiana'), ('2017', 'Indiana'), ('2018', 'Indiana'), ('2019', 'Indiana'), ('2009', 'Iowa'), ('2010', 'Iowa'), ('2011', 'Iowa'), ('2012', 'Iowa'), ('2013', 'Iowa'), ('2014', 'Iowa'), ('2015', 'Iowa'), ('2016', 'Iowa'), ('2017', 'Iowa'), ('2018', 'Iowa'), ('2019', 'Iowa'), ('2009', 'Kansas'), ('2010', 'Kansas'), ('2011', 'Kansas'), ('2012', 'Kansas'), ('2013', 'Kansas'), ('2014', 'Kansas'), ('2015', 'Kansas'), ('2016', 'Kansas'), ('2017', 'Kansas'), ('2018', 'Kansas'), ('2019', 'Kansas'), ('2009', 'Kentucky'), ('2010', 'Kentucky'), ('2011', 'Kentucky'), ('2012', 'Kentucky'), ('2013', 'Kentucky'), ('2014', 'Kentucky'), ('2015', 'Kentucky'), ('2016', 'Kentucky'), ('2017', 'Kentucky'), ('2018', 'Kentucky'), ('2019', 'Kentucky'), ('2009', 'Louisiana'), ('2010', 'Louisiana'), ('2011', 'Louisiana'), ('2012', 'Louisiana'), ('2013', 'Louisiana'), ('2014', 'Louisiana'), ('2015', 'Louisiana'), ('2016', 'Louisiana'), ('2017', 'Louisiana'), ('2018', 'Louisiana'), ('2019', 'Louisiana'), ('2009', 'Maine'), ('2010', 'Maine'), ('2011', 'Maine'), ('2012', 'Maine'), ('2013', 'Maine'), ('2014', 'Maine'), ('2015', 'Maine'), ('2016', 'Maine'), ('2017', 'Maine'), ('2018', 'Maine'), ('2019', 'Maine'), ('2009', 'Maryland'), ('2010', 'Maryland'), ('2011', 'Maryland'), ('2012', 'Maryland'), ('2013', 'Maryland'), ('2014', 'Maryland'), ('2015', 'Maryland'), ('2016', 'Maryland'), ('2017', 'Maryland'), ('2018', 'Maryland'), ('2019', 'Maryland'), ('2009', 'Massachusetts'), ('2010', 'Massachusetts'), ('2011', 'Massachusetts'), ('2012', 'Massachusetts'), ('2013', 'Massachusetts'), ('2014', 'Massachusetts'), ('2015', 'Massachusetts'), ('2016', 'Massachusetts'), ('2017', 'Massachusetts'), ('2018', 'Massachusetts'), ('2019', 'Massachusetts'), ('2009', 'Michigan'), ('2010', 'Michigan'), ('2011', 'Michigan'), ('2012', 'Michigan'), ('2013', 'Michigan'), ('2014', 'Michigan'), ('2015', 'Michigan'), ('2016', 'Michigan'), ('2017', 'Michigan'), ('2018', 'Michigan'), ('2019', 'Michigan'), ('2009', 'Minnesota'), ('2010', 'Minnesota'), ('2011', 'Minnesota'), ('2012', 'Minnesota'), ('2013', 'Minnesota'), ('2014', 'Minnesota'), ('2015', 'Minnesota'), ('2016', 'Minnesota'), ('2017', 'Minnesota'), ('2018', 'Minnesota'), ('2019', 'Minnesota'), ('2009', 'Mississippi'), ('2010', 'Mississippi'), ('2011', 'Mississippi'), ('2012', 'Mississippi'), ('2013', 'Mississippi'), ('2014', 'Mississippi'), ('2015', 'Mississippi'), ('2016', 'Mississippi'), ('2017', 'Mississippi'), ('2018', 'Mississippi'), ('2019', 'Mississippi'), ('2009', 'Missouri'), ('2010', 'Missouri'), ('2011', 'Missouri'), ('2012', 'Missouri'), ('2013', 'Missouri'), ('2014', 'Missouri'), ('2015', 'Missouri'), ('2016', 'Missouri'), ('2017', 'Missouri'), ('2018', 'Missouri'), ('2019', 'Missouri'), ('2009', 'Montana'), ('2010', 'Montana'), ('2011', 'Montana'), ('2012', 'Montana'), ('2013', 'Montana'), ('2014', 'Montana'), ('2015', 'Montana'), ('2016', 'Montana'), ('2017', 'Montana'), ('2018', 'Montana'), ('2019', 'Montana'), ('2009', 'Nebraska'), ('2010', 'Nebraska'), ('2011', 'Nebraska'), ('2012', 'Nebraska'), ('2013', 'Nebraska'), ('2014', 'Nebraska'), ('2015', 'Nebraska'), ('2016', 'Nebraska'), ('2017', 'Nebraska'), ('2018', 'Nebraska'), ('2019', 'Nebraska'), ('2009', 'Nevada'), ('2010', 'Nevada'), ('2011', 'Nevada'), ('2012', 'Nevada'), ('2013', 'Nevada'), ('2014', 'Nevada'), ('2015', 'Nevada'), ('2016', 'Nevada'), ('2017', 'Nevada'), ('2018', 'Nevada'), ('2019', 'Nevada'), ('2009', 'New Hampshire'), ('2010', 'New Hampshire'), ('2011', 'New Hampshire'), ('2012', 'New Hampshire'), ('2013', 'New Hampshire'), ('2014', 'New Hampshire'), ('2015', 'New Hampshire'), ('2016', 'New Hampshire'), ('2017', 'New Hampshire'), ('2018', 'New Hampshire'), ('2019', 'New Hampshire'), ('2009', 'New Jersey'), ('2010', 'New Jersey'), ('2011', 'New Jersey'), ('2012', 'New Jersey'), ('2013', 'New Jersey'), ('2014', 'New Jersey'), ('2015', 'New Jersey'), ('2016', 'New Jersey'), ('2017', 'New Jersey'), ('2018', 'New Jersey'), ('2019', 'New Jersey'), ('2009', 'New Mexico'), ('2010', 'New Mexico'), ('2011', 'New Mexico'), ('2012', 'New Mexico'), ('2013', 'New Mexico'), ('2014', 'New Mexico'), ('2015', 'New Mexico'), ('2016', 'New Mexico'), ('2017', 'New Mexico'), ('2018', 'New Mexico'), ('2019', 'New Mexico'), ('2009', 'New York'), ('2010', 'New York'), ('2011', 'New York'), ('2012', 'New York'), ('2013', 'New York'), ('2014', 'New York'), ('2015', 'New York'), ('2016', 'New York'), ('2017', 'New York'), ('2018', 'New York'), ('2019', 'New York'), ('2009', 'North Carolina'), ('2010', 'North Carolina'), ('2011', 'North Carolina'), ('2012', 'North Carolina'), ('2013', 'North Carolina'), ('2014', 'North Carolina'), ('2015', 'North Carolina'), ('2016', 'North Carolina'), ('2017', 'North Carolina'), ('2018', 'North Carolina'), ('2019', 'North Carolina'), ('2009', 'North Dakota'), ('2010', 'North Dakota'), ('2011', 'North Dakota'), ('2012', 'North Dakota'), ('2013', 'North Dakota'), ('2014', 'North Dakota'), ('2015', 'North Dakota'), ('2016', 'North Dakota'), ('2017', 'North Dakota'), ('2018', 'North Dakota'), ('2019', 'North Dakota'), ('2009', 'Ohio'), ('2010', 'Ohio'), ('2011', 'Ohio'), ('2012', 'Ohio'), ('2013', 'Ohio'), ('2014', 'Ohio'), ('2015', 'Ohio'), ('2016', 'Ohio'), ('2017', 'Ohio'), ('2018', 'Ohio'), ('2019', 'Ohio'), ('2009', 'Oklahoma'), ('2010', 'Oklahoma'), ('2011', 'Oklahoma'), ('2012', 'Oklahoma'), ('2013', 'Oklahoma'), ('2014', 'Oklahoma'), ('2015', 'Oklahoma'), ('2016', 'Oklahoma'), ('2017', 'Oklahoma'), ('2018', 'Oklahoma'), ('2019', 'Oklahoma'), ('2009', 'Oregon'), ('2010', 'Oregon'), ('2011', 'Oregon'), ('2012', 'Oregon'), ('2013', 'Oregon'), ('2014', 'Oregon'), ('2015', 'Oregon'), ('2016', 'Oregon'), ('2017', 'Oregon'), ('2018', 'Oregon'), ('2019', 'Oregon'), ('2009', 'Pennsylvania'), ('2010', 'Pennsylvania'), ('2011', 'Pennsylvania'), ('2012', 'Pennsylvania'), ('2013', 'Pennsylvania'), ('2014', 'Pennsylvania'), ('2015', 'Pennsylvania'), ('2016', 'Pennsylvania'), ('2017', 'Pennsylvania'), ('2018', 'Pennsylvania'), ('2019', 'Pennsylvania'), ('2009', 'Rhode Island'), ('2010', 'Rhode Island'), ('2011', 'Rhode Island'), ('2012', 'Rhode Island'), ('2013', 'Rhode Island'), ('2014', 'Rhode Island'), ('2015', 'Rhode Island'), ('2016', 'Rhode Island'), ('2017', 'Rhode Island'), ('2018', 'Rhode Island'), ('2019', 'Rhode Island'), ('2009', 'South Carolina'), ('2010', 'South Carolina'), ('2011', 'South Carolina'), ('2012', 'South Carolina'), ('2013', 'South Carolina'), ('2014', 'South Carolina'), ('2015', 'South Carolina'), ('2016', 'South Carolina'), ('2017', 'South Carolina'), ('2018', 'South Carolina'), ('2019', 'South Carolina'), ('2009', 'South Dakota'), ('2010', 'South Dakota'), ('2011', 'South Dakota'), ('2012', 'South Dakota'), ('2013', 'South Dakota'), ('2014', 'South Dakota'), ('2015', 'South Dakota'), ('2016', 'South Dakota'), ('2017', 'South Dakota'), ('2018', 'South Dakota'), ('2019', 'South Dakota'), ('2009', 'Tennessee'), ('2010', 'Tennessee'), ('2011', 'Tennessee'), ('2012', 'Tennessee'), ('2013', 'Tennessee'), ('2014', 'Tennessee'), ('2015', 'Tennessee'), ('2016', 'Tennessee'), ('2017', 'Tennessee'), ('2018', 'Tennessee'), ('2019', 'Tennessee'), ('2009', 'Texas'), ('2010', 'Texas'), ('2011', 'Texas'), ('2012', 'Texas'), ('2013', 'Texas'), ('2014', 'Texas'), ('2015', 'Texas'), ('2016', 'Texas'), ('2017', 'Texas'), ('2018', 'Texas'), ('2019', 'Texas'), ('2009', 'Utah'), ('2010', 'Utah'), ('2011', 'Utah'), ('2012', 'Utah'), ('2013', 'Utah'), ('2014', 'Utah'), ('2015', 'Utah'), ('2016', 'Utah'), ('2017', 'Utah'), ('2018', 'Utah'), ('2019', 'Utah'), ('2009', 'Vermont'), ('2010', 'Vermont'), ('2011', 'Vermont'), ('2012', 'Vermont'), ('2013', 'Vermont'), ('2014', 'Vermont'), ('2015', 'Vermont'), ('2016', 'Vermont'), ('2017', 'Vermont'), ('2018', 'Vermont'), ('2019', 'Vermont'), ('2009', 'Virginia'), ('2010', 'Virginia'), ('2011', 'Virginia'), ('2012', 'Virginia'), ('2013', 'Virginia'), ('2014', 'Virginia'), ('2015', 'Virginia'), ('2016', 'Virginia'), ('2017', 'Virginia'), ('2018', 'Virginia'), ('2019', 'Virginia'), ('2009', 'Washington'), ('2010', 'Washington'), ('2011', 'Washington'), ('2012', 'Washington'), ('2013', 'Washington'), ('2014', 'Washington'), ('2015', 'Washington'), ('2016', 'Washington'), ('2017', 'Washington'), ('2018', 'Washington'), ('2019', 'Washington'), ('2009', 'West Virginia'), ('2010', 'West Virginia'), ('2011', 'West Virginia'), ('2012', 'West Virginia'), ('2013', 'West Virginia'), ('2014', 'West Virginia'), ('2015', 'West Virginia'), ('2016', 'West Virginia'), ('2017', 'West Virginia'), ('2018', 'West Virginia'), ('2019', 'West Virginia'), ('2009', 'Wisconsin'), ('2010', 'Wisconsin'), ('2011', 'Wisconsin'), ('2012', 'Wisconsin'), ('2013', 'Wisconsin'), ('2014', 'Wisconsin'), ('2015', 'Wisconsin'), ('2016', 'Wisconsin'), ('2017', 'Wisconsin'), ('2018', 'Wisconsin'), ('2019', 'Wisconsin'), ('2009', 'Wyoming'), ('2010', 'Wyoming'), ('2011', 'Wyoming'), ('2012', 'Wyoming'), ('2013', 'Wyoming'), ('2014', 'Wyoming'), ('2015', 'Wyoming'), ('2016', 'Wyoming'), ('2017', 'Wyoming'), ('2018', 'Wyoming'), ('2019', 'Wyoming')]\n"
     ]
    }
   ],
   "source": [
    "print(len(state_year))\n",
    "print(state_year)"
   ]
  },
  {
   "cell_type": "code",
   "execution_count": 6,
   "metadata": {},
   "outputs": [
    {
     "name": "stdout",
     "output_type": "stream",
     "text": [
      "550\n"
     ]
    },
    {
     "data": {
      "text/html": [
       "<div>\n",
       "<style scoped>\n",
       "    .dataframe tbody tr th:only-of-type {\n",
       "        vertical-align: middle;\n",
       "    }\n",
       "\n",
       "    .dataframe tbody tr th {\n",
       "        vertical-align: top;\n",
       "    }\n",
       "\n",
       "    .dataframe thead th {\n",
       "        text-align: right;\n",
       "    }\n",
       "</style>\n",
       "<table border=\"1\" class=\"dataframe\">\n",
       "  <thead>\n",
       "    <tr style=\"text-align: right;\">\n",
       "      <th></th>\n",
       "      <th>year</th>\n",
       "      <th>state</th>\n",
       "    </tr>\n",
       "  </thead>\n",
       "  <tbody>\n",
       "    <tr>\n",
       "      <th>0</th>\n",
       "      <td>2009</td>\n",
       "      <td>Alabama</td>\n",
       "    </tr>\n",
       "    <tr>\n",
       "      <th>1</th>\n",
       "      <td>2010</td>\n",
       "      <td>Alabama</td>\n",
       "    </tr>\n",
       "    <tr>\n",
       "      <th>2</th>\n",
       "      <td>2011</td>\n",
       "      <td>Alabama</td>\n",
       "    </tr>\n",
       "    <tr>\n",
       "      <th>3</th>\n",
       "      <td>2012</td>\n",
       "      <td>Alabama</td>\n",
       "    </tr>\n",
       "    <tr>\n",
       "      <th>4</th>\n",
       "      <td>2013</td>\n",
       "      <td>Alabama</td>\n",
       "    </tr>\n",
       "  </tbody>\n",
       "</table>\n",
       "</div>"
      ],
      "text/plain": [
       "   year    state\n",
       "0  2009  Alabama\n",
       "1  2010  Alabama\n",
       "2  2011  Alabama\n",
       "3  2012  Alabama\n",
       "4  2013  Alabama"
      ]
     },
     "execution_count": 6,
     "metadata": {},
     "output_type": "execute_result"
    }
   ],
   "source": [
    "# Create Dataframe to store data\n",
    "state_year_df = pd.DataFrame(columns=['year', 'state'])\n",
    "\n",
    "# Store data in dataframe\n",
    "for year, state in state_year:\n",
    "    state_year_df = state_year_df.append({'year': year, 'state': state}, ignore_index=True)\n",
    "\n",
    "print(len(state_year_df))\n",
    "state_year_df.head()"
   ]
  },
  {
   "cell_type": "markdown",
   "metadata": {},
   "source": [
    "### State Location"
   ]
  },
  {
   "cell_type": "code",
   "execution_count": 7,
   "metadata": {},
   "outputs": [
    {
     "name": "stdout",
     "output_type": "stream",
     "text": [
      "52\n"
     ]
    },
    {
     "data": {
      "text/html": [
       "<div>\n",
       "<style scoped>\n",
       "    .dataframe tbody tr th:only-of-type {\n",
       "        vertical-align: middle;\n",
       "    }\n",
       "\n",
       "    .dataframe tbody tr th {\n",
       "        vertical-align: top;\n",
       "    }\n",
       "\n",
       "    .dataframe thead th {\n",
       "        text-align: right;\n",
       "    }\n",
       "</style>\n",
       "<table border=\"1\" class=\"dataframe\">\n",
       "  <thead>\n",
       "    <tr style=\"text-align: right;\">\n",
       "      <th></th>\n",
       "      <th>state_code</th>\n",
       "      <th>latitude</th>\n",
       "      <th>longitude</th>\n",
       "      <th>state</th>\n",
       "    </tr>\n",
       "  </thead>\n",
       "  <tbody>\n",
       "    <tr>\n",
       "      <th>0</th>\n",
       "      <td>AK</td>\n",
       "      <td>63.588753</td>\n",
       "      <td>-154.493062</td>\n",
       "      <td>Alaska</td>\n",
       "    </tr>\n",
       "    <tr>\n",
       "      <th>1</th>\n",
       "      <td>AL</td>\n",
       "      <td>32.318231</td>\n",
       "      <td>-86.902298</td>\n",
       "      <td>Alabama</td>\n",
       "    </tr>\n",
       "    <tr>\n",
       "      <th>2</th>\n",
       "      <td>AR</td>\n",
       "      <td>35.201050</td>\n",
       "      <td>-91.831833</td>\n",
       "      <td>Arkansas</td>\n",
       "    </tr>\n",
       "    <tr>\n",
       "      <th>3</th>\n",
       "      <td>AZ</td>\n",
       "      <td>34.048928</td>\n",
       "      <td>-111.093731</td>\n",
       "      <td>Arizona</td>\n",
       "    </tr>\n",
       "    <tr>\n",
       "      <th>4</th>\n",
       "      <td>CA</td>\n",
       "      <td>36.778261</td>\n",
       "      <td>-119.417932</td>\n",
       "      <td>California</td>\n",
       "    </tr>\n",
       "  </tbody>\n",
       "</table>\n",
       "</div>"
      ],
      "text/plain": [
       "  state_code   latitude   longitude       state\n",
       "0         AK  63.588753 -154.493062      Alaska\n",
       "1         AL  32.318231  -86.902298     Alabama\n",
       "2         AR  35.201050  -91.831833    Arkansas\n",
       "3         AZ  34.048928 -111.093731     Arizona\n",
       "4         CA  36.778261 -119.417932  California"
      ]
     },
     "execution_count": 7,
     "metadata": {},
     "output_type": "execute_result"
    }
   ],
   "source": [
    "# Get location (lat, lng) info\n",
    "location_url = 'https://developers.google.com/public-data/docs/canonical/states_csv'\n",
    "state_location = pd.read_html(location_url)\n",
    "state_location_df = state_location[0]\n",
    "\n",
    "state_location_df = state_location_df.rename(columns={'state': 'state_code', 'name': 'state'})\n",
    "\n",
    "print(len(state_location_df))\n",
    "state_location_df.head()"
   ]
  },
  {
   "cell_type": "markdown",
   "metadata": {},
   "source": [
    "## State Information - Data Transfromation"
   ]
  },
  {
   "cell_type": "code",
   "execution_count": 8,
   "metadata": {},
   "outputs": [
    {
     "name": "stdout",
     "output_type": "stream",
     "text": [
      "50\n"
     ]
    },
    {
     "data": {
      "text/html": [
       "<div>\n",
       "<style scoped>\n",
       "    .dataframe tbody tr th:only-of-type {\n",
       "        vertical-align: middle;\n",
       "    }\n",
       "\n",
       "    .dataframe tbody tr th {\n",
       "        vertical-align: top;\n",
       "    }\n",
       "\n",
       "    .dataframe thead th {\n",
       "        text-align: right;\n",
       "    }\n",
       "</style>\n",
       "<table border=\"1\" class=\"dataframe\">\n",
       "  <thead>\n",
       "    <tr style=\"text-align: right;\">\n",
       "      <th></th>\n",
       "      <th>state</th>\n",
       "      <th>id</th>\n",
       "      <th>state_code</th>\n",
       "      <th>latitude</th>\n",
       "      <th>longitude</th>\n",
       "    </tr>\n",
       "  </thead>\n",
       "  <tbody>\n",
       "    <tr>\n",
       "      <th>0</th>\n",
       "      <td>Alabama</td>\n",
       "      <td>US.AL</td>\n",
       "      <td>AL</td>\n",
       "      <td>32.318231</td>\n",
       "      <td>-86.902298</td>\n",
       "    </tr>\n",
       "    <tr>\n",
       "      <th>1</th>\n",
       "      <td>Alaska</td>\n",
       "      <td>US.AK</td>\n",
       "      <td>AK</td>\n",
       "      <td>63.588753</td>\n",
       "      <td>-154.493062</td>\n",
       "    </tr>\n",
       "    <tr>\n",
       "      <th>2</th>\n",
       "      <td>Arizona</td>\n",
       "      <td>US.AZ</td>\n",
       "      <td>AZ</td>\n",
       "      <td>34.048928</td>\n",
       "      <td>-111.093731</td>\n",
       "    </tr>\n",
       "    <tr>\n",
       "      <th>3</th>\n",
       "      <td>Arkansas</td>\n",
       "      <td>US.AR</td>\n",
       "      <td>AR</td>\n",
       "      <td>35.201050</td>\n",
       "      <td>-91.831833</td>\n",
       "    </tr>\n",
       "    <tr>\n",
       "      <th>4</th>\n",
       "      <td>California</td>\n",
       "      <td>US.CA</td>\n",
       "      <td>CA</td>\n",
       "      <td>36.778261</td>\n",
       "      <td>-119.417932</td>\n",
       "    </tr>\n",
       "  </tbody>\n",
       "</table>\n",
       "</div>"
      ],
      "text/plain": [
       "        state     id state_code   latitude   longitude\n",
       "0     Alabama  US.AL         AL  32.318231  -86.902298\n",
       "1      Alaska  US.AK         AK  63.588753 -154.493062\n",
       "2     Arizona  US.AZ         AZ  34.048928 -111.093731\n",
       "3    Arkansas  US.AR         AR  35.201050  -91.831833\n",
       "4  California  US.CA         CA  36.778261 -119.417932"
      ]
     },
     "execution_count": 8,
     "metadata": {},
     "output_type": "execute_result"
    }
   ],
   "source": [
    "# Merge state_id and state_location\n",
    "state_loc_code = us_state_ids.merge(state_location_df, how='left', on=['state'])\n",
    "\n",
    "print(len(state_loc_code))\n",
    "state_loc_code.head()"
   ]
  },
  {
   "cell_type": "code",
   "execution_count": 9,
   "metadata": {},
   "outputs": [
    {
     "name": "stdout",
     "output_type": "stream",
     "text": [
      "550\n"
     ]
    },
    {
     "data": {
      "text/html": [
       "<div>\n",
       "<style scoped>\n",
       "    .dataframe tbody tr th:only-of-type {\n",
       "        vertical-align: middle;\n",
       "    }\n",
       "\n",
       "    .dataframe tbody tr th {\n",
       "        vertical-align: top;\n",
       "    }\n",
       "\n",
       "    .dataframe thead th {\n",
       "        text-align: right;\n",
       "    }\n",
       "</style>\n",
       "<table border=\"1\" class=\"dataframe\">\n",
       "  <thead>\n",
       "    <tr style=\"text-align: right;\">\n",
       "      <th></th>\n",
       "      <th>year</th>\n",
       "      <th>state</th>\n",
       "      <th>id</th>\n",
       "      <th>state_code</th>\n",
       "      <th>latitude</th>\n",
       "      <th>longitude</th>\n",
       "    </tr>\n",
       "  </thead>\n",
       "  <tbody>\n",
       "    <tr>\n",
       "      <th>0</th>\n",
       "      <td>2009</td>\n",
       "      <td>Alabama</td>\n",
       "      <td>US.AL</td>\n",
       "      <td>AL</td>\n",
       "      <td>32.318231</td>\n",
       "      <td>-86.902298</td>\n",
       "    </tr>\n",
       "    <tr>\n",
       "      <th>1</th>\n",
       "      <td>2010</td>\n",
       "      <td>Alabama</td>\n",
       "      <td>US.AL</td>\n",
       "      <td>AL</td>\n",
       "      <td>32.318231</td>\n",
       "      <td>-86.902298</td>\n",
       "    </tr>\n",
       "    <tr>\n",
       "      <th>2</th>\n",
       "      <td>2011</td>\n",
       "      <td>Alabama</td>\n",
       "      <td>US.AL</td>\n",
       "      <td>AL</td>\n",
       "      <td>32.318231</td>\n",
       "      <td>-86.902298</td>\n",
       "    </tr>\n",
       "    <tr>\n",
       "      <th>3</th>\n",
       "      <td>2012</td>\n",
       "      <td>Alabama</td>\n",
       "      <td>US.AL</td>\n",
       "      <td>AL</td>\n",
       "      <td>32.318231</td>\n",
       "      <td>-86.902298</td>\n",
       "    </tr>\n",
       "    <tr>\n",
       "      <th>4</th>\n",
       "      <td>2013</td>\n",
       "      <td>Alabama</td>\n",
       "      <td>US.AL</td>\n",
       "      <td>AL</td>\n",
       "      <td>32.318231</td>\n",
       "      <td>-86.902298</td>\n",
       "    </tr>\n",
       "  </tbody>\n",
       "</table>\n",
       "</div>"
      ],
      "text/plain": [
       "   year    state     id state_code   latitude  longitude\n",
       "0  2009  Alabama  US.AL         AL  32.318231 -86.902298\n",
       "1  2010  Alabama  US.AL         AL  32.318231 -86.902298\n",
       "2  2011  Alabama  US.AL         AL  32.318231 -86.902298\n",
       "3  2012  Alabama  US.AL         AL  32.318231 -86.902298\n",
       "4  2013  Alabama  US.AL         AL  32.318231 -86.902298"
      ]
     },
     "execution_count": 9,
     "metadata": {},
     "output_type": "execute_result"
    }
   ],
   "source": [
    "# Merge location-info dataframe to state-year dataframe\n",
    "state_info_df = state_year_df.merge(state_loc_code, how='left', on=['state'])\n",
    "\n",
    "print(len(state_info_df))\n",
    "state_info_df.head()"
   ]
  },
  {
   "cell_type": "code",
   "execution_count": 10,
   "metadata": {},
   "outputs": [],
   "source": [
    "# Store CSV file\n",
    "filepath = '../../output_file/state_non_race_info.csv'\n",
    "state_info_df.to_csv(filepath, index=False)"
   ]
  },
  {
   "cell_type": "code",
   "execution_count": null,
   "metadata": {},
   "outputs": [],
   "source": []
  }
 ],
 "metadata": {
  "kernelspec": {
   "display_name": "Python 3",
   "language": "python",
   "name": "python3"
  },
  "language_info": {
   "codemirror_mode": {
    "name": "ipython",
    "version": 3
   },
   "file_extension": ".py",
   "mimetype": "text/x-python",
   "name": "python",
   "nbconvert_exporter": "python",
   "pygments_lexer": "ipython3",
   "version": "3.6.10"
  }
 },
 "nbformat": 4,
 "nbformat_minor": 4
}